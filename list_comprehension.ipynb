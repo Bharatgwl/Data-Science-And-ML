{
 "cells": [
  {
   "cell_type": "markdown",
   "id": "91f64381-a0ac-4afc-9751-73077f46291f",
   "metadata": {},
   "source": [
    "## list comprehension"
   ]
  },
  {
   "cell_type": "markdown",
   "id": "38baeb5e-fdbb-42d2-b92d-dbfef81c7071",
   "metadata": {},
   "source": [
    "list comprehension provides a concise way to create a list. it consist if brackets containing an expression fillowed by a for\n",
    "clause then zero or more for or if clause.The expression can be anything meaning you can put in all kinds of object in lists.\n",
    "\n"
   ]
  },
  {
   "cell_type": "code",
   "execution_count": 5,
   "id": "e254ba59-8a7e-4904-9987-34602c6b3992",
   "metadata": {},
   "outputs": [],
   "source": [
    "lst1=[]\n",
    "def lst_square(lst):\n",
    "    for i in lst:\n",
    "        lst1.append(i*i)\n",
    "\n",
    "    return lst1"
   ]
  },
  {
   "cell_type": "code",
   "execution_count": 6,
   "id": "aaa99083-9e8f-474e-b71e-66d67fb3d685",
   "metadata": {},
   "outputs": [
    {
     "data": {
      "text/plain": [
       "[1, 4, 9, 16, 25]"
      ]
     },
     "execution_count": 6,
     "metadata": {},
     "output_type": "execute_result"
    }
   ],
   "source": [
    "lst_square([1,2,3,4,5])"
   ]
  },
  {
   "cell_type": "code",
   "execution_count": 11,
   "id": "bd73f837-64e2-443a-bef2-82c4953b4817",
   "metadata": {},
   "outputs": [
    {
     "data": {
      "text/plain": [
       "[16, 256]"
      ]
     },
     "execution_count": 11,
     "metadata": {},
     "output_type": "execute_result"
    }
   ],
   "source": [
    "lst =[1, 4, 9, 16, 25]\n",
    "list1 = [i*i for i in lst if i%2==0 ]\n",
    "list1"
   ]
  },
  {
   "cell_type": "code",
   "execution_count": 13,
   "id": "c10650b7-4db1-4f94-81af-6b9636d56de5",
   "metadata": {},
   "outputs": [
    {
     "data": {
      "text/plain": [
       "['BHARAT', 'APPLE']"
      ]
     },
     "execution_count": 13,
     "metadata": {},
     "output_type": "execute_result"
    }
   ],
   "source": [
    "list1 = [\"bharat\", \"apple\",8, True]\n",
    "\n",
    "lst = [i.upper() for i in list1 if type(i)==str]\n",
    "lst"
   ]
  },
  {
   "cell_type": "code",
   "execution_count": 20,
   "id": "e5d3dad7-b84a-4cff-ae54-02d2cd2ad4f0",
   "metadata": {},
   "outputs": [
    {
     "name": "stdout",
     "output_type": "stream",
     "text": [
      "narcisst a am i\n"
     ]
    }
   ],
   "source": [
    "list1 = \"i am a narcisst\"\n",
    "list1 = ' '.join(list1.split()[::-1])\n",
    "print(list1)"
   ]
  }
 ],
 "metadata": {
  "kernelspec": {
   "display_name": "Python 3 (ipykernel)",
   "language": "python",
   "name": "python3"
  },
  "language_info": {
   "codemirror_mode": {
    "name": "ipython",
    "version": 3
   },
   "file_extension": ".py",
   "mimetype": "text/x-python",
   "name": "python",
   "nbconvert_exporter": "python",
   "pygments_lexer": "ipython3",
   "version": "3.12.7"
  }
 },
 "nbformat": 4,
 "nbformat_minor": 5
}
