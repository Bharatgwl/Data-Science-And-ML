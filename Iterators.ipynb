{
 "cells": [
  {
   "cell_type": "markdown",
   "id": "b7510934-bab8-483b-b885-bf128d6b7bc1",
   "metadata": {},
   "source": [
    "## iterators and iterables in python"
   ]
  },
  {
   "cell_type": "code",
   "execution_count": 1,
   "id": "a0f35df2-80eb-4ea6-9866-78d4c80d5dd4",
   "metadata": {},
   "outputs": [
    {
     "name": "stdout",
     "output_type": "stream",
     "text": [
      "1\n",
      "2\n",
      "3\n",
      "4\n",
      "5\n"
     ]
    }
   ],
   "source": [
    "list1 = [1,2,3,4,5]\n",
    "for i in list1:\n",
    "    print(i)"
   ]
  },
  {
   "cell_type": "code",
   "execution_count": 12,
   "id": "f46b86ef-7fd6-406c-978c-fd661de95e2c",
   "metadata": {},
   "outputs": [
    {
     "data": {
      "text/plain": [
       "<list_iterator at 0x1ef288c16f0>"
      ]
     },
     "execution_count": 12,
     "metadata": {},
     "output_type": "execute_result"
    }
   ],
   "source": [
    "iterator = iter(list1) ## they are like pointers \n",
    "iterator"
   ]
  },
  {
   "cell_type": "code",
   "execution_count": 13,
   "id": "dfca5846-0add-478a-aba3-c9a67f465133",
   "metadata": {},
   "outputs": [
    {
     "data": {
      "text/plain": [
       "1"
      ]
     },
     "execution_count": 13,
     "metadata": {},
     "output_type": "execute_result"
    }
   ],
   "source": [
    "next(iterator) ## iterators point to the single memory location at a time "
   ]
  },
  {
   "cell_type": "code",
   "execution_count": 14,
   "id": "56cbfafd-dee9-43c7-bbd5-94eae6830e57",
   "metadata": {},
   "outputs": [
    {
     "name": "stdout",
     "output_type": "stream",
     "text": [
      "2\n",
      "3\n",
      "4\n",
      "5\n"
     ]
    }
   ],
   "source": [
    "## we can also loop through iterator\n",
    "for i in iterator:\n",
    "    print(i) ## we get values from 2 because we executed next() function once"
   ]
  }
 ],
 "metadata": {
  "kernelspec": {
   "display_name": "Python 3 (ipykernel)",
   "language": "python",
   "name": "python3"
  },
  "language_info": {
   "codemirror_mode": {
    "name": "ipython",
    "version": 3
   },
   "file_extension": ".py",
   "mimetype": "text/x-python",
   "name": "python",
   "nbconvert_exporter": "python",
   "pygments_lexer": "ipython3",
   "version": "3.12.7"
  }
 },
 "nbformat": 4,
 "nbformat_minor": 5
}
