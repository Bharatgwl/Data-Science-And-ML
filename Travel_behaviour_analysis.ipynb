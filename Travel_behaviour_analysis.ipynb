{
 "cells": [
  {
   "cell_type": "code",
   "id": "initial_id",
   "metadata": {
    "collapsed": true,
    "ExecuteTime": {
     "end_time": "2025-02-01T10:02:28.044954Z",
     "start_time": "2025-02-01T10:02:28.015281Z"
    }
   },
   "source": [
    "import pandas as pd\n",
    "import numpy as np\n",
    "from datetime import datetime\n",
    "from dateutil import parser\n",
    "from holoviews.examples.gallery.apps.bokeh.crossfilter import columns\n",
    "from xarray.util.generate_ops import inplace\n",
    "\n",
    "df = pd.read_csv('Travel.csv')\n",
    "\n",
    "df.head()\n"
   ],
   "outputs": [
    {
     "data": {
      "text/plain": [
       "                         Timestamp Are you from Jaipur? What is your age?  \\\n",
       "0   2024/12/31 9:56:27 am GMT+5:30                  Yes             20-29   \n",
       "1  2024/12/31 12:35:40 pm GMT+5:30                  Yes      19 and below   \n",
       "2  2024/12/31 12:54:10 pm GMT+5:30                  Yes      19 and below   \n",
       "3   2024/12/31 2:49:46 pm GMT+5:30                  Yes      19 and below   \n",
       "4   2024/12/31 2:57:22 pm GMT+5:30                  Yes      19 and below   \n",
       "\n",
       "  What is your gender?     What is your departure address (with pincode)?  \\\n",
       "0                 Male  2/627, Sector 2, Malviya Nagar, Jaipur, Rajast...   \n",
       "1               Female  Flat no 201 Vatsalya Enclave Ganesh Nagar Iskc...   \n",
       "2                 Male  Swastik Villas, New Sanganer Road, Jaipur(302020)   \n",
       "3                 Male                                             305001   \n",
       "4                 Male                            24/25 sagar apartments    \n",
       "\n",
       "   What is your destination address?  (with pincode)  \\\n",
       "0  BISR, Statue Circle, C Scheme, Jaipur, Rajasth...   \n",
       "1  Birla Institute of Technology Jaipur Near Apex...   \n",
       "2          Bit Jaipur, Malviya Nagar, Jaipur(302017)   \n",
       "3                                             302017   \n",
       "4                                               Same   \n",
       "\n",
       "  What is your mode of transportation?  \\\n",
       "0                     Public Transport   \n",
       "1                        Cabs Services   \n",
       "2                          Two Wheeler   \n",
       "3                     Public Transport   \n",
       "4                          Two Wheeler   \n",
       "\n",
       "  If Public Transport, Do you get seat availability easily?    \\\n",
       "0                                                 No            \n",
       "1                                                NaN            \n",
       "2                                                 No            \n",
       "3                                                Yes            \n",
       "4                                                 No            \n",
       "\n",
       "  If personal vehicles do you find a parking space easily?  \\\n",
       "0                                                 No         \n",
       "1                                                NaN         \n",
       "2                                                Yes         \n",
       "3                                                Yes         \n",
       "4                                                Yes         \n",
       "\n",
       "  How long do you wait for Public Transport?  ... What type of stoppage?  \\\n",
       "0                              31-60 Minutes  ...          Traffic Light   \n",
       "1                                        NaN  ...          Traffic Light   \n",
       "2                              31-60 Minutes  ...          Traffic Light   \n",
       "3                               0-30 Minutes  ...                    NaN   \n",
       "4                               0-30 Minutes  ...          Traffic Light   \n",
       "\n",
       "  How many traffic lights do you have to pass during your travel journey ?  \\\n",
       "0                                                  6                         \n",
       "1                                                  5                         \n",
       "2                                                  4                         \n",
       "3                                                  1                         \n",
       "4                                                  6                         \n",
       "\n",
       "  How many junctions during your travel journey?  \\\n",
       "0                                              0   \n",
       "1                                              0   \n",
       "2                                              5   \n",
       "3                                              0   \n",
       "4                                            NaN   \n",
       "\n",
       "  How many road blocks during your travel journey?  \\\n",
       "0                                                0   \n",
       "1                                                0   \n",
       "2                                                2   \n",
       "3                                                0   \n",
       "4                                              NaN   \n",
       "\n",
       "  Can you reach your destination on Time? Can you reach your home on Time?  \\\n",
       "0                                     Yes                               No   \n",
       "1                                     Yes                              Yes   \n",
       "2                                     Yes                               No   \n",
       "3                                     Yes                              Yes   \n",
       "4                                      No                              NaN   \n",
       "\n",
       "  What is the weather condition before leaving home?  \\\n",
       "0                                              Sunny   \n",
       "1                                             Cloudy   \n",
       "2                                             Cloudy   \n",
       "3                                              Sunny   \n",
       "4                                              Sunny   \n",
       "\n",
       "  When did this journey take place? When did you travel?  \\\n",
       "0                       Working Day              Weekday   \n",
       "1                       Working Day              Weekday   \n",
       "2                       Working Day              Weekday   \n",
       "3                       Working Day              Weekday   \n",
       "4                               NaN                  NaN   \n",
       "\n",
       "  Describe how do you feel traveling in Jaipur, in one or two words. For example polluted, good, sad etc.   \n",
       "0                                            Chaotic                                                        \n",
       "1                                       Mesmerized!                                                         \n",
       "2                                           Polluted                                                        \n",
       "3                                                NaN                                                        \n",
       "4                                                NaN                                                        \n",
       "\n",
       "[5 rows x 29 columns]"
      ],
      "text/html": [
       "<div>\n",
       "<style scoped>\n",
       "    .dataframe tbody tr th:only-of-type {\n",
       "        vertical-align: middle;\n",
       "    }\n",
       "\n",
       "    .dataframe tbody tr th {\n",
       "        vertical-align: top;\n",
       "    }\n",
       "\n",
       "    .dataframe thead th {\n",
       "        text-align: right;\n",
       "    }\n",
       "</style>\n",
       "<table border=\"1\" class=\"dataframe\">\n",
       "  <thead>\n",
       "    <tr style=\"text-align: right;\">\n",
       "      <th></th>\n",
       "      <th>Timestamp</th>\n",
       "      <th>Are you from Jaipur?</th>\n",
       "      <th>What is your age?</th>\n",
       "      <th>What is your gender?</th>\n",
       "      <th>What is your departure address (with pincode)?</th>\n",
       "      <th>What is your destination address?  (with pincode)</th>\n",
       "      <th>What is your mode of transportation?</th>\n",
       "      <th>If Public Transport, Do you get seat availability easily?</th>\n",
       "      <th>If personal vehicles do you find a parking space easily?</th>\n",
       "      <th>How long do you wait for Public Transport?</th>\n",
       "      <th>...</th>\n",
       "      <th>What type of stoppage?</th>\n",
       "      <th>How many traffic lights do you have to pass during your travel journey ?</th>\n",
       "      <th>How many junctions during your travel journey?</th>\n",
       "      <th>How many road blocks during your travel journey?</th>\n",
       "      <th>Can you reach your destination on Time?</th>\n",
       "      <th>Can you reach your home on Time?</th>\n",
       "      <th>What is the weather condition before leaving home?</th>\n",
       "      <th>When did this journey take place?</th>\n",
       "      <th>When did you travel?</th>\n",
       "      <th>Describe how do you feel traveling in Jaipur, in one or two words. For example polluted, good, sad etc.</th>\n",
       "    </tr>\n",
       "  </thead>\n",
       "  <tbody>\n",
       "    <tr>\n",
       "      <th>0</th>\n",
       "      <td>2024/12/31 9:56:27 am GMT+5:30</td>\n",
       "      <td>Yes</td>\n",
       "      <td>20-29</td>\n",
       "      <td>Male</td>\n",
       "      <td>2/627, Sector 2, Malviya Nagar, Jaipur, Rajast...</td>\n",
       "      <td>BISR, Statue Circle, C Scheme, Jaipur, Rajasth...</td>\n",
       "      <td>Public Transport</td>\n",
       "      <td>No</td>\n",
       "      <td>No</td>\n",
       "      <td>31-60 Minutes</td>\n",
       "      <td>...</td>\n",
       "      <td>Traffic Light</td>\n",
       "      <td>6</td>\n",
       "      <td>0</td>\n",
       "      <td>0</td>\n",
       "      <td>Yes</td>\n",
       "      <td>No</td>\n",
       "      <td>Sunny</td>\n",
       "      <td>Working Day</td>\n",
       "      <td>Weekday</td>\n",
       "      <td>Chaotic</td>\n",
       "    </tr>\n",
       "    <tr>\n",
       "      <th>1</th>\n",
       "      <td>2024/12/31 12:35:40 pm GMT+5:30</td>\n",
       "      <td>Yes</td>\n",
       "      <td>19 and below</td>\n",
       "      <td>Female</td>\n",
       "      <td>Flat no 201 Vatsalya Enclave Ganesh Nagar Iskc...</td>\n",
       "      <td>Birla Institute of Technology Jaipur Near Apex...</td>\n",
       "      <td>Cabs Services</td>\n",
       "      <td>NaN</td>\n",
       "      <td>NaN</td>\n",
       "      <td>NaN</td>\n",
       "      <td>...</td>\n",
       "      <td>Traffic Light</td>\n",
       "      <td>5</td>\n",
       "      <td>0</td>\n",
       "      <td>0</td>\n",
       "      <td>Yes</td>\n",
       "      <td>Yes</td>\n",
       "      <td>Cloudy</td>\n",
       "      <td>Working Day</td>\n",
       "      <td>Weekday</td>\n",
       "      <td>Mesmerized!</td>\n",
       "    </tr>\n",
       "    <tr>\n",
       "      <th>2</th>\n",
       "      <td>2024/12/31 12:54:10 pm GMT+5:30</td>\n",
       "      <td>Yes</td>\n",
       "      <td>19 and below</td>\n",
       "      <td>Male</td>\n",
       "      <td>Swastik Villas, New Sanganer Road, Jaipur(302020)</td>\n",
       "      <td>Bit Jaipur, Malviya Nagar, Jaipur(302017)</td>\n",
       "      <td>Two Wheeler</td>\n",
       "      <td>No</td>\n",
       "      <td>Yes</td>\n",
       "      <td>31-60 Minutes</td>\n",
       "      <td>...</td>\n",
       "      <td>Traffic Light</td>\n",
       "      <td>4</td>\n",
       "      <td>5</td>\n",
       "      <td>2</td>\n",
       "      <td>Yes</td>\n",
       "      <td>No</td>\n",
       "      <td>Cloudy</td>\n",
       "      <td>Working Day</td>\n",
       "      <td>Weekday</td>\n",
       "      <td>Polluted</td>\n",
       "    </tr>\n",
       "    <tr>\n",
       "      <th>3</th>\n",
       "      <td>2024/12/31 2:49:46 pm GMT+5:30</td>\n",
       "      <td>Yes</td>\n",
       "      <td>19 and below</td>\n",
       "      <td>Male</td>\n",
       "      <td>305001</td>\n",
       "      <td>302017</td>\n",
       "      <td>Public Transport</td>\n",
       "      <td>Yes</td>\n",
       "      <td>Yes</td>\n",
       "      <td>0-30 Minutes</td>\n",
       "      <td>...</td>\n",
       "      <td>NaN</td>\n",
       "      <td>1</td>\n",
       "      <td>0</td>\n",
       "      <td>0</td>\n",
       "      <td>Yes</td>\n",
       "      <td>Yes</td>\n",
       "      <td>Sunny</td>\n",
       "      <td>Working Day</td>\n",
       "      <td>Weekday</td>\n",
       "      <td>NaN</td>\n",
       "    </tr>\n",
       "    <tr>\n",
       "      <th>4</th>\n",
       "      <td>2024/12/31 2:57:22 pm GMT+5:30</td>\n",
       "      <td>Yes</td>\n",
       "      <td>19 and below</td>\n",
       "      <td>Male</td>\n",
       "      <td>24/25 sagar apartments</td>\n",
       "      <td>Same</td>\n",
       "      <td>Two Wheeler</td>\n",
       "      <td>No</td>\n",
       "      <td>Yes</td>\n",
       "      <td>0-30 Minutes</td>\n",
       "      <td>...</td>\n",
       "      <td>Traffic Light</td>\n",
       "      <td>6</td>\n",
       "      <td>NaN</td>\n",
       "      <td>NaN</td>\n",
       "      <td>No</td>\n",
       "      <td>NaN</td>\n",
       "      <td>Sunny</td>\n",
       "      <td>NaN</td>\n",
       "      <td>NaN</td>\n",
       "      <td>NaN</td>\n",
       "    </tr>\n",
       "  </tbody>\n",
       "</table>\n",
       "<p>5 rows × 29 columns</p>\n",
       "</div>"
      ]
     },
     "execution_count": 94,
     "metadata": {},
     "output_type": "execute_result"
    }
   ],
   "execution_count": 94
  },
  {
   "metadata": {
    "ExecuteTime": {
     "end_time": "2025-02-01T10:02:28.104298Z",
     "start_time": "2025-02-01T10:02:28.093710Z"
    }
   },
   "cell_type": "code",
   "source": "df.info()",
   "id": "29f4f84ecc14f01b",
   "outputs": [
    {
     "name": "stdout",
     "output_type": "stream",
     "text": [
      "<class 'pandas.core.frame.DataFrame'>\n",
      "RangeIndex: 924 entries, 0 to 923\n",
      "Data columns (total 29 columns):\n",
      " #   Column                                                                                                    Non-Null Count  Dtype \n",
      "---  ------                                                                                                    --------------  ----- \n",
      " 0   Timestamp                                                                                                 924 non-null    object\n",
      " 1   Are you from Jaipur?                                                                                      919 non-null    object\n",
      " 2   What is your age?                                                                                         922 non-null    object\n",
      " 3   What is your gender?                                                                                      919 non-null    object\n",
      " 4   What is your departure address (with pincode)?                                                            871 non-null    object\n",
      " 5   What is your destination address?  (with pincode)                                                         844 non-null    object\n",
      " 6   What is your mode of transportation?                                                                      913 non-null    object\n",
      " 7   If Public Transport, Do you get seat availability easily?                                                 832 non-null    object\n",
      " 8   If personal vehicles do you find a parking space easily?                                                  858 non-null    object\n",
      " 9   How long do you wait for Public Transport?                                                                820 non-null    object\n",
      " 10  What time do you prefer to leave your house to work/school/university/hospital?                           912 non-null    object\n",
      " 11  How much time (minutes) do you take to travel ?                                                           897 non-null    object\n",
      " 12  What time do you prefer to leave your work/school/university/ hospital for home?                          900 non-null    object\n",
      " 13  How long time (minutes) do you travel?                                                                    883 non-null    object\n",
      " 14  Cost of petrol                                                                                            834 non-null    object\n",
      " 15  How many toll booth are there from your house to work/school/university/ hospital?                        894 non-null    object\n",
      " 16  Could you kindly specify the tolls?                                                                       441 non-null    object\n",
      " 17  Could you kindly tell your normally driving mood during driving time?                                     856 non-null    object\n",
      " 18  How many stops during your journey time?                                                                  868 non-null    object\n",
      " 19  What type of stoppage?                                                                                    827 non-null    object\n",
      " 20  How many traffic lights do you have to pass during your travel journey ?                                  874 non-null    object\n",
      " 21  How many junctions during your travel journey?                                                            815 non-null    object\n",
      " 22  How many road blocks during your travel journey?                                                          822 non-null    object\n",
      " 23  Can you reach your destination on Time?                                                                   894 non-null    object\n",
      " 24  Can you reach your home on Time?                                                                          886 non-null    object\n",
      " 25  What is the weather condition before leaving home?                                                        877 non-null    object\n",
      " 26  When did this journey take place?                                                                         879 non-null    object\n",
      " 27  When did you travel?                                                                                      876 non-null    object\n",
      " 28  Describe how do you feel traveling in Jaipur, in one or two words. For example polluted, good, sad etc.   774 non-null    object\n",
      "dtypes: object(29)\n",
      "memory usage: 209.5+ KB\n"
     ]
    }
   ],
   "execution_count": 95
  },
  {
   "metadata": {
    "ExecuteTime": {
     "end_time": "2025-02-01T10:02:28.269944Z",
     "start_time": "2025-02-01T10:02:28.158004Z"
    }
   },
   "cell_type": "code",
   "source": [
    "def parse_timestamp(timestamp_str):\n",
    "    try:\n",
    "        # If we know the format is '%Y/%m/%d %I:%M:%S %p GMT%z', use it.\n",
    "        return parser.parse(timestamp_str)\n",
    "    except (ValueError, TypeError):\n",
    "        return pd.NaT  # Return NaT for unparsable values\n",
    "\n",
    "df['Timestamp'] = df['Timestamp'].apply(parse_timestamp)\n",
    "df['Travel_Date'] = df['Timestamp'].dt.date\n",
    "df['Travel_Time'] = df['Timestamp'].dt.time\n",
    "df.drop(columns=['Timestamp'], inplace=True)\n",
    "\n",
    "print(df[['Travel_Date','Travel_Time']].head())\n",
    "print(df.info())"
   ],
   "id": "c1aacbaf018bcb1f",
   "outputs": [
    {
     "name": "stdout",
     "output_type": "stream",
     "text": [
      "  Travel_Date Travel_Time\n",
      "0  2024-12-31    09:56:27\n",
      "1  2024-12-31    12:35:40\n",
      "2  2024-12-31    12:54:10\n",
      "3  2024-12-31    14:49:46\n",
      "4  2024-12-31    14:57:22\n",
      "<class 'pandas.core.frame.DataFrame'>\n",
      "RangeIndex: 924 entries, 0 to 923\n",
      "Data columns (total 30 columns):\n",
      " #   Column                                                                                                    Non-Null Count  Dtype \n",
      "---  ------                                                                                                    --------------  ----- \n",
      " 0   Are you from Jaipur?                                                                                      919 non-null    object\n",
      " 1   What is your age?                                                                                         922 non-null    object\n",
      " 2   What is your gender?                                                                                      919 non-null    object\n",
      " 3   What is your departure address (with pincode)?                                                            871 non-null    object\n",
      " 4   What is your destination address?  (with pincode)                                                         844 non-null    object\n",
      " 5   What is your mode of transportation?                                                                      913 non-null    object\n",
      " 6   If Public Transport, Do you get seat availability easily?                                                 832 non-null    object\n",
      " 7   If personal vehicles do you find a parking space easily?                                                  858 non-null    object\n",
      " 8   How long do you wait for Public Transport?                                                                820 non-null    object\n",
      " 9   What time do you prefer to leave your house to work/school/university/hospital?                           912 non-null    object\n",
      " 10  How much time (minutes) do you take to travel ?                                                           897 non-null    object\n",
      " 11  What time do you prefer to leave your work/school/university/ hospital for home?                          900 non-null    object\n",
      " 12  How long time (minutes) do you travel?                                                                    883 non-null    object\n",
      " 13  Cost of petrol                                                                                            834 non-null    object\n",
      " 14  How many toll booth are there from your house to work/school/university/ hospital?                        894 non-null    object\n",
      " 15  Could you kindly specify the tolls?                                                                       441 non-null    object\n",
      " 16  Could you kindly tell your normally driving mood during driving time?                                     856 non-null    object\n",
      " 17  How many stops during your journey time?                                                                  868 non-null    object\n",
      " 18  What type of stoppage?                                                                                    827 non-null    object\n",
      " 19  How many traffic lights do you have to pass during your travel journey ?                                  874 non-null    object\n",
      " 20  How many junctions during your travel journey?                                                            815 non-null    object\n",
      " 21  How many road blocks during your travel journey?                                                          822 non-null    object\n",
      " 22  Can you reach your destination on Time?                                                                   894 non-null    object\n",
      " 23  Can you reach your home on Time?                                                                          886 non-null    object\n",
      " 24  What is the weather condition before leaving home?                                                        877 non-null    object\n",
      " 25  When did this journey take place?                                                                         879 non-null    object\n",
      " 26  When did you travel?                                                                                      876 non-null    object\n",
      " 27  Describe how do you feel traveling in Jaipur, in one or two words. For example polluted, good, sad etc.   774 non-null    object\n",
      " 28  Travel_Date                                                                                               924 non-null    object\n",
      " 29  Travel_Time                                                                                               924 non-null    object\n",
      "dtypes: object(30)\n",
      "memory usage: 216.7+ KB\n",
      "None\n"
     ]
    }
   ],
   "execution_count": 96
  },
  {
   "metadata": {
    "ExecuteTime": {
     "end_time": "2025-02-01T10:02:28.397003Z",
     "start_time": "2025-02-01T10:02:28.382160Z"
    }
   },
   "cell_type": "code",
   "source": [
    "df['What is your age?'] = df['What is your age?'].str.replace(' and below', '', regex=False).str.strip()\n",
    "df['What is your age?'] = pd.to_numeric(df['What is your age?'], errors='coerce')\n",
    "df['What is your age?'].fillna(df['What is your age?'].median(), inplace=True)\n",
    "\n",
    "df['What is your age?'].head()\n"
   ],
   "id": "31f9a6c229dea0b3",
   "outputs": [
    {
     "name": "stderr",
     "output_type": "stream",
     "text": [
      "C:\\Users\\bhara\\AppData\\Local\\Temp\\ipykernel_11504\\710087964.py:3: FutureWarning: A value is trying to be set on a copy of a DataFrame or Series through chained assignment using an inplace method.\n",
      "The behavior will change in pandas 3.0. This inplace method will never work because the intermediate object on which we are setting values always behaves as a copy.\n",
      "\n",
      "For example, when doing 'df[col].method(value, inplace=True)', try using 'df.method({col: value}, inplace=True)' or df[col] = df[col].method(value) instead, to perform the operation inplace on the original object.\n",
      "\n",
      "\n",
      "  df['What is your age?'].fillna(df['What is your age?'].median(), inplace=True)\n"
     ]
    },
    {
     "data": {
      "text/plain": [
       "0    19.0\n",
       "1    19.0\n",
       "2    19.0\n",
       "3    19.0\n",
       "4    19.0\n",
       "Name: What is your age?, dtype: float64"
      ]
     },
     "execution_count": 97,
     "metadata": {},
     "output_type": "execute_result"
    }
   ],
   "execution_count": 97
  },
  {
   "metadata": {
    "ExecuteTime": {
     "end_time": "2025-02-01T09:56:43.411624Z",
     "start_time": "2025-02-01T09:56:43.399261Z"
    }
   },
   "cell_type": "code",
   "source": "print(df.info())",
   "id": "25f1b8e3daaf178c",
   "outputs": [
    {
     "name": "stdout",
     "output_type": "stream",
     "text": [
      "<class 'pandas.core.frame.DataFrame'>\n",
      "RangeIndex: 924 entries, 0 to 923\n",
      "Data columns (total 30 columns):\n",
      " #   Column                                                                                                    Non-Null Count  Dtype  \n",
      "---  ------                                                                                                    --------------  -----  \n",
      " 0   Are you from Jaipur?                                                                                      919 non-null    object \n",
      " 1   What is your age?                                                                                         924 non-null    float64\n",
      " 2   What is your gender?                                                                                      919 non-null    object \n",
      " 3   What is your departure address (with pincode)?                                                            871 non-null    object \n",
      " 4   What is your destination address?  (with pincode)                                                         844 non-null    object \n",
      " 5   What is your mode of transportation?                                                                      913 non-null    object \n",
      " 6   If Public Transport, Do you get seat availability easily?                                                 832 non-null    object \n",
      " 7   If personal vehicles do you find a parking space easily?                                                  858 non-null    object \n",
      " 8   How long do you wait for Public Transport?                                                                820 non-null    object \n",
      " 9   What time do you prefer to leave your house to work/school/university/hospital?                           912 non-null    object \n",
      " 10  How much time (minutes) do you take to travel ?                                                           897 non-null    object \n",
      " 11  What time do you prefer to leave your work/school/university/ hospital for home?                          900 non-null    object \n",
      " 12  How long time (minutes) do you travel?                                                                    883 non-null    object \n",
      " 13  Cost of petrol                                                                                            834 non-null    object \n",
      " 14  How many toll booth are there from your house to work/school/university/ hospital?                        894 non-null    object \n",
      " 15  Could you kindly specify the tolls?                                                                       441 non-null    object \n",
      " 16  Could you kindly tell your normally driving mood during driving time?                                     856 non-null    object \n",
      " 17  How many stops during your journey time?                                                                  868 non-null    object \n",
      " 18  What type of stoppage?                                                                                    827 non-null    object \n",
      " 19  How many traffic lights do you have to pass during your travel journey ?                                  874 non-null    object \n",
      " 20  How many junctions during your travel journey?                                                            815 non-null    object \n",
      " 21  How many road blocks during your travel journey?                                                          822 non-null    object \n",
      " 22  Can you reach your destination on Time?                                                                   894 non-null    object \n",
      " 23  Can you reach your home on Time?                                                                          886 non-null    object \n",
      " 24  What is the weather condition before leaving home?                                                        877 non-null    object \n",
      " 25  When did this journey take place?                                                                         879 non-null    object \n",
      " 26  When did you travel?                                                                                      876 non-null    object \n",
      " 27  Describe how do you feel traveling in Jaipur, in one or two words. For example polluted, good, sad etc.   774 non-null    object \n",
      " 28  Travel_Date                                                                                               924 non-null    object \n",
      " 29  Travel_Time                                                                                               924 non-null    object \n",
      "dtypes: float64(1), object(29)\n",
      "memory usage: 216.7+ KB\n",
      "None\n"
     ]
    }
   ],
   "execution_count": 89
  },
  {
   "metadata": {},
   "cell_type": "code",
   "outputs": [],
   "execution_count": null,
   "source": "## handling the  time column",
   "id": "183c9e1db96c4667"
  },
  {
   "metadata": {
    "ExecuteTime": {
     "end_time": "2025-02-01T10:02:38.809987Z",
     "start_time": "2025-02-01T10:02:38.735538Z"
    }
   },
   "cell_type": "code",
   "source": [
    "import pandas as pd\n",
    "import numpy as np\n",
    "from datetime import datetime\n",
    "from dateutil import parser\n",
    "\n",
    "def standardize_time(time_str):\n",
    "    if pd.isnull(time_str):\n",
    "      return pd.NaT\n",
    "    time_str= str(time_str).upper().strip()\n",
    "\n",
    "    try:\n",
    "\n",
    "        if '-' in time_str:\n",
    "             start_time, end_time = time_str.split('-')\n",
    "             start_time = parser.parse(start_time).time()\n",
    "             return start_time\n",
    "        else:\n",
    "            time_obj = parser.parse(time_str).time()\n",
    "            return time_obj\n",
    "    except (ValueError, TypeError):\n",
    "          print(f\"Could not convert : {time_str}\")\n",
    "          return pd.NaT\n",
    "\n",
    "\n",
    "df['What time do you prefer to leave your work/school/university/ hospital for home?'] = df['What time do you prefer to leave your work/school/university/ hospital for home?'].apply(standardize_time)\n",
    "df['What time do you prefer to leave your house to work/school/university/hospital?'] = df['What time do you prefer to leave your house to work/school/university/hospital?'].apply(standardize_time)\n",
    "print(df['What time do you prefer to leave your house to work/school/university/hospital?'].value_counts(dropna=False))\n",
    "print(df.info())"
   ],
   "id": "7ef0456c1597b4e6",
   "outputs": [
    {
     "name": "stdout",
     "output_type": "stream",
     "text": [
      "What time do you prefer to leave your house to work/school/university/hospital?\n",
      "08:00:00    343\n",
      "07:00:00    278\n",
      "09:00:00    115\n",
      "06:00:00     70\n",
      "05:00:00     34\n",
      "14:00:00     24\n",
      "10:00:00     21\n",
      "NaT          12\n",
      "00:00:00     11\n",
      "11:00:00     10\n",
      "13:00:00      6\n",
      "Name: count, dtype: int64\n",
      "<class 'pandas.core.frame.DataFrame'>\n",
      "RangeIndex: 924 entries, 0 to 923\n",
      "Data columns (total 30 columns):\n",
      " #   Column                                                                                                    Non-Null Count  Dtype  \n",
      "---  ------                                                                                                    --------------  -----  \n",
      " 0   Are you from Jaipur?                                                                                      919 non-null    object \n",
      " 1   What is your age?                                                                                         924 non-null    float64\n",
      " 2   What is your gender?                                                                                      919 non-null    object \n",
      " 3   What is your departure address (with pincode)?                                                            871 non-null    object \n",
      " 4   What is your destination address?  (with pincode)                                                         844 non-null    object \n",
      " 5   What is your mode of transportation?                                                                      913 non-null    object \n",
      " 6   If Public Transport, Do you get seat availability easily?                                                 832 non-null    object \n",
      " 7   If personal vehicles do you find a parking space easily?                                                  858 non-null    object \n",
      " 8   How long do you wait for Public Transport?                                                                820 non-null    object \n",
      " 9   What time do you prefer to leave your house to work/school/university/hospital?                           912 non-null    object \n",
      " 10  How much time (minutes) do you take to travel ?                                                           897 non-null    object \n",
      " 11  What time do you prefer to leave your work/school/university/ hospital for home?                          900 non-null    object \n",
      " 12  How long time (minutes) do you travel?                                                                    883 non-null    object \n",
      " 13  Cost of petrol                                                                                            834 non-null    object \n",
      " 14  How many toll booth are there from your house to work/school/university/ hospital?                        894 non-null    object \n",
      " 15  Could you kindly specify the tolls?                                                                       441 non-null    object \n",
      " 16  Could you kindly tell your normally driving mood during driving time?                                     856 non-null    object \n",
      " 17  How many stops during your journey time?                                                                  868 non-null    object \n",
      " 18  What type of stoppage?                                                                                    827 non-null    object \n",
      " 19  How many traffic lights do you have to pass during your travel journey ?                                  874 non-null    object \n",
      " 20  How many junctions during your travel journey?                                                            815 non-null    object \n",
      " 21  How many road blocks during your travel journey?                                                          822 non-null    object \n",
      " 22  Can you reach your destination on Time?                                                                   894 non-null    object \n",
      " 23  Can you reach your home on Time?                                                                          886 non-null    object \n",
      " 24  What is the weather condition before leaving home?                                                        877 non-null    object \n",
      " 25  When did this journey take place?                                                                         879 non-null    object \n",
      " 26  When did you travel?                                                                                      876 non-null    object \n",
      " 27  Describe how do you feel traveling in Jaipur, in one or two words. For example polluted, good, sad etc.   774 non-null    object \n",
      " 28  Travel_Date                                                                                               924 non-null    object \n",
      " 29  Travel_Time                                                                                               924 non-null    object \n",
      "dtypes: float64(1), object(29)\n",
      "memory usage: 216.7+ KB\n",
      "None\n"
     ]
    }
   ],
   "execution_count": 98
  },
  {
   "metadata": {
    "ExecuteTime": {
     "end_time": "2025-02-01T10:02:42.308627Z",
     "start_time": "2025-02-01T10:02:42.301744Z"
    }
   },
   "cell_type": "code",
   "source": "df['What time do you prefer to leave your work/school/university/ hospital for home?']",
   "id": "eb74779f4df22b32",
   "outputs": [
    {
     "data": {
      "text/plain": [
       "0      16:00:00\n",
       "1      16:00:00\n",
       "2      16:00:00\n",
       "3      17:00:00\n",
       "4      16:00:00\n",
       "         ...   \n",
       "919    16:00:00\n",
       "920    19:00:00\n",
       "921    18:00:00\n",
       "922    17:00:00\n",
       "923    16:00:00\n",
       "Name: What time do you prefer to leave your work/school/university/ hospital for home?, Length: 924, dtype: object"
      ]
     },
     "execution_count": 99,
     "metadata": {},
     "output_type": "execute_result"
    }
   ],
   "execution_count": 99
  },
  {
   "metadata": {
    "ExecuteTime": {
     "end_time": "2025-02-01T10:02:52.427775Z",
     "start_time": "2025-02-01T10:02:52.418948Z"
    }
   },
   "cell_type": "code",
   "source": "df['What time do you prefer to leave your house to work/school/university/hospital?']",
   "id": "a7ca85ee87b627e2",
   "outputs": [
    {
     "data": {
      "text/plain": [
       "0      09:00:00\n",
       "1      08:00:00\n",
       "2      08:00:00\n",
       "3      07:00:00\n",
       "4      08:00:00\n",
       "         ...   \n",
       "919    07:00:00\n",
       "920    09:00:00\n",
       "921    09:00:00\n",
       "922    08:00:00\n",
       "923    07:00:00\n",
       "Name: What time do you prefer to leave your house to work/school/university/hospital?, Length: 924, dtype: object"
      ]
     },
     "execution_count": 100,
     "metadata": {},
     "output_type": "execute_result"
    }
   ],
   "execution_count": 100
  },
  {
   "metadata": {
    "ExecuteTime": {
     "end_time": "2025-02-01T10:03:29.573990Z",
     "start_time": "2025-02-01T10:03:29.560314Z"
    }
   },
   "cell_type": "code",
   "source": "df[['What time do you prefer to leave your house to work/school/university/hospital?','What time do you prefer to leave your work/school/university/ hospital for home?']]",
   "id": "cf52e4632958de85",
   "outputs": [
    {
     "data": {
      "text/plain": [
       "    What time do you prefer to leave your house to work/school/university/hospital?  \\\n",
       "0                                             09:00:00                                \n",
       "1                                             08:00:00                                \n",
       "2                                             08:00:00                                \n",
       "3                                             07:00:00                                \n",
       "4                                             08:00:00                                \n",
       "..                                                 ...                                \n",
       "919                                           07:00:00                                \n",
       "920                                           09:00:00                                \n",
       "921                                           09:00:00                                \n",
       "922                                           08:00:00                                \n",
       "923                                           07:00:00                                \n",
       "\n",
       "    What time do you prefer to leave your work/school/university/ hospital for home?  \n",
       "0                                             16:00:00                                \n",
       "1                                             16:00:00                                \n",
       "2                                             16:00:00                                \n",
       "3                                             17:00:00                                \n",
       "4                                             16:00:00                                \n",
       "..                                                 ...                                \n",
       "919                                           16:00:00                                \n",
       "920                                           19:00:00                                \n",
       "921                                           18:00:00                                \n",
       "922                                           17:00:00                                \n",
       "923                                           16:00:00                                \n",
       "\n",
       "[924 rows x 2 columns]"
      ],
      "text/html": [
       "<div>\n",
       "<style scoped>\n",
       "    .dataframe tbody tr th:only-of-type {\n",
       "        vertical-align: middle;\n",
       "    }\n",
       "\n",
       "    .dataframe tbody tr th {\n",
       "        vertical-align: top;\n",
       "    }\n",
       "\n",
       "    .dataframe thead th {\n",
       "        text-align: right;\n",
       "    }\n",
       "</style>\n",
       "<table border=\"1\" class=\"dataframe\">\n",
       "  <thead>\n",
       "    <tr style=\"text-align: right;\">\n",
       "      <th></th>\n",
       "      <th>What time do you prefer to leave your house to work/school/university/hospital?</th>\n",
       "      <th>What time do you prefer to leave your work/school/university/ hospital for home?</th>\n",
       "    </tr>\n",
       "  </thead>\n",
       "  <tbody>\n",
       "    <tr>\n",
       "      <th>0</th>\n",
       "      <td>09:00:00</td>\n",
       "      <td>16:00:00</td>\n",
       "    </tr>\n",
       "    <tr>\n",
       "      <th>1</th>\n",
       "      <td>08:00:00</td>\n",
       "      <td>16:00:00</td>\n",
       "    </tr>\n",
       "    <tr>\n",
       "      <th>2</th>\n",
       "      <td>08:00:00</td>\n",
       "      <td>16:00:00</td>\n",
       "    </tr>\n",
       "    <tr>\n",
       "      <th>3</th>\n",
       "      <td>07:00:00</td>\n",
       "      <td>17:00:00</td>\n",
       "    </tr>\n",
       "    <tr>\n",
       "      <th>4</th>\n",
       "      <td>08:00:00</td>\n",
       "      <td>16:00:00</td>\n",
       "    </tr>\n",
       "    <tr>\n",
       "      <th>...</th>\n",
       "      <td>...</td>\n",
       "      <td>...</td>\n",
       "    </tr>\n",
       "    <tr>\n",
       "      <th>919</th>\n",
       "      <td>07:00:00</td>\n",
       "      <td>16:00:00</td>\n",
       "    </tr>\n",
       "    <tr>\n",
       "      <th>920</th>\n",
       "      <td>09:00:00</td>\n",
       "      <td>19:00:00</td>\n",
       "    </tr>\n",
       "    <tr>\n",
       "      <th>921</th>\n",
       "      <td>09:00:00</td>\n",
       "      <td>18:00:00</td>\n",
       "    </tr>\n",
       "    <tr>\n",
       "      <th>922</th>\n",
       "      <td>08:00:00</td>\n",
       "      <td>17:00:00</td>\n",
       "    </tr>\n",
       "    <tr>\n",
       "      <th>923</th>\n",
       "      <td>07:00:00</td>\n",
       "      <td>16:00:00</td>\n",
       "    </tr>\n",
       "  </tbody>\n",
       "</table>\n",
       "<p>924 rows × 2 columns</p>\n",
       "</div>"
      ]
     },
     "execution_count": 101,
     "metadata": {},
     "output_type": "execute_result"
    }
   ],
   "execution_count": 101
  },
  {
   "metadata": {
    "ExecuteTime": {
     "end_time": "2025-02-01T10:04:41.840Z",
     "start_time": "2025-02-01T10:04:41.833336Z"
    }
   },
   "cell_type": "code",
   "source": "df_2 = df.copy()",
   "id": "8df8d841f5575f70",
   "outputs": [],
   "execution_count": 102
  },
  {
   "metadata": {
    "ExecuteTime": {
     "end_time": "2025-02-01T10:15:06.799823Z",
     "start_time": "2025-02-01T10:15:06.791571Z"
    }
   },
   "cell_type": "code",
   "source": [
    "df['How long do you wait for Public Transport?'].unique()\n",
    "df['How much time (minutes) do you take to travel ?'].unique()\n",
    "df['How long time (minutes) do you travel?'].unique()"
   ],
   "id": "414a6f974f690366",
   "outputs": [
    {
     "data": {
      "text/plain": [
       "array(['40', '20', '30mins', '30', '60', '3-4 minutes ', nan, '45',\n",
       "       '15-20min', '20 min', '15 Minutes', '10 seconds', '15', '120',\n",
       "       '40-45 minutes ', '90', '20-25 minutes', '80 mins', '90 minutes ',\n",
       "       '10 min', '22min', '25', '2 hours', '12 hours', '300',\n",
       "       'Around 1hir', '1 hr ', '40-45 minutes ( with medium traffic)',\n",
       "       '8mins', '5-10 minutes', '15-20 minutes', '50 minutes ', '20min',\n",
       "       '50-60 minutes ', '50', '7', '4 hours ', '45 min', '10 minutes',\n",
       "       '45 mint', '25 Minute', '20-25', '30(minutes)', '45-60 Minute',\n",
       "       '1 hours', '3hr', '30 minutes ', '10 Minutes', '20 minutes ',\n",
       "       '240 minutes ', '20 MIN', '15-20', '2km', '1-2 hour', '180',\n",
       "       '45 minutes ', '145', '60 min ', '60 minutes ', '40min',\n",
       "       '40 to 45 min.', '25-30 minutes ', '2 hours and 20minutes',\n",
       "       '1.15 hours', '05-Oct', '35 minutes ', '120 min', '210 minutes',\n",
       "       'Oct-20', '30min', '200', '10 minutes ', '2 hr', '10',\n",
       "       '40 minutes', '45 minutes in total ', '60 min', '70 minutes',\n",
       "       '2 hr ', '20to30 min', '30 hours', '300 minutes ', '45-55',\n",
       "       '360 minutes', '210', '15 minutes ', '400', '39',\n",
       "       '45 to 60 minutes ', '1 hr', '0', '45min', '80', '150',\n",
       "       '90minutes', '1hour 30 minutes ', '30 minute-1 hour',\n",
       "       '180 minutes', '3 hours ', '1 hour', '540 minutes ', '30 Minutes ',\n",
       "       '120 minutes', '2.5 - 3 Hours ', '540 minutes', '4', '40 min ',\n",
       "       '5 minute ', 'Already answered ', 'Already answered', '50min',\n",
       "       '20-30', '60 minutes', '140', '1hour', '15to20 minat', '15 min',\n",
       "       '300 minutes', '7:00 PM', '120 minutes ', '2 hrs 30 min',\n",
       "       '1 hour 15 minutes ', '250', '5 min', '2:30 hours', '5 minutes ',\n",
       "       '180 minutes ', '60 to 75 Minutes ', '40 minute ', '5 minutes',\n",
       "       '6 hours ', '20-35 min', '120minutes',\n",
       "       '90 minutes from college to home ', '250 minutes ', '120min.', '5',\n",
       "       '45-60', '1.5 hr', '45 minutes', '100', '8 hours', '40 minutes ',\n",
       "       '20 to 30 minutes', '15 min ', 'One hour', '30 minutes',\n",
       "       '75 Minutes', '25min', '15-20 minutes ', '60min', '35 to 45',\n",
       "       '30 min', '35-45', 'Sometimes 1 or 2 hour during holidays ',\n",
       "       '90 min', '2 hour', '15 mins', '10-15 minutes', '30-60', '1hr',\n",
       "       ' 10 min', '10 to 15 mins', '6hrs', '90 mins', '30 mins ',\n",
       "       '45 mins', '20 minutes', '10(minutes)', '38 mins', '15 minutes',\n",
       "       '5 hours ', '90 minutes', '120-130 minutes ', '15 mins ',\n",
       "       'I am a hosteller', '5min', '1 and half an hour ', '30-35',\n",
       "       '60 to 90 min ', '20-25 mins',\n",
       "       '120 minutes in total From departure to travel', '15min',\n",
       "       'On daily basis ', '11', '24 min',\n",
       "       'usually 50 but sometimes 80-90', '5.30 hours', '50 mins',\n",
       "       '30-40 min', '25 minutes', '15 mins on avg', '50 minutes',\n",
       "       '30-45 min', '20 mins', '20mins', '240', '15-20 mins', '13',\n",
       "       '30-60minutes ', '40/50Minutes', '60-70min', '350 minute ',\n",
       "       '30-35 mins', '150 min', '5 mins', '20 mins ', '10. Min',\n",
       "       'Approx 30 min', '1 hour ', '30 min ', '40-50 minutes ', '6-7 min',\n",
       "       '99999999999+', 'Around 15-20 minutes ', '37', '40-45 minutes',\n",
       "       '12 min 18 sec', '1.5 hour', '20-25 minutes ', '1.75 hr', '3',\n",
       "       '30 mins', '10 minutes for university to hostel', '25 minutes ',\n",
       "       '02-Apr', '2 hrs', '90min', '15-20 min', '1 minute', '33', '360',\n",
       "       '2', '30-45', '23', '75', '30-45 minutes', '40 min', '3 hours',\n",
       "       'From dharuhera to bhiwadi by bus it take 5 he', '50-60', '35',\n",
       "       '90-120 mins', '120 mins', '1.5 -2 hrs', '30-120', '6 minutes',\n",
       "       '10mins', '1.5 hours ', '720', '900', '10min', '6 hr', '50 min',\n",
       "       '4 hr', '3 hour', '30-45 min to reach durgapura station', '3600',\n",
       "       '15-20 ', '1', '1.5', '1 Hour 5 MInutes', '60mins', '1.30hr',\n",
       "       '10 hours', 'Half hour ', '42', '5 hr', '1.30 hrs', '4.5',\n",
       "       '20 min ', '5 mins ', '420 minutes ', '2 hours ', '1hr 30min',\n",
       "       '90-110', '21', '2-2:30 hour', '180 min', '30 minute ',\n",
       "       '80 minutes', ',180', '1.5 hours', '3 hrs', '3 hr', '2579073',\n",
       "       '19', '10 mins', '130 minutes ', '45-50 minutes ', '70',\n",
       "       '1:30 hour', 'Ududu', '12', 'Kyu to chodega muje?', '1hours',\n",
       "       '5-10 min', '5 hour', '40-45', '1:30 hours ', '105', '43',\n",
       "       '4-5min', '6.9', '40 mins..', '25 mins', '30 minutes approx ',\n",
       "       '40 mins', 'Same', '10 mins ', '30-60 mins.', '60 mins ', '30-40',\n",
       "       '25-30', '120-150 minutes ', '110', '30-40 minutes ',\n",
       "       '15 to 20 minutes ', '3 min', '35-45 minutes ', '30 min.',\n",
       "       '40 Mins ', '1 hr approx', '25 min'], dtype=object)"
      ]
     },
     "execution_count": 105,
     "metadata": {},
     "output_type": "execute_result"
    }
   ],
   "execution_count": 105
  },
  {
   "metadata": {},
   "cell_type": "code",
   "outputs": [],
   "execution_count": null,
   "source": "",
   "id": "84ed0d065da50bd7"
  },
  {
   "metadata": {
    "ExecuteTime": {
     "end_time": "2025-02-01T10:16:31.541949Z",
     "start_time": "2025-02-01T10:16:31.510517Z"
    }
   },
   "cell_type": "code",
   "source": [
    "def convert_time_to_minutes(time_str):\n",
    "    if pd.isnull(time_str):\n",
    "        return np.nan\n",
    "\n",
    "    time_str = str(time_str).lower().replace('mins','').replace('minutes','').strip()\n",
    "\n",
    "    if 'more than' in time_str:\n",
    "        time_str = time_str.replace('more than ','').strip()\n",
    "\n",
    "    if '-' in time_str:\n",
    "        try:\n",
    "            start_time, end_time = map(float, time_str.split('-'))\n",
    "            return (start_time + end_time)/2\n",
    "        except ValueError:\n",
    "            return np.nan\n",
    "    elif 'hr' in time_str:\n",
    "        try:\n",
    "            hours= float(time_str.replace('hr','').strip())\n",
    "            return hours*60\n",
    "        except ValueError:\n",
    "            return np.nan\n",
    "    elif 'hour' in time_str:\n",
    "        try:\n",
    "             hours = float(time_str.replace('hour','').replace('hours','').strip())\n",
    "             return hours * 60\n",
    "        except ValueError:\n",
    "            return np.nan\n",
    "\n",
    "    elif 'seconds' in time_str:\n",
    "        try:\n",
    "            seconds = float(time_str.replace('seconds','').strip())\n",
    "            return seconds/60\n",
    "        except ValueError:\n",
    "            return np.nan\n",
    "    elif 'second' in time_str:\n",
    "        try:\n",
    "            seconds = float(time_str.replace('second','').strip())\n",
    "            return seconds/60\n",
    "        except ValueError:\n",
    "            return np.nan\n",
    "\n",
    "    try:\n",
    "       return float(time_str)\n",
    "    except ValueError:\n",
    "        return np.nan\n",
    "\n",
    "df['How long do you wait for Public Transport?'] = df['How long do you wait for Public Transport?'].apply(convert_time_to_minutes)\n",
    "df['How long do you wait for Public Transport?'] = pd.to_numeric(df['How long do you wait for Public Transport?'], errors='coerce')\n",
    "df['How long do you wait for Public Transport?'].fillna(df['How long do you wait for Public Transport?'].median(),inplace=True)\n",
    "\n",
    "\n",
    "df['How much time (minutes) do you take to travel ?'] = df['How much time (minutes) do you take to travel ?'].apply(convert_time_to_minutes)\n",
    "df['How much time (minutes) do you take to travel ?'] = pd.to_numeric(df['How much time (minutes) do you take to travel ?'], errors='coerce')\n",
    "df['How much time (minutes) do you take to travel ?'].fillna(df['How much time (minutes) do you take to travel ?'].median(), inplace = True)\n",
    "\n",
    "\n",
    "df['How long time (minutes) do you travel?'] = df['How long time (minutes) do you travel?'].apply(convert_time_to_minutes)\n",
    "df['How long time (minutes) do you travel?'] = pd.to_numeric(df['How long time (minutes) do you travel?'], errors='coerce')\n",
    "df['How long time (minutes) do you travel?'].fillna(df['How long time (minutes) do you travel?'].median(), inplace=True)\n",
    "print(df[['How long do you wait for Public Transport?','How much time (minutes) do you take to travel ?','How long time (minutes) do you travel?']].head())\n",
    "print(df.info())"
   ],
   "id": "37ab948c682d33f5",
   "outputs": [
    {
     "name": "stdout",
     "output_type": "stream",
     "text": [
      "   How long do you wait for Public Transport?  \\\n",
      "0                                        45.5   \n",
      "1                                        15.0   \n",
      "2                                        45.5   \n",
      "3                                        15.0   \n",
      "4                                        15.0   \n",
      "\n",
      "   How much time (minutes) do you take to travel ?  \\\n",
      "0                                             40.0   \n",
      "1                                             20.0   \n",
      "2                                             25.0   \n",
      "3                                             15.0   \n",
      "4                                             25.0   \n",
      "\n",
      "   How long time (minutes) do you travel?  \n",
      "0                                    40.0  \n",
      "1                                    20.0  \n",
      "2                                    30.0  \n",
      "3                                    30.0  \n",
      "4                                    60.0  \n",
      "<class 'pandas.core.frame.DataFrame'>\n",
      "RangeIndex: 924 entries, 0 to 923\n",
      "Data columns (total 30 columns):\n",
      " #   Column                                                                                                    Non-Null Count  Dtype  \n",
      "---  ------                                                                                                    --------------  -----  \n",
      " 0   Are you from Jaipur?                                                                                      919 non-null    object \n",
      " 1   What is your age?                                                                                         924 non-null    float64\n",
      " 2   What is your gender?                                                                                      919 non-null    object \n",
      " 3   What is your departure address (with pincode)?                                                            871 non-null    object \n",
      " 4   What is your destination address?  (with pincode)                                                         844 non-null    object \n",
      " 5   What is your mode of transportation?                                                                      913 non-null    object \n",
      " 6   If Public Transport, Do you get seat availability easily?                                                 832 non-null    object \n",
      " 7   If personal vehicles do you find a parking space easily?                                                  858 non-null    object \n",
      " 8   How long do you wait for Public Transport?                                                                924 non-null    float64\n",
      " 9   What time do you prefer to leave your house to work/school/university/hospital?                           912 non-null    object \n",
      " 10  How much time (minutes) do you take to travel ?                                                           924 non-null    float64\n",
      " 11  What time do you prefer to leave your work/school/university/ hospital for home?                          900 non-null    object \n",
      " 12  How long time (minutes) do you travel?                                                                    924 non-null    float64\n",
      " 13  Cost of petrol                                                                                            834 non-null    object \n",
      " 14  How many toll booth are there from your house to work/school/university/ hospital?                        894 non-null    object \n",
      " 15  Could you kindly specify the tolls?                                                                       441 non-null    object \n",
      " 16  Could you kindly tell your normally driving mood during driving time?                                     856 non-null    object \n",
      " 17  How many stops during your journey time?                                                                  868 non-null    object \n",
      " 18  What type of stoppage?                                                                                    827 non-null    object \n",
      " 19  How many traffic lights do you have to pass during your travel journey ?                                  874 non-null    object \n",
      " 20  How many junctions during your travel journey?                                                            815 non-null    object \n",
      " 21  How many road blocks during your travel journey?                                                          822 non-null    object \n",
      " 22  Can you reach your destination on Time?                                                                   894 non-null    object \n",
      " 23  Can you reach your home on Time?                                                                          886 non-null    object \n",
      " 24  What is the weather condition before leaving home?                                                        877 non-null    object \n",
      " 25  When did this journey take place?                                                                         879 non-null    object \n",
      " 26  When did you travel?                                                                                      876 non-null    object \n",
      " 27  Describe how do you feel traveling in Jaipur, in one or two words. For example polluted, good, sad etc.   774 non-null    object \n",
      " 28  Travel_Date                                                                                               924 non-null    object \n",
      " 29  Travel_Time                                                                                               924 non-null    object \n",
      "dtypes: float64(4), object(26)\n",
      "memory usage: 216.7+ KB\n",
      "None\n"
     ]
    },
    {
     "name": "stderr",
     "output_type": "stream",
     "text": [
      "C:\\Users\\bhara\\AppData\\Local\\Temp\\ipykernel_11504\\1581925973.py:49: FutureWarning: A value is trying to be set on a copy of a DataFrame or Series through chained assignment using an inplace method.\n",
      "The behavior will change in pandas 3.0. This inplace method will never work because the intermediate object on which we are setting values always behaves as a copy.\n",
      "\n",
      "For example, when doing 'df[col].method(value, inplace=True)', try using 'df.method({col: value}, inplace=True)' or df[col] = df[col].method(value) instead, to perform the operation inplace on the original object.\n",
      "\n",
      "\n",
      "  df['How long do you wait for Public Transport?'].fillna(df['How long do you wait for Public Transport?'].median(),inplace=True)\n",
      "C:\\Users\\bhara\\AppData\\Local\\Temp\\ipykernel_11504\\1581925973.py:54: FutureWarning: A value is trying to be set on a copy of a DataFrame or Series through chained assignment using an inplace method.\n",
      "The behavior will change in pandas 3.0. This inplace method will never work because the intermediate object on which we are setting values always behaves as a copy.\n",
      "\n",
      "For example, when doing 'df[col].method(value, inplace=True)', try using 'df.method({col: value}, inplace=True)' or df[col] = df[col].method(value) instead, to perform the operation inplace on the original object.\n",
      "\n",
      "\n",
      "  df['How much time (minutes) do you take to travel ?'].fillna(df['How much time (minutes) do you take to travel ?'].median(), inplace = True)\n",
      "C:\\Users\\bhara\\AppData\\Local\\Temp\\ipykernel_11504\\1581925973.py:59: FutureWarning: A value is trying to be set on a copy of a DataFrame or Series through chained assignment using an inplace method.\n",
      "The behavior will change in pandas 3.0. This inplace method will never work because the intermediate object on which we are setting values always behaves as a copy.\n",
      "\n",
      "For example, when doing 'df[col].method(value, inplace=True)', try using 'df.method({col: value}, inplace=True)' or df[col] = df[col].method(value) instead, to perform the operation inplace on the original object.\n",
      "\n",
      "\n",
      "  df['How long time (minutes) do you travel?'].fillna(df['How long time (minutes) do you travel?'].median(), inplace=True)\n"
     ]
    }
   ],
   "execution_count": 108
  },
  {
   "metadata": {
    "ExecuteTime": {
     "end_time": "2025-02-01T10:18:48.675256Z",
     "start_time": "2025-02-01T10:18:48.656393Z"
    }
   },
   "cell_type": "code",
   "source": [
    "def clean_cost_of_petrol(cost_str):\n",
    "    if pd.isnull(cost_str):\n",
    "         return np.nan\n",
    "    cost_str = str(cost_str).lower().replace('₹','').replace('rs','').replace('rupees','').replace('/-','').replace('per day','').replace('per week','').strip()\n",
    "    if 'nothing' in cost_str:\n",
    "        return 0\n",
    "    if 'no cost' in cost_str:\n",
    "        return 0\n",
    "    if 'null' in cost_str:\n",
    "        return np.nan\n",
    "    try:\n",
    "      return float(cost_str)\n",
    "    except ValueError:\n",
    "        return np.nan\n",
    "df['Cost of petrol']=df['Cost of petrol'].apply(clean_cost_of_petrol)\n",
    "df['Cost of petrol']= pd.to_numeric(df['Cost of petrol'],errors = 'coerce')\n",
    "df['Cost of petrol'].fillna(df['Cost of petrol'].median(),inplace=True)\n",
    "\n",
    "print(df['Cost of petrol'].head())\n",
    "print(df.info())"
   ],
   "id": "387600a59eef1d26",
   "outputs": [
    {
     "name": "stdout",
     "output_type": "stream",
     "text": [
      "0    100.5\n",
      "1    250.0\n",
      "2     25.0\n",
      "3     10.0\n",
      "4    110.0\n",
      "Name: Cost of petrol, dtype: float64\n",
      "<class 'pandas.core.frame.DataFrame'>\n",
      "RangeIndex: 924 entries, 0 to 923\n",
      "Data columns (total 30 columns):\n",
      " #   Column                                                                                                    Non-Null Count  Dtype  \n",
      "---  ------                                                                                                    --------------  -----  \n",
      " 0   Are you from Jaipur?                                                                                      919 non-null    object \n",
      " 1   What is your age?                                                                                         924 non-null    float64\n",
      " 2   What is your gender?                                                                                      919 non-null    object \n",
      " 3   What is your departure address (with pincode)?                                                            871 non-null    object \n",
      " 4   What is your destination address?  (with pincode)                                                         844 non-null    object \n",
      " 5   What is your mode of transportation?                                                                      913 non-null    object \n",
      " 6   If Public Transport, Do you get seat availability easily?                                                 832 non-null    object \n",
      " 7   If personal vehicles do you find a parking space easily?                                                  858 non-null    object \n",
      " 8   How long do you wait for Public Transport?                                                                924 non-null    float64\n",
      " 9   What time do you prefer to leave your house to work/school/university/hospital?                           912 non-null    object \n",
      " 10  How much time (minutes) do you take to travel ?                                                           924 non-null    float64\n",
      " 11  What time do you prefer to leave your work/school/university/ hospital for home?                          900 non-null    object \n",
      " 12  How long time (minutes) do you travel?                                                                    924 non-null    float64\n",
      " 13  Cost of petrol                                                                                            924 non-null    float64\n",
      " 14  How many toll booth are there from your house to work/school/university/ hospital?                        894 non-null    object \n",
      " 15  Could you kindly specify the tolls?                                                                       441 non-null    object \n",
      " 16  Could you kindly tell your normally driving mood during driving time?                                     856 non-null    object \n",
      " 17  How many stops during your journey time?                                                                  868 non-null    object \n",
      " 18  What type of stoppage?                                                                                    827 non-null    object \n",
      " 19  How many traffic lights do you have to pass during your travel journey ?                                  874 non-null    object \n",
      " 20  How many junctions during your travel journey?                                                            815 non-null    object \n",
      " 21  How many road blocks during your travel journey?                                                          822 non-null    object \n",
      " 22  Can you reach your destination on Time?                                                                   894 non-null    object \n",
      " 23  Can you reach your home on Time?                                                                          886 non-null    object \n",
      " 24  What is the weather condition before leaving home?                                                        877 non-null    object \n",
      " 25  When did this journey take place?                                                                         879 non-null    object \n",
      " 26  When did you travel?                                                                                      876 non-null    object \n",
      " 27  Describe how do you feel traveling in Jaipur, in one or two words. For example polluted, good, sad etc.   774 non-null    object \n",
      " 28  Travel_Date                                                                                               924 non-null    object \n",
      " 29  Travel_Time                                                                                               924 non-null    object \n",
      "dtypes: float64(5), object(25)\n",
      "memory usage: 216.7+ KB\n",
      "None\n"
     ]
    },
    {
     "name": "stderr",
     "output_type": "stream",
     "text": [
      "C:\\Users\\bhara\\AppData\\Local\\Temp\\ipykernel_11504\\4171240037.py:17: FutureWarning: A value is trying to be set on a copy of a DataFrame or Series through chained assignment using an inplace method.\n",
      "The behavior will change in pandas 3.0. This inplace method will never work because the intermediate object on which we are setting values always behaves as a copy.\n",
      "\n",
      "For example, when doing 'df[col].method(value, inplace=True)', try using 'df.method({col: value}, inplace=True)' or df[col] = df[col].method(value) instead, to perform the operation inplace on the original object.\n",
      "\n",
      "\n",
      "  df['Cost of petrol'].fillna(df['Cost of petrol'].median(),inplace=True)\n"
     ]
    }
   ],
   "execution_count": 116
  },
  {
   "metadata": {
    "ExecuteTime": {
     "end_time": "2025-02-01T10:18:49.110125Z",
     "start_time": "2025-02-01T10:18:49.102037Z"
    }
   },
   "cell_type": "code",
   "source": "df['Cost of petrol'].isnull().sum()",
   "id": "f8857f5d368d06ad",
   "outputs": [
    {
     "data": {
      "text/plain": [
       "0"
      ]
     },
     "execution_count": 117,
     "metadata": {},
     "output_type": "execute_result"
    }
   ],
   "execution_count": 117
  },
  {
   "metadata": {
    "ExecuteTime": {
     "end_time": "2025-02-01T10:33:54.897356Z",
     "start_time": "2025-02-01T10:33:54.877358Z"
    }
   },
   "cell_type": "code",
   "source": [
    "def clean_toll_booth(toll):\n",
    "    if pd.isnull(toll):\n",
    "         return 0\n",
    "    if 'no' in str(toll).lower() or 'zero' in str(toll).lower() or 'none' in str(toll).lower() or 'nil' in str(toll).lower():\n",
    "        return 0\n",
    "    try:\n",
    "       return int(toll)\n",
    "    except ValueError:\n",
    "        return np.nan\n",
    "\n",
    "df['How many toll booth are there from your house to work/school/university/ hospital?'] = df['How many toll booth are there from your house to work/school/university/ hospital?'].apply(clean_toll_booth)\n",
    "df['How many toll booth are there from your house to work/school/university/ hospital?'] = pd.to_numeric(df['How many toll booth are there from your house to work/school/university/ hospital?'], errors='coerce')\n",
    "df['How many toll booth are there from your house to work/school/university/ hospital?'].fillna(0, inplace=True)\n",
    "df['Could you kindly specify the tolls?'].fillna('No Toll', inplace=True)\n",
    "\n",
    "print(df[['How many toll booth are there from your house to work/school/university/ hospital?','Could you kindly specify the tolls?']].head())\n",
    "print(df.info())"
   ],
   "id": "84becbd508a6ecaf",
   "outputs": [
    {
     "name": "stdout",
     "output_type": "stream",
     "text": [
      "   How many toll booth are there from your house to work/school/university/ hospital?  \\\n",
      "0                                                0.0                                    \n",
      "1                                                0.0                                    \n",
      "2                                                0.0                                    \n",
      "3                                                0.0                                    \n",
      "4                                                0.0                                    \n",
      "\n",
      "  Could you kindly specify the tolls?  \n",
      "0                             No Toll  \n",
      "1                             No Toll  \n",
      "2                             No Toll  \n",
      "3                             No Toll  \n",
      "4                             No Toll  \n",
      "<class 'pandas.core.frame.DataFrame'>\n",
      "RangeIndex: 924 entries, 0 to 923\n",
      "Data columns (total 30 columns):\n",
      " #   Column                                                                                                    Non-Null Count  Dtype  \n",
      "---  ------                                                                                                    --------------  -----  \n",
      " 0   Are you from Jaipur?                                                                                      919 non-null    object \n",
      " 1   What is your age?                                                                                         924 non-null    float64\n",
      " 2   What is your gender?                                                                                      919 non-null    object \n",
      " 3   What is your departure address (with pincode)?                                                            871 non-null    object \n",
      " 4   What is your destination address?  (with pincode)                                                         844 non-null    object \n",
      " 5   What is your mode of transportation?                                                                      913 non-null    object \n",
      " 6   If Public Transport, Do you get seat availability easily?                                                 832 non-null    object \n",
      " 7   If personal vehicles do you find a parking space easily?                                                  858 non-null    object \n",
      " 8   How long do you wait for Public Transport?                                                                924 non-null    float64\n",
      " 9   What time do you prefer to leave your house to work/school/university/hospital?                           912 non-null    object \n",
      " 10  How much time (minutes) do you take to travel ?                                                           924 non-null    float64\n",
      " 11  What time do you prefer to leave your work/school/university/ hospital for home?                          900 non-null    object \n",
      " 12  How long time (minutes) do you travel?                                                                    924 non-null    float64\n",
      " 13  Cost of petrol                                                                                            924 non-null    float64\n",
      " 14  How many toll booth are there from your house to work/school/university/ hospital?                        924 non-null    float64\n",
      " 15  Could you kindly specify the tolls?                                                                       924 non-null    object \n",
      " 16  Could you kindly tell your normally driving mood during driving time?                                     856 non-null    object \n",
      " 17  How many stops during your journey time?                                                                  868 non-null    object \n",
      " 18  What type of stoppage?                                                                                    827 non-null    object \n",
      " 19  How many traffic lights do you have to pass during your travel journey ?                                  874 non-null    object \n",
      " 20  How many junctions during your travel journey?                                                            815 non-null    object \n",
      " 21  How many road blocks during your travel journey?                                                          822 non-null    object \n",
      " 22  Can you reach your destination on Time?                                                                   894 non-null    object \n",
      " 23  Can you reach your home on Time?                                                                          886 non-null    object \n",
      " 24  What is the weather condition before leaving home?                                                        877 non-null    object \n",
      " 25  When did this journey take place?                                                                         879 non-null    object \n",
      " 26  When did you travel?                                                                                      876 non-null    object \n",
      " 27  Describe how do you feel traveling in Jaipur, in one or two words. For example polluted, good, sad etc.   774 non-null    object \n",
      " 28  Travel_Date                                                                                               924 non-null    object \n",
      " 29  Travel_Time                                                                                               924 non-null    object \n",
      "dtypes: float64(6), object(24)\n",
      "memory usage: 216.7+ KB\n",
      "None\n"
     ]
    },
    {
     "name": "stderr",
     "output_type": "stream",
     "text": [
      "C:\\Users\\bhara\\AppData\\Local\\Temp\\ipykernel_11504\\2484046045.py:13: FutureWarning: A value is trying to be set on a copy of a DataFrame or Series through chained assignment using an inplace method.\n",
      "The behavior will change in pandas 3.0. This inplace method will never work because the intermediate object on which we are setting values always behaves as a copy.\n",
      "\n",
      "For example, when doing 'df[col].method(value, inplace=True)', try using 'df.method({col: value}, inplace=True)' or df[col] = df[col].method(value) instead, to perform the operation inplace on the original object.\n",
      "\n",
      "\n",
      "  df['How many toll booth are there from your house to work/school/university/ hospital?'].fillna(0, inplace=True)\n",
      "C:\\Users\\bhara\\AppData\\Local\\Temp\\ipykernel_11504\\2484046045.py:14: FutureWarning: A value is trying to be set on a copy of a DataFrame or Series through chained assignment using an inplace method.\n",
      "The behavior will change in pandas 3.0. This inplace method will never work because the intermediate object on which we are setting values always behaves as a copy.\n",
      "\n",
      "For example, when doing 'df[col].method(value, inplace=True)', try using 'df.method({col: value}, inplace=True)' or df[col] = df[col].method(value) instead, to perform the operation inplace on the original object.\n",
      "\n",
      "\n",
      "  df['Could you kindly specify the tolls?'].fillna('No Toll', inplace=True)\n"
     ]
    }
   ],
   "execution_count": 136
  },
  {
   "metadata": {
    "ExecuteTime": {
     "end_time": "2025-02-01T10:33:55.210051Z",
     "start_time": "2025-02-01T10:33:55.202624Z"
    }
   },
   "cell_type": "code",
   "source": [
    "\n",
    "\n",
    "df['Modified_Toll_Booth'] = np.where(\n",
    "    df['How many toll booth are there from your house to work/school/university/ hospital?'] > 3,\n",
    "    0,\n",
    "    df['How many toll booth are there from your house to work/school/university/ hospital?']\n",
    ")\n"
   ],
   "id": "385b0709ecbc0b8e",
   "outputs": [],
   "execution_count": 137
  },
  {
   "metadata": {
    "ExecuteTime": {
     "end_time": "2025-02-01T10:33:55.409194Z",
     "start_time": "2025-02-01T10:33:55.402572Z"
    }
   },
   "cell_type": "code",
   "source": [
    "# df['Modified_Toll_Booth'].rename('')\n",
    "df.drop(columns = 'How many toll booth are there from your house to work/school/university/ hospital?', inplace=True)"
   ],
   "id": "befcfab17867cde0",
   "outputs": [],
   "execution_count": 138
  },
  {
   "metadata": {
    "ExecuteTime": {
     "end_time": "2025-02-01T10:33:55.660763Z",
     "start_time": "2025-02-01T10:33:55.639184Z"
    }
   },
   "cell_type": "code",
   "source": "df.head()",
   "id": "f91fc1fd90235ef0",
   "outputs": [
    {
     "data": {
      "text/plain": [
       "  Are you from Jaipur?  What is your age? What is your gender?  \\\n",
       "0                  Yes               19.0                 Male   \n",
       "1                  Yes               19.0               Female   \n",
       "2                  Yes               19.0                 Male   \n",
       "3                  Yes               19.0                 Male   \n",
       "4                  Yes               19.0                 Male   \n",
       "\n",
       "      What is your departure address (with pincode)?  \\\n",
       "0  2/627, Sector 2, Malviya Nagar, Jaipur, Rajast...   \n",
       "1  Flat no 201 Vatsalya Enclave Ganesh Nagar Iskc...   \n",
       "2  Swastik Villas, New Sanganer Road, Jaipur(302020)   \n",
       "3                                             305001   \n",
       "4                            24/25 sagar apartments    \n",
       "\n",
       "   What is your destination address?  (with pincode)  \\\n",
       "0  BISR, Statue Circle, C Scheme, Jaipur, Rajasth...   \n",
       "1  Birla Institute of Technology Jaipur Near Apex...   \n",
       "2          Bit Jaipur, Malviya Nagar, Jaipur(302017)   \n",
       "3                                             302017   \n",
       "4                                               Same   \n",
       "\n",
       "  What is your mode of transportation?  \\\n",
       "0                     Public Transport   \n",
       "1                        Cabs Services   \n",
       "2                          Two Wheeler   \n",
       "3                     Public Transport   \n",
       "4                          Two Wheeler   \n",
       "\n",
       "  If Public Transport, Do you get seat availability easily?    \\\n",
       "0                                                 No            \n",
       "1                                                NaN            \n",
       "2                                                 No            \n",
       "3                                                Yes            \n",
       "4                                                 No            \n",
       "\n",
       "  If personal vehicles do you find a parking space easily?  \\\n",
       "0                                                 No         \n",
       "1                                                NaN         \n",
       "2                                                Yes         \n",
       "3                                                Yes         \n",
       "4                                                Yes         \n",
       "\n",
       "   How long do you wait for Public Transport?  \\\n",
       "0                                        45.5   \n",
       "1                                        15.0   \n",
       "2                                        45.5   \n",
       "3                                        15.0   \n",
       "4                                        15.0   \n",
       "\n",
       "  What time do you prefer to leave your house to work/school/university/hospital?  \\\n",
       "0                                           09:00:00                                \n",
       "1                                           08:00:00                                \n",
       "2                                           08:00:00                                \n",
       "3                                           07:00:00                                \n",
       "4                                           08:00:00                                \n",
       "\n",
       "   ...  How many road blocks during your travel journey?  \\\n",
       "0  ...                                                 0   \n",
       "1  ...                                                 0   \n",
       "2  ...                                                 2   \n",
       "3  ...                                                 0   \n",
       "4  ...                                               NaN   \n",
       "\n",
       "  Can you reach your destination on Time?  Can you reach your home on Time?  \\\n",
       "0                                     Yes                                No   \n",
       "1                                     Yes                               Yes   \n",
       "2                                     Yes                                No   \n",
       "3                                     Yes                               Yes   \n",
       "4                                      No                               NaN   \n",
       "\n",
       "   What is the weather condition before leaving home?  \\\n",
       "0                                              Sunny    \n",
       "1                                             Cloudy    \n",
       "2                                             Cloudy    \n",
       "3                                              Sunny    \n",
       "4                                              Sunny    \n",
       "\n",
       "  When did this journey take place? When did you travel?  \\\n",
       "0                       Working Day              Weekday   \n",
       "1                       Working Day              Weekday   \n",
       "2                       Working Day              Weekday   \n",
       "3                       Working Day              Weekday   \n",
       "4                               NaN                  NaN   \n",
       "\n",
       "  Describe how do you feel traveling in Jaipur, in one or two words. For example polluted, good, sad etc.   \\\n",
       "0                                            Chaotic                                                         \n",
       "1                                       Mesmerized!                                                          \n",
       "2                                           Polluted                                                         \n",
       "3                                                NaN                                                         \n",
       "4                                                NaN                                                         \n",
       "\n",
       "  Travel_Date Travel_Time Modified_Toll_Booth  \n",
       "0  2024-12-31    09:56:27                 0.0  \n",
       "1  2024-12-31    12:35:40                 0.0  \n",
       "2  2024-12-31    12:54:10                 0.0  \n",
       "3  2024-12-31    14:49:46                 0.0  \n",
       "4  2024-12-31    14:57:22                 0.0  \n",
       "\n",
       "[5 rows x 30 columns]"
      ],
      "text/html": [
       "<div>\n",
       "<style scoped>\n",
       "    .dataframe tbody tr th:only-of-type {\n",
       "        vertical-align: middle;\n",
       "    }\n",
       "\n",
       "    .dataframe tbody tr th {\n",
       "        vertical-align: top;\n",
       "    }\n",
       "\n",
       "    .dataframe thead th {\n",
       "        text-align: right;\n",
       "    }\n",
       "</style>\n",
       "<table border=\"1\" class=\"dataframe\">\n",
       "  <thead>\n",
       "    <tr style=\"text-align: right;\">\n",
       "      <th></th>\n",
       "      <th>Are you from Jaipur?</th>\n",
       "      <th>What is your age?</th>\n",
       "      <th>What is your gender?</th>\n",
       "      <th>What is your departure address (with pincode)?</th>\n",
       "      <th>What is your destination address?  (with pincode)</th>\n",
       "      <th>What is your mode of transportation?</th>\n",
       "      <th>If Public Transport, Do you get seat availability easily?</th>\n",
       "      <th>If personal vehicles do you find a parking space easily?</th>\n",
       "      <th>How long do you wait for Public Transport?</th>\n",
       "      <th>What time do you prefer to leave your house to work/school/university/hospital?</th>\n",
       "      <th>...</th>\n",
       "      <th>How many road blocks during your travel journey?</th>\n",
       "      <th>Can you reach your destination on Time?</th>\n",
       "      <th>Can you reach your home on Time?</th>\n",
       "      <th>What is the weather condition before leaving home?</th>\n",
       "      <th>When did this journey take place?</th>\n",
       "      <th>When did you travel?</th>\n",
       "      <th>Describe how do you feel traveling in Jaipur, in one or two words. For example polluted, good, sad etc.</th>\n",
       "      <th>Travel_Date</th>\n",
       "      <th>Travel_Time</th>\n",
       "      <th>Modified_Toll_Booth</th>\n",
       "    </tr>\n",
       "  </thead>\n",
       "  <tbody>\n",
       "    <tr>\n",
       "      <th>0</th>\n",
       "      <td>Yes</td>\n",
       "      <td>19.0</td>\n",
       "      <td>Male</td>\n",
       "      <td>2/627, Sector 2, Malviya Nagar, Jaipur, Rajast...</td>\n",
       "      <td>BISR, Statue Circle, C Scheme, Jaipur, Rajasth...</td>\n",
       "      <td>Public Transport</td>\n",
       "      <td>No</td>\n",
       "      <td>No</td>\n",
       "      <td>45.5</td>\n",
       "      <td>09:00:00</td>\n",
       "      <td>...</td>\n",
       "      <td>0</td>\n",
       "      <td>Yes</td>\n",
       "      <td>No</td>\n",
       "      <td>Sunny</td>\n",
       "      <td>Working Day</td>\n",
       "      <td>Weekday</td>\n",
       "      <td>Chaotic</td>\n",
       "      <td>2024-12-31</td>\n",
       "      <td>09:56:27</td>\n",
       "      <td>0.0</td>\n",
       "    </tr>\n",
       "    <tr>\n",
       "      <th>1</th>\n",
       "      <td>Yes</td>\n",
       "      <td>19.0</td>\n",
       "      <td>Female</td>\n",
       "      <td>Flat no 201 Vatsalya Enclave Ganesh Nagar Iskc...</td>\n",
       "      <td>Birla Institute of Technology Jaipur Near Apex...</td>\n",
       "      <td>Cabs Services</td>\n",
       "      <td>NaN</td>\n",
       "      <td>NaN</td>\n",
       "      <td>15.0</td>\n",
       "      <td>08:00:00</td>\n",
       "      <td>...</td>\n",
       "      <td>0</td>\n",
       "      <td>Yes</td>\n",
       "      <td>Yes</td>\n",
       "      <td>Cloudy</td>\n",
       "      <td>Working Day</td>\n",
       "      <td>Weekday</td>\n",
       "      <td>Mesmerized!</td>\n",
       "      <td>2024-12-31</td>\n",
       "      <td>12:35:40</td>\n",
       "      <td>0.0</td>\n",
       "    </tr>\n",
       "    <tr>\n",
       "      <th>2</th>\n",
       "      <td>Yes</td>\n",
       "      <td>19.0</td>\n",
       "      <td>Male</td>\n",
       "      <td>Swastik Villas, New Sanganer Road, Jaipur(302020)</td>\n",
       "      <td>Bit Jaipur, Malviya Nagar, Jaipur(302017)</td>\n",
       "      <td>Two Wheeler</td>\n",
       "      <td>No</td>\n",
       "      <td>Yes</td>\n",
       "      <td>45.5</td>\n",
       "      <td>08:00:00</td>\n",
       "      <td>...</td>\n",
       "      <td>2</td>\n",
       "      <td>Yes</td>\n",
       "      <td>No</td>\n",
       "      <td>Cloudy</td>\n",
       "      <td>Working Day</td>\n",
       "      <td>Weekday</td>\n",
       "      <td>Polluted</td>\n",
       "      <td>2024-12-31</td>\n",
       "      <td>12:54:10</td>\n",
       "      <td>0.0</td>\n",
       "    </tr>\n",
       "    <tr>\n",
       "      <th>3</th>\n",
       "      <td>Yes</td>\n",
       "      <td>19.0</td>\n",
       "      <td>Male</td>\n",
       "      <td>305001</td>\n",
       "      <td>302017</td>\n",
       "      <td>Public Transport</td>\n",
       "      <td>Yes</td>\n",
       "      <td>Yes</td>\n",
       "      <td>15.0</td>\n",
       "      <td>07:00:00</td>\n",
       "      <td>...</td>\n",
       "      <td>0</td>\n",
       "      <td>Yes</td>\n",
       "      <td>Yes</td>\n",
       "      <td>Sunny</td>\n",
       "      <td>Working Day</td>\n",
       "      <td>Weekday</td>\n",
       "      <td>NaN</td>\n",
       "      <td>2024-12-31</td>\n",
       "      <td>14:49:46</td>\n",
       "      <td>0.0</td>\n",
       "    </tr>\n",
       "    <tr>\n",
       "      <th>4</th>\n",
       "      <td>Yes</td>\n",
       "      <td>19.0</td>\n",
       "      <td>Male</td>\n",
       "      <td>24/25 sagar apartments</td>\n",
       "      <td>Same</td>\n",
       "      <td>Two Wheeler</td>\n",
       "      <td>No</td>\n",
       "      <td>Yes</td>\n",
       "      <td>15.0</td>\n",
       "      <td>08:00:00</td>\n",
       "      <td>...</td>\n",
       "      <td>NaN</td>\n",
       "      <td>No</td>\n",
       "      <td>NaN</td>\n",
       "      <td>Sunny</td>\n",
       "      <td>NaN</td>\n",
       "      <td>NaN</td>\n",
       "      <td>NaN</td>\n",
       "      <td>2024-12-31</td>\n",
       "      <td>14:57:22</td>\n",
       "      <td>0.0</td>\n",
       "    </tr>\n",
       "  </tbody>\n",
       "</table>\n",
       "<p>5 rows × 30 columns</p>\n",
       "</div>"
      ]
     },
     "execution_count": 139,
     "metadata": {},
     "output_type": "execute_result"
    }
   ],
   "execution_count": 139
  },
  {
   "metadata": {
    "ExecuteTime": {
     "end_time": "2025-02-01T10:33:56.076420Z",
     "start_time": "2025-02-01T10:33:56.071249Z"
    }
   },
   "cell_type": "code",
   "source": "df.rename(columns={'Modified_Toll_Booth':'How many toll booth are there from your house to work/school/university/ hospital?'},inplace=True)",
   "id": "82a68e51ea5c5c50",
   "outputs": [],
   "execution_count": 140
  },
  {
   "metadata": {
    "ExecuteTime": {
     "end_time": "2025-02-01T10:33:56.365526Z",
     "start_time": "2025-02-01T10:33:56.342464Z"
    }
   },
   "cell_type": "code",
   "source": "df.head()",
   "id": "3bccc214b40bfa20",
   "outputs": [
    {
     "data": {
      "text/plain": [
       "  Are you from Jaipur?  What is your age? What is your gender?  \\\n",
       "0                  Yes               19.0                 Male   \n",
       "1                  Yes               19.0               Female   \n",
       "2                  Yes               19.0                 Male   \n",
       "3                  Yes               19.0                 Male   \n",
       "4                  Yes               19.0                 Male   \n",
       "\n",
       "      What is your departure address (with pincode)?  \\\n",
       "0  2/627, Sector 2, Malviya Nagar, Jaipur, Rajast...   \n",
       "1  Flat no 201 Vatsalya Enclave Ganesh Nagar Iskc...   \n",
       "2  Swastik Villas, New Sanganer Road, Jaipur(302020)   \n",
       "3                                             305001   \n",
       "4                            24/25 sagar apartments    \n",
       "\n",
       "   What is your destination address?  (with pincode)  \\\n",
       "0  BISR, Statue Circle, C Scheme, Jaipur, Rajasth...   \n",
       "1  Birla Institute of Technology Jaipur Near Apex...   \n",
       "2          Bit Jaipur, Malviya Nagar, Jaipur(302017)   \n",
       "3                                             302017   \n",
       "4                                               Same   \n",
       "\n",
       "  What is your mode of transportation?  \\\n",
       "0                     Public Transport   \n",
       "1                        Cabs Services   \n",
       "2                          Two Wheeler   \n",
       "3                     Public Transport   \n",
       "4                          Two Wheeler   \n",
       "\n",
       "  If Public Transport, Do you get seat availability easily?    \\\n",
       "0                                                 No            \n",
       "1                                                NaN            \n",
       "2                                                 No            \n",
       "3                                                Yes            \n",
       "4                                                 No            \n",
       "\n",
       "  If personal vehicles do you find a parking space easily?  \\\n",
       "0                                                 No         \n",
       "1                                                NaN         \n",
       "2                                                Yes         \n",
       "3                                                Yes         \n",
       "4                                                Yes         \n",
       "\n",
       "   How long do you wait for Public Transport?  \\\n",
       "0                                        45.5   \n",
       "1                                        15.0   \n",
       "2                                        45.5   \n",
       "3                                        15.0   \n",
       "4                                        15.0   \n",
       "\n",
       "  What time do you prefer to leave your house to work/school/university/hospital?  \\\n",
       "0                                           09:00:00                                \n",
       "1                                           08:00:00                                \n",
       "2                                           08:00:00                                \n",
       "3                                           07:00:00                                \n",
       "4                                           08:00:00                                \n",
       "\n",
       "   ...  How many road blocks during your travel journey?  \\\n",
       "0  ...                                                 0   \n",
       "1  ...                                                 0   \n",
       "2  ...                                                 2   \n",
       "3  ...                                                 0   \n",
       "4  ...                                               NaN   \n",
       "\n",
       "  Can you reach your destination on Time?  Can you reach your home on Time?  \\\n",
       "0                                     Yes                                No   \n",
       "1                                     Yes                               Yes   \n",
       "2                                     Yes                                No   \n",
       "3                                     Yes                               Yes   \n",
       "4                                      No                               NaN   \n",
       "\n",
       "   What is the weather condition before leaving home?  \\\n",
       "0                                              Sunny    \n",
       "1                                             Cloudy    \n",
       "2                                             Cloudy    \n",
       "3                                              Sunny    \n",
       "4                                              Sunny    \n",
       "\n",
       "  When did this journey take place? When did you travel?  \\\n",
       "0                       Working Day              Weekday   \n",
       "1                       Working Day              Weekday   \n",
       "2                       Working Day              Weekday   \n",
       "3                       Working Day              Weekday   \n",
       "4                               NaN                  NaN   \n",
       "\n",
       "  Describe how do you feel traveling in Jaipur, in one or two words. For example polluted, good, sad etc.   \\\n",
       "0                                            Chaotic                                                         \n",
       "1                                       Mesmerized!                                                          \n",
       "2                                           Polluted                                                         \n",
       "3                                                NaN                                                         \n",
       "4                                                NaN                                                         \n",
       "\n",
       "  Travel_Date Travel_Time  \\\n",
       "0  2024-12-31    09:56:27   \n",
       "1  2024-12-31    12:35:40   \n",
       "2  2024-12-31    12:54:10   \n",
       "3  2024-12-31    14:49:46   \n",
       "4  2024-12-31    14:57:22   \n",
       "\n",
       "  How many toll booth are there from your house to work/school/university/ hospital?  \n",
       "0                                                0.0                                  \n",
       "1                                                0.0                                  \n",
       "2                                                0.0                                  \n",
       "3                                                0.0                                  \n",
       "4                                                0.0                                  \n",
       "\n",
       "[5 rows x 30 columns]"
      ],
      "text/html": [
       "<div>\n",
       "<style scoped>\n",
       "    .dataframe tbody tr th:only-of-type {\n",
       "        vertical-align: middle;\n",
       "    }\n",
       "\n",
       "    .dataframe tbody tr th {\n",
       "        vertical-align: top;\n",
       "    }\n",
       "\n",
       "    .dataframe thead th {\n",
       "        text-align: right;\n",
       "    }\n",
       "</style>\n",
       "<table border=\"1\" class=\"dataframe\">\n",
       "  <thead>\n",
       "    <tr style=\"text-align: right;\">\n",
       "      <th></th>\n",
       "      <th>Are you from Jaipur?</th>\n",
       "      <th>What is your age?</th>\n",
       "      <th>What is your gender?</th>\n",
       "      <th>What is your departure address (with pincode)?</th>\n",
       "      <th>What is your destination address?  (with pincode)</th>\n",
       "      <th>What is your mode of transportation?</th>\n",
       "      <th>If Public Transport, Do you get seat availability easily?</th>\n",
       "      <th>If personal vehicles do you find a parking space easily?</th>\n",
       "      <th>How long do you wait for Public Transport?</th>\n",
       "      <th>What time do you prefer to leave your house to work/school/university/hospital?</th>\n",
       "      <th>...</th>\n",
       "      <th>How many road blocks during your travel journey?</th>\n",
       "      <th>Can you reach your destination on Time?</th>\n",
       "      <th>Can you reach your home on Time?</th>\n",
       "      <th>What is the weather condition before leaving home?</th>\n",
       "      <th>When did this journey take place?</th>\n",
       "      <th>When did you travel?</th>\n",
       "      <th>Describe how do you feel traveling in Jaipur, in one or two words. For example polluted, good, sad etc.</th>\n",
       "      <th>Travel_Date</th>\n",
       "      <th>Travel_Time</th>\n",
       "      <th>How many toll booth are there from your house to work/school/university/ hospital?</th>\n",
       "    </tr>\n",
       "  </thead>\n",
       "  <tbody>\n",
       "    <tr>\n",
       "      <th>0</th>\n",
       "      <td>Yes</td>\n",
       "      <td>19.0</td>\n",
       "      <td>Male</td>\n",
       "      <td>2/627, Sector 2, Malviya Nagar, Jaipur, Rajast...</td>\n",
       "      <td>BISR, Statue Circle, C Scheme, Jaipur, Rajasth...</td>\n",
       "      <td>Public Transport</td>\n",
       "      <td>No</td>\n",
       "      <td>No</td>\n",
       "      <td>45.5</td>\n",
       "      <td>09:00:00</td>\n",
       "      <td>...</td>\n",
       "      <td>0</td>\n",
       "      <td>Yes</td>\n",
       "      <td>No</td>\n",
       "      <td>Sunny</td>\n",
       "      <td>Working Day</td>\n",
       "      <td>Weekday</td>\n",
       "      <td>Chaotic</td>\n",
       "      <td>2024-12-31</td>\n",
       "      <td>09:56:27</td>\n",
       "      <td>0.0</td>\n",
       "    </tr>\n",
       "    <tr>\n",
       "      <th>1</th>\n",
       "      <td>Yes</td>\n",
       "      <td>19.0</td>\n",
       "      <td>Female</td>\n",
       "      <td>Flat no 201 Vatsalya Enclave Ganesh Nagar Iskc...</td>\n",
       "      <td>Birla Institute of Technology Jaipur Near Apex...</td>\n",
       "      <td>Cabs Services</td>\n",
       "      <td>NaN</td>\n",
       "      <td>NaN</td>\n",
       "      <td>15.0</td>\n",
       "      <td>08:00:00</td>\n",
       "      <td>...</td>\n",
       "      <td>0</td>\n",
       "      <td>Yes</td>\n",
       "      <td>Yes</td>\n",
       "      <td>Cloudy</td>\n",
       "      <td>Working Day</td>\n",
       "      <td>Weekday</td>\n",
       "      <td>Mesmerized!</td>\n",
       "      <td>2024-12-31</td>\n",
       "      <td>12:35:40</td>\n",
       "      <td>0.0</td>\n",
       "    </tr>\n",
       "    <tr>\n",
       "      <th>2</th>\n",
       "      <td>Yes</td>\n",
       "      <td>19.0</td>\n",
       "      <td>Male</td>\n",
       "      <td>Swastik Villas, New Sanganer Road, Jaipur(302020)</td>\n",
       "      <td>Bit Jaipur, Malviya Nagar, Jaipur(302017)</td>\n",
       "      <td>Two Wheeler</td>\n",
       "      <td>No</td>\n",
       "      <td>Yes</td>\n",
       "      <td>45.5</td>\n",
       "      <td>08:00:00</td>\n",
       "      <td>...</td>\n",
       "      <td>2</td>\n",
       "      <td>Yes</td>\n",
       "      <td>No</td>\n",
       "      <td>Cloudy</td>\n",
       "      <td>Working Day</td>\n",
       "      <td>Weekday</td>\n",
       "      <td>Polluted</td>\n",
       "      <td>2024-12-31</td>\n",
       "      <td>12:54:10</td>\n",
       "      <td>0.0</td>\n",
       "    </tr>\n",
       "    <tr>\n",
       "      <th>3</th>\n",
       "      <td>Yes</td>\n",
       "      <td>19.0</td>\n",
       "      <td>Male</td>\n",
       "      <td>305001</td>\n",
       "      <td>302017</td>\n",
       "      <td>Public Transport</td>\n",
       "      <td>Yes</td>\n",
       "      <td>Yes</td>\n",
       "      <td>15.0</td>\n",
       "      <td>07:00:00</td>\n",
       "      <td>...</td>\n",
       "      <td>0</td>\n",
       "      <td>Yes</td>\n",
       "      <td>Yes</td>\n",
       "      <td>Sunny</td>\n",
       "      <td>Working Day</td>\n",
       "      <td>Weekday</td>\n",
       "      <td>NaN</td>\n",
       "      <td>2024-12-31</td>\n",
       "      <td>14:49:46</td>\n",
       "      <td>0.0</td>\n",
       "    </tr>\n",
       "    <tr>\n",
       "      <th>4</th>\n",
       "      <td>Yes</td>\n",
       "      <td>19.0</td>\n",
       "      <td>Male</td>\n",
       "      <td>24/25 sagar apartments</td>\n",
       "      <td>Same</td>\n",
       "      <td>Two Wheeler</td>\n",
       "      <td>No</td>\n",
       "      <td>Yes</td>\n",
       "      <td>15.0</td>\n",
       "      <td>08:00:00</td>\n",
       "      <td>...</td>\n",
       "      <td>NaN</td>\n",
       "      <td>No</td>\n",
       "      <td>NaN</td>\n",
       "      <td>Sunny</td>\n",
       "      <td>NaN</td>\n",
       "      <td>NaN</td>\n",
       "      <td>NaN</td>\n",
       "      <td>2024-12-31</td>\n",
       "      <td>14:57:22</td>\n",
       "      <td>0.0</td>\n",
       "    </tr>\n",
       "  </tbody>\n",
       "</table>\n",
       "<p>5 rows × 30 columns</p>\n",
       "</div>"
      ]
     },
     "execution_count": 141,
     "metadata": {},
     "output_type": "execute_result"
    }
   ],
   "execution_count": 141
  },
  {
   "metadata": {
    "ExecuteTime": {
     "end_time": "2025-02-01T10:34:44.669618Z",
     "start_time": "2025-02-01T10:34:44.653524Z"
    }
   },
   "cell_type": "code",
   "source": [
    "df['Could you kindly tell your normally driving mood during driving time?'] = df['Could you kindly tell your normally driving mood during driving time?'].fillna('Relaxed')\n",
    "df['Could you kindly tell your normally driving mood during driving time?'] = df['Could you kindly tell your normally driving mood during driving time?'].str.title()\n",
    "print(df['Could you kindly tell your normally driving mood during driving time?'].value_counts())\n",
    "print(df.info())"
   ],
   "id": "7670ccbc75f3e166",
   "outputs": [
    {
     "name": "stdout",
     "output_type": "stream",
     "text": [
      "Could you kindly tell your normally driving mood during driving time?\n",
      "Relaxed       553\n",
      "Hurry         213\n",
      "Drive Fast     66\n",
      "Anger Mode     55\n",
      "Drive Slow     37\n",
      "Name: count, dtype: int64\n",
      "<class 'pandas.core.frame.DataFrame'>\n",
      "RangeIndex: 924 entries, 0 to 923\n",
      "Data columns (total 30 columns):\n",
      " #   Column                                                                                                    Non-Null Count  Dtype  \n",
      "---  ------                                                                                                    --------------  -----  \n",
      " 0   Are you from Jaipur?                                                                                      919 non-null    object \n",
      " 1   What is your age?                                                                                         924 non-null    float64\n",
      " 2   What is your gender?                                                                                      919 non-null    object \n",
      " 3   What is your departure address (with pincode)?                                                            871 non-null    object \n",
      " 4   What is your destination address?  (with pincode)                                                         844 non-null    object \n",
      " 5   What is your mode of transportation?                                                                      913 non-null    object \n",
      " 6   If Public Transport, Do you get seat availability easily?                                                 832 non-null    object \n",
      " 7   If personal vehicles do you find a parking space easily?                                                  858 non-null    object \n",
      " 8   How long do you wait for Public Transport?                                                                924 non-null    float64\n",
      " 9   What time do you prefer to leave your house to work/school/university/hospital?                           912 non-null    object \n",
      " 10  How much time (minutes) do you take to travel ?                                                           924 non-null    float64\n",
      " 11  What time do you prefer to leave your work/school/university/ hospital for home?                          900 non-null    object \n",
      " 12  How long time (minutes) do you travel?                                                                    924 non-null    float64\n",
      " 13  Cost of petrol                                                                                            924 non-null    float64\n",
      " 14  Could you kindly specify the tolls?                                                                       924 non-null    object \n",
      " 15  Could you kindly tell your normally driving mood during driving time?                                     924 non-null    object \n",
      " 16  How many stops during your journey time?                                                                  868 non-null    object \n",
      " 17  What type of stoppage?                                                                                    827 non-null    object \n",
      " 18  How many traffic lights do you have to pass during your travel journey ?                                  874 non-null    object \n",
      " 19  How many junctions during your travel journey?                                                            815 non-null    object \n",
      " 20  How many road blocks during your travel journey?                                                          822 non-null    object \n",
      " 21  Can you reach your destination on Time?                                                                   894 non-null    object \n",
      " 22  Can you reach your home on Time?                                                                          886 non-null    object \n",
      " 23  What is the weather condition before leaving home?                                                        877 non-null    object \n",
      " 24  When did this journey take place?                                                                         879 non-null    object \n",
      " 25  When did you travel?                                                                                      876 non-null    object \n",
      " 26  Describe how do you feel traveling in Jaipur, in one or two words. For example polluted, good, sad etc.   774 non-null    object \n",
      " 27  Travel_Date                                                                                               924 non-null    object \n",
      " 28  Travel_Time                                                                                               924 non-null    object \n",
      " 29  How many toll booth are there from your house to work/school/university/ hospital?                        924 non-null    float64\n",
      "dtypes: float64(6), object(24)\n",
      "memory usage: 216.7+ KB\n",
      "None\n"
     ]
    }
   ],
   "execution_count": 142
  },
  {
   "metadata": {
    "ExecuteTime": {
     "end_time": "2025-02-01T10:36:27.640282Z",
     "start_time": "2025-02-01T10:36:27.622355Z"
    }
   },
   "cell_type": "code",
   "source": [
    "df['What type of stoppage?'] = df['What type of stoppage?'].fillna('No Stop')\n",
    "print(df['What type of stoppage?'].value_counts())\n",
    "print(df.info())"
   ],
   "id": "2e34e534b48beed2",
   "outputs": [
    {
     "name": "stdout",
     "output_type": "stream",
     "text": [
      "What type of stoppage?\n",
      "Traffic Light                                                581\n",
      "Road Blocks                                                   97\n",
      "No Stop                                                       97\n",
      "Junctions                                                     92\n",
      "Traffic jam                                                    3\n",
      "No                                                             2\n",
      "Nothing                                                        2\n",
      "Paanwadi                                                       1\n",
      "Chai                                                           1\n",
      "Traffic light, jams , junctions                                1\n",
      "Bus Change                                                     1\n",
      "NA                                                             1\n",
      "None                                                           1\n",
      "Traffic light and road block                                   1\n",
      "CGPA                                                           1\n",
      "All                                                            1\n",
      "Traffic light, junctions, road blocks                          1\n",
      "No stop                                                        1\n",
      "I told u no one can stop me                                    1\n",
      "Stops                                                          1\n",
      "Food                                                           1\n",
      "Railway Crossing                                               1\n",
      "Other                                                          1\n",
      "Traffic                                                        1\n",
      "All of above                                                   1\n",
      "All of them                                                    1\n",
      "Railway crossing                                               1\n",
      "Railway stop                                                   1\n",
      "Non                                                            1\n",
      "no any                                                         1\n",
      "I don't follow rules                                           1\n",
      "no                                                             1\n",
      "Friends                                                        1\n",
      "Restaurants                                                    1\n",
      "Changing the song                                              1\n",
      "General areas where there are more people waiting for it       1\n",
      "jams and traffic lights                                        1\n",
      "Destination                                                    1\n",
      "Road brackegs                                                  1\n",
      "Bus stoppage                                                   1\n",
      "Traffic jams                                                   1\n",
      "College stop                                                   1\n",
      "Food restaurant                                                1\n",
      "Picking up others students or faculties                        1\n",
      "Restaurant                                                     1\n",
      "traffic light  and road blocks                                 1\n",
      "No Idea                                                        1\n",
      "Local bus stand                                                1\n",
      "Traffic lights and stops for the student or traffics           1\n",
      "Bus stand                                                      1\n",
      "collecting students from their main stops                      1\n",
      "Stops of people                                                1\n",
      "TEA STOP                                                       1\n",
      "Stoppage To board and deboard some passengers                  1\n",
      "Junction and traffic light                                     1\n",
      "Pick ups                                                       1\n",
      "-                                                              1\n",
      "Name: count, dtype: int64\n",
      "<class 'pandas.core.frame.DataFrame'>\n",
      "RangeIndex: 924 entries, 0 to 923\n",
      "Data columns (total 30 columns):\n",
      " #   Column                                                                                                    Non-Null Count  Dtype  \n",
      "---  ------                                                                                                    --------------  -----  \n",
      " 0   Are you from Jaipur?                                                                                      919 non-null    object \n",
      " 1   What is your age?                                                                                         924 non-null    float64\n",
      " 2   What is your gender?                                                                                      919 non-null    object \n",
      " 3   What is your departure address (with pincode)?                                                            871 non-null    object \n",
      " 4   What is your destination address?  (with pincode)                                                         844 non-null    object \n",
      " 5   What is your mode of transportation?                                                                      913 non-null    object \n",
      " 6   If Public Transport, Do you get seat availability easily?                                                 832 non-null    object \n",
      " 7   If personal vehicles do you find a parking space easily?                                                  858 non-null    object \n",
      " 8   How long do you wait for Public Transport?                                                                924 non-null    float64\n",
      " 9   What time do you prefer to leave your house to work/school/university/hospital?                           912 non-null    object \n",
      " 10  How much time (minutes) do you take to travel ?                                                           924 non-null    float64\n",
      " 11  What time do you prefer to leave your work/school/university/ hospital for home?                          900 non-null    object \n",
      " 12  How long time (minutes) do you travel?                                                                    924 non-null    float64\n",
      " 13  Cost of petrol                                                                                            924 non-null    float64\n",
      " 14  Could you kindly specify the tolls?                                                                       924 non-null    object \n",
      " 15  Could you kindly tell your normally driving mood during driving time?                                     924 non-null    object \n",
      " 16  How many stops during your journey time?                                                                  868 non-null    object \n",
      " 17  What type of stoppage?                                                                                    924 non-null    object \n",
      " 18  How many traffic lights do you have to pass during your travel journey ?                                  874 non-null    object \n",
      " 19  How many junctions during your travel journey?                                                            815 non-null    object \n",
      " 20  How many road blocks during your travel journey?                                                          822 non-null    object \n",
      " 21  Can you reach your destination on Time?                                                                   894 non-null    object \n",
      " 22  Can you reach your home on Time?                                                                          886 non-null    object \n",
      " 23  What is the weather condition before leaving home?                                                        877 non-null    object \n",
      " 24  When did this journey take place?                                                                         879 non-null    object \n",
      " 25  When did you travel?                                                                                      876 non-null    object \n",
      " 26  Describe how do you feel traveling in Jaipur, in one or two words. For example polluted, good, sad etc.   774 non-null    object \n",
      " 27  Travel_Date                                                                                               924 non-null    object \n",
      " 28  Travel_Time                                                                                               924 non-null    object \n",
      " 29  How many toll booth are there from your house to work/school/university/ hospital?                        924 non-null    float64\n",
      "dtypes: float64(6), object(24)\n",
      "memory usage: 216.7+ KB\n",
      "None\n"
     ]
    }
   ],
   "execution_count": 143
  },
  {
   "metadata": {
    "ExecuteTime": {
     "end_time": "2025-02-01T10:46:08.147248Z",
     "start_time": "2025-02-01T10:46:08.138880Z"
    }
   },
   "cell_type": "code",
   "source": "df['How many traffic lights do you have to pass during your travel journey ?'].value_counts()",
   "id": "a09a02ce5e26c878",
   "outputs": [
    {
     "data": {
      "text/plain": [
       "How many traffic lights do you have to pass during your travel journey ?\n",
       "3                 258\n",
       "2                 152\n",
       "0                 149\n",
       "1                 119\n",
       "5                  34\n",
       "                 ... \n",
       "More then5/6        1\n",
       "14                  1\n",
       "Not applicable      1\n",
       "Many more           1\n",
       "5 or 6              1\n",
       "Name: count, Length: 63, dtype: int64"
      ]
     },
     "execution_count": 144,
     "metadata": {},
     "output_type": "execute_result"
    }
   ],
   "execution_count": 144
  },
  {
   "metadata": {
    "ExecuteTime": {
     "end_time": "2025-02-01T10:47:24.426773Z",
     "start_time": "2025-02-01T10:47:24.418416Z"
    }
   },
   "cell_type": "code",
   "source": "df['How many junctions during your travel journey?'].value_counts()",
   "id": "c30ccbc53e4aa2e7",
   "outputs": [
    {
     "data": {
      "text/plain": [
       "How many junctions during your travel journey?\n",
       "0                                   404\n",
       "1                                   135\n",
       "2                                   111\n",
       "3                                   109\n",
       "5                                    12\n",
       "6                                     6\n",
       "4                                     6\n",
       "8                                     4\n",
       "7                                     3\n",
       "Many                                  3\n",
       "No                                    2\n",
       "10                                    2\n",
       "More than 3                           2\n",
       "9                                     2\n",
       "many                                  1\n",
       "17                                    1\n",
       "20                                    1\n",
       "No idea                               1\n",
       "Idk                                   1\n",
       "13                                    1\n",
       "easily 25-30 but sometimes 35-40      1\n",
       "don't know                            1\n",
       "12                                    1\n",
       "Depends on bus                        1\n",
       "30                                    1\n",
       "05-Jun                                1\n",
       "Gine nhi                              1\n",
       "Define junction                       1\n",
       "Name: count, dtype: int64"
      ]
     },
     "execution_count": 145,
     "metadata": {},
     "output_type": "execute_result"
    }
   ],
   "execution_count": 145
  },
  {
   "metadata": {
    "ExecuteTime": {
     "end_time": "2025-02-01T10:47:48.386933Z",
     "start_time": "2025-02-01T10:47:48.378053Z"
    }
   },
   "cell_type": "code",
   "source": "df['How many road blocks during your travel journey?'].value_counts()",
   "id": "bee8b0b890626906",
   "outputs": [
    {
     "data": {
      "text/plain": [
       "How many road blocks during your travel journey?\n",
       "0                                           340\n",
       "1                                           172\n",
       "2                                           148\n",
       "3                                           111\n",
       "5                                             7\n",
       "Many                                          4\n",
       "7                                             4\n",
       "10                                            3\n",
       "9                                             3\n",
       "8                                             2\n",
       "6                                             2\n",
       "15                                            2\n",
       "02-Mar                                        1\n",
       "Bhai yr                                       1\n",
       "30                                            1\n",
       "4                                             1\n",
       "Na                                            1\n",
       "More                                          1\n",
       "20                                            1\n",
       "More than 2                                   1\n",
       "More than 5                                   1\n",
       "sometime                                      1\n",
       "3 or more usually                             1\n",
       "More than 3                                   1\n",
       "05-Jun                                        1\n",
       "many                                          1\n",
       "Only few                                      1\n",
       "04-May                                        1\n",
       "many                                          1\n",
       "No                                            1\n",
       "Only sometimes                                1\n",
       "No idea                                       1\n",
       "No idea                                       1\n",
       "don't know                                    1\n",
       "not always but are present occasionally       1\n",
       "I told u 😡 no one can stop me                 1\n",
       "Name: count, dtype: int64"
      ]
     },
     "execution_count": 146,
     "metadata": {},
     "output_type": "execute_result"
    }
   ],
   "execution_count": 146
  },
  {
   "metadata": {
    "ExecuteTime": {
     "end_time": "2025-02-01T10:49:36.866465Z",
     "start_time": "2025-02-01T10:49:36.841025Z"
    }
   },
   "cell_type": "code",
   "source": [
    "def clean_stops(value):\n",
    "    if pd.isnull(value):\n",
    "        return 0\n",
    "\n",
    "    try:\n",
    "        return int(float(str(value).split('-')[0]))\n",
    "    except (ValueError, TypeError):\n",
    "        return 0\n",
    "\n",
    "df['How many traffic lights do you have to pass during your travel journey ?'] = df['How many traffic lights do you have to pass during your travel journey ?'].apply(clean_stops)\n",
    "df['How many traffic lights do you have to pass during your travel journey ?'] = pd.to_numeric(df['How many traffic lights do you have to pass during your travel journey ?'], errors='coerce')\n",
    "df['How many traffic lights do you have to pass during your travel journey ?'].fillna(0,inplace=True)\n",
    "\n",
    "df['How many junctions during your travel journey?'] = df['How many junctions during your travel journey?'].apply(clean_stops)\n",
    "df['How many junctions during your travel journey?'] = pd.to_numeric(df['How many junctions during your travel journey?'], errors='coerce')\n",
    "df['How many junctions during your travel journey?'].fillna(0, inplace=True)\n",
    "\n",
    "df['How many road blocks during your travel journey?'] = df['How many road blocks during your travel journey?'].apply(clean_stops)\n",
    "df['How many road blocks during your travel journey?'] = pd.to_numeric(df['How many road blocks during your travel journey?'], errors='coerce')\n",
    "df['How many road blocks during your travel journey?'].fillna(0,inplace=True)\n",
    "print(df[['How many traffic lights do you have to pass during your travel journey ?','How many junctions during your travel journey?','How many road blocks during your travel journey?']].head())\n",
    "print(df.info())"
   ],
   "id": "8812113fdd8baa0",
   "outputs": [
    {
     "name": "stdout",
     "output_type": "stream",
     "text": [
      "   How many traffic lights do you have to pass during your travel journey ?  \\\n",
      "0                                                  6                          \n",
      "1                                                  5                          \n",
      "2                                                  4                          \n",
      "3                                                  1                          \n",
      "4                                                  6                          \n",
      "\n",
      "   How many junctions during your travel journey?  \\\n",
      "0                                               0   \n",
      "1                                               0   \n",
      "2                                               5   \n",
      "3                                               0   \n",
      "4                                               0   \n",
      "\n",
      "   How many road blocks during your travel journey?  \n",
      "0                                                 0  \n",
      "1                                                 0  \n",
      "2                                                 2  \n",
      "3                                                 0  \n",
      "4                                                 0  \n",
      "<class 'pandas.core.frame.DataFrame'>\n",
      "RangeIndex: 924 entries, 0 to 923\n",
      "Data columns (total 30 columns):\n",
      " #   Column                                                                                                    Non-Null Count  Dtype  \n",
      "---  ------                                                                                                    --------------  -----  \n",
      " 0   Are you from Jaipur?                                                                                      919 non-null    object \n",
      " 1   What is your age?                                                                                         924 non-null    float64\n",
      " 2   What is your gender?                                                                                      919 non-null    object \n",
      " 3   What is your departure address (with pincode)?                                                            871 non-null    object \n",
      " 4   What is your destination address?  (with pincode)                                                         844 non-null    object \n",
      " 5   What is your mode of transportation?                                                                      913 non-null    object \n",
      " 6   If Public Transport, Do you get seat availability easily?                                                 832 non-null    object \n",
      " 7   If personal vehicles do you find a parking space easily?                                                  858 non-null    object \n",
      " 8   How long do you wait for Public Transport?                                                                924 non-null    float64\n",
      " 9   What time do you prefer to leave your house to work/school/university/hospital?                           912 non-null    object \n",
      " 10  How much time (minutes) do you take to travel ?                                                           924 non-null    float64\n",
      " 11  What time do you prefer to leave your work/school/university/ hospital for home?                          900 non-null    object \n",
      " 12  How long time (minutes) do you travel?                                                                    924 non-null    float64\n",
      " 13  Cost of petrol                                                                                            924 non-null    float64\n",
      " 14  Could you kindly specify the tolls?                                                                       924 non-null    object \n",
      " 15  Could you kindly tell your normally driving mood during driving time?                                     924 non-null    object \n",
      " 16  How many stops during your journey time?                                                                  868 non-null    object \n",
      " 17  What type of stoppage?                                                                                    924 non-null    object \n",
      " 18  How many traffic lights do you have to pass during your travel journey ?                                  924 non-null    int64  \n",
      " 19  How many junctions during your travel journey?                                                            924 non-null    int64  \n",
      " 20  How many road blocks during your travel journey?                                                          924 non-null    int64  \n",
      " 21  Can you reach your destination on Time?                                                                   894 non-null    object \n",
      " 22  Can you reach your home on Time?                                                                          886 non-null    object \n",
      " 23  What is the weather condition before leaving home?                                                        877 non-null    object \n",
      " 24  When did this journey take place?                                                                         879 non-null    object \n",
      " 25  When did you travel?                                                                                      876 non-null    object \n",
      " 26  Describe how do you feel traveling in Jaipur, in one or two words. For example polluted, good, sad etc.   774 non-null    object \n",
      " 27  Travel_Date                                                                                               924 non-null    object \n",
      " 28  Travel_Time                                                                                               924 non-null    object \n",
      " 29  How many toll booth are there from your house to work/school/university/ hospital?                        924 non-null    float64\n",
      "dtypes: float64(6), int64(3), object(21)\n",
      "memory usage: 216.7+ KB\n",
      "None\n"
     ]
    },
    {
     "name": "stderr",
     "output_type": "stream",
     "text": [
      "C:\\Users\\bhara\\AppData\\Local\\Temp\\ipykernel_11504\\1473345167.py:12: FutureWarning: A value is trying to be set on a copy of a DataFrame or Series through chained assignment using an inplace method.\n",
      "The behavior will change in pandas 3.0. This inplace method will never work because the intermediate object on which we are setting values always behaves as a copy.\n",
      "\n",
      "For example, when doing 'df[col].method(value, inplace=True)', try using 'df.method({col: value}, inplace=True)' or df[col] = df[col].method(value) instead, to perform the operation inplace on the original object.\n",
      "\n",
      "\n",
      "  df['How many traffic lights do you have to pass during your travel journey ?'].fillna(0,inplace=True)\n",
      "C:\\Users\\bhara\\AppData\\Local\\Temp\\ipykernel_11504\\1473345167.py:16: FutureWarning: A value is trying to be set on a copy of a DataFrame or Series through chained assignment using an inplace method.\n",
      "The behavior will change in pandas 3.0. This inplace method will never work because the intermediate object on which we are setting values always behaves as a copy.\n",
      "\n",
      "For example, when doing 'df[col].method(value, inplace=True)', try using 'df.method({col: value}, inplace=True)' or df[col] = df[col].method(value) instead, to perform the operation inplace on the original object.\n",
      "\n",
      "\n",
      "  df['How many junctions during your travel journey?'].fillna(0, inplace=True)\n",
      "C:\\Users\\bhara\\AppData\\Local\\Temp\\ipykernel_11504\\1473345167.py:20: FutureWarning: A value is trying to be set on a copy of a DataFrame or Series through chained assignment using an inplace method.\n",
      "The behavior will change in pandas 3.0. This inplace method will never work because the intermediate object on which we are setting values always behaves as a copy.\n",
      "\n",
      "For example, when doing 'df[col].method(value, inplace=True)', try using 'df.method({col: value}, inplace=True)' or df[col] = df[col].method(value) instead, to perform the operation inplace on the original object.\n",
      "\n",
      "\n",
      "  df['How many road blocks during your travel journey?'].fillna(0,inplace=True)\n"
     ]
    }
   ],
   "execution_count": 147
  },
  {
   "metadata": {
    "ExecuteTime": {
     "end_time": "2025-02-01T10:50:01.673696Z",
     "start_time": "2025-02-01T10:50:01.665216Z"
    }
   },
   "cell_type": "code",
   "source": "df['How many road blocks during your travel journey?'].value_counts()\n",
   "id": "5f2dce9b724f64f0",
   "outputs": [
    {
     "data": {
      "text/plain": [
       "How many road blocks during your travel journey?\n",
       "0     464\n",
       "1     172\n",
       "2     149\n",
       "3     111\n",
       "5       8\n",
       "7       4\n",
       "10      3\n",
       "9       3\n",
       "15      2\n",
       "8       2\n",
       "4       2\n",
       "6       2\n",
       "30      1\n",
       "20      1\n",
       "Name: count, dtype: int64"
      ]
     },
     "execution_count": 148,
     "metadata": {},
     "output_type": "execute_result"
    }
   ],
   "execution_count": 148
  },
  {
   "metadata": {
    "ExecuteTime": {
     "end_time": "2025-02-01T10:54:08.563887Z",
     "start_time": "2025-02-01T10:54:08.557882Z"
    }
   },
   "cell_type": "code",
   "source": [
    "print(df['How many road blocks during your travel journey?'].isnull().sum())\n",
    "print(df['How many traffic lights do you have to pass during your travel journey ?'].isnull().sum())\n",
    "print(df['How many junctions during your travel journey?'].isnull().sum())"
   ],
   "id": "7228304382b9228d",
   "outputs": [
    {
     "name": "stdout",
     "output_type": "stream",
     "text": [
      "0\n",
      "0\n",
      "0\n"
     ]
    }
   ],
   "execution_count": 152
  },
  {
   "metadata": {
    "ExecuteTime": {
     "end_time": "2025-02-01T10:53:01.308927Z",
     "start_time": "2025-02-01T10:53:01.295166Z"
    }
   },
   "cell_type": "code",
   "source": "df.info()",
   "id": "4e389fa79741ba01",
   "outputs": [
    {
     "name": "stdout",
     "output_type": "stream",
     "text": [
      "<class 'pandas.core.frame.DataFrame'>\n",
      "RangeIndex: 924 entries, 0 to 923\n",
      "Data columns (total 30 columns):\n",
      " #   Column                                                                                                    Non-Null Count  Dtype  \n",
      "---  ------                                                                                                    --------------  -----  \n",
      " 0   Are you from Jaipur?                                                                                      919 non-null    object \n",
      " 1   What is your age?                                                                                         924 non-null    float64\n",
      " 2   What is your gender?                                                                                      919 non-null    object \n",
      " 3   What is your departure address (with pincode)?                                                            871 non-null    object \n",
      " 4   What is your destination address?  (with pincode)                                                         844 non-null    object \n",
      " 5   What is your mode of transportation?                                                                      913 non-null    object \n",
      " 6   If Public Transport, Do you get seat availability easily?                                                 832 non-null    object \n",
      " 7   If personal vehicles do you find a parking space easily?                                                  858 non-null    object \n",
      " 8   How long do you wait for Public Transport?                                                                924 non-null    float64\n",
      " 9   What time do you prefer to leave your house to work/school/university/hospital?                           912 non-null    object \n",
      " 10  How much time (minutes) do you take to travel ?                                                           924 non-null    float64\n",
      " 11  What time do you prefer to leave your work/school/university/ hospital for home?                          900 non-null    object \n",
      " 12  How long time (minutes) do you travel?                                                                    924 non-null    float64\n",
      " 13  Cost of petrol                                                                                            924 non-null    float64\n",
      " 14  Could you kindly specify the tolls?                                                                       924 non-null    object \n",
      " 15  Could you kindly tell your normally driving mood during driving time?                                     924 non-null    object \n",
      " 16  How many stops during your journey time?                                                                  868 non-null    object \n",
      " 17  What type of stoppage?                                                                                    924 non-null    object \n",
      " 18  How many traffic lights do you have to pass during your travel journey ?                                  924 non-null    int64  \n",
      " 19  How many junctions during your travel journey?                                                            924 non-null    int64  \n",
      " 20  How many road blocks during your travel journey?                                                          924 non-null    int64  \n",
      " 21  Can you reach your destination on Time?                                                                   894 non-null    object \n",
      " 22  Can you reach your home on Time?                                                                          886 non-null    object \n",
      " 23  What is the weather condition before leaving home?                                                        877 non-null    object \n",
      " 24  When did this journey take place?                                                                         879 non-null    object \n",
      " 25  When did you travel?                                                                                      876 non-null    object \n",
      " 26  Describe how do you feel traveling in Jaipur, in one or two words. For example polluted, good, sad etc.   774 non-null    object \n",
      " 27  Travel_Date                                                                                               924 non-null    object \n",
      " 28  Travel_Time                                                                                               924 non-null    object \n",
      " 29  How many toll booth are there from your house to work/school/university/ hospital?                        924 non-null    float64\n",
      "dtypes: float64(6), int64(3), object(21)\n",
      "memory usage: 216.7+ KB\n"
     ]
    }
   ],
   "execution_count": 151
  },
  {
   "metadata": {
    "ExecuteTime": {
     "end_time": "2025-02-01T10:58:45.281059Z",
     "start_time": "2025-02-01T10:58:45.259988Z"
    }
   },
   "cell_type": "code",
   "source": [
    "df['Can you reach your destination on Time?'] = df['Can you reach your destination on Time?'].replace({'Yes': True, 'No': False}).fillna(False)\n",
    "df['Can you reach your home on Time?'] = df['Can you reach your home on Time?'].replace({'Yes': True, 'No': False}).fillna(False)\n",
    "\n",
    "print(df[['Can you reach your destination on Time?','Can you reach your home on Time?']].head())\n",
    "print(df.info())"
   ],
   "id": "e9db00d9ced55809",
   "outputs": [
    {
     "name": "stdout",
     "output_type": "stream",
     "text": [
      "   Can you reach your destination on Time?  Can you reach your home on Time?\n",
      "0                                     True                             False\n",
      "1                                     True                              True\n",
      "2                                     True                             False\n",
      "3                                     True                              True\n",
      "4                                    False                             False\n",
      "<class 'pandas.core.frame.DataFrame'>\n",
      "RangeIndex: 924 entries, 0 to 923\n",
      "Data columns (total 30 columns):\n",
      " #   Column                                                                                                    Non-Null Count  Dtype  \n",
      "---  ------                                                                                                    --------------  -----  \n",
      " 0   Are you from Jaipur?                                                                                      919 non-null    object \n",
      " 1   What is your age?                                                                                         924 non-null    float64\n",
      " 2   What is your gender?                                                                                      919 non-null    object \n",
      " 3   What is your departure address (with pincode)?                                                            871 non-null    object \n",
      " 4   What is your destination address?  (with pincode)                                                         844 non-null    object \n",
      " 5   What is your mode of transportation?                                                                      913 non-null    object \n",
      " 6   If Public Transport, Do you get seat availability easily?                                                 832 non-null    object \n",
      " 7   If personal vehicles do you find a parking space easily?                                                  858 non-null    object \n",
      " 8   How long do you wait for Public Transport?                                                                924 non-null    float64\n",
      " 9   What time do you prefer to leave your house to work/school/university/hospital?                           912 non-null    object \n",
      " 10  How much time (minutes) do you take to travel ?                                                           924 non-null    float64\n",
      " 11  What time do you prefer to leave your work/school/university/ hospital for home?                          900 non-null    object \n",
      " 12  How long time (minutes) do you travel?                                                                    924 non-null    float64\n",
      " 13  Cost of petrol                                                                                            924 non-null    float64\n",
      " 14  Could you kindly specify the tolls?                                                                       924 non-null    object \n",
      " 15  Could you kindly tell your normally driving mood during driving time?                                     924 non-null    object \n",
      " 16  How many stops during your journey time?                                                                  868 non-null    object \n",
      " 17  What type of stoppage?                                                                                    924 non-null    object \n",
      " 18  How many traffic lights do you have to pass during your travel journey ?                                  924 non-null    int64  \n",
      " 19  How many junctions during your travel journey?                                                            924 non-null    int64  \n",
      " 20  How many road blocks during your travel journey?                                                          924 non-null    int64  \n",
      " 21  Can you reach your destination on Time?                                                                   924 non-null    bool   \n",
      " 22  Can you reach your home on Time?                                                                          924 non-null    bool   \n",
      " 23  What is the weather condition before leaving home?                                                        877 non-null    object \n",
      " 24  When did this journey take place?                                                                         879 non-null    object \n",
      " 25  When did you travel?                                                                                      876 non-null    object \n",
      " 26  Describe how do you feel traveling in Jaipur, in one or two words. For example polluted, good, sad etc.   774 non-null    object \n",
      " 27  Travel_Date                                                                                               924 non-null    object \n",
      " 28  Travel_Time                                                                                               924 non-null    object \n",
      " 29  How many toll booth are there from your house to work/school/university/ hospital?                        924 non-null    float64\n",
      "dtypes: bool(2), float64(6), int64(3), object(19)\n",
      "memory usage: 204.1+ KB\n",
      "None\n"
     ]
    },
    {
     "name": "stderr",
     "output_type": "stream",
     "text": [
      "C:\\Users\\bhara\\AppData\\Local\\Temp\\ipykernel_11504\\437428785.py:1: FutureWarning: Downcasting object dtype arrays on .fillna, .ffill, .bfill is deprecated and will change in a future version. Call result.infer_objects(copy=False) instead. To opt-in to the future behavior, set `pd.set_option('future.no_silent_downcasting', True)`\n",
      "  df['Can you reach your destination on Time?'] = df['Can you reach your destination on Time?'].replace({'Yes': True, 'No': False}).fillna(False)\n",
      "C:\\Users\\bhara\\AppData\\Local\\Temp\\ipykernel_11504\\437428785.py:2: FutureWarning: Downcasting object dtype arrays on .fillna, .ffill, .bfill is deprecated and will change in a future version. Call result.infer_objects(copy=False) instead. To opt-in to the future behavior, set `pd.set_option('future.no_silent_downcasting', True)`\n",
      "  df['Can you reach your home on Time?'] = df['Can you reach your home on Time?'].replace({'Yes': True, 'No': False}).fillna(False)\n"
     ]
    }
   ],
   "execution_count": 155
  },
  {
   "metadata": {
    "ExecuteTime": {
     "end_time": "2025-02-01T10:58:48.426913Z",
     "start_time": "2025-02-01T10:58:48.407931Z"
    }
   },
   "cell_type": "code",
   "source": "df.head()",
   "id": "e976a569e23d4d76",
   "outputs": [
    {
     "data": {
      "text/plain": [
       "  Are you from Jaipur?  What is your age? What is your gender?  \\\n",
       "0                  Yes               19.0                 Male   \n",
       "1                  Yes               19.0               Female   \n",
       "2                  Yes               19.0                 Male   \n",
       "3                  Yes               19.0                 Male   \n",
       "4                  Yes               19.0                 Male   \n",
       "\n",
       "      What is your departure address (with pincode)?  \\\n",
       "0  2/627, Sector 2, Malviya Nagar, Jaipur, Rajast...   \n",
       "1  Flat no 201 Vatsalya Enclave Ganesh Nagar Iskc...   \n",
       "2  Swastik Villas, New Sanganer Road, Jaipur(302020)   \n",
       "3                                             305001   \n",
       "4                            24/25 sagar apartments    \n",
       "\n",
       "   What is your destination address?  (with pincode)  \\\n",
       "0  BISR, Statue Circle, C Scheme, Jaipur, Rajasth...   \n",
       "1  Birla Institute of Technology Jaipur Near Apex...   \n",
       "2          Bit Jaipur, Malviya Nagar, Jaipur(302017)   \n",
       "3                                             302017   \n",
       "4                                               Same   \n",
       "\n",
       "  What is your mode of transportation?  \\\n",
       "0                     Public Transport   \n",
       "1                        Cabs Services   \n",
       "2                          Two Wheeler   \n",
       "3                     Public Transport   \n",
       "4                          Two Wheeler   \n",
       "\n",
       "  If Public Transport, Do you get seat availability easily?    \\\n",
       "0                                                 No            \n",
       "1                                                NaN            \n",
       "2                                                 No            \n",
       "3                                                Yes            \n",
       "4                                                 No            \n",
       "\n",
       "  If personal vehicles do you find a parking space easily?  \\\n",
       "0                                                 No         \n",
       "1                                                NaN         \n",
       "2                                                Yes         \n",
       "3                                                Yes         \n",
       "4                                                Yes         \n",
       "\n",
       "   How long do you wait for Public Transport?  \\\n",
       "0                                        45.5   \n",
       "1                                        15.0   \n",
       "2                                        45.5   \n",
       "3                                        15.0   \n",
       "4                                        15.0   \n",
       "\n",
       "  What time do you prefer to leave your house to work/school/university/hospital?  \\\n",
       "0                                           09:00:00                                \n",
       "1                                           08:00:00                                \n",
       "2                                           08:00:00                                \n",
       "3                                           07:00:00                                \n",
       "4                                           08:00:00                                \n",
       "\n",
       "   ...  How many road blocks during your travel journey?  \\\n",
       "0  ...                                                 0   \n",
       "1  ...                                                 0   \n",
       "2  ...                                                 2   \n",
       "3  ...                                                 0   \n",
       "4  ...                                                 0   \n",
       "\n",
       "  Can you reach your destination on Time?  Can you reach your home on Time?  \\\n",
       "0                                    True                             False   \n",
       "1                                    True                              True   \n",
       "2                                    True                             False   \n",
       "3                                    True                              True   \n",
       "4                                   False                             False   \n",
       "\n",
       "   What is the weather condition before leaving home?  \\\n",
       "0                                              Sunny    \n",
       "1                                             Cloudy    \n",
       "2                                             Cloudy    \n",
       "3                                              Sunny    \n",
       "4                                              Sunny    \n",
       "\n",
       "  When did this journey take place? When did you travel?  \\\n",
       "0                       Working Day              Weekday   \n",
       "1                       Working Day              Weekday   \n",
       "2                       Working Day              Weekday   \n",
       "3                       Working Day              Weekday   \n",
       "4                               NaN                  NaN   \n",
       "\n",
       "  Describe how do you feel traveling in Jaipur, in one or two words. For example polluted, good, sad etc.   \\\n",
       "0                                            Chaotic                                                         \n",
       "1                                       Mesmerized!                                                          \n",
       "2                                           Polluted                                                         \n",
       "3                                                NaN                                                         \n",
       "4                                                NaN                                                         \n",
       "\n",
       "  Travel_Date  Travel_Time  \\\n",
       "0  2024-12-31     09:56:27   \n",
       "1  2024-12-31     12:35:40   \n",
       "2  2024-12-31     12:54:10   \n",
       "3  2024-12-31     14:49:46   \n",
       "4  2024-12-31     14:57:22   \n",
       "\n",
       "   How many toll booth are there from your house to work/school/university/ hospital?  \n",
       "0                                                0.0                                   \n",
       "1                                                0.0                                   \n",
       "2                                                0.0                                   \n",
       "3                                                0.0                                   \n",
       "4                                                0.0                                   \n",
       "\n",
       "[5 rows x 30 columns]"
      ],
      "text/html": [
       "<div>\n",
       "<style scoped>\n",
       "    .dataframe tbody tr th:only-of-type {\n",
       "        vertical-align: middle;\n",
       "    }\n",
       "\n",
       "    .dataframe tbody tr th {\n",
       "        vertical-align: top;\n",
       "    }\n",
       "\n",
       "    .dataframe thead th {\n",
       "        text-align: right;\n",
       "    }\n",
       "</style>\n",
       "<table border=\"1\" class=\"dataframe\">\n",
       "  <thead>\n",
       "    <tr style=\"text-align: right;\">\n",
       "      <th></th>\n",
       "      <th>Are you from Jaipur?</th>\n",
       "      <th>What is your age?</th>\n",
       "      <th>What is your gender?</th>\n",
       "      <th>What is your departure address (with pincode)?</th>\n",
       "      <th>What is your destination address?  (with pincode)</th>\n",
       "      <th>What is your mode of transportation?</th>\n",
       "      <th>If Public Transport, Do you get seat availability easily?</th>\n",
       "      <th>If personal vehicles do you find a parking space easily?</th>\n",
       "      <th>How long do you wait for Public Transport?</th>\n",
       "      <th>What time do you prefer to leave your house to work/school/university/hospital?</th>\n",
       "      <th>...</th>\n",
       "      <th>How many road blocks during your travel journey?</th>\n",
       "      <th>Can you reach your destination on Time?</th>\n",
       "      <th>Can you reach your home on Time?</th>\n",
       "      <th>What is the weather condition before leaving home?</th>\n",
       "      <th>When did this journey take place?</th>\n",
       "      <th>When did you travel?</th>\n",
       "      <th>Describe how do you feel traveling in Jaipur, in one or two words. For example polluted, good, sad etc.</th>\n",
       "      <th>Travel_Date</th>\n",
       "      <th>Travel_Time</th>\n",
       "      <th>How many toll booth are there from your house to work/school/university/ hospital?</th>\n",
       "    </tr>\n",
       "  </thead>\n",
       "  <tbody>\n",
       "    <tr>\n",
       "      <th>0</th>\n",
       "      <td>Yes</td>\n",
       "      <td>19.0</td>\n",
       "      <td>Male</td>\n",
       "      <td>2/627, Sector 2, Malviya Nagar, Jaipur, Rajast...</td>\n",
       "      <td>BISR, Statue Circle, C Scheme, Jaipur, Rajasth...</td>\n",
       "      <td>Public Transport</td>\n",
       "      <td>No</td>\n",
       "      <td>No</td>\n",
       "      <td>45.5</td>\n",
       "      <td>09:00:00</td>\n",
       "      <td>...</td>\n",
       "      <td>0</td>\n",
       "      <td>True</td>\n",
       "      <td>False</td>\n",
       "      <td>Sunny</td>\n",
       "      <td>Working Day</td>\n",
       "      <td>Weekday</td>\n",
       "      <td>Chaotic</td>\n",
       "      <td>2024-12-31</td>\n",
       "      <td>09:56:27</td>\n",
       "      <td>0.0</td>\n",
       "    </tr>\n",
       "    <tr>\n",
       "      <th>1</th>\n",
       "      <td>Yes</td>\n",
       "      <td>19.0</td>\n",
       "      <td>Female</td>\n",
       "      <td>Flat no 201 Vatsalya Enclave Ganesh Nagar Iskc...</td>\n",
       "      <td>Birla Institute of Technology Jaipur Near Apex...</td>\n",
       "      <td>Cabs Services</td>\n",
       "      <td>NaN</td>\n",
       "      <td>NaN</td>\n",
       "      <td>15.0</td>\n",
       "      <td>08:00:00</td>\n",
       "      <td>...</td>\n",
       "      <td>0</td>\n",
       "      <td>True</td>\n",
       "      <td>True</td>\n",
       "      <td>Cloudy</td>\n",
       "      <td>Working Day</td>\n",
       "      <td>Weekday</td>\n",
       "      <td>Mesmerized!</td>\n",
       "      <td>2024-12-31</td>\n",
       "      <td>12:35:40</td>\n",
       "      <td>0.0</td>\n",
       "    </tr>\n",
       "    <tr>\n",
       "      <th>2</th>\n",
       "      <td>Yes</td>\n",
       "      <td>19.0</td>\n",
       "      <td>Male</td>\n",
       "      <td>Swastik Villas, New Sanganer Road, Jaipur(302020)</td>\n",
       "      <td>Bit Jaipur, Malviya Nagar, Jaipur(302017)</td>\n",
       "      <td>Two Wheeler</td>\n",
       "      <td>No</td>\n",
       "      <td>Yes</td>\n",
       "      <td>45.5</td>\n",
       "      <td>08:00:00</td>\n",
       "      <td>...</td>\n",
       "      <td>2</td>\n",
       "      <td>True</td>\n",
       "      <td>False</td>\n",
       "      <td>Cloudy</td>\n",
       "      <td>Working Day</td>\n",
       "      <td>Weekday</td>\n",
       "      <td>Polluted</td>\n",
       "      <td>2024-12-31</td>\n",
       "      <td>12:54:10</td>\n",
       "      <td>0.0</td>\n",
       "    </tr>\n",
       "    <tr>\n",
       "      <th>3</th>\n",
       "      <td>Yes</td>\n",
       "      <td>19.0</td>\n",
       "      <td>Male</td>\n",
       "      <td>305001</td>\n",
       "      <td>302017</td>\n",
       "      <td>Public Transport</td>\n",
       "      <td>Yes</td>\n",
       "      <td>Yes</td>\n",
       "      <td>15.0</td>\n",
       "      <td>07:00:00</td>\n",
       "      <td>...</td>\n",
       "      <td>0</td>\n",
       "      <td>True</td>\n",
       "      <td>True</td>\n",
       "      <td>Sunny</td>\n",
       "      <td>Working Day</td>\n",
       "      <td>Weekday</td>\n",
       "      <td>NaN</td>\n",
       "      <td>2024-12-31</td>\n",
       "      <td>14:49:46</td>\n",
       "      <td>0.0</td>\n",
       "    </tr>\n",
       "    <tr>\n",
       "      <th>4</th>\n",
       "      <td>Yes</td>\n",
       "      <td>19.0</td>\n",
       "      <td>Male</td>\n",
       "      <td>24/25 sagar apartments</td>\n",
       "      <td>Same</td>\n",
       "      <td>Two Wheeler</td>\n",
       "      <td>No</td>\n",
       "      <td>Yes</td>\n",
       "      <td>15.0</td>\n",
       "      <td>08:00:00</td>\n",
       "      <td>...</td>\n",
       "      <td>0</td>\n",
       "      <td>False</td>\n",
       "      <td>False</td>\n",
       "      <td>Sunny</td>\n",
       "      <td>NaN</td>\n",
       "      <td>NaN</td>\n",
       "      <td>NaN</td>\n",
       "      <td>2024-12-31</td>\n",
       "      <td>14:57:22</td>\n",
       "      <td>0.0</td>\n",
       "    </tr>\n",
       "  </tbody>\n",
       "</table>\n",
       "<p>5 rows × 30 columns</p>\n",
       "</div>"
      ]
     },
     "execution_count": 156,
     "metadata": {},
     "output_type": "execute_result"
    }
   ],
   "execution_count": 156
  },
  {
   "metadata": {
    "ExecuteTime": {
     "end_time": "2025-02-01T11:00:46.661135Z",
     "start_time": "2025-02-01T11:00:46.653665Z"
    }
   },
   "cell_type": "code",
   "source": [
    "print(df['What is the weather condition before leaving home?'].value_counts())\n",
    "print(df['What is the weather condition before leaving home?'].isnull().sum())\n"
   ],
   "id": "48b0af3338693855",
   "outputs": [
    {
     "name": "stdout",
     "output_type": "stream",
     "text": [
      "What is the weather condition before leaving home?\n",
      "Sunny     498\n",
      "Cloudy    316\n",
      "Rainy      63\n",
      "Name: count, dtype: int64\n",
      "47\n"
     ]
    }
   ],
   "execution_count": 159
  },
  {
   "metadata": {
    "ExecuteTime": {
     "end_time": "2025-02-01T11:01:02.658998Z",
     "start_time": "2025-02-01T11:01:02.643397Z"
    }
   },
   "cell_type": "code",
   "source": [
    "df['What is the weather condition before leaving home?'] = df['What is the weather condition before leaving home?'].fillna('Sunny')\n",
    "print(df['What is the weather condition before leaving home?'].value_counts())\n",
    "print(df.info())"
   ],
   "id": "71a494d78947e491",
   "outputs": [
    {
     "name": "stdout",
     "output_type": "stream",
     "text": [
      "What is the weather condition before leaving home?\n",
      "Sunny     545\n",
      "Cloudy    316\n",
      "Rainy      63\n",
      "Name: count, dtype: int64\n",
      "<class 'pandas.core.frame.DataFrame'>\n",
      "RangeIndex: 924 entries, 0 to 923\n",
      "Data columns (total 30 columns):\n",
      " #   Column                                                                                                    Non-Null Count  Dtype  \n",
      "---  ------                                                                                                    --------------  -----  \n",
      " 0   Are you from Jaipur?                                                                                      919 non-null    object \n",
      " 1   What is your age?                                                                                         924 non-null    float64\n",
      " 2   What is your gender?                                                                                      919 non-null    object \n",
      " 3   What is your departure address (with pincode)?                                                            871 non-null    object \n",
      " 4   What is your destination address?  (with pincode)                                                         844 non-null    object \n",
      " 5   What is your mode of transportation?                                                                      913 non-null    object \n",
      " 6   If Public Transport, Do you get seat availability easily?                                                 832 non-null    object \n",
      " 7   If personal vehicles do you find a parking space easily?                                                  858 non-null    object \n",
      " 8   How long do you wait for Public Transport?                                                                924 non-null    float64\n",
      " 9   What time do you prefer to leave your house to work/school/university/hospital?                           912 non-null    object \n",
      " 10  How much time (minutes) do you take to travel ?                                                           924 non-null    float64\n",
      " 11  What time do you prefer to leave your work/school/university/ hospital for home?                          900 non-null    object \n",
      " 12  How long time (minutes) do you travel?                                                                    924 non-null    float64\n",
      " 13  Cost of petrol                                                                                            924 non-null    float64\n",
      " 14  Could you kindly specify the tolls?                                                                       924 non-null    object \n",
      " 15  Could you kindly tell your normally driving mood during driving time?                                     924 non-null    object \n",
      " 16  How many stops during your journey time?                                                                  868 non-null    object \n",
      " 17  What type of stoppage?                                                                                    924 non-null    object \n",
      " 18  How many traffic lights do you have to pass during your travel journey ?                                  924 non-null    int64  \n",
      " 19  How many junctions during your travel journey?                                                            924 non-null    int64  \n",
      " 20  How many road blocks during your travel journey?                                                          924 non-null    int64  \n",
      " 21  Can you reach your destination on Time?                                                                   924 non-null    bool   \n",
      " 22  Can you reach your home on Time?                                                                          924 non-null    bool   \n",
      " 23  What is the weather condition before leaving home?                                                        924 non-null    object \n",
      " 24  When did this journey take place?                                                                         879 non-null    object \n",
      " 25  When did you travel?                                                                                      876 non-null    object \n",
      " 26  Describe how do you feel traveling in Jaipur, in one or two words. For example polluted, good, sad etc.   774 non-null    object \n",
      " 27  Travel_Date                                                                                               924 non-null    object \n",
      " 28  Travel_Time                                                                                               924 non-null    object \n",
      " 29  How many toll booth are there from your house to work/school/university/ hospital?                        924 non-null    float64\n",
      "dtypes: bool(2), float64(6), int64(3), object(19)\n",
      "memory usage: 204.1+ KB\n",
      "None\n"
     ]
    }
   ],
   "execution_count": 160
  },
  {
   "metadata": {
    "ExecuteTime": {
     "end_time": "2025-02-01T11:02:26.719861Z",
     "start_time": "2025-02-01T11:02:26.712699Z"
    }
   },
   "cell_type": "code",
   "source": [
    "print(df['When did this journey take place?'].value_counts())\n",
    "print(df['When did this journey take place?'].isnull().sum())"
   ],
   "id": "8aa83727722bb7cf",
   "outputs": [
    {
     "name": "stdout",
     "output_type": "stream",
     "text": [
      "When did this journey take place?\n",
      "Working Day    712\n",
      "Holiday        167\n",
      "Name: count, dtype: int64\n",
      "45\n"
     ]
    }
   ],
   "execution_count": 162
  },
  {
   "metadata": {
    "ExecuteTime": {
     "end_time": "2025-02-01T11:02:32.043160Z",
     "start_time": "2025-02-01T11:02:32.031093Z"
    }
   },
   "cell_type": "code",
   "source": [
    "df['When did this journey take place?'].fillna('Working Day', inplace=True)\n",
    "print(df['When did this journey take place?'].value_counts())\n",
    "print(df.info())"
   ],
   "id": "84ae07ebd3c279c6",
   "outputs": [
    {
     "name": "stdout",
     "output_type": "stream",
     "text": [
      "When did this journey take place?\n",
      "Working Day    757\n",
      "Holiday        167\n",
      "Name: count, dtype: int64\n",
      "<class 'pandas.core.frame.DataFrame'>\n",
      "RangeIndex: 924 entries, 0 to 923\n",
      "Data columns (total 30 columns):\n",
      " #   Column                                                                                                    Non-Null Count  Dtype  \n",
      "---  ------                                                                                                    --------------  -----  \n",
      " 0   Are you from Jaipur?                                                                                      919 non-null    object \n",
      " 1   What is your age?                                                                                         924 non-null    float64\n",
      " 2   What is your gender?                                                                                      919 non-null    object \n",
      " 3   What is your departure address (with pincode)?                                                            871 non-null    object \n",
      " 4   What is your destination address?  (with pincode)                                                         844 non-null    object \n",
      " 5   What is your mode of transportation?                                                                      913 non-null    object \n",
      " 6   If Public Transport, Do you get seat availability easily?                                                 832 non-null    object \n",
      " 7   If personal vehicles do you find a parking space easily?                                                  858 non-null    object \n",
      " 8   How long do you wait for Public Transport?                                                                924 non-null    float64\n",
      " 9   What time do you prefer to leave your house to work/school/university/hospital?                           912 non-null    object \n",
      " 10  How much time (minutes) do you take to travel ?                                                           924 non-null    float64\n",
      " 11  What time do you prefer to leave your work/school/university/ hospital for home?                          900 non-null    object \n",
      " 12  How long time (minutes) do you travel?                                                                    924 non-null    float64\n",
      " 13  Cost of petrol                                                                                            924 non-null    float64\n",
      " 14  Could you kindly specify the tolls?                                                                       924 non-null    object \n",
      " 15  Could you kindly tell your normally driving mood during driving time?                                     924 non-null    object \n",
      " 16  How many stops during your journey time?                                                                  868 non-null    object \n",
      " 17  What type of stoppage?                                                                                    924 non-null    object \n",
      " 18  How many traffic lights do you have to pass during your travel journey ?                                  924 non-null    int64  \n",
      " 19  How many junctions during your travel journey?                                                            924 non-null    int64  \n",
      " 20  How many road blocks during your travel journey?                                                          924 non-null    int64  \n",
      " 21  Can you reach your destination on Time?                                                                   924 non-null    bool   \n",
      " 22  Can you reach your home on Time?                                                                          924 non-null    bool   \n",
      " 23  What is the weather condition before leaving home?                                                        924 non-null    object \n",
      " 24  When did this journey take place?                                                                         924 non-null    object \n",
      " 25  When did you travel?                                                                                      876 non-null    object \n",
      " 26  Describe how do you feel traveling in Jaipur, in one or two words. For example polluted, good, sad etc.   774 non-null    object \n",
      " 27  Travel_Date                                                                                               924 non-null    object \n",
      " 28  Travel_Time                                                                                               924 non-null    object \n",
      " 29  How many toll booth are there from your house to work/school/university/ hospital?                        924 non-null    float64\n",
      "dtypes: bool(2), float64(6), int64(3), object(19)\n",
      "memory usage: 204.1+ KB\n",
      "None\n"
     ]
    },
    {
     "name": "stderr",
     "output_type": "stream",
     "text": [
      "C:\\Users\\bhara\\AppData\\Local\\Temp\\ipykernel_11504\\1752649382.py:1: FutureWarning: A value is trying to be set on a copy of a DataFrame or Series through chained assignment using an inplace method.\n",
      "The behavior will change in pandas 3.0. This inplace method will never work because the intermediate object on which we are setting values always behaves as a copy.\n",
      "\n",
      "For example, when doing 'df[col].method(value, inplace=True)', try using 'df.method({col: value}, inplace=True)' or df[col] = df[col].method(value) instead, to perform the operation inplace on the original object.\n",
      "\n",
      "\n",
      "  df['When did this journey take place?'].fillna('Working Day', inplace=True)\n"
     ]
    }
   ],
   "execution_count": 163
  },
  {
   "metadata": {
    "ExecuteTime": {
     "end_time": "2025-02-01T11:03:14.232668Z",
     "start_time": "2025-02-01T11:03:14.225666Z"
    }
   },
   "cell_type": "code",
   "source": [
    "print(df['When did you travel?'].value_counts())\n",
    "print(df['When did you travel?'].isnull().sum())"
   ],
   "id": "360ce5ca5d1934a8",
   "outputs": [
    {
     "name": "stdout",
     "output_type": "stream",
     "text": [
      "When did you travel?\n",
      "Weekday    692\n",
      "Weekend    184\n",
      "Name: count, dtype: int64\n",
      "48\n"
     ]
    }
   ],
   "execution_count": 164
  },
  {
   "metadata": {
    "ExecuteTime": {
     "end_time": "2025-02-01T11:03:25.189352Z",
     "start_time": "2025-02-01T11:03:25.173951Z"
    }
   },
   "cell_type": "code",
   "source": [
    "df['When did you travel?'] = df['When did you travel?'].fillna('Weekday')\n",
    "print(df['When did you travel?'].value_counts())\n",
    "print(df.info())"
   ],
   "id": "f562705e793af872",
   "outputs": [
    {
     "name": "stdout",
     "output_type": "stream",
     "text": [
      "When did you travel?\n",
      "Weekday    740\n",
      "Weekend    184\n",
      "Name: count, dtype: int64\n",
      "<class 'pandas.core.frame.DataFrame'>\n",
      "RangeIndex: 924 entries, 0 to 923\n",
      "Data columns (total 30 columns):\n",
      " #   Column                                                                                                    Non-Null Count  Dtype  \n",
      "---  ------                                                                                                    --------------  -----  \n",
      " 0   Are you from Jaipur?                                                                                      919 non-null    object \n",
      " 1   What is your age?                                                                                         924 non-null    float64\n",
      " 2   What is your gender?                                                                                      919 non-null    object \n",
      " 3   What is your departure address (with pincode)?                                                            871 non-null    object \n",
      " 4   What is your destination address?  (with pincode)                                                         844 non-null    object \n",
      " 5   What is your mode of transportation?                                                                      913 non-null    object \n",
      " 6   If Public Transport, Do you get seat availability easily?                                                 832 non-null    object \n",
      " 7   If personal vehicles do you find a parking space easily?                                                  858 non-null    object \n",
      " 8   How long do you wait for Public Transport?                                                                924 non-null    float64\n",
      " 9   What time do you prefer to leave your house to work/school/university/hospital?                           912 non-null    object \n",
      " 10  How much time (minutes) do you take to travel ?                                                           924 non-null    float64\n",
      " 11  What time do you prefer to leave your work/school/university/ hospital for home?                          900 non-null    object \n",
      " 12  How long time (minutes) do you travel?                                                                    924 non-null    float64\n",
      " 13  Cost of petrol                                                                                            924 non-null    float64\n",
      " 14  Could you kindly specify the tolls?                                                                       924 non-null    object \n",
      " 15  Could you kindly tell your normally driving mood during driving time?                                     924 non-null    object \n",
      " 16  How many stops during your journey time?                                                                  868 non-null    object \n",
      " 17  What type of stoppage?                                                                                    924 non-null    object \n",
      " 18  How many traffic lights do you have to pass during your travel journey ?                                  924 non-null    int64  \n",
      " 19  How many junctions during your travel journey?                                                            924 non-null    int64  \n",
      " 20  How many road blocks during your travel journey?                                                          924 non-null    int64  \n",
      " 21  Can you reach your destination on Time?                                                                   924 non-null    bool   \n",
      " 22  Can you reach your home on Time?                                                                          924 non-null    bool   \n",
      " 23  What is the weather condition before leaving home?                                                        924 non-null    object \n",
      " 24  When did this journey take place?                                                                         924 non-null    object \n",
      " 25  When did you travel?                                                                                      924 non-null    object \n",
      " 26  Describe how do you feel traveling in Jaipur, in one or two words. For example polluted, good, sad etc.   774 non-null    object \n",
      " 27  Travel_Date                                                                                               924 non-null    object \n",
      " 28  Travel_Time                                                                                               924 non-null    object \n",
      " 29  How many toll booth are there from your house to work/school/university/ hospital?                        924 non-null    float64\n",
      "dtypes: bool(2), float64(6), int64(3), object(19)\n",
      "memory usage: 204.1+ KB\n",
      "None\n"
     ]
    }
   ],
   "execution_count": 165
  },
  {
   "metadata": {
    "ExecuteTime": {
     "end_time": "2025-02-01T11:06:56.218183Z",
     "start_time": "2025-02-01T11:06:56.210027Z"
    }
   },
   "cell_type": "code",
   "source": [
    "print(df['Describe how do you feel traveling in Jaipur, in one or two words. For example polluted, good, sad etc. '].value_counts())\n",
    "print(df['Describe how do you feel traveling in Jaipur, in one or two words. For example polluted, good, sad etc. '].isnull().sum())"
   ],
   "id": "4097b18bdd86ae0e",
   "outputs": [
    {
     "name": "stdout",
     "output_type": "stream",
     "text": [
      "Describe how do you feel traveling in Jaipur, in one or two words. For example polluted, good, sad etc. \n",
      "Good                                             156\n",
      "Good                                              58\n",
      "Polluted                                          46\n",
      "Polluted                                          28\n",
      "Sad                                               28\n",
      "                                                ... \n",
      "Evening Polluted  more traffic near junctions      1\n",
      "It's great, but there's a lot of traffic.          1\n",
      "never travelled                                    1\n",
      "Polluted and unsafe                                1\n",
      "Hhud                                               1\n",
      "Name: count, Length: 359, dtype: int64\n",
      "150\n"
     ]
    }
   ],
   "execution_count": 170
  },
  {
   "metadata": {
    "ExecuteTime": {
     "end_time": "2025-02-01T11:08:22.786754Z",
     "start_time": "2025-02-01T11:08:22.762546Z"
    }
   },
   "cell_type": "code",
   "source": [
    "df['Describe how do you feel traveling in Jaipur, in one or two words. For example polluted, good, sad etc. '] = df['Describe how do you feel traveling in Jaipur, in one or two words. For example polluted, good, sad etc. '].fillna('Okay')\n",
    "df['Describe how do you feel traveling in Jaipur, in one or two words. For example polluted, good, sad etc. '] = df['Describe how do you feel traveling in Jaipur, in one or two words. For example polluted, good, sad etc. '].str.replace(r'[,!]', '', regex=True).str.title().str.strip()\n",
    "print(df['Describe how do you feel traveling in Jaipur, in one or two words. For example polluted, good, sad etc. '].value_counts())\n",
    "print(df.info())"
   ],
   "id": "f8db719ab67b0624",
   "outputs": [
    {
     "name": "stdout",
     "output_type": "stream",
     "text": [
      "Describe how do you feel traveling in Jaipur, in one or two words. For example polluted, good, sad etc. \n",
      "Good                                                                                                                          234\n",
      "Okay                                                                                                                          153\n",
      "Polluted                                                                                                                       77\n",
      "Sad                                                                                                                            33\n",
      "Traffic                                                                                                                        15\n",
      "                                                                                                                             ... \n",
      "It Is Nowadays Very Conjusted Pollute And People Dont Not Have Basic Sense For How To Ride A Vehicle                            1\n",
      "Its Good                                                                                                                        1\n",
      "Facing Regularly Trafic Jam During Official Hours In Morning Between 9.00 To 11.00 And In Evening Between 6.00 To 8.00 Pm.      1\n",
      "Not Bad Unless Its Rainy...Bad Drainage System I Guess                                                                          1\n",
      "Hhud                                                                                                                            1\n",
      "Name: count, Length: 316, dtype: int64\n",
      "<class 'pandas.core.frame.DataFrame'>\n",
      "RangeIndex: 924 entries, 0 to 923\n",
      "Data columns (total 30 columns):\n",
      " #   Column                                                                                                    Non-Null Count  Dtype  \n",
      "---  ------                                                                                                    --------------  -----  \n",
      " 0   Are you from Jaipur?                                                                                      919 non-null    object \n",
      " 1   What is your age?                                                                                         924 non-null    float64\n",
      " 2   What is your gender?                                                                                      919 non-null    object \n",
      " 3   What is your departure address (with pincode)?                                                            871 non-null    object \n",
      " 4   What is your destination address?  (with pincode)                                                         844 non-null    object \n",
      " 5   What is your mode of transportation?                                                                      913 non-null    object \n",
      " 6   If Public Transport, Do you get seat availability easily?                                                 832 non-null    object \n",
      " 7   If personal vehicles do you find a parking space easily?                                                  858 non-null    object \n",
      " 8   How long do you wait for Public Transport?                                                                924 non-null    float64\n",
      " 9   What time do you prefer to leave your house to work/school/university/hospital?                           912 non-null    object \n",
      " 10  How much time (minutes) do you take to travel ?                                                           924 non-null    float64\n",
      " 11  What time do you prefer to leave your work/school/university/ hospital for home?                          900 non-null    object \n",
      " 12  How long time (minutes) do you travel?                                                                    924 non-null    float64\n",
      " 13  Cost of petrol                                                                                            924 non-null    float64\n",
      " 14  Could you kindly specify the tolls?                                                                       924 non-null    object \n",
      " 15  Could you kindly tell your normally driving mood during driving time?                                     924 non-null    object \n",
      " 16  How many stops during your journey time?                                                                  868 non-null    object \n",
      " 17  What type of stoppage?                                                                                    924 non-null    object \n",
      " 18  How many traffic lights do you have to pass during your travel journey ?                                  924 non-null    int64  \n",
      " 19  How many junctions during your travel journey?                                                            924 non-null    int64  \n",
      " 20  How many road blocks during your travel journey?                                                          924 non-null    int64  \n",
      " 21  Can you reach your destination on Time?                                                                   924 non-null    bool   \n",
      " 22  Can you reach your home on Time?                                                                          924 non-null    bool   \n",
      " 23  What is the weather condition before leaving home?                                                        924 non-null    object \n",
      " 24  When did this journey take place?                                                                         924 non-null    object \n",
      " 25  When did you travel?                                                                                      924 non-null    object \n",
      " 26  Describe how do you feel traveling in Jaipur, in one or two words. For example polluted, good, sad etc.   924 non-null    object \n",
      " 27  Travel_Date                                                                                               924 non-null    object \n",
      " 28  Travel_Time                                                                                               924 non-null    object \n",
      " 29  How many toll booth are there from your house to work/school/university/ hospital?                        924 non-null    float64\n",
      "dtypes: bool(2), float64(6), int64(3), object(19)\n",
      "memory usage: 204.1+ KB\n",
      "None\n"
     ]
    }
   ],
   "execution_count": 171
  },
  {
   "metadata": {
    "ExecuteTime": {
     "end_time": "2025-02-01T11:13:40.621242Z",
     "start_time": "2025-02-01T11:13:40.613780Z"
    }
   },
   "cell_type": "code",
   "source": "df['What is your departure address (with pincode)?'].isnull().sum()",
   "id": "234ea91c6c735f42",
   "outputs": [
    {
     "data": {
      "text/plain": [
       "53"
      ]
     },
     "execution_count": 175,
     "metadata": {},
     "output_type": "execute_result"
    }
   ],
   "execution_count": 175
  },
  {
   "metadata": {
    "ExecuteTime": {
     "end_time": "2025-02-01T11:13:42.686435Z",
     "start_time": "2025-02-01T11:13:42.661418Z"
    }
   },
   "cell_type": "code",
   "source": [
    "df['What is your departure address (with pincode)?'] = df['What is your departure address (with pincode)?'].fillna('Unknown Address').str.strip()\n",
    "df['What is your destination address?  (with pincode)'] = df['What is your destination address?  (with pincode)'].fillna('Unknown Address').str.strip()\n",
    "print(df['What is your departure address (with pincode)?'].head())\n",
    "print(df['What is your destination address?  (with pincode)'].head())\n",
    "print(df.info())"
   ],
   "id": "dbbc1b939ea77dd7",
   "outputs": [
    {
     "name": "stdout",
     "output_type": "stream",
     "text": [
      "0    2/627, Sector 2, Malviya Nagar, Jaipur, Rajast...\n",
      "1    Flat no 201 Vatsalya Enclave Ganesh Nagar Iskc...\n",
      "2    Swastik Villas, New Sanganer Road, Jaipur(302020)\n",
      "3                                               305001\n",
      "4                               24/25 sagar apartments\n",
      "Name: What is your departure address (with pincode)?, dtype: object\n",
      "0    BISR, Statue Circle, C Scheme, Jaipur, Rajasth...\n",
      "1    Birla Institute of Technology Jaipur Near Apex...\n",
      "2            Bit Jaipur, Malviya Nagar, Jaipur(302017)\n",
      "3                                               302017\n",
      "4                                                 Same\n",
      "Name: What is your destination address?  (with pincode), dtype: object\n",
      "<class 'pandas.core.frame.DataFrame'>\n",
      "RangeIndex: 924 entries, 0 to 923\n",
      "Data columns (total 30 columns):\n",
      " #   Column                                                                                                    Non-Null Count  Dtype  \n",
      "---  ------                                                                                                    --------------  -----  \n",
      " 0   Are you from Jaipur?                                                                                      919 non-null    object \n",
      " 1   What is your age?                                                                                         924 non-null    float64\n",
      " 2   What is your gender?                                                                                      919 non-null    object \n",
      " 3   What is your departure address (with pincode)?                                                            924 non-null    object \n",
      " 4   What is your destination address?  (with pincode)                                                         924 non-null    object \n",
      " 5   What is your mode of transportation?                                                                      913 non-null    object \n",
      " 6   If Public Transport, Do you get seat availability easily?                                                 832 non-null    object \n",
      " 7   If personal vehicles do you find a parking space easily?                                                  858 non-null    object \n",
      " 8   How long do you wait for Public Transport?                                                                924 non-null    float64\n",
      " 9   What time do you prefer to leave your house to work/school/university/hospital?                           912 non-null    object \n",
      " 10  How much time (minutes) do you take to travel ?                                                           924 non-null    float64\n",
      " 11  What time do you prefer to leave your work/school/university/ hospital for home?                          900 non-null    object \n",
      " 12  How long time (minutes) do you travel?                                                                    924 non-null    float64\n",
      " 13  Cost of petrol                                                                                            924 non-null    float64\n",
      " 14  Could you kindly specify the tolls?                                                                       924 non-null    object \n",
      " 15  Could you kindly tell your normally driving mood during driving time?                                     924 non-null    object \n",
      " 16  How many stops during your journey time?                                                                  868 non-null    object \n",
      " 17  What type of stoppage?                                                                                    924 non-null    object \n",
      " 18  How many traffic lights do you have to pass during your travel journey ?                                  924 non-null    int64  \n",
      " 19  How many junctions during your travel journey?                                                            924 non-null    int64  \n",
      " 20  How many road blocks during your travel journey?                                                          924 non-null    int64  \n",
      " 21  Can you reach your destination on Time?                                                                   924 non-null    bool   \n",
      " 22  Can you reach your home on Time?                                                                          924 non-null    bool   \n",
      " 23  What is the weather condition before leaving home?                                                        924 non-null    object \n",
      " 24  When did this journey take place?                                                                         924 non-null    object \n",
      " 25  When did you travel?                                                                                      924 non-null    object \n",
      " 26  Describe how do you feel traveling in Jaipur, in one or two words. For example polluted, good, sad etc.   924 non-null    object \n",
      " 27  Travel_Date                                                                                               924 non-null    object \n",
      " 28  Travel_Time                                                                                               924 non-null    object \n",
      " 29  How many toll booth are there from your house to work/school/university/ hospital?                        924 non-null    float64\n",
      "dtypes: bool(2), float64(6), int64(3), object(19)\n",
      "memory usage: 204.1+ KB\n",
      "None\n"
     ]
    }
   ],
   "execution_count": 176
  },
  {
   "metadata": {
    "ExecuteTime": {
     "end_time": "2025-02-01T11:15:12.918829Z",
     "start_time": "2025-02-01T11:15:12.909667Z"
    }
   },
   "cell_type": "code",
   "source": "df['What is your mode of transportation?'].value_counts()",
   "id": "8c5bdb15e783e55",
   "outputs": [
    {
     "data": {
      "text/plain": [
       "What is your mode of transportation?\n",
       "Two Wheeler                        324\n",
       "Public Transport                   216\n",
       "Walk                               152\n",
       "Car                                 98\n",
       "Cabs Services                       95\n",
       "College bus                          6\n",
       "College Bus                          5\n",
       "College bus                          2\n",
       "Walking                              1\n",
       "Institution provided transport       1\n",
       "Udke                                 1\n",
       "Uber                                 1\n",
       "Bus                                  1\n",
       "Magic                                1\n",
       "University Bus                       1\n",
       "Auto                                 1\n",
       "Train                                1\n",
       "college bus                          1\n",
       "University Bus                       1\n",
       "College Bus                          1\n",
       "Railway                              1\n",
       "Cycle                                1\n",
       "A water pot made of brass            1\n",
       "Name: count, dtype: int64"
      ]
     },
     "execution_count": 177,
     "metadata": {},
     "output_type": "execute_result"
    }
   ],
   "execution_count": 177
  },
  {
   "metadata": {
    "ExecuteTime": {
     "end_time": "2025-02-01T11:17:12.974370Z",
     "start_time": "2025-02-01T11:17:12.955974Z"
    }
   },
   "cell_type": "code",
   "source": [
    "df['What is your mode of transportation?'] = df['What is your mode of transportation?'].fillna('Two Wheeler')\n",
    "df['What is your mode of transportation?'] = df['What is your mode of transportation?'].str.title()\n",
    "print(df['What is your mode of transportation?'].value_counts())\n",
    "print(df.info())"
   ],
   "id": "82328616fb79a449",
   "outputs": [
    {
     "name": "stdout",
     "output_type": "stream",
     "text": [
      "What is your mode of transportation?\n",
      "Two Wheeler                        335\n",
      "Public Transport                   216\n",
      "Walk                               152\n",
      "Car                                 98\n",
      "Cabs Services                       95\n",
      "College Bus                         12\n",
      "College Bus                          3\n",
      "Walking                              1\n",
      "Institution Provided Transport       1\n",
      "Udke                                 1\n",
      "Uber                                 1\n",
      "Bus                                  1\n",
      "Magic                                1\n",
      "University Bus                       1\n",
      "Auto                                 1\n",
      "Train                                1\n",
      "University Bus                       1\n",
      "Railway                              1\n",
      "Cycle                                1\n",
      "A Water Pot Made Of Brass            1\n",
      "Name: count, dtype: int64\n",
      "<class 'pandas.core.frame.DataFrame'>\n",
      "RangeIndex: 924 entries, 0 to 923\n",
      "Data columns (total 30 columns):\n",
      " #   Column                                                                                                    Non-Null Count  Dtype  \n",
      "---  ------                                                                                                    --------------  -----  \n",
      " 0   Are you from Jaipur?                                                                                      919 non-null    object \n",
      " 1   What is your age?                                                                                         924 non-null    float64\n",
      " 2   What is your gender?                                                                                      919 non-null    object \n",
      " 3   What is your departure address (with pincode)?                                                            924 non-null    object \n",
      " 4   What is your destination address?  (with pincode)                                                         924 non-null    object \n",
      " 5   What is your mode of transportation?                                                                      924 non-null    object \n",
      " 6   If Public Transport, Do you get seat availability easily?                                                 832 non-null    object \n",
      " 7   If personal vehicles do you find a parking space easily?                                                  858 non-null    object \n",
      " 8   How long do you wait for Public Transport?                                                                924 non-null    float64\n",
      " 9   What time do you prefer to leave your house to work/school/university/hospital?                           912 non-null    object \n",
      " 10  How much time (minutes) do you take to travel ?                                                           924 non-null    float64\n",
      " 11  What time do you prefer to leave your work/school/university/ hospital for home?                          900 non-null    object \n",
      " 12  How long time (minutes) do you travel?                                                                    924 non-null    float64\n",
      " 13  Cost of petrol                                                                                            924 non-null    float64\n",
      " 14  Could you kindly specify the tolls?                                                                       924 non-null    object \n",
      " 15  Could you kindly tell your normally driving mood during driving time?                                     924 non-null    object \n",
      " 16  How many stops during your journey time?                                                                  868 non-null    object \n",
      " 17  What type of stoppage?                                                                                    924 non-null    object \n",
      " 18  How many traffic lights do you have to pass during your travel journey ?                                  924 non-null    int64  \n",
      " 19  How many junctions during your travel journey?                                                            924 non-null    int64  \n",
      " 20  How many road blocks during your travel journey?                                                          924 non-null    int64  \n",
      " 21  Can you reach your destination on Time?                                                                   924 non-null    bool   \n",
      " 22  Can you reach your home on Time?                                                                          924 non-null    bool   \n",
      " 23  What is the weather condition before leaving home?                                                        924 non-null    object \n",
      " 24  When did this journey take place?                                                                         924 non-null    object \n",
      " 25  When did you travel?                                                                                      924 non-null    object \n",
      " 26  Describe how do you feel traveling in Jaipur, in one or two words. For example polluted, good, sad etc.   924 non-null    object \n",
      " 27  Travel_Date                                                                                               924 non-null    object \n",
      " 28  Travel_Time                                                                                               924 non-null    object \n",
      " 29  How many toll booth are there from your house to work/school/university/ hospital?                        924 non-null    float64\n",
      "dtypes: bool(2), float64(6), int64(3), object(19)\n",
      "memory usage: 204.1+ KB\n",
      "None\n"
     ]
    }
   ],
   "execution_count": 178
  },
  {
   "metadata": {
    "ExecuteTime": {
     "end_time": "2025-02-01T11:19:09.836900Z",
     "start_time": "2025-02-01T11:19:09.825588Z"
    }
   },
   "cell_type": "code",
   "source": "df['If personal vehicles do you find a parking space easily?'].value_counts()",
   "id": "bf391723a36bd8b0",
   "outputs": [
    {
     "data": {
      "text/plain": [
       "If personal vehicles do you find a parking space easily?\n",
       "No     445\n",
       "Yes    413\n",
       "Name: count, dtype: int64"
      ]
     },
     "execution_count": 181,
     "metadata": {},
     "output_type": "execute_result"
    }
   ],
   "execution_count": 181
  },
  {
   "metadata": {
    "ExecuteTime": {
     "end_time": "2025-02-01T11:21:09.655121Z",
     "start_time": "2025-02-01T11:21:09.646838Z"
    }
   },
   "cell_type": "code",
   "source": [
    "df['If personal vehicles do you find a parking space easily?'] = df['If personal vehicles do you find a parking space easily?'].fillna('No')\n",
    "df['If personal vehicles do you find a parking space easily?'] = df['If personal vehicles do you find a parking space easily?'].str.title()\n",
    "print(df['If personal vehicles do you find a parking space easily?'].value_counts())\n"
   ],
   "id": "cdaedfe8c8f6f2ee",
   "outputs": [
    {
     "name": "stdout",
     "output_type": "stream",
     "text": [
      "If personal vehicles do you find a parking space easily?\n",
      "No     511\n",
      "Yes    413\n",
      "Name: count, dtype: int64\n"
     ]
    }
   ],
   "execution_count": 184
  },
  {
   "metadata": {
    "ExecuteTime": {
     "end_time": "2025-02-01T11:21:19.721254Z",
     "start_time": "2025-02-01T11:21:19.710254Z"
    }
   },
   "cell_type": "code",
   "source": "df.isnull().sum()",
   "id": "a3166cfd471f763",
   "outputs": [
    {
     "data": {
      "text/plain": [
       "Are you from Jaipur?                                                                                         5\n",
       "What is your age?                                                                                            0\n",
       "What is your gender?                                                                                         5\n",
       "What is your departure address (with pincode)?                                                               0\n",
       "What is your destination address?  (with pincode)                                                            0\n",
       "What is your mode of transportation?                                                                         0\n",
       "If Public Transport, Do you get seat availability easily?                                                   92\n",
       "If personal vehicles do you find a parking space easily?                                                     0\n",
       "How long do you wait for Public Transport?                                                                   0\n",
       "What time do you prefer to leave your house to work/school/university/hospital?                             12\n",
       "How much time (minutes) do you take to travel ?                                                              0\n",
       "What time do you prefer to leave your work/school/university/ hospital for home?                            24\n",
       "How long time (minutes) do you travel?                                                                       0\n",
       "Cost of petrol                                                                                               0\n",
       "Could you kindly specify the tolls?                                                                          0\n",
       "Could you kindly tell your normally driving mood during driving time?                                        0\n",
       "How many stops during your journey time?                                                                    56\n",
       "What type of stoppage?                                                                                       0\n",
       "How many traffic lights do you have to pass during your travel journey ?                                     0\n",
       "How many junctions during your travel journey?                                                               0\n",
       "How many road blocks during your travel journey?                                                             0\n",
       "Can you reach your destination on Time?                                                                      0\n",
       "Can you reach your home on Time?                                                                             0\n",
       "What is the weather condition before leaving home?                                                           0\n",
       "When did this journey take place?                                                                            0\n",
       "When did you travel?                                                                                         0\n",
       "Describe how do you feel traveling in Jaipur, in one or two words. For example polluted, good, sad etc.      0\n",
       "Travel_Date                                                                                                  0\n",
       "Travel_Time                                                                                                  0\n",
       "How many toll booth are there from your house to work/school/university/ hospital?                           0\n",
       "dtype: int64"
      ]
     },
     "execution_count": 185,
     "metadata": {},
     "output_type": "execute_result"
    }
   ],
   "execution_count": 185
  },
  {
   "metadata": {
    "ExecuteTime": {
     "end_time": "2025-02-01T11:33:27.769867Z",
     "start_time": "2025-02-01T11:33:27.765239Z"
    }
   },
   "cell_type": "code",
   "source": "df['If Public Transport, Do you get seat availability easily?']=df['If Public Transport, Do you get seat availability easily?  '].str.strip()",
   "id": "993a4cfc22333055",
   "outputs": [],
   "execution_count": 200
  },
  {
   "metadata": {
    "ExecuteTime": {
     "end_time": "2025-02-01T11:38:43.485788Z",
     "start_time": "2025-02-01T11:38:43.480548Z"
    }
   },
   "cell_type": "code",
   "source": "df['If Public Transport, Do you get seat availability easily?'].value_counts()",
   "id": "e338570acddb2aca",
   "outputs": [
    {
     "data": {
      "text/plain": [
       "If Public Transport, Do you get seat availability easily?\n",
       "No     600\n",
       "Yes    324\n",
       "Name: count, dtype: int64"
      ]
     },
     "execution_count": 215,
     "metadata": {},
     "output_type": "execute_result"
    }
   ],
   "execution_count": 215
  },
  {
   "metadata": {
    "ExecuteTime": {
     "end_time": "2025-02-01T11:36:43.834775Z",
     "start_time": "2025-02-01T11:36:43.823245Z"
    }
   },
   "cell_type": "code",
   "source": [
    "df['If Public Transport, Do you get seat availability easily?'] = df['If Public Transport, Do you get seat availability easily?'].fillna('No')\n",
    "df['If Public Transport, Do you get seat availability easily?'] = df['If Public Transport, Do you get seat availability easily?'].str.title()\n",
    "print(df['If Public Transport, Do you get seat availability easily?'].value_counts())\n",
    "print(df.info())"
   ],
   "id": "81517e9acb6dc005",
   "outputs": [
    {
     "name": "stdout",
     "output_type": "stream",
     "text": [
      "If Public Transport, Do you get seat availability easily?\n",
      "No     600\n",
      "Yes    324\n",
      "Name: count, dtype: int64\n",
      "<class 'pandas.core.frame.DataFrame'>\n",
      "RangeIndex: 924 entries, 0 to 923\n",
      "Data columns (total 30 columns):\n",
      " #   Column                                                                                                    Non-Null Count  Dtype  \n",
      "---  ------                                                                                                    --------------  -----  \n",
      " 0   Are you from Jaipur?                                                                                      919 non-null    object \n",
      " 1   What is your age?                                                                                         924 non-null    float64\n",
      " 2   What is your gender?                                                                                      919 non-null    object \n",
      " 3   What is your departure address (with pincode)?                                                            924 non-null    object \n",
      " 4   What is your destination address?  (with pincode)                                                         924 non-null    object \n",
      " 5   What is your mode of transportation?                                                                      924 non-null    object \n",
      " 6   If personal vehicles do you find a parking space easily?                                                  924 non-null    object \n",
      " 7   How long do you wait for Public Transport?                                                                924 non-null    float64\n",
      " 8   What time do you prefer to leave your house to work/school/university/hospital?                           912 non-null    object \n",
      " 9   How much time (minutes) do you take to travel ?                                                           924 non-null    float64\n",
      " 10  What time do you prefer to leave your work/school/university/ hospital for home?                          900 non-null    object \n",
      " 11  How long time (minutes) do you travel?                                                                    924 non-null    float64\n",
      " 12  Cost of petrol                                                                                            924 non-null    float64\n",
      " 13  Could you kindly specify the tolls?                                                                       924 non-null    object \n",
      " 14  Could you kindly tell your normally driving mood during driving time?                                     924 non-null    object \n",
      " 15  How many stops during your journey time?                                                                  868 non-null    object \n",
      " 16  What type of stoppage?                                                                                    924 non-null    object \n",
      " 17  How many traffic lights do you have to pass during your travel journey ?                                  924 non-null    int64  \n",
      " 18  How many junctions during your travel journey?                                                            924 non-null    int64  \n",
      " 19  How many road blocks during your travel journey?                                                          924 non-null    int64  \n",
      " 20  Can you reach your destination on Time?                                                                   924 non-null    bool   \n",
      " 21  Can you reach your home on Time?                                                                          924 non-null    bool   \n",
      " 22  What is the weather condition before leaving home?                                                        924 non-null    object \n",
      " 23  When did this journey take place?                                                                         924 non-null    object \n",
      " 24  When did you travel?                                                                                      924 non-null    object \n",
      " 25  Describe how do you feel traveling in Jaipur, in one or two words. For example polluted, good, sad etc.   924 non-null    object \n",
      " 26  Travel_Date                                                                                               924 non-null    object \n",
      " 27  Travel_Time                                                                                               924 non-null    object \n",
      " 28  How many toll booth are there from your house to work/school/university/ hospital?                        924 non-null    float64\n",
      " 29  If Public Transport, Do you get seat availability easily?                                                 924 non-null    object \n",
      "dtypes: bool(2), float64(6), int64(3), object(19)\n",
      "memory usage: 204.1+ KB\n",
      "None\n"
     ]
    }
   ],
   "execution_count": 210
  },
  {
   "metadata": {
    "ExecuteTime": {
     "end_time": "2025-02-01T11:36:46.955256Z",
     "start_time": "2025-02-01T11:36:46.937921Z"
    }
   },
   "cell_type": "code",
   "source": "df.head()",
   "id": "bedadd6cc34ceacc",
   "outputs": [
    {
     "data": {
      "text/plain": [
       "  Are you from Jaipur?  What is your age? What is your gender?  \\\n",
       "0                  Yes               19.0                 Male   \n",
       "1                  Yes               19.0               Female   \n",
       "2                  Yes               19.0                 Male   \n",
       "3                  Yes               19.0                 Male   \n",
       "4                  Yes               19.0                 Male   \n",
       "\n",
       "      What is your departure address (with pincode)?  \\\n",
       "0  2/627, Sector 2, Malviya Nagar, Jaipur, Rajast...   \n",
       "1  Flat no 201 Vatsalya Enclave Ganesh Nagar Iskc...   \n",
       "2  Swastik Villas, New Sanganer Road, Jaipur(302020)   \n",
       "3                                             305001   \n",
       "4                             24/25 sagar apartments   \n",
       "\n",
       "   What is your destination address?  (with pincode)  \\\n",
       "0  BISR, Statue Circle, C Scheme, Jaipur, Rajasth...   \n",
       "1  Birla Institute of Technology Jaipur Near Apex...   \n",
       "2          Bit Jaipur, Malviya Nagar, Jaipur(302017)   \n",
       "3                                             302017   \n",
       "4                                               Same   \n",
       "\n",
       "  What is your mode of transportation?  \\\n",
       "0                     Public Transport   \n",
       "1                        Cabs Services   \n",
       "2                          Two Wheeler   \n",
       "3                     Public Transport   \n",
       "4                          Two Wheeler   \n",
       "\n",
       "  If personal vehicles do you find a parking space easily?  \\\n",
       "0                                                 No         \n",
       "1                                                 No         \n",
       "2                                                Yes         \n",
       "3                                                Yes         \n",
       "4                                                Yes         \n",
       "\n",
       "   How long do you wait for Public Transport?  \\\n",
       "0                                        45.5   \n",
       "1                                        15.0   \n",
       "2                                        45.5   \n",
       "3                                        15.0   \n",
       "4                                        15.0   \n",
       "\n",
       "  What time do you prefer to leave your house to work/school/university/hospital?  \\\n",
       "0                                           09:00:00                                \n",
       "1                                           08:00:00                                \n",
       "2                                           08:00:00                                \n",
       "3                                           07:00:00                                \n",
       "4                                           08:00:00                                \n",
       "\n",
       "   How much time (minutes) do you take to travel ?  ...  \\\n",
       "0                                             40.0  ...   \n",
       "1                                             20.0  ...   \n",
       "2                                             25.0  ...   \n",
       "3                                             15.0  ...   \n",
       "4                                             25.0  ...   \n",
       "\n",
       "  Can you reach your destination on Time?  Can you reach your home on Time?  \\\n",
       "0                                    True                             False   \n",
       "1                                    True                              True   \n",
       "2                                    True                             False   \n",
       "3                                    True                              True   \n",
       "4                                   False                             False   \n",
       "\n",
       "   What is the weather condition before leaving home?  \\\n",
       "0                                              Sunny    \n",
       "1                                             Cloudy    \n",
       "2                                             Cloudy    \n",
       "3                                              Sunny    \n",
       "4                                              Sunny    \n",
       "\n",
       "  When did this journey take place? When did you travel?  \\\n",
       "0                       Working Day              Weekday   \n",
       "1                       Working Day              Weekday   \n",
       "2                       Working Day              Weekday   \n",
       "3                       Working Day              Weekday   \n",
       "4                       Working Day              Weekday   \n",
       "\n",
       "  Describe how do you feel traveling in Jaipur, in one or two words. For example polluted, good, sad etc.   \\\n",
       "0                                            Chaotic                                                         \n",
       "1                                         Mesmerized                                                         \n",
       "2                                           Polluted                                                         \n",
       "3                                               Okay                                                         \n",
       "4                                               Okay                                                         \n",
       "\n",
       "  Travel_Date  Travel_Time  \\\n",
       "0  2024-12-31     09:56:27   \n",
       "1  2024-12-31     12:35:40   \n",
       "2  2024-12-31     12:54:10   \n",
       "3  2024-12-31     14:49:46   \n",
       "4  2024-12-31     14:57:22   \n",
       "\n",
       "   How many toll booth are there from your house to work/school/university/ hospital?  \\\n",
       "0                                                0.0                                    \n",
       "1                                                0.0                                    \n",
       "2                                                0.0                                    \n",
       "3                                                0.0                                    \n",
       "4                                                0.0                                    \n",
       "\n",
       "   If Public Transport, Do you get seat availability easily?  \n",
       "0                                                 No          \n",
       "1                                                 No          \n",
       "2                                                 No          \n",
       "3                                                Yes          \n",
       "4                                                 No          \n",
       "\n",
       "[5 rows x 30 columns]"
      ],
      "text/html": [
       "<div>\n",
       "<style scoped>\n",
       "    .dataframe tbody tr th:only-of-type {\n",
       "        vertical-align: middle;\n",
       "    }\n",
       "\n",
       "    .dataframe tbody tr th {\n",
       "        vertical-align: top;\n",
       "    }\n",
       "\n",
       "    .dataframe thead th {\n",
       "        text-align: right;\n",
       "    }\n",
       "</style>\n",
       "<table border=\"1\" class=\"dataframe\">\n",
       "  <thead>\n",
       "    <tr style=\"text-align: right;\">\n",
       "      <th></th>\n",
       "      <th>Are you from Jaipur?</th>\n",
       "      <th>What is your age?</th>\n",
       "      <th>What is your gender?</th>\n",
       "      <th>What is your departure address (with pincode)?</th>\n",
       "      <th>What is your destination address?  (with pincode)</th>\n",
       "      <th>What is your mode of transportation?</th>\n",
       "      <th>If personal vehicles do you find a parking space easily?</th>\n",
       "      <th>How long do you wait for Public Transport?</th>\n",
       "      <th>What time do you prefer to leave your house to work/school/university/hospital?</th>\n",
       "      <th>How much time (minutes) do you take to travel ?</th>\n",
       "      <th>...</th>\n",
       "      <th>Can you reach your destination on Time?</th>\n",
       "      <th>Can you reach your home on Time?</th>\n",
       "      <th>What is the weather condition before leaving home?</th>\n",
       "      <th>When did this journey take place?</th>\n",
       "      <th>When did you travel?</th>\n",
       "      <th>Describe how do you feel traveling in Jaipur, in one or two words. For example polluted, good, sad etc.</th>\n",
       "      <th>Travel_Date</th>\n",
       "      <th>Travel_Time</th>\n",
       "      <th>How many toll booth are there from your house to work/school/university/ hospital?</th>\n",
       "      <th>If Public Transport, Do you get seat availability easily?</th>\n",
       "    </tr>\n",
       "  </thead>\n",
       "  <tbody>\n",
       "    <tr>\n",
       "      <th>0</th>\n",
       "      <td>Yes</td>\n",
       "      <td>19.0</td>\n",
       "      <td>Male</td>\n",
       "      <td>2/627, Sector 2, Malviya Nagar, Jaipur, Rajast...</td>\n",
       "      <td>BISR, Statue Circle, C Scheme, Jaipur, Rajasth...</td>\n",
       "      <td>Public Transport</td>\n",
       "      <td>No</td>\n",
       "      <td>45.5</td>\n",
       "      <td>09:00:00</td>\n",
       "      <td>40.0</td>\n",
       "      <td>...</td>\n",
       "      <td>True</td>\n",
       "      <td>False</td>\n",
       "      <td>Sunny</td>\n",
       "      <td>Working Day</td>\n",
       "      <td>Weekday</td>\n",
       "      <td>Chaotic</td>\n",
       "      <td>2024-12-31</td>\n",
       "      <td>09:56:27</td>\n",
       "      <td>0.0</td>\n",
       "      <td>No</td>\n",
       "    </tr>\n",
       "    <tr>\n",
       "      <th>1</th>\n",
       "      <td>Yes</td>\n",
       "      <td>19.0</td>\n",
       "      <td>Female</td>\n",
       "      <td>Flat no 201 Vatsalya Enclave Ganesh Nagar Iskc...</td>\n",
       "      <td>Birla Institute of Technology Jaipur Near Apex...</td>\n",
       "      <td>Cabs Services</td>\n",
       "      <td>No</td>\n",
       "      <td>15.0</td>\n",
       "      <td>08:00:00</td>\n",
       "      <td>20.0</td>\n",
       "      <td>...</td>\n",
       "      <td>True</td>\n",
       "      <td>True</td>\n",
       "      <td>Cloudy</td>\n",
       "      <td>Working Day</td>\n",
       "      <td>Weekday</td>\n",
       "      <td>Mesmerized</td>\n",
       "      <td>2024-12-31</td>\n",
       "      <td>12:35:40</td>\n",
       "      <td>0.0</td>\n",
       "      <td>No</td>\n",
       "    </tr>\n",
       "    <tr>\n",
       "      <th>2</th>\n",
       "      <td>Yes</td>\n",
       "      <td>19.0</td>\n",
       "      <td>Male</td>\n",
       "      <td>Swastik Villas, New Sanganer Road, Jaipur(302020)</td>\n",
       "      <td>Bit Jaipur, Malviya Nagar, Jaipur(302017)</td>\n",
       "      <td>Two Wheeler</td>\n",
       "      <td>Yes</td>\n",
       "      <td>45.5</td>\n",
       "      <td>08:00:00</td>\n",
       "      <td>25.0</td>\n",
       "      <td>...</td>\n",
       "      <td>True</td>\n",
       "      <td>False</td>\n",
       "      <td>Cloudy</td>\n",
       "      <td>Working Day</td>\n",
       "      <td>Weekday</td>\n",
       "      <td>Polluted</td>\n",
       "      <td>2024-12-31</td>\n",
       "      <td>12:54:10</td>\n",
       "      <td>0.0</td>\n",
       "      <td>No</td>\n",
       "    </tr>\n",
       "    <tr>\n",
       "      <th>3</th>\n",
       "      <td>Yes</td>\n",
       "      <td>19.0</td>\n",
       "      <td>Male</td>\n",
       "      <td>305001</td>\n",
       "      <td>302017</td>\n",
       "      <td>Public Transport</td>\n",
       "      <td>Yes</td>\n",
       "      <td>15.0</td>\n",
       "      <td>07:00:00</td>\n",
       "      <td>15.0</td>\n",
       "      <td>...</td>\n",
       "      <td>True</td>\n",
       "      <td>True</td>\n",
       "      <td>Sunny</td>\n",
       "      <td>Working Day</td>\n",
       "      <td>Weekday</td>\n",
       "      <td>Okay</td>\n",
       "      <td>2024-12-31</td>\n",
       "      <td>14:49:46</td>\n",
       "      <td>0.0</td>\n",
       "      <td>Yes</td>\n",
       "    </tr>\n",
       "    <tr>\n",
       "      <th>4</th>\n",
       "      <td>Yes</td>\n",
       "      <td>19.0</td>\n",
       "      <td>Male</td>\n",
       "      <td>24/25 sagar apartments</td>\n",
       "      <td>Same</td>\n",
       "      <td>Two Wheeler</td>\n",
       "      <td>Yes</td>\n",
       "      <td>15.0</td>\n",
       "      <td>08:00:00</td>\n",
       "      <td>25.0</td>\n",
       "      <td>...</td>\n",
       "      <td>False</td>\n",
       "      <td>False</td>\n",
       "      <td>Sunny</td>\n",
       "      <td>Working Day</td>\n",
       "      <td>Weekday</td>\n",
       "      <td>Okay</td>\n",
       "      <td>2024-12-31</td>\n",
       "      <td>14:57:22</td>\n",
       "      <td>0.0</td>\n",
       "      <td>No</td>\n",
       "    </tr>\n",
       "  </tbody>\n",
       "</table>\n",
       "<p>5 rows × 30 columns</p>\n",
       "</div>"
      ]
     },
     "execution_count": 211,
     "metadata": {},
     "output_type": "execute_result"
    }
   ],
   "execution_count": 211
  },
  {
   "metadata": {
    "ExecuteTime": {
     "end_time": "2025-02-01T11:36:02.526610Z",
     "start_time": "2025-02-01T11:36:02.521731Z"
    }
   },
   "cell_type": "code",
   "source": "df.drop(columns = 'If Public Transport, Do you get seat availability easily?  ', inplace=True)\n",
   "id": "ad35366b86fcbab6",
   "outputs": [],
   "execution_count": 206
  },
  {
   "metadata": {
    "ExecuteTime": {
     "end_time": "2025-02-01T11:37:44.033856Z",
     "start_time": "2025-02-01T11:37:44.028105Z"
    }
   },
   "cell_type": "code",
   "source": "df['If Public Transport, Do you get seat availability easily?'].isnull().sum()",
   "id": "feff02aad7603db6",
   "outputs": [
    {
     "data": {
      "text/plain": [
       "0"
      ]
     },
     "execution_count": 213,
     "metadata": {},
     "output_type": "execute_result"
    }
   ],
   "execution_count": 213
  },
  {
   "metadata": {
    "ExecuteTime": {
     "end_time": "2025-02-01T11:43:36.830976Z",
     "start_time": "2025-02-01T11:43:36.825929Z"
    }
   },
   "cell_type": "code",
   "source": "df['Are you from Jaipur?'].value_counts()",
   "id": "bc0d2f67ff87c059",
   "outputs": [
    {
     "data": {
      "text/plain": [
       "Are you from Jaipur?\n",
       "Yes    705\n",
       "No     214\n",
       "Name: count, dtype: int64"
      ]
     },
     "execution_count": 218,
     "metadata": {},
     "output_type": "execute_result"
    }
   ],
   "execution_count": 218
  },
  {
   "metadata": {
    "ExecuteTime": {
     "end_time": "2025-02-01T11:43:58.491171Z",
     "start_time": "2025-02-01T11:43:58.480088Z"
    }
   },
   "cell_type": "code",
   "source": [
    "df['Are you from Jaipur?'] = df['Are you from Jaipur?'].fillna('Yes')\n",
    "print(df['Are you from Jaipur?'].value_counts())\n",
    "print(df.info())"
   ],
   "id": "af3bf04cef68a8f9",
   "outputs": [
    {
     "name": "stdout",
     "output_type": "stream",
     "text": [
      "Are you from Jaipur?\n",
      "Yes    710\n",
      "No     214\n",
      "Name: count, dtype: int64\n",
      "<class 'pandas.core.frame.DataFrame'>\n",
      "RangeIndex: 924 entries, 0 to 923\n",
      "Data columns (total 30 columns):\n",
      " #   Column                                                                                                    Non-Null Count  Dtype  \n",
      "---  ------                                                                                                    --------------  -----  \n",
      " 0   Are you from Jaipur?                                                                                      924 non-null    object \n",
      " 1   What is your age?                                                                                         924 non-null    float64\n",
      " 2   What is your gender?                                                                                      919 non-null    object \n",
      " 3   What is your departure address (with pincode)?                                                            924 non-null    object \n",
      " 4   What is your destination address?  (with pincode)                                                         924 non-null    object \n",
      " 5   What is your mode of transportation?                                                                      924 non-null    object \n",
      " 6   If personal vehicles do you find a parking space easily?                                                  924 non-null    object \n",
      " 7   How long do you wait for Public Transport?                                                                924 non-null    float64\n",
      " 8   What time do you prefer to leave your house to work/school/university/hospital?                           912 non-null    object \n",
      " 9   How much time (minutes) do you take to travel ?                                                           924 non-null    float64\n",
      " 10  What time do you prefer to leave your work/school/university/ hospital for home?                          900 non-null    object \n",
      " 11  How long time (minutes) do you travel?                                                                    924 non-null    float64\n",
      " 12  Cost of petrol                                                                                            924 non-null    float64\n",
      " 13  Could you kindly specify the tolls?                                                                       924 non-null    object \n",
      " 14  Could you kindly tell your normally driving mood during driving time?                                     924 non-null    object \n",
      " 15  How many stops during your journey time?                                                                  868 non-null    object \n",
      " 16  What type of stoppage?                                                                                    924 non-null    object \n",
      " 17  How many traffic lights do you have to pass during your travel journey ?                                  924 non-null    int64  \n",
      " 18  How many junctions during your travel journey?                                                            924 non-null    int64  \n",
      " 19  How many road blocks during your travel journey?                                                          924 non-null    int64  \n",
      " 20  Can you reach your destination on Time?                                                                   924 non-null    bool   \n",
      " 21  Can you reach your home on Time?                                                                          924 non-null    bool   \n",
      " 22  What is the weather condition before leaving home?                                                        924 non-null    object \n",
      " 23  When did this journey take place?                                                                         924 non-null    object \n",
      " 24  When did you travel?                                                                                      924 non-null    object \n",
      " 25  Describe how do you feel traveling in Jaipur, in one or two words. For example polluted, good, sad etc.   924 non-null    object \n",
      " 26  Travel_Date                                                                                               924 non-null    object \n",
      " 27  Travel_Time                                                                                               924 non-null    object \n",
      " 28  How many toll booth are there from your house to work/school/university/ hospital?                        924 non-null    float64\n",
      " 29  If Public Transport, Do you get seat availability easily?                                                 924 non-null    object \n",
      "dtypes: bool(2), float64(6), int64(3), object(19)\n",
      "memory usage: 204.1+ KB\n",
      "None\n"
     ]
    }
   ],
   "execution_count": 219
  },
  {
   "metadata": {
    "ExecuteTime": {
     "end_time": "2025-02-01T11:44:32.846862Z",
     "start_time": "2025-02-01T11:44:32.841349Z"
    }
   },
   "cell_type": "code",
   "source": "df['What is your gender?'].value_counts()",
   "id": "f171a6050cd3838a",
   "outputs": [
    {
     "data": {
      "text/plain": [
       "What is your gender?\n",
       "Male      622\n",
       "Female    297\n",
       "Name: count, dtype: int64"
      ]
     },
     "execution_count": 220,
     "metadata": {},
     "output_type": "execute_result"
    }
   ],
   "execution_count": 220
  },
  {
   "metadata": {
    "ExecuteTime": {
     "end_time": "2025-02-01T11:44:45.188036Z",
     "start_time": "2025-02-01T11:44:45.177035Z"
    }
   },
   "cell_type": "code",
   "source": [
    "df['What is your gender?'] = df['What is your gender?'].fillna('Male')\n",
    "print(df['What is your gender?'].value_counts())\n",
    "print(df.info())"
   ],
   "id": "acec27a0cb75b06a",
   "outputs": [
    {
     "name": "stdout",
     "output_type": "stream",
     "text": [
      "What is your gender?\n",
      "Male      627\n",
      "Female    297\n",
      "Name: count, dtype: int64\n",
      "<class 'pandas.core.frame.DataFrame'>\n",
      "RangeIndex: 924 entries, 0 to 923\n",
      "Data columns (total 30 columns):\n",
      " #   Column                                                                                                    Non-Null Count  Dtype  \n",
      "---  ------                                                                                                    --------------  -----  \n",
      " 0   Are you from Jaipur?                                                                                      924 non-null    object \n",
      " 1   What is your age?                                                                                         924 non-null    float64\n",
      " 2   What is your gender?                                                                                      924 non-null    object \n",
      " 3   What is your departure address (with pincode)?                                                            924 non-null    object \n",
      " 4   What is your destination address?  (with pincode)                                                         924 non-null    object \n",
      " 5   What is your mode of transportation?                                                                      924 non-null    object \n",
      " 6   If personal vehicles do you find a parking space easily?                                                  924 non-null    object \n",
      " 7   How long do you wait for Public Transport?                                                                924 non-null    float64\n",
      " 8   What time do you prefer to leave your house to work/school/university/hospital?                           912 non-null    object \n",
      " 9   How much time (minutes) do you take to travel ?                                                           924 non-null    float64\n",
      " 10  What time do you prefer to leave your work/school/university/ hospital for home?                          900 non-null    object \n",
      " 11  How long time (minutes) do you travel?                                                                    924 non-null    float64\n",
      " 12  Cost of petrol                                                                                            924 non-null    float64\n",
      " 13  Could you kindly specify the tolls?                                                                       924 non-null    object \n",
      " 14  Could you kindly tell your normally driving mood during driving time?                                     924 non-null    object \n",
      " 15  How many stops during your journey time?                                                                  868 non-null    object \n",
      " 16  What type of stoppage?                                                                                    924 non-null    object \n",
      " 17  How many traffic lights do you have to pass during your travel journey ?                                  924 non-null    int64  \n",
      " 18  How many junctions during your travel journey?                                                            924 non-null    int64  \n",
      " 19  How many road blocks during your travel journey?                                                          924 non-null    int64  \n",
      " 20  Can you reach your destination on Time?                                                                   924 non-null    bool   \n",
      " 21  Can you reach your home on Time?                                                                          924 non-null    bool   \n",
      " 22  What is the weather condition before leaving home?                                                        924 non-null    object \n",
      " 23  When did this journey take place?                                                                         924 non-null    object \n",
      " 24  When did you travel?                                                                                      924 non-null    object \n",
      " 25  Describe how do you feel traveling in Jaipur, in one or two words. For example polluted, good, sad etc.   924 non-null    object \n",
      " 26  Travel_Date                                                                                               924 non-null    object \n",
      " 27  Travel_Time                                                                                               924 non-null    object \n",
      " 28  How many toll booth are there from your house to work/school/university/ hospital?                        924 non-null    float64\n",
      " 29  If Public Transport, Do you get seat availability easily?                                                 924 non-null    object \n",
      "dtypes: bool(2), float64(6), int64(3), object(19)\n",
      "memory usage: 204.1+ KB\n",
      "None\n"
     ]
    }
   ],
   "execution_count": 221
  },
  {
   "metadata": {
    "ExecuteTime": {
     "end_time": "2025-02-01T11:45:00.589720Z",
     "start_time": "2025-02-01T11:45:00.584582Z"
    }
   },
   "cell_type": "code",
   "source": "df['What is your gender?'].value_counts()\n",
   "id": "53673df44d8dd085",
   "outputs": [
    {
     "data": {
      "text/plain": [
       "What is your gender?\n",
       "Male      627\n",
       "Female    297\n",
       "Name: count, dtype: int64"
      ]
     },
     "execution_count": 222,
     "metadata": {},
     "output_type": "execute_result"
    }
   ],
   "execution_count": 222
  },
  {
   "metadata": {
    "ExecuteTime": {
     "end_time": "2025-02-01T11:45:34.330310Z",
     "start_time": "2025-02-01T11:45:34.316865Z"
    }
   },
   "cell_type": "code",
   "source": "df.isnull().sum()",
   "id": "f2ffdc17bef5dc72",
   "outputs": [
    {
     "data": {
      "text/plain": [
       "Are you from Jaipur?                                                                                         0\n",
       "What is your age?                                                                                            0\n",
       "What is your gender?                                                                                         0\n",
       "What is your departure address (with pincode)?                                                               0\n",
       "What is your destination address?  (with pincode)                                                            0\n",
       "What is your mode of transportation?                                                                         0\n",
       "If personal vehicles do you find a parking space easily?                                                     0\n",
       "How long do you wait for Public Transport?                                                                   0\n",
       "What time do you prefer to leave your house to work/school/university/hospital?                             12\n",
       "How much time (minutes) do you take to travel ?                                                              0\n",
       "What time do you prefer to leave your work/school/university/ hospital for home?                            24\n",
       "How long time (minutes) do you travel?                                                                       0\n",
       "Cost of petrol                                                                                               0\n",
       "Could you kindly specify the tolls?                                                                          0\n",
       "Could you kindly tell your normally driving mood during driving time?                                        0\n",
       "How many stops during your journey time?                                                                    56\n",
       "What type of stoppage?                                                                                       0\n",
       "How many traffic lights do you have to pass during your travel journey ?                                     0\n",
       "How many junctions during your travel journey?                                                               0\n",
       "How many road blocks during your travel journey?                                                             0\n",
       "Can you reach your destination on Time?                                                                      0\n",
       "Can you reach your home on Time?                                                                             0\n",
       "What is the weather condition before leaving home?                                                           0\n",
       "When did this journey take place?                                                                            0\n",
       "When did you travel?                                                                                         0\n",
       "Describe how do you feel traveling in Jaipur, in one or two words. For example polluted, good, sad etc.      0\n",
       "Travel_Date                                                                                                  0\n",
       "Travel_Time                                                                                                  0\n",
       "How many toll booth are there from your house to work/school/university/ hospital?                           0\n",
       "If Public Transport, Do you get seat availability easily?                                                    0\n",
       "dtype: int64"
      ]
     },
     "execution_count": 223,
     "metadata": {},
     "output_type": "execute_result"
    }
   ],
   "execution_count": 223
  },
  {
   "metadata": {
    "ExecuteTime": {
     "end_time": "2025-02-01T11:47:33.066320Z",
     "start_time": "2025-02-01T11:47:33.061168Z"
    }
   },
   "cell_type": "code",
   "source": "df['What time do you prefer to leave your house to work/school/university/hospital?'].value_counts()",
   "id": "13a33dbd0a2ab770",
   "outputs": [
    {
     "data": {
      "text/plain": [
       "What time do you prefer to leave your house to work/school/university/hospital?\n",
       "08:00:00    343\n",
       "07:00:00    278\n",
       "09:00:00    115\n",
       "06:00:00     70\n",
       "05:00:00     34\n",
       "14:00:00     24\n",
       "10:00:00     21\n",
       "00:00:00     11\n",
       "11:00:00     10\n",
       "13:00:00      6\n",
       "Name: count, dtype: int64"
      ]
     },
     "execution_count": 224,
     "metadata": {},
     "output_type": "execute_result"
    }
   ],
   "execution_count": 224
  },
  {
   "metadata": {
    "ExecuteTime": {
     "end_time": "2025-02-01T11:48:45.398953Z",
     "start_time": "2025-02-01T11:48:45.395444Z"
    }
   },
   "cell_type": "code",
   "source": "df['What time do you prefer to leave your house to work/school/university/hospital?']=df['What time do you prefer to leave your house to work/school/university/hospital?'].fillna('08:00:00')",
   "id": "7b24dcc6fdda7573",
   "outputs": [],
   "execution_count": 225
  },
  {
   "metadata": {
    "ExecuteTime": {
     "end_time": "2025-02-01T11:51:28.478169Z",
     "start_time": "2025-02-01T11:51:28.471980Z"
    }
   },
   "cell_type": "code",
   "source": "df['What time do you prefer to leave your work/school/university/ hospital for home?'].value_counts()",
   "id": "e28bdd0d494db531",
   "outputs": [
    {
     "data": {
      "text/plain": [
       "What time do you prefer to leave your work/school/university/ hospital for home?\n",
       "15:00:00    358\n",
       "16:00:00    213\n",
       "17:00:00    159\n",
       "18:00:00     57\n",
       "20:00:00     38\n",
       "19:00:00     38\n",
       "15:00:00     24\n",
       "21:00:00     18\n",
       "23:00:00     15\n",
       "22:00:00      4\n",
       "Name: count, dtype: int64"
      ]
     },
     "execution_count": 232,
     "metadata": {},
     "output_type": "execute_result"
    }
   ],
   "execution_count": 232
  },
  {
   "metadata": {
    "ExecuteTime": {
     "end_time": "2025-02-01T11:52:15.513387Z",
     "start_time": "2025-02-01T11:52:15.510196Z"
    }
   },
   "cell_type": "code",
   "source": "df['What time do you prefer to leave your work/school/university/ hospital for home?']=df['What time do you prefer to leave your work/school/university/ hospital for home?'].fillna('15:00:00')",
   "id": "2ad1c4bedf2a8980",
   "outputs": [],
   "execution_count": 236
  },
  {
   "metadata": {
    "ExecuteTime": {
     "end_time": "2025-02-01T11:52:18.205975Z",
     "start_time": "2025-02-01T11:52:18.199975Z"
    }
   },
   "cell_type": "code",
   "source": "df['What time do you prefer to leave your work/school/university/ hospital for home?'].value_counts()\n",
   "id": "92417a3edeb45cb8",
   "outputs": [
    {
     "data": {
      "text/plain": [
       "What time do you prefer to leave your work/school/university/ hospital for home?\n",
       "15:00:00    358\n",
       "16:00:00    213\n",
       "17:00:00    159\n",
       "18:00:00     57\n",
       "20:00:00     38\n",
       "19:00:00     38\n",
       "15:00:00     24\n",
       "21:00:00     18\n",
       "23:00:00     15\n",
       "22:00:00      4\n",
       "Name: count, dtype: int64"
      ]
     },
     "execution_count": 237,
     "metadata": {},
     "output_type": "execute_result"
    }
   ],
   "execution_count": 237
  },
  {
   "metadata": {
    "ExecuteTime": {
     "end_time": "2025-02-01T11:52:29.449052Z",
     "start_time": "2025-02-01T11:52:29.443371Z"
    }
   },
   "cell_type": "code",
   "source": "df['What time do you prefer to leave your work/school/university/ hospital for home?'].isnull().sum()\n",
   "id": "ecb689d9a3f4c62e",
   "outputs": [
    {
     "data": {
      "text/plain": [
       "0"
      ]
     },
     "execution_count": 238,
     "metadata": {},
     "output_type": "execute_result"
    }
   ],
   "execution_count": 238
  },
  {
   "metadata": {
    "ExecuteTime": {
     "end_time": "2025-02-01T11:52:41.558443Z",
     "start_time": "2025-02-01T11:52:41.550312Z"
    }
   },
   "cell_type": "code",
   "source": "df.isnull().sum()",
   "id": "8617a0764829ffd",
   "outputs": [
    {
     "data": {
      "text/plain": [
       "Are you from Jaipur?                                                                                         0\n",
       "What is your age?                                                                                            0\n",
       "What is your gender?                                                                                         0\n",
       "What is your departure address (with pincode)?                                                               0\n",
       "What is your destination address?  (with pincode)                                                            0\n",
       "What is your mode of transportation?                                                                         0\n",
       "If personal vehicles do you find a parking space easily?                                                     0\n",
       "How long do you wait for Public Transport?                                                                   0\n",
       "What time do you prefer to leave your house to work/school/university/hospital?                              0\n",
       "How much time (minutes) do you take to travel ?                                                              0\n",
       "What time do you prefer to leave your work/school/university/ hospital for home?                             0\n",
       "How long time (minutes) do you travel?                                                                       0\n",
       "Cost of petrol                                                                                               0\n",
       "Could you kindly specify the tolls?                                                                          0\n",
       "Could you kindly tell your normally driving mood during driving time?                                        0\n",
       "How many stops during your journey time?                                                                    56\n",
       "What type of stoppage?                                                                                       0\n",
       "How many traffic lights do you have to pass during your travel journey ?                                     0\n",
       "How many junctions during your travel journey?                                                               0\n",
       "How many road blocks during your travel journey?                                                             0\n",
       "Can you reach your destination on Time?                                                                      0\n",
       "Can you reach your home on Time?                                                                             0\n",
       "What is the weather condition before leaving home?                                                           0\n",
       "When did this journey take place?                                                                            0\n",
       "When did you travel?                                                                                         0\n",
       "Describe how do you feel traveling in Jaipur, in one or two words. For example polluted, good, sad etc.      0\n",
       "Travel_Date                                                                                                  0\n",
       "Travel_Time                                                                                                  0\n",
       "How many toll booth are there from your house to work/school/university/ hospital?                           0\n",
       "If Public Transport, Do you get seat availability easily?                                                    0\n",
       "dtype: int64"
      ]
     },
     "execution_count": 239,
     "metadata": {},
     "output_type": "execute_result"
    }
   ],
   "execution_count": 239
  },
  {
   "metadata": {
    "ExecuteTime": {
     "end_time": "2025-02-01T11:53:27.519208Z",
     "start_time": "2025-02-01T11:53:27.513970Z"
    }
   },
   "cell_type": "code",
   "source": "df['How many stops during your journey time?'].isnull().sum()",
   "id": "f3eb0f0ac9e8d491",
   "outputs": [
    {
     "data": {
      "text/plain": [
       "56"
      ]
     },
     "execution_count": 241,
     "metadata": {},
     "output_type": "execute_result"
    }
   ],
   "execution_count": 241
  },
  {
   "metadata": {
    "ExecuteTime": {
     "end_time": "2025-02-01T11:54:08.856076Z",
     "start_time": "2025-02-01T11:54:08.852072Z"
    }
   },
   "cell_type": "code",
   "source": "df['How many stops during your journey time?']= df['How many stops during your journey time?'].fillna('0')",
   "id": "58b25ea1c8ae94ce",
   "outputs": [],
   "execution_count": 242
  },
  {
   "metadata": {
    "ExecuteTime": {
     "end_time": "2025-02-01T11:54:14.392226Z",
     "start_time": "2025-02-01T11:54:14.387758Z"
    }
   },
   "cell_type": "code",
   "source": "df['How many stops during your journey time?'].isnull().sum()",
   "id": "f82ba6c6c3711304",
   "outputs": [
    {
     "data": {
      "text/plain": [
       "0"
      ]
     },
     "execution_count": 243,
     "metadata": {},
     "output_type": "execute_result"
    }
   ],
   "execution_count": 243
  },
  {
   "metadata": {
    "ExecuteTime": {
     "end_time": "2025-02-01T11:54:30.528909Z",
     "start_time": "2025-02-01T11:54:30.520832Z"
    }
   },
   "cell_type": "code",
   "source": "df.isnull().sum()",
   "id": "a614bc51980e6c8c",
   "outputs": [
    {
     "data": {
      "text/plain": [
       "Are you from Jaipur?                                                                                        0\n",
       "What is your age?                                                                                           0\n",
       "What is your gender?                                                                                        0\n",
       "What is your departure address (with pincode)?                                                              0\n",
       "What is your destination address?  (with pincode)                                                           0\n",
       "What is your mode of transportation?                                                                        0\n",
       "If personal vehicles do you find a parking space easily?                                                    0\n",
       "How long do you wait for Public Transport?                                                                  0\n",
       "What time do you prefer to leave your house to work/school/university/hospital?                             0\n",
       "How much time (minutes) do you take to travel ?                                                             0\n",
       "What time do you prefer to leave your work/school/university/ hospital for home?                            0\n",
       "How long time (minutes) do you travel?                                                                      0\n",
       "Cost of petrol                                                                                              0\n",
       "Could you kindly specify the tolls?                                                                         0\n",
       "Could you kindly tell your normally driving mood during driving time?                                       0\n",
       "How many stops during your journey time?                                                                    0\n",
       "What type of stoppage?                                                                                      0\n",
       "How many traffic lights do you have to pass during your travel journey ?                                    0\n",
       "How many junctions during your travel journey?                                                              0\n",
       "How many road blocks during your travel journey?                                                            0\n",
       "Can you reach your destination on Time?                                                                     0\n",
       "Can you reach your home on Time?                                                                            0\n",
       "What is the weather condition before leaving home?                                                          0\n",
       "When did this journey take place?                                                                           0\n",
       "When did you travel?                                                                                        0\n",
       "Describe how do you feel traveling in Jaipur, in one or two words. For example polluted, good, sad etc.     0\n",
       "Travel_Date                                                                                                 0\n",
       "Travel_Time                                                                                                 0\n",
       "How many toll booth are there from your house to work/school/university/ hospital?                          0\n",
       "If Public Transport, Do you get seat availability easily?                                                   0\n",
       "dtype: int64"
      ]
     },
     "execution_count": 244,
     "metadata": {},
     "output_type": "execute_result"
    }
   ],
   "execution_count": 244
  },
  {
   "metadata": {
    "ExecuteTime": {
     "end_time": "2025-02-01T11:54:48.980385Z",
     "start_time": "2025-02-01T11:54:48.968377Z"
    }
   },
   "cell_type": "code",
   "source": [
    "df.drop_duplicates(inplace=True)\n",
    "print(f\"Number of rows after removing duplicates: {len(df)}\")"
   ],
   "id": "f8c5f48ce9aefdb4",
   "outputs": [
    {
     "name": "stdout",
     "output_type": "stream",
     "text": [
      "Number of rows after removing duplicates: 924\n"
     ]
    }
   ],
   "execution_count": 245
  },
  {
   "metadata": {
    "ExecuteTime": {
     "end_time": "2025-02-01T11:56:06.639114Z",
     "start_time": "2025-02-01T11:56:06.624057Z"
    }
   },
   "cell_type": "code",
   "source": [
    "df.to_csv('cleaned_travel_data.csv', index=False)\n",
    "print(\"Cleaned data saved to 'cleaned_travel_data.csv'\")"
   ],
   "id": "4150c4be4dfeee7e",
   "outputs": [
    {
     "name": "stdout",
     "output_type": "stream",
     "text": [
      "Cleaned data saved to 'cleaned_travel_data.csv'\n"
     ]
    }
   ],
   "execution_count": 246
  },
  {
   "metadata": {
    "ExecuteTime": {
     "end_time": "2025-02-01T12:37:26.754478Z",
     "start_time": "2025-02-01T12:37:26.644062Z"
    }
   },
   "cell_type": "code",
   "source": "sns.heatmap(df.isnull(),yticklabels=False,cbar=False,cmap='viridis',xticklabels=False)\n",
   "id": "3f17a73acf8fd405",
   "outputs": [
    {
     "data": {
      "text/plain": [
       "<IPython.core.display.Javascript object>"
      ],
      "application/javascript": "\n        if (window._pyforest_update_imports_cell) { window._pyforest_update_imports_cell('import seaborn as sns'); }\n    "
     },
     "metadata": {},
     "output_type": "display_data"
    },
    {
     "data": {
      "text/plain": [
       "<Axes: >"
      ]
     },
     "execution_count": 247,
     "metadata": {},
     "output_type": "execute_result"
    },
    {
     "data": {
      "text/plain": [
       "<Figure size 640x480 with 1 Axes>"
      ],
      "image/png": "[encoded data removed]"
     },
     "metadata": {},
     "output_type": "display_data"
    }
   ],
   "execution_count": 247
  },
  {
   "metadata": {},
   "cell_type": "code",
   "outputs": [],
   "execution_count": null,
   "source": "",
   "id": "a71e268ac33d3621"
  }
 ],
 "metadata": {
  "kernelspec": {
   "display_name": "Python 3",
   "language": "python",
   "name": "python3"
  },
  "language_info": {
   "codemirror_mode": {
    "name": "ipython",
    "version": 2
   },
   "file_extension": ".py",
   "mimetype": "text/x-python",
   "name": "python",
   "nbconvert_exporter": "python",
   "pygments_lexer": "ipython2",
   "version": "2.7.6"
  }
 },
 "nbformat": 4,
 "nbformat_minor": 5
}
