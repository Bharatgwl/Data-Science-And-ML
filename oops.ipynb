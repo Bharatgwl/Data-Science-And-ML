{
 "cells": [
  {
   "cell_type": "markdown",
   "id": "52ee6008-d769-4786-81d0-6404027f822b",
   "metadata": {},
   "source": [
    "## Oops python tutorial"
   ]
  },
  {
   "cell_type": "code",
   "execution_count": 9,
   "id": "1391489f-4724-446a-8c1f-994d377613bf",
   "metadata": {},
   "outputs": [],
   "source": [
    "class CAR:\n",
    "    def __init__(self, name, model, color):\n",
    "        self.name=name\n",
    "        self.model=model\n",
    "        self.color=color\n",
    "    def show(self):\n",
    "        print(\"this is a {} of {} and in {} color\".format(self.name,self.model,self.color))\n",
    "        "
   ]
  },
  {
   "cell_type": "code",
   "execution_count": 11,
   "id": "0e3eaa4a-e6f1-448f-8812-5388bebf0a25",
   "metadata": {},
   "outputs": [
    {
     "name": "stdout",
     "output_type": "stream",
     "text": [
      "this is a mercedes benz of 2014 and in grey color\n"
     ]
    },
    {
     "data": {
      "text/plain": [
       "['__class__',\n",
       " '__delattr__',\n",
       " '__dict__',\n",
       " '__dir__',\n",
       " '__doc__',\n",
       " '__eq__',\n",
       " '__format__',\n",
       " '__ge__',\n",
       " '__getattribute__',\n",
       " '__getstate__',\n",
       " '__gt__',\n",
       " '__hash__',\n",
       " '__init__',\n",
       " '__init_subclass__',\n",
       " '__le__',\n",
       " '__lt__',\n",
       " '__module__',\n",
       " '__ne__',\n",
       " '__new__',\n",
       " '__reduce__',\n",
       " '__reduce_ex__',\n",
       " '__repr__',\n",
       " '__setattr__',\n",
       " '__sizeof__',\n",
       " '__str__',\n",
       " '__subclasshook__',\n",
       " '__weakref__',\n",
       " 'color',\n",
       " 'model',\n",
       " 'name',\n",
       " 'show']"
      ]
     },
     "execution_count": 11,
     "metadata": {},
     "output_type": "execute_result"
    }
   ],
   "source": [
    "car1 = CAR(\"mercedes benz\",2014,\"grey\")\n",
    "car1.show()\n",
    "dir(car1)"
   ]
  },
  {
   "cell_type": "raw",
   "id": "eb4490b1-ab16-42c8-b516-1fcdc74becd9",
   "metadata": {},
   "source": [
    "dir(car1)"
   ]
  },
  {
   "cell_type": "code",
   "execution_count": 12,
   "id": "e3899338-fd29-4142-a193-9b2ca6608e96",
   "metadata": {},
   "outputs": [
    {
     "name": "stdout",
     "output_type": "stream",
     "text": [
      "this is a bmw of 2014 and in grey color\n"
     ]
    }
   ],
   "source": [
    "car1.name=\"bmw\" ## we can change the data of the class which is not a good practice in general\n",
    "car1.show()"
   ]
  }
 ],
 "metadata": {
  "kernelspec": {
   "display_name": "Python 3 (ipykernel)",
   "language": "python",
   "name": "python3"
  },
  "language_info": {
   "codemirror_mode": {
    "name": "ipython",
    "version": 3
   },
   "file_extension": ".py",
   "mimetype": "text/x-python",
   "name": "python",
   "nbconvert_exporter": "python",
   "pygments_lexer": "ipython3",
   "version": "3.12.7"
  }
 },
 "nbformat": 4,
 "nbformat_minor": 5
}
