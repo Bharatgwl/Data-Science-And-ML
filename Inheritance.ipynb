{
 "cells": [
  {
   "cell_type": "markdown",
   "id": "90a83774-fa43-4efc-a044-60ab1520b3b8",
   "metadata": {},
   "source": [
    "# Inheritance in python"
   ]
  },
  {
   "cell_type": "code",
   "execution_count": 2,
   "id": "92779b78-e201-4dda-83d3-1ecd646dfd42",
   "metadata": {},
   "outputs": [],
   "source": [
    "### All the class variable is public\n",
    "class car():\n",
    "    def __init__(self,windows,doors,enginetype):\n",
    "        self.windows=windows\n",
    "        self.doors=doors\n",
    "        self.enginetype=enginetype\n",
    "    def drive(self):\n",
    "        print(\"the person drives the car\")  \n",
    "        "
   ]
  },
  {
   "cell_type": "code",
   "execution_count": 5,
   "id": "d467fae5-4df9-440e-bab8-0f3c96bfed2d",
   "metadata": {},
   "outputs": [
    {
     "name": "stdout",
     "output_type": "stream",
     "text": [
      "the person drives the car\n"
     ]
    }
   ],
   "source": [
    "c1 =car(4,4,\"petrol\")\n",
    "c1.drive()"
   ]
  },
  {
   "cell_type": "code",
   "execution_count": 6,
   "id": "2aa15cc2-bd04-4658-8d29-681f6372f6ed",
   "metadata": {},
   "outputs": [
    {
     "data": {
      "text/plain": [
       "['__annotations__',\n",
       " '__class__',\n",
       " '__delattr__',\n",
       " '__dict__',\n",
       " '__dir__',\n",
       " '__doc__',\n",
       " '__eq__',\n",
       " '__format__',\n",
       " '__ge__',\n",
       " '__getattribute__',\n",
       " '__getstate__',\n",
       " '__gt__',\n",
       " '__hash__',\n",
       " '__init__',\n",
       " '__init_subclass__',\n",
       " '__le__',\n",
       " '__lt__',\n",
       " '__module__',\n",
       " '__ne__',\n",
       " '__new__',\n",
       " '__reduce__',\n",
       " '__reduce_ex__',\n",
       " '__repr__',\n",
       " '__setattr__',\n",
       " '__sizeof__',\n",
       " '__str__',\n",
       " '__subclasshook__',\n",
       " '__weakref__',\n",
       " 'doors',\n",
       " 'drive',\n",
       " 'enginetype',\n",
       " 'windows']"
      ]
     },
     "execution_count": 6,
     "metadata": {},
     "output_type": "execute_result"
    }
   ],
   "source": [
    "dir(c1)"
   ]
  },
  {
   "cell_type": "code",
   "execution_count": 13,
   "id": "b2cae652-34c8-41c9-8292-ceadf1559ccc",
   "metadata": {},
   "outputs": [],
   "source": [
    "class audi(car):\n",
    "    def __init__(self, windows,doors,enginetype,color):## constructor of child class here it's inherited\n",
    "        super().__init__(windows,doors,enginetype)## invoking the super class constructor to allocate memory for the features \n",
    "        self.color=color\n",
    "    def selfdriving(self):\n",
    "        print(\"car has the features of self driving\")\n",
    "        "
   ]
  },
  {
   "cell_type": "code",
   "execution_count": 14,
   "id": "3e089872-1a90-4da9-9ff1-762335bf19da",
   "metadata": {},
   "outputs": [
    {
     "name": "stdout",
     "output_type": "stream",
     "text": [
      "car has the features of self driving\n"
     ]
    }
   ],
   "source": [
    "audiQ7 = audi(5,5,\"petrol\",\"red\")\n",
    "audiQ7.selfdriving()\n"
   ]
  },
  {
   "cell_type": "code",
   "execution_count": 16,
   "id": "ca83f1a1-2ab4-463d-b99e-4368df0ae2d0",
   "metadata": {},
   "outputs": [
    {
     "data": {
      "text/plain": [
       "'red'"
      ]
     },
     "execution_count": 16,
     "metadata": {},
     "output_type": "execute_result"
    }
   ],
   "source": [
    "audiQ7.color"
   ]
  },
  {
   "cell_type": "code",
   "execution_count": 17,
   "id": "e12f1c12-a84c-4500-ba91-a531e61e8551",
   "metadata": {},
   "outputs": [
    {
     "data": {
      "text/plain": [
       "'petrol'"
      ]
     },
     "execution_count": 17,
     "metadata": {},
     "output_type": "execute_result"
    }
   ],
   "source": [
    "audiQ7.enginetype"
   ]
  },
  {
   "cell_type": "code",
   "execution_count": 19,
   "id": "e631b284-7a24-49e4-ba06-89e61d7db6c5",
   "metadata": {},
   "outputs": [
    {
     "name": "stdout",
     "output_type": "stream",
     "text": [
      "the person drives the car\n"
     ]
    }
   ],
   "source": [
    "audiQ7.drive()"
   ]
  },
  {
   "cell_type": "code",
   "execution_count": null,
   "id": "b76a9dfc-8c29-41af-b639-38f1eb07f420",
   "metadata": {},
   "outputs": [],
   "source": []
  }
 ],
 "metadata": {
  "kernelspec": {
   "display_name": "Python 3 (ipykernel)",
   "language": "python",
   "name": "python3"
  },
  "language_info": {
   "codemirror_mode": {
    "name": "ipython",
    "version": 3
   },
   "file_extension": ".py",
   "mimetype": "text/x-python",
   "name": "python",
   "nbconvert_exporter": "python",
   "pygments_lexer": "ipython3",
   "version": "3.12.7"
  }
 },
 "nbformat": 4,
 "nbformat_minor": 5
}
