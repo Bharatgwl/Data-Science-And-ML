{
 "cells": [
  {
   "cell_type": "markdown",
   "id": "4cc5b400-31b2-410d-b255-f6fdac81331f",
   "metadata": {},
   "source": [
    "## lamda functions \n",
    "anonymous functions \n",
    "A functions with no name"
   ]
  },
  {
   "cell_type": "code",
   "execution_count": 2,
   "id": "c99bdc26-20e5-45e2-8316-09f200cc85ab",
   "metadata": {},
   "outputs": [],
   "source": [
    "def addition(a,b):\n",
    "    return a+b\n",
    "    "
   ]
  },
  {
   "cell_type": "code",
   "execution_count": 3,
   "id": "739b062a-25d1-4049-9953-fddfeaf654c9",
   "metadata": {},
   "outputs": [
    {
     "data": {
      "text/plain": [
       "4"
      ]
     },
     "execution_count": 3,
     "metadata": {},
     "output_type": "execute_result"
    }
   ],
   "source": [
    "addition(2,2)"
   ]
  },
  {
   "cell_type": "code",
   "execution_count": 4,
   "id": "93e29286-0bb3-4bbc-97f3-79de42e51acc",
   "metadata": {},
   "outputs": [],
   "source": [
    "addition=lambda a,b: a+b  ## it will only works when there is single statement in the function \n",
    "## it is fast as compare to normal functions "
   ]
  },
  {
   "cell_type": "code",
   "execution_count": 5,
   "id": "5f69af7d-74c3-4070-bbf7-1bd754bdfe5c",
   "metadata": {},
   "outputs": [
    {
     "data": {
      "text/plain": [
       "54"
      ]
     },
     "execution_count": 5,
     "metadata": {},
     "output_type": "execute_result"
    }
   ],
   "source": [
    "addition(4,50)"
   ]
  },
  {
   "cell_type": "code",
   "execution_count": 8,
   "id": "4337032a-013b-4b11-9dcc-28c7f699b388",
   "metadata": {},
   "outputs": [],
   "source": [
    "def even(num):\n",
    "    return num%2==0"
   ]
  },
  {
   "cell_type": "code",
   "execution_count": 9,
   "id": "1c580b0a-f245-4716-af44-9a09acd85b21",
   "metadata": {},
   "outputs": [
    {
     "data": {
      "text/plain": [
       "True"
      ]
     },
     "execution_count": 9,
     "metadata": {},
     "output_type": "execute_result"
    }
   ],
   "source": [
    "even(4)"
   ]
  },
  {
   "cell_type": "code",
   "execution_count": 10,
   "id": "69b68384-a43c-41df-bdfd-63de75f5a91d",
   "metadata": {},
   "outputs": [],
   "source": [
    "evenl = lambda num: num%2==0\n"
   ]
  },
  {
   "cell_type": "code",
   "execution_count": 12,
   "id": "eea7beae-54ae-48be-a4ae-23cb01b8dca9",
   "metadata": {},
   "outputs": [
    {
     "data": {
      "text/plain": [
       "False"
      ]
     },
     "execution_count": 12,
     "metadata": {},
     "output_type": "execute_result"
    }
   ],
   "source": [
    "evenl(9)"
   ]
  }
 ],
 "metadata": {
  "kernelspec": {
   "display_name": "Python 3 (ipykernel)",
   "language": "python",
   "name": "python3"
  },
  "language_info": {
   "codemirror_mode": {
    "name": "ipython",
    "version": 3
   },
   "file_extension": ".py",
   "mimetype": "text/x-python",
   "name": "python",
   "nbconvert_exporter": "python",
   "pygments_lexer": "ipython3",
   "version": "3.12.7"
  }
 },
 "nbformat": 4,
 "nbformat_minor": 5
}
