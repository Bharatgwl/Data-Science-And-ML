{
 "cells": [
  {
   "cell_type": "markdown",
   "id": "fd2d6e90-b841-4e72-9a89-e6ffd1c293b0",
   "metadata": {},
   "source": [
    "## map Functions in python"
   ]
  },
  {
   "cell_type": "code",
   "execution_count": 3,
   "id": "06dfc620-988f-47f8-a895-5abf38812975",
   "metadata": {},
   "outputs": [],
   "source": [
    "def even_or_odd(num):\n",
    "    if num%2==0:\n",
    "        return f\"{num} is even\"\n",
    "    else:\n",
    "         return f\"{num} is odd\""
   ]
  },
  {
   "cell_type": "code",
   "execution_count": 5,
   "id": "dce1a90f-84c3-4ebe-9012-8e15c79549d8",
   "metadata": {},
   "outputs": [
    {
     "data": {
      "text/plain": [
       "'25 is odd'"
      ]
     },
     "execution_count": 5,
     "metadata": {},
     "output_type": "execute_result"
    }
   ],
   "source": [
    "even_or_odd(25)"
   ]
  },
  {
   "cell_type": "code",
   "execution_count": 21,
   "id": "771b6262-e784-496a-89f8-59461d3b95a6",
   "metadata": {},
   "outputs": [],
   "source": [
    "list1 = [1,3,4,5,6,7,8,9,5,4,6]\n",
    "ans = list(map(even_or_odd, list1))"
   ]
  },
  {
   "cell_type": "code",
   "execution_count": 22,
   "id": "3469dee2-8609-429d-a398-0ee379c049b8",
   "metadata": {},
   "outputs": [
    {
     "data": {
      "text/plain": [
       "['1 is odd',\n",
       " '3 is odd',\n",
       " '4 is even',\n",
       " '5 is odd',\n",
       " '6 is even',\n",
       " '7 is odd',\n",
       " '8 is even',\n",
       " '9 is odd',\n",
       " '5 is odd',\n",
       " '4 is even',\n",
       " '6 is even']"
      ]
     },
     "execution_count": 22,
     "metadata": {},
     "output_type": "execute_result"
    }
   ],
   "source": [
    "ans"
   ]
  },
  {
   "cell_type": "markdown",
   "id": "da298791-7101-477d-bec0-2b825f4fb8b3",
   "metadata": {},
   "source": [
    "## filter functions in python"
   ]
  },
  {
   "cell_type": "code",
   "execution_count": 27,
   "id": "cd25e11b-fd46-491a-a9e0-559201e31bd6",
   "metadata": {},
   "outputs": [],
   "source": [
    "def even (num):\n",
    "    if num%2==0:\n",
    "        return True"
   ]
  },
  {
   "cell_type": "code",
   "execution_count": 29,
   "id": "3fa71810-6125-41e0-af7c-4cdff3ce7414",
   "metadata": {},
   "outputs": [],
   "source": [
    "list1 = [1,3,4,5,6,7,8,9,6]"
   ]
  },
  {
   "cell_type": "code",
   "execution_count": 30,
   "id": "7e643071-b9a5-4a1d-895f-c103be0cfae8",
   "metadata": {},
   "outputs": [
    {
     "data": {
      "text/plain": [
       "[4, 6, 8, 6]"
      ]
     },
     "execution_count": 30,
     "metadata": {},
     "output_type": "execute_result"
    }
   ],
   "source": [
    "list(filter(even,list1)) ## we only get those value which is returned true by functional parameter "
   ]
  },
  {
   "cell_type": "code",
   "execution_count": 33,
   "id": "dab7ec6c-70ea-494a-9184-0713928b7b62",
   "metadata": {},
   "outputs": [
    {
     "data": {
      "text/plain": [
       "[4, 6, 8, 6]"
      ]
     },
     "execution_count": 33,
     "metadata": {},
     "output_type": "execute_result"
    }
   ],
   "source": [
    "## short trick\n",
    "list(filter(lambda num: num%2==0,list1))"
   ]
  },
  {
   "cell_type": "code",
   "execution_count": 34,
   "id": "860afcf3-e4bc-4537-a90d-97d84d7af63e",
   "metadata": {},
   "outputs": [
    {
     "data": {
      "text/plain": [
       "[False, False, True, False, True, False, True, False, True]"
      ]
     },
     "execution_count": 34,
     "metadata": {},
     "output_type": "execute_result"
    }
   ],
   "source": [
    "## what if we use map here \n",
    "list(map(lambda num : num%2==0, list1)) ## here we are getting all values regardless of true and false"
   ]
  },
  {
   "cell_type": "code",
   "execution_count": null,
   "id": "46731695-351b-4161-81ec-a239a6a29799",
   "metadata": {},
   "outputs": [],
   "source": []
  }
 ],
 "metadata": {
  "kernelspec": {
   "display_name": "Python 3 (ipykernel)",
   "language": "python",
   "name": "python3"
  },
  "language_info": {
   "codemirror_mode": {
    "name": "ipython",
    "version": 3
   },
   "file_extension": ".py",
   "mimetype": "text/x-python",
   "name": "python",
   "nbconvert_exporter": "python",
   "pygments_lexer": "ipython3",
   "version": "3.12.7"
  }
 },
 "nbformat": 4,
 "nbformat_minor": 5
}
