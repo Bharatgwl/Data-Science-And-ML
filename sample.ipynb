{
 "cells": [
  {
   "cell_type": "code",
   "execution_count": 7,
   "metadata": {},
   "outputs": [
    {
     "name": "stderr",
     "output_type": "stream",
     "text": [
      "c:\\Users\\bhara\\anaconda3\\Lib\\site-packages\\sklearn\\model_selection\\_split.py:776: UserWarning: The least populated class in y has only 1 members, which is less than n_splits=5.\n",
      "  warnings.warn(\n"
     ]
    },
    {
     "name": "stdout",
     "output_type": "stream",
     "text": [
      "Best parameters: {'clf__max_depth': None, 'clf__min_samples_split': 5, 'clf__n_estimators': 50}\n",
      "Best cross-validation accuracy: 0.52\n",
      "Test set accuracy: 0.50\n"
     ]
    }
   ],
   "source": [
    "import pandas as pd\n",
    "from sklearn.model_selection import train_test_split, GridSearchCV\n",
    "from sklearn.preprocessing import StandardScaler, OneHotEncoder\n",
    "from sklearn.compose import ColumnTransformer\n",
    "from sklearn.pipeline import Pipeline\n",
    "from sklearn.ensemble import RandomForestClassifier\n",
    "from sklearn.metrics import accuracy_score\n",
    "\n",
    "# 1. Load the data\n",
    "df = pd.read_csv(\"DATA/Travel.csv\")\n",
    "\n",
    "# 2. Rename the target column for convenience\n",
    "df.rename(columns={\"What is your mode of transportation?\": \"mode\"}, inplace=True)\n",
    "\n",
    "# 3. Drop rows with missing values (or handle them as needed)\n",
    "df = df.dropna()\n",
    "\n",
    "# 4. Separate the target and features\n",
    "X = df.drop(\"mode\", axis=1)\n",
    "y = df[\"mode\"]\n",
    "\n",
    "# 5. Identify numeric and categorical columns\n",
    "numeric_features = X.select_dtypes(include=[\"int64\", \"float64\"]).columns.tolist()\n",
    "categorical_features = X.select_dtypes(include=[\"object\"]).columns.tolist()\n",
    "\n",
    "# 6. Create preprocessing pipelines for numeric and categorical features\n",
    "numeric_transformer = Pipeline(steps=[\n",
    "    (\"scaler\", StandardScaler())\n",
    "])\n",
    "categorical_transformer = Pipeline(steps=[\n",
    "    (\"onehot\", OneHotEncoder(handle_unknown=\"ignore\"))\n",
    "])\n",
    "\n",
    "# Combine preprocessing steps\n",
    "preprocessor = ColumnTransformer(\n",
    "    transformers=[\n",
    "        (\"num\", numeric_transformer, numeric_features),\n",
    "        (\"cat\", categorical_transformer, categorical_features)\n",
    "    ]\n",
    ")\n",
    "\n",
    "# 7. Build the model pipeline with a Random Forest classifier\n",
    "pipeline = Pipeline(steps=[\n",
    "    (\"preprocessor\", preprocessor),\n",
    "    (\"clf\", RandomForestClassifier(random_state=42))\n",
    "])\n",
    "\n",
    "# 8. Define hyperparameter grid for tuning\n",
    "param_grid = {\n",
    "    \"clf__n_estimators\": [50, 100, 200],\n",
    "    \"clf__max_depth\": [None, 10, 20],\n",
    "    \"clf__min_samples_split\": [2, 5, 10]\n",
    "}\n",
    "\n",
    "# 9. Set up GridSearchCV for hyperparameter tuning\n",
    "grid_search = GridSearchCV(pipeline, param_grid, cv=5, scoring=\"accuracy\", n_jobs=-1)\n",
    "\n",
    "# 10. Split data into training and test sets\n",
    "X_train, X_test, y_train, y_test = train_test_split(X, y, test_size=0.2, random_state=42)\n",
    "\n",
    "# 11. Fit the model using grid search\n",
    "grid_search.fit(X_train, y_train)\n",
    "\n",
    "# 12. Output the best parameters and performance metrics\n",
    "print(\"Best parameters:\", grid_search.best_params_)\n",
    "print(\"Best cross-validation accuracy: {:.2f}\".format(grid_search.best_score_))\n",
    "test_predictions = grid_search.predict(X_test)\n",
    "print(\"Test set accuracy: {:.2f}\".format(accuracy_score(y_test, test_predictions)))\n"
   ]
  },
  {
   "cell_type": "code",
   "execution_count": 2,
   "metadata": {},
   "outputs": [
    {
     "name": "stdout",
     "output_type": "stream",
     "text": [
      "Index(['Timestamp', 'Are you from Jaipur?', 'What is your age?',\n",
      "       'What is your gender?',\n",
      "       'What is your departure address (with pincode)?',\n",
      "       'What is your destination address?  (with pincode)',\n",
      "       'What is your mode of transportation?',\n",
      "       'If Public Transport, Do you get seat availability easily?  ',\n",
      "       'If personal vehicles do you find a parking space easily?',\n",
      "       'How long do you wait for Public Transport?',\n",
      "       'What time do you prefer to leave your house to work/school/university/hospital?',\n",
      "       'How much time (minutes) do you take to travel ?',\n",
      "       'What time do you prefer to leave your work/school/university/ hospital for home?',\n",
      "       'How long time (minutes) do you travel?', 'Cost of petrol',\n",
      "       'How many toll booth are there from your house to work/school/university/ hospital?',\n",
      "       'Could you kindly specify the tolls?',\n",
      "       'Could you kindly tell your normally driving mood during driving time?',\n",
      "       'How many stops during your journey time?', 'What type of stoppage?',\n",
      "       'How many traffic lights do you have to pass during your travel journey ?',\n",
      "       'How many junctions during your travel journey?',\n",
      "       'How many road blocks during your travel journey?',\n",
      "       'Can you reach your destination on Time?',\n",
      "       'Can you reach your home on Time?',\n",
      "       'What is the weather condition before leaving home?',\n",
      "       'When did this journey take place?', 'When did you travel?',\n",
      "       'Describe how do you feel traveling in Jaipur, in one or two words. For example polluted, good, sad etc. '],\n",
      "      dtype='object')\n"
     ]
    }
   ],
   "source": [
    "print(df.columns)"
   ]
  },
  {
   "cell_type": "code",
   "execution_count": null,
   "metadata": {},
   "outputs": [],
   "source": []
  }
 ],
 "metadata": {
  "kernelspec": {
   "display_name": "base",
   "language": "python",
   "name": "python3"
  },
  "language_info": {
   "codemirror_mode": {
    "name": "ipython",
    "version": 3
   },
   "file_extension": ".py",
   "mimetype": "text/x-python",
   "name": "python",
   "nbconvert_exporter": "python",
   "pygments_lexer": "ipython3",
   "version": "3.12.7"
  }
 },
 "nbformat": 4,
 "nbformat_minor": 2
}
