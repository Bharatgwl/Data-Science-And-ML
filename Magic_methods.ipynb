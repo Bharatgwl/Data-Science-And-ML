{
 "cells": [
  {
   "cell_type": "markdown",
   "id": "2a6616cf-8a6a-49aa-a204-558d0ec9cd9b",
   "metadata": {},
   "source": [
    "# Python OOPS-Magic Methods In Class\n"
   ]
  },
  {
   "cell_type": "code",
   "execution_count": 2,
   "id": "3061e689-08f0-493f-b20c-2919896ede3c",
   "metadata": {},
   "outputs": [],
   "source": [
    "class CAR:\n",
    "    def __init__(self, name, model, color):\n",
    "        self.name=name\n",
    "        self.model=model\n",
    "        self.color=color\n",
    "    def show(self):\n",
    "        print(\"this is a {} of {} and in {} color\".format(self.name,self.model,self.color))\n",
    "        "
   ]
  },
  {
   "cell_type": "code",
   "execution_count": 5,
   "id": "58f71ab5-8654-4443-a294-f75bf497c7a6",
   "metadata": {},
   "outputs": [
    {
     "name": "stdout",
     "output_type": "stream",
     "text": [
      "this is a suv of 2020 and in Red color\n"
     ]
    },
    {
     "data": {
      "text/plain": [
       "<__main__.CAR at 0x2c5561720f0>"
      ]
     },
     "execution_count": 5,
     "metadata": {},
     "output_type": "execute_result"
    }
   ],
   "source": [
    "c=CAR(\"suv\",2020,\"Red\")\n",
    "c.show()"
   ]
  },
  {
   "cell_type": "code",
   "execution_count": 6,
   "id": "62d3cae6-f9a3-426f-8c21-f3bde844d79b",
   "metadata": {},
   "outputs": [
    {
     "data": {
      "text/plain": [
       "['__class__',\n",
       " '__delattr__',\n",
       " '__dict__',\n",
       " '__dir__',\n",
       " '__doc__',\n",
       " '__eq__',\n",
       " '__format__',\n",
       " '__ge__',\n",
       " '__getattribute__',\n",
       " '__getstate__',\n",
       " '__gt__',\n",
       " '__hash__',\n",
       " '__init__',\n",
       " '__init_subclass__',\n",
       " '__le__',\n",
       " '__lt__',\n",
       " '__module__',\n",
       " '__ne__',\n",
       " '__new__',\n",
       " '__reduce__',\n",
       " '__reduce_ex__',\n",
       " '__repr__',\n",
       " '__setattr__',\n",
       " '__sizeof__',\n",
       " '__str__',\n",
       " '__subclasshook__',\n",
       " '__weakref__',\n",
       " 'color',\n",
       " 'model',\n",
       " 'name',\n",
       " 'show']"
      ]
     },
     "execution_count": 6,
     "metadata": {},
     "output_type": "execute_result"
    }
   ],
   "source": [
    "dir(c) ## these msgs are known as magic methods in python"
   ]
  },
  {
   "cell_type": "code",
   "execution_count": 33,
   "id": "3f3115d1-56f4-4080-8300-8b88a0e74097",
   "metadata": {},
   "outputs": [],
   "source": [
    "class CAR:\n",
    "    def __init__(self, name, model, color):\n",
    "        self.name=name\n",
    "        self.model=model\n",
    "        self.color=color\n",
    "    def __str__(self): ## we have overridden this method\n",
    "        return \"object is created in the memory\"\n",
    "    def __sizeof__(self): ## we have overridden this method\n",
    "        return \"this functions informs the size\"\n",
    "    def show(self):\n",
    "        print(\"this is a {} of {} and in {} color\".format(self.name,self.model,self.color))\n",
    "   "
   ]
  },
  {
   "cell_type": "code",
   "execution_count": 13,
   "id": "a95727c7-3021-46af-a759-d78a67046eea",
   "metadata": {},
   "outputs": [
    {
     "name": "stdout",
     "output_type": "stream",
     "text": [
      "<__main__.CAR object at 0x000002C5568C09B0>\n"
     ]
    }
   ],
   "source": [
    "c=CAR(\"suv\",2020,\"Red\")\n",
    "print(c) ## after executing this one of the magic method is called (__str__) which shows this method <__main__.CAR object at 0x000002C5568C09B0>\n",
    "# we can also overload these magic methods"
   ]
  },
  {
   "cell_type": "code",
   "execution_count": 34,
   "id": "4147a4c6-fec2-4eba-8c37-6d8f0f7f8b00",
   "metadata": {},
   "outputs": [
    {
     "name": "stdout",
     "output_type": "stream",
     "text": [
      "object is created in the memory\n"
     ]
    }
   ],
   "source": [
    "c1 = CAR(\"bmw\", 2025, \"blue\")\n",
    "print(c1)"
   ]
  },
  {
   "cell_type": "code",
   "execution_count": 35,
   "id": "5e764bb0-a365-462c-8e1a-8b11db7587f9",
   "metadata": {},
   "outputs": [
    {
     "data": {
      "text/plain": [
       "'this functions informs the size'"
      ]
     },
     "execution_count": 35,
     "metadata": {},
     "output_type": "execute_result"
    }
   ],
   "source": [
    "c1.__sizeof__()"
   ]
  }
 ],
 "metadata": {
  "kernelspec": {
   "display_name": "Python 3 (ipykernel)",
   "language": "python",
   "name": "python3"
  },
  "language_info": {
   "codemirror_mode": {
    "name": "ipython",
    "version": 3
   },
   "file_extension": ".py",
   "mimetype": "text/x-python",
   "name": "python",
   "nbconvert_exporter": "python",
   "pygments_lexer": "ipython3",
   "version": "3.12.7"
  }
 },
 "nbformat": 4,
 "nbformat_minor": 5
}
