{
 "cells": [
  {
   "cell_type": "code",
   "id": "093ee6bf-e030-4025-a1d9-ee9ca32d9812",
   "metadata": {
    "ExecuteTime": {
     "end_time": "2025-02-01T08:42:37.067910Z",
     "start_time": "2025-02-01T08:42:37.039656Z"
    }
   },
   "source": [
    "import pandas as pd\n",
    "import numpy as np\n",
    "import seaborn as sns\n",
    "df =pd.read_csv('Travel.csv')\n",
    "df\n"
   ],
   "outputs": [
    {
     "data": {
      "text/plain": [
       "                           Timestamp Are you from Jaipur? What is your age?  \\\n",
       "0     2024/12/31 9:56:27 am GMT+5:30                  Yes             20-29   \n",
       "1    2024/12/31 12:35:40 pm GMT+5:30                  Yes      19 and below   \n",
       "2    2024/12/31 12:54:10 pm GMT+5:30                  Yes      19 and below   \n",
       "3     2024/12/31 2:49:46 pm GMT+5:30                  Yes      19 and below   \n",
       "4     2024/12/31 2:57:22 pm GMT+5:30                  Yes      19 and below   \n",
       "..                               ...                  ...               ...   \n",
       "919  2025/01/20 11:58:51 am GMT+5:30                  Yes      19 and below   \n",
       "920  2025/01/20 11:59:10 am GMT+5:30                  Yes             20-29   \n",
       "921  2025/01/20 12:07:40 pm GMT+5:30                  Yes             20-29   \n",
       "922  2025/01/20 12:07:49 pm GMT+5:30                   No             20-29   \n",
       "923  2025/01/20 12:09:21 pm GMT+5:30                  Yes             20-29   \n",
       "\n",
       "    What is your gender?     What is your departure address (with pincode)?  \\\n",
       "0                   Male  2/627, Sector 2, Malviya Nagar, Jaipur, Rajast...   \n",
       "1                 Female  Flat no 201 Vatsalya Enclave Ganesh Nagar Iskc...   \n",
       "2                   Male  Swastik Villas, New Sanganer Road, Jaipur(302020)   \n",
       "3                   Male                                             305001   \n",
       "4                   Male                            24/25 sagar apartments    \n",
       "..                   ...                                                ...   \n",
       "919                 Male                                Mansarovar (302020)   \n",
       "920                 Male  Dlb Rise apartment , Ganesh nagar , Mansarovar...   \n",
       "921               Female                                  Mansarover 302020   \n",
       "922                 Male                                  Mansarovar 302020   \n",
       "923               Female                                             302016   \n",
       "\n",
       "     What is your destination address?  (with pincode)  \\\n",
       "0    BISR, Statue Circle, C Scheme, Jaipur, Rajasth...   \n",
       "1    Birla Institute of Technology Jaipur Near Apex...   \n",
       "2            Bit Jaipur, Malviya Nagar, Jaipur(302017)   \n",
       "3                                               302017   \n",
       "4                                                 Same   \n",
       "..                                                 ...   \n",
       "919                           Lok Kalyan Marg (110011)   \n",
       "920             127 VHE Vivekanand nagar Kota , 324010   \n",
       "921                                           vaishali   \n",
       "922                                   Raja park 302004   \n",
       "923                                   Gopalpura bypass   \n",
       "\n",
       "    What is your mode of transportation?  \\\n",
       "0                       Public Transport   \n",
       "1                          Cabs Services   \n",
       "2                            Two Wheeler   \n",
       "3                       Public Transport   \n",
       "4                            Two Wheeler   \n",
       "..                                   ...   \n",
       "919                     Public Transport   \n",
       "920                          Two Wheeler   \n",
       "921                        Cabs Services   \n",
       "922                          Two Wheeler   \n",
       "923                        Cabs Services   \n",
       "\n",
       "    If Public Transport, Do you get seat availability easily?    \\\n",
       "0                                                   No            \n",
       "1                                                  NaN            \n",
       "2                                                   No            \n",
       "3                                                  Yes            \n",
       "4                                                   No            \n",
       "..                                                 ...            \n",
       "919                                                Yes            \n",
       "920                                                Yes            \n",
       "921                                                 No            \n",
       "922                                                Yes            \n",
       "923                                                 No            \n",
       "\n",
       "    If personal vehicles do you find a parking space easily?  \\\n",
       "0                                                   No         \n",
       "1                                                  NaN         \n",
       "2                                                  Yes         \n",
       "3                                                  Yes         \n",
       "4                                                  Yes         \n",
       "..                                                 ...         \n",
       "919                                                 No         \n",
       "920                                                Yes         \n",
       "921                                                 No         \n",
       "922                                                Yes         \n",
       "923                                                 No         \n",
       "\n",
       "    How long do you wait for Public Transport?  ... What type of stoppage?  \\\n",
       "0                                31-60 Minutes  ...          Traffic Light   \n",
       "1                                          NaN  ...          Traffic Light   \n",
       "2                                31-60 Minutes  ...          Traffic Light   \n",
       "3                                 0-30 Minutes  ...                    NaN   \n",
       "4                                 0-30 Minutes  ...          Traffic Light   \n",
       "..                                         ...  ...                    ...   \n",
       "919                               0-30 Minutes  ...                      -   \n",
       "920                               0-30 Minutes  ...          Traffic Light   \n",
       "921                               0-30 Minutes  ...          Traffic Light   \n",
       "922                               0-30 Minutes  ...          Traffic Light   \n",
       "923                               0-30 Minutes  ...          Traffic Light   \n",
       "\n",
       "    How many traffic lights do you have to pass during your travel journey ?  \\\n",
       "0                                                    6                         \n",
       "1                                                    5                         \n",
       "2                                                    4                         \n",
       "3                                                    1                         \n",
       "4                                                    6                         \n",
       "..                                                 ...                         \n",
       "919                                                  3                         \n",
       "920                                                  2                         \n",
       "921                                                  3                         \n",
       "922                                             5 or 6                         \n",
       "923                                                  3                         \n",
       "\n",
       "    How many junctions during your travel journey?  \\\n",
       "0                                                0   \n",
       "1                                                0   \n",
       "2                                                5   \n",
       "3                                                0   \n",
       "4                                              NaN   \n",
       "..                                             ...   \n",
       "919                                              0   \n",
       "920                                              0   \n",
       "921                                              0   \n",
       "922                                              0   \n",
       "923                                              3   \n",
       "\n",
       "    How many road blocks during your travel journey?  \\\n",
       "0                                                  0   \n",
       "1                                                  0   \n",
       "2                                                  2   \n",
       "3                                                  0   \n",
       "4                                                NaN   \n",
       "..                                               ...   \n",
       "919                                                0   \n",
       "920                                                0   \n",
       "921                                                2   \n",
       "922                                                0   \n",
       "923                                                3   \n",
       "\n",
       "    Can you reach your destination on Time? Can you reach your home on Time?  \\\n",
       "0                                       Yes                               No   \n",
       "1                                       Yes                              Yes   \n",
       "2                                       Yes                               No   \n",
       "3                                       Yes                              Yes   \n",
       "4                                        No                              NaN   \n",
       "..                                      ...                              ...   \n",
       "919                                     Yes                              Yes   \n",
       "920                                     Yes                              Yes   \n",
       "921                                     Yes                               No   \n",
       "922                                     Yes                              Yes   \n",
       "923                                     Yes                              Yes   \n",
       "\n",
       "    What is the weather condition before leaving home?  \\\n",
       "0                                                Sunny   \n",
       "1                                               Cloudy   \n",
       "2                                               Cloudy   \n",
       "3                                                Sunny   \n",
       "4                                                Sunny   \n",
       "..                                                 ...   \n",
       "919                                              Sunny   \n",
       "920                                              Sunny   \n",
       "921                                             Cloudy   \n",
       "922                                              Sunny   \n",
       "923                                              Sunny   \n",
       "\n",
       "    When did this journey take place? When did you travel?  \\\n",
       "0                         Working Day              Weekday   \n",
       "1                         Working Day              Weekday   \n",
       "2                         Working Day              Weekday   \n",
       "3                         Working Day              Weekday   \n",
       "4                                 NaN                  NaN   \n",
       "..                                ...                  ...   \n",
       "919                       Working Day              Weekday   \n",
       "920                           Holiday              Weekday   \n",
       "921                       Working Day              Weekday   \n",
       "922                           Holiday              Weekend   \n",
       "923                           Holiday              Weekend   \n",
       "\n",
       "    Describe how do you feel traveling in Jaipur, in one or two words. For example polluted, good, sad etc.   \n",
       "0                                              Chaotic                                                        \n",
       "1                                         Mesmerized!                                                         \n",
       "2                                             Polluted                                                        \n",
       "3                                                  NaN                                                        \n",
       "4                                                  NaN                                                        \n",
       "..                                                 ...                                                        \n",
       "919                                               Good                                                        \n",
       "920                                               Good                                                        \n",
       "921                                    So much traffic                                                        \n",
       "922                                               Hhud                                                        \n",
       "923                                               Good                                                        \n",
       "\n",
       "[924 rows x 29 columns]"
      ],
      "text/html": [
       "<div>\n",
       "<style scoped>\n",
       "    .dataframe tbody tr th:only-of-type {\n",
       "        vertical-align: middle;\n",
       "    }\n",
       "\n",
       "    .dataframe tbody tr th {\n",
       "        vertical-align: top;\n",
       "    }\n",
       "\n",
       "    .dataframe thead th {\n",
       "        text-align: right;\n",
       "    }\n",
       "</style>\n",
       "<table border=\"1\" class=\"dataframe\">\n",
       "  <thead>\n",
       "    <tr style=\"text-align: right;\">\n",
       "      <th></th>\n",
       "      <th>Timestamp</th>\n",
       "      <th>Are you from Jaipur?</th>\n",
       "      <th>What is your age?</th>\n",
       "      <th>What is your gender?</th>\n",
       "      <th>What is your departure address (with pincode)?</th>\n",
       "      <th>What is your destination address?  (with pincode)</th>\n",
       "      <th>What is your mode of transportation?</th>\n",
       "      <th>If Public Transport, Do you get seat availability easily?</th>\n",
       "      <th>If personal vehicles do you find a parking space easily?</th>\n",
       "      <th>How long do you wait for Public Transport?</th>\n",
       "      <th>...</th>\n",
       "      <th>What type of stoppage?</th>\n",
       "      <th>How many traffic lights do you have to pass during your travel journey ?</th>\n",
       "      <th>How many junctions during your travel journey?</th>\n",
       "      <th>How many road blocks during your travel journey?</th>\n",
       "      <th>Can you reach your destination on Time?</th>\n",
       "      <th>Can you reach your home on Time?</th>\n",
       "      <th>What is the weather condition before leaving home?</th>\n",
       "      <th>When did this journey take place?</th>\n",
       "      <th>When did you travel?</th>\n",
       "      <th>Describe how do you feel traveling in Jaipur, in one or two words. For example polluted, good, sad etc.</th>\n",
       "    </tr>\n",
       "  </thead>\n",
       "  <tbody>\n",
       "    <tr>\n",
       "      <th>0</th>\n",
       "      <td>2024/12/31 9:56:27 am GMT+5:30</td>\n",
       "      <td>Yes</td>\n",
       "      <td>20-29</td>\n",
       "      <td>Male</td>\n",
       "      <td>2/627, Sector 2, Malviya Nagar, Jaipur, Rajast...</td>\n",
       "      <td>BISR, Statue Circle, C Scheme, Jaipur, Rajasth...</td>\n",
       "      <td>Public Transport</td>\n",
       "      <td>No</td>\n",
       "      <td>No</td>\n",
       "      <td>31-60 Minutes</td>\n",
       "      <td>...</td>\n",
       "      <td>Traffic Light</td>\n",
       "      <td>6</td>\n",
       "      <td>0</td>\n",
       "      <td>0</td>\n",
       "      <td>Yes</td>\n",
       "      <td>No</td>\n",
       "      <td>Sunny</td>\n",
       "      <td>Working Day</td>\n",
       "      <td>Weekday</td>\n",
       "      <td>Chaotic</td>\n",
       "    </tr>\n",
       "    <tr>\n",
       "      <th>1</th>\n",
       "      <td>2024/12/31 12:35:40 pm GMT+5:30</td>\n",
       "      <td>Yes</td>\n",
       "      <td>19 and below</td>\n",
       "      <td>Female</td>\n",
       "      <td>Flat no 201 Vatsalya Enclave Ganesh Nagar Iskc...</td>\n",
       "      <td>Birla Institute of Technology Jaipur Near Apex...</td>\n",
       "      <td>Cabs Services</td>\n",
       "      <td>NaN</td>\n",
       "      <td>NaN</td>\n",
       "      <td>NaN</td>\n",
       "      <td>...</td>\n",
       "      <td>Traffic Light</td>\n",
       "      <td>5</td>\n",
       "      <td>0</td>\n",
       "      <td>0</td>\n",
       "      <td>Yes</td>\n",
       "      <td>Yes</td>\n",
       "      <td>Cloudy</td>\n",
       "      <td>Working Day</td>\n",
       "      <td>Weekday</td>\n",
       "      <td>Mesmerized!</td>\n",
       "    </tr>\n",
       "    <tr>\n",
       "      <th>2</th>\n",
       "      <td>2024/12/31 12:54:10 pm GMT+5:30</td>\n",
       "      <td>Yes</td>\n",
       "      <td>19 and below</td>\n",
       "      <td>Male</td>\n",
       "      <td>Swastik Villas, New Sanganer Road, Jaipur(302020)</td>\n",
       "      <td>Bit Jaipur, Malviya Nagar, Jaipur(302017)</td>\n",
       "      <td>Two Wheeler</td>\n",
       "      <td>No</td>\n",
       "      <td>Yes</td>\n",
       "      <td>31-60 Minutes</td>\n",
       "      <td>...</td>\n",
       "      <td>Traffic Light</td>\n",
       "      <td>4</td>\n",
       "      <td>5</td>\n",
       "      <td>2</td>\n",
       "      <td>Yes</td>\n",
       "      <td>No</td>\n",
       "      <td>Cloudy</td>\n",
       "      <td>Working Day</td>\n",
       "      <td>Weekday</td>\n",
       "      <td>Polluted</td>\n",
       "    </tr>\n",
       "    <tr>\n",
       "      <th>3</th>\n",
       "      <td>2024/12/31 2:49:46 pm GMT+5:30</td>\n",
       "      <td>Yes</td>\n",
       "      <td>19 and below</td>\n",
       "      <td>Male</td>\n",
       "      <td>305001</td>\n",
       "      <td>302017</td>\n",
       "      <td>Public Transport</td>\n",
       "      <td>Yes</td>\n",
       "      <td>Yes</td>\n",
       "      <td>0-30 Minutes</td>\n",
       "      <td>...</td>\n",
       "      <td>NaN</td>\n",
       "      <td>1</td>\n",
       "      <td>0</td>\n",
       "      <td>0</td>\n",
       "      <td>Yes</td>\n",
       "      <td>Yes</td>\n",
       "      <td>Sunny</td>\n",
       "      <td>Working Day</td>\n",
       "      <td>Weekday</td>\n",
       "      <td>NaN</td>\n",
       "    </tr>\n",
       "    <tr>\n",
       "      <th>4</th>\n",
       "      <td>2024/12/31 2:57:22 pm GMT+5:30</td>\n",
       "      <td>Yes</td>\n",
       "      <td>19 and below</td>\n",
       "      <td>Male</td>\n",
       "      <td>24/25 sagar apartments</td>\n",
       "      <td>Same</td>\n",
       "      <td>Two Wheeler</td>\n",
       "      <td>No</td>\n",
       "      <td>Yes</td>\n",
       "      <td>0-30 Minutes</td>\n",
       "      <td>...</td>\n",
       "      <td>Traffic Light</td>\n",
       "      <td>6</td>\n",
       "      <td>NaN</td>\n",
       "      <td>NaN</td>\n",
       "      <td>No</td>\n",
       "      <td>NaN</td>\n",
       "      <td>Sunny</td>\n",
       "      <td>NaN</td>\n",
       "      <td>NaN</td>\n",
       "      <td>NaN</td>\n",
       "    </tr>\n",
       "    <tr>\n",
       "      <th>...</th>\n",
       "      <td>...</td>\n",
       "      <td>...</td>\n",
       "      <td>...</td>\n",
       "      <td>...</td>\n",
       "      <td>...</td>\n",
       "      <td>...</td>\n",
       "      <td>...</td>\n",
       "      <td>...</td>\n",
       "      <td>...</td>\n",
       "      <td>...</td>\n",
       "      <td>...</td>\n",
       "      <td>...</td>\n",
       "      <td>...</td>\n",
       "      <td>...</td>\n",
       "      <td>...</td>\n",
       "      <td>...</td>\n",
       "      <td>...</td>\n",
       "      <td>...</td>\n",
       "      <td>...</td>\n",
       "      <td>...</td>\n",
       "      <td>...</td>\n",
       "    </tr>\n",
       "    <tr>\n",
       "      <th>919</th>\n",
       "      <td>2025/01/20 11:58:51 am GMT+5:30</td>\n",
       "      <td>Yes</td>\n",
       "      <td>19 and below</td>\n",
       "      <td>Male</td>\n",
       "      <td>Mansarovar (302020)</td>\n",
       "      <td>Lok Kalyan Marg (110011)</td>\n",
       "      <td>Public Transport</td>\n",
       "      <td>Yes</td>\n",
       "      <td>No</td>\n",
       "      <td>0-30 Minutes</td>\n",
       "      <td>...</td>\n",
       "      <td>-</td>\n",
       "      <td>3</td>\n",
       "      <td>0</td>\n",
       "      <td>0</td>\n",
       "      <td>Yes</td>\n",
       "      <td>Yes</td>\n",
       "      <td>Sunny</td>\n",
       "      <td>Working Day</td>\n",
       "      <td>Weekday</td>\n",
       "      <td>Good</td>\n",
       "    </tr>\n",
       "    <tr>\n",
       "      <th>920</th>\n",
       "      <td>2025/01/20 11:59:10 am GMT+5:30</td>\n",
       "      <td>Yes</td>\n",
       "      <td>20-29</td>\n",
       "      <td>Male</td>\n",
       "      <td>Dlb Rise apartment , Ganesh nagar , Mansarovar...</td>\n",
       "      <td>127 VHE Vivekanand nagar Kota , 324010</td>\n",
       "      <td>Two Wheeler</td>\n",
       "      <td>Yes</td>\n",
       "      <td>Yes</td>\n",
       "      <td>0-30 Minutes</td>\n",
       "      <td>...</td>\n",
       "      <td>Traffic Light</td>\n",
       "      <td>2</td>\n",
       "      <td>0</td>\n",
       "      <td>0</td>\n",
       "      <td>Yes</td>\n",
       "      <td>Yes</td>\n",
       "      <td>Sunny</td>\n",
       "      <td>Holiday</td>\n",
       "      <td>Weekday</td>\n",
       "      <td>Good</td>\n",
       "    </tr>\n",
       "    <tr>\n",
       "      <th>921</th>\n",
       "      <td>2025/01/20 12:07:40 pm GMT+5:30</td>\n",
       "      <td>Yes</td>\n",
       "      <td>20-29</td>\n",
       "      <td>Female</td>\n",
       "      <td>Mansarover 302020</td>\n",
       "      <td>vaishali</td>\n",
       "      <td>Cabs Services</td>\n",
       "      <td>No</td>\n",
       "      <td>No</td>\n",
       "      <td>0-30 Minutes</td>\n",
       "      <td>...</td>\n",
       "      <td>Traffic Light</td>\n",
       "      <td>3</td>\n",
       "      <td>0</td>\n",
       "      <td>2</td>\n",
       "      <td>Yes</td>\n",
       "      <td>No</td>\n",
       "      <td>Cloudy</td>\n",
       "      <td>Working Day</td>\n",
       "      <td>Weekday</td>\n",
       "      <td>So much traffic</td>\n",
       "    </tr>\n",
       "    <tr>\n",
       "      <th>922</th>\n",
       "      <td>2025/01/20 12:07:49 pm GMT+5:30</td>\n",
       "      <td>No</td>\n",
       "      <td>20-29</td>\n",
       "      <td>Male</td>\n",
       "      <td>Mansarovar 302020</td>\n",
       "      <td>Raja park 302004</td>\n",
       "      <td>Two Wheeler</td>\n",
       "      <td>Yes</td>\n",
       "      <td>Yes</td>\n",
       "      <td>0-30 Minutes</td>\n",
       "      <td>...</td>\n",
       "      <td>Traffic Light</td>\n",
       "      <td>5 or 6</td>\n",
       "      <td>0</td>\n",
       "      <td>0</td>\n",
       "      <td>Yes</td>\n",
       "      <td>Yes</td>\n",
       "      <td>Sunny</td>\n",
       "      <td>Holiday</td>\n",
       "      <td>Weekend</td>\n",
       "      <td>Hhud</td>\n",
       "    </tr>\n",
       "    <tr>\n",
       "      <th>923</th>\n",
       "      <td>2025/01/20 12:09:21 pm GMT+5:30</td>\n",
       "      <td>Yes</td>\n",
       "      <td>20-29</td>\n",
       "      <td>Female</td>\n",
       "      <td>302016</td>\n",
       "      <td>Gopalpura bypass</td>\n",
       "      <td>Cabs Services</td>\n",
       "      <td>No</td>\n",
       "      <td>No</td>\n",
       "      <td>0-30 Minutes</td>\n",
       "      <td>...</td>\n",
       "      <td>Traffic Light</td>\n",
       "      <td>3</td>\n",
       "      <td>3</td>\n",
       "      <td>3</td>\n",
       "      <td>Yes</td>\n",
       "      <td>Yes</td>\n",
       "      <td>Sunny</td>\n",
       "      <td>Holiday</td>\n",
       "      <td>Weekend</td>\n",
       "      <td>Good</td>\n",
       "    </tr>\n",
       "  </tbody>\n",
       "</table>\n",
       "<p>924 rows × 29 columns</p>\n",
       "</div>"
      ]
     },
     "execution_count": 10,
     "metadata": {},
     "output_type": "execute_result"
    }
   ],
   "execution_count": 10
  },
  {
   "cell_type": "code",
   "execution_count": 2,
   "id": "f2bb66ee-3e08-491f-9a21-3e98c23b2c34",
   "metadata": {},
   "outputs": [
    {
     "data": {
      "text/plain": [
       "<Axes: >"
      ]
     },
     "execution_count": 2,
     "metadata": {},
     "output_type": "execute_result"
    },
    {
     "data": {
      "image/png": "[encoded data removed]",
      "text/plain": [
       "<Figure size 640x480 with 1 Axes>"
      ]
     },
     "metadata": {},
     "output_type": "display_data"
    }
   ],
   "source": [
    "sns.heatmap(df.isnull(),yticklabels=False,cbar=False,cmap='viridis',xticklabels=False)"
   ]
  },
  {
   "metadata": {
    "ExecuteTime": {
     "end_time": "2025-02-01T08:42:00.445721Z",
     "start_time": "2025-02-01T08:42:00.440796Z"
    }
   },
   "cell_type": "code",
   "source": "unique_cost_petrol=df['Cost of petrol'].unique()",
   "id": "34cd78b3d1489b98",
   "outputs": [],
   "execution_count": 6
  },
  {
   "metadata": {
    "ExecuteTime": {
     "end_time": "2025-02-01T08:42:04.271035Z",
     "start_time": "2025-02-01T08:42:04.263313Z"
    }
   },
   "cell_type": "code",
   "source": "unique_cost_petrol",
   "id": "1fd562a89ef1d7e0",
   "outputs": [
    {
     "data": {
      "text/plain": [
       "array(['Rs. 70', '₹250', 'Rs25', '10', '110', 'Nothing ', nan, '120-180',\n",
       "       '20-25min', '150 per day', '140 rupees ', '200', '0 rs', '130',\n",
       "       '60 min', '120 rupees', '400', '80 Rupees ', 'Per month ₹ 1200',\n",
       "       '60rs', '50', '20', '109Rs.', '3000', '445', 'Rs 160 to 350 ',\n",
       "       '100', '220', '200-300',\n",
       "       'By public transport ( approx Rs.450 per day ) and by two- wheelers( approx Rs. 450 per week )',\n",
       "       '0 Rupees ', '130-160', '20 minutes ', '150 Rupees ', '120',\n",
       "       '30-40', '50-60rs/day', 'Rs. 200-250 from own vehicle ', '60',\n",
       "       '100 rupees', '15', '500', '1000 rs', '5000', 'No cost', '₹ 80',\n",
       "       'Around 100 Rs', '100/-', '800 rupees', '0', '50 rs', '100 rs',\n",
       "       '30-35 minutes ', '90 Rupees', '90', '30', '120-150 rs',\n",
       "       'Vaisali nagar ', '60 rs', '300/- per day ', '50rs', '60 rupess',\n",
       "       '₹80/day', '150/day', '60 Rs', '230', '50-80 ', '100 Rs.', '2000',\n",
       "       '500 rs', '400 rupees ', '0, Electric Vehicle', '600', '200 rs',\n",
       "       'Approx 150 rs', '700', '70 Rs', '80 rupees in inr', '70+80',\n",
       "       '100 rs per day', '90rupees', 'No cost ', '300', '69',\n",
       "       'Jaipur Rajasthan ', '320', '70 to 80 rupees', '290',\n",
       "       '500 Rupees ', '200 to 250 rs', '60 rupees ', '150', '55 ruppes',\n",
       "       'total 120 ruppess', '250 rupees ', '240', '300 atleast ',\n",
       "       '500 rupees ', '80', '45000', '800', '75000', '125', '800₹',\n",
       "       '70 to 80 rs', 'Something 100 rs pr day', '1800', '180',\n",
       "       '20 rupees ', '10₹', '310rs', '200 rs chomu to Amity ',\n",
       "       '600 per day and annual 45000 ', '220 rs', '125 ruppe', 'Labana ',\n",
       "       'Per day 60', '5 hours', '30 Rs to 50 Rs', 'Lakher to Amity ',\n",
       "       '8000', '180 Rs', '45000 of whole year ',\n",
       "       'From public transport it costs 50 rs for one way ',\n",
       "       '70-80/- per day', '50 rupees ', '160 rupees ',\n",
       "       'if i go from ev than 20 rupees, if i travel from poblic transport then 120rupees',\n",
       "       '₹300-350 daily mainly due to Petrol expense ', '80-85 rupees',\n",
       "       '1500', '₹ 150 to 200', '320rs', 'Rs.40 one sided ', '100 rupees ',\n",
       "       '20-30', 'Idk', '250', '400 per day', '250-300', '350 Rs',\n",
       "       '100 ruppes total ', '350-450', '90 Rs', '₹ 100', '₹ 500 weekly ',\n",
       "       '100-120 rupees', '14 km', '500 rupees', '40', '20 to 40 rs',\n",
       "       '80 rupees ',\n",
       "       'Arrival to departure -50 and departure to arrival - 50', 'F',\n",
       "       '20Rs', '50 rupees', '1000', '100rs', 'On avg 30 rupee', '40-100',\n",
       "       'On average 30rs', '70rs', '1000 per day', '100 to 150 rs',\n",
       "       '10 Rs', 'approx 2 hours', '555', 'Rs. 150', 'Rs 100',\n",
       "       '100 perday', 'none', 'Rs 200 per time ', '150-160',\n",
       "       'Approx 80 rupees ', '142', 'Free of cost',\n",
       "       'Rs.0 cost I go by walk', '200 per day', '350', '105 rupees ',\n",
       "       '450-500', '52', '-', 'Yes', '1 hour',\n",
       "       'For the relaxation for student Card (School and College) it is 30 Rs',\n",
       "       '0rs', '90 Rs. ', 'Rs 80 ', '140', '40 rupees ', '50-60 rupees',\n",
       "       '500-550', '1400', 'No cost as I walk, but 20 if I go with a bike',\n",
       "       '136', '1000 rupees ', '200 rupees ', '100 rupees per day',\n",
       "       '300 max ', '60 rupees', 'On avg ₹30', '150-200rs',\n",
       "       'Rs 20 for petrol', '150-200', 'Negligible ', '220 Rs', '6-7 K',\n",
       "       '400 per week for petrol ', '300 Rs', '300-/', '500/600rs',\n",
       "       '250 Rs', '150 rs', '500 ruppee for a week', '70 rupees',\n",
       "       '300 er week', '100 per day ', '30-40 rupees ', '100 ruppe ',\n",
       "       '250000', '240 rupees ', '1B', '29.56 ruppes approximately ',\n",
       "       '50Rs', 'Civil lines jaipur ', '300-400 rupees per day',\n",
       "       '50-60 rupees ', '40 rupees', '0 rs ', '50 rupees per day ', '6,0',\n",
       "       '5', '140 rs', '120 rs', '30 rupees ', '1000& maybe more', '10rs',\n",
       "       'Nothing', '35-40 minute', '500-600 per month ', '20 rs', '100~',\n",
       "       '50-100 if cab service used', '50-60rs per day', '70', 'Rs200',\n",
       "       '45', '150rs', 'Around 100-110', '100 per day',\n",
       "       '50 Rupees Approximately', '23 rupees ', '0 rupees', '171',\n",
       "       '200rs', '43000', '200-400 rupees per day', '350 rs',\n",
       "       'Personal vechile EV', 'Almost 3k', '₹150', 'No', '300 rupees',\n",
       "       '60₹', '500rp', '25', '95', '150₹', '100-120', '3:30- 4:00 hours',\n",
       "       '150 ruppees', '2000/-', '11000', '400 Jaipur to bhiwadi ',\n",
       "       '35,000 pa', '10 crore', '₹32000', '4000rs', '20-120',\n",
       "       '150/-per day', 'by own, 50-60/- , by auto 300', 'Haj',\n",
       "       '20 minutes', '130 rupees ', '400minutes', '73737', '50 rs ',\n",
       "       '101', '110₹', 'Null', '75', '100 rs ', 'Rs.1000-2000', '450',\n",
       "       '120 rupees ', '30 rupee( E vehcile)', '260', '100/day', '1hr',\n",
       "       '200rs per day', 'Rs.120 - Rs.150', '100 rupee', '37500 Rupees',\n",
       "       '80 rupees', '50000', '250 rs', '1.65hours', '160', '70-80', '40₹',\n",
       "       '10(Electric)', 'petrol ', '100rs daily ', '120₹', '60658',\n",
       "       '110000', '₹ 300-350', '100₹', '500Rs', 'Hdhd', '100000',\n",
       "       'Tu dera h? ', '32000', 'Above 100', '170', '209', '400rs', 'Uu',\n",
       "       '30000', 'Na', '₹0', 'Pertol lagta hai hafte ka 400 rs ka ',\n",
       "       '30 rupee', 'Zero', 'If I go home 🏠 all abiut my expenses us 2-3k',\n",
       "       '150-170 rupees ', '400-500 rupees',\n",
       "       'Vardhman horizon to arena animation gopalpura ', '50600',\n",
       "       'free of cost', '80-120',\n",
       "       'I do not have an inflation adjusted answer of future 😭',\n",
       "       '500 rupees for petrol ', 'Rs. 460', 'Rs 40', '25-35 rs per day',\n",
       "       '300 rs', '60 ruppes', '50-100', 'Rs.500', '50 Rs.', '10000',\n",
       "       'Rs 70 per trip', 'Rs 40 per day', '300RS', 'Rs.60',\n",
       "       '60-70 rupees', '200-250 rupees approx', '400₹',\n",
       "       '100 - 150 Rupees', '$50', '₹200', '350-500 rupees ', '₹400',\n",
       "       '40-50₹', '₹50 ', 'Around 80 to 100 rupees ', '500 rupee',\n",
       "       '500 Rs', 'Rs. 200  ', '3500 per month', 'Cost of petrol',\n",
       "       '30 rupees', 'Two wheeler ', '1200', 'Free', 'Minimum 500 Rs',\n",
       "       '400 rs'], dtype=object)"
      ]
     },
     "execution_count": 7,
     "metadata": {},
     "output_type": "execute_result"
    }
   ],
   "execution_count": 7
  },
  {
   "metadata": {
    "ExecuteTime": {
     "end_time": "2025-02-01T08:42:08.863851Z",
     "start_time": "2025-02-01T08:42:08.858634Z"
    }
   },
   "cell_type": "code",
   "source": "len(unique_cost_petrol)",
   "id": "c68ac246e8fa72bb",
   "outputs": [
    {
     "data": {
      "text/plain": [
       "379"
      ]
     },
     "execution_count": 8,
     "metadata": {},
     "output_type": "execute_result"
    }
   ],
   "execution_count": 8
  },
  {
   "metadata": {
    "ExecuteTime": {
     "end_time": "2025-02-01T08:45:49.814225Z",
     "start_time": "2025-02-01T08:45:44.441171Z"
    }
   },
   "cell_type": "code",
   "source": "sns.barplot(df,x='Cost of petrol',y='What is your gender?')",
   "id": "9d23ffc71870ecf9",
   "outputs": [
    {
     "data": {
      "text/plain": [
       "<Axes: xlabel='Cost of petrol', ylabel='What is your gender?'>"
      ]
     },
     "execution_count": 12,
     "metadata": {},
     "output_type": "execute_result"
    },
    {
     "name": "stderr",
     "output_type": "stream",
     "text": [
      "C:\\Users\\bhara\\AppData\\Roaming\\Python\\Python312\\site-packages\\IPython\\core\\events.py:82: UserWarning: Glyph 127968 (\\N{HOUSE BUILDING}) missing from font(s) Arial.\n",
      "  func(*args, **kwargs)\n",
      "C:\\Users\\bhara\\AppData\\Roaming\\Python\\Python312\\site-packages\\IPython\\core\\events.py:82: UserWarning: Glyph 128557 (\\N{LOUDLY CRYING FACE}) missing from font(s) Arial.\n",
      "  func(*args, **kwargs)\n",
      "C:\\Users\\bhara\\AppData\\Roaming\\Python\\Python312\\site-packages\\IPython\\core\\pylabtools.py:170: UserWarning: Glyph 127968 (\\N{HOUSE BUILDING}) missing from font(s) Arial.\n",
      "  fig.canvas.print_figure(bytes_io, **kw)\n",
      "C:\\Users\\bhara\\AppData\\Roaming\\Python\\Python312\\site-packages\\IPython\\core\\pylabtools.py:170: UserWarning: Glyph 128557 (\\N{LOUDLY CRYING FACE}) missing from font(s) Arial.\n",
      "  fig.canvas.print_figure(bytes_io, **kw)\n"
     ]
    },
    {
     "data": {
      "text/plain": [
       "<Figure size 640x480 with 1 Axes>"
      ],
      "image/png": "[encoded data removed]"
     },
     "metadata": {},
     "output_type": "display_data"
    }
   ],
   "execution_count": 12
  },
  {
   "metadata": {
    "ExecuteTime": {
     "end_time": "2025-02-01T08:46:42.697020Z",
     "start_time": "2025-02-01T08:46:42.528356Z"
    }
   },
   "cell_type": "code",
   "source": "sns.countplot(df['What is your gender?'])",
   "id": "aa1c590167040d0c",
   "outputs": [
    {
     "data": {
      "text/plain": [
       "<Axes: xlabel='count', ylabel='What is your gender?'>"
      ]
     },
     "execution_count": 14,
     "metadata": {},
     "output_type": "execute_result"
    },
    {
     "data": {
      "text/plain": [
       "<Figure size 640x480 with 1 Axes>"
      ],
      "image/png": "[encoded data removed]"
     },
     "metadata": {},
     "output_type": "display_data"
    }
   ],
   "execution_count": 14
  },
  {
   "metadata": {
    "ExecuteTime": {
     "end_time": "2025-02-01T08:53:06.492455Z",
     "start_time": "2025-02-01T08:53:06.478457Z"
    }
   },
   "cell_type": "code",
   "source": "df['Cost of petrol'] = pd.to_numeric(df['Cost of petrol'].str.extract(r'(\\d+\\.?\\d*)')[0], errors='coerce')",
   "id": "1129c23f1f9bf053",
   "outputs": [],
   "execution_count": 15
  },
  {
   "metadata": {
    "ExecuteTime": {
     "end_time": "2025-02-01T08:54:19.643348Z",
     "start_time": "2025-02-01T08:54:19.635067Z"
    }
   },
   "cell_type": "code",
   "source": "df['Cost of petrol']",
   "id": "eb89ec276e806f3",
   "outputs": [
    {
     "data": {
      "text/plain": [
       "919      NaN\n",
       "920    400.0\n",
       "921    300.0\n",
       "922    150.0\n",
       "923    200.0\n",
       "Name: Cost of petrol, dtype: float64"
      ]
     },
     "execution_count": 20,
     "metadata": {},
     "output_type": "execute_result"
    }
   ],
   "execution_count": 20
  },
  {
   "metadata": {
    "ExecuteTime": {
     "end_time": "2025-02-01T08:54:31.098182Z",
     "start_time": "2025-02-01T08:54:31.088173Z"
    }
   },
   "cell_type": "code",
   "source": "df['Cost of petrol'].describe()",
   "id": "35f26b4f806b9dec",
   "outputs": [
    {
     "data": {
      "text/plain": [
       "count       799.000000\n",
       "mean       1636.515907\n",
       "std       12011.361902\n",
       "min           0.000000\n",
       "25%          50.000000\n",
       "50%         100.000000\n",
       "75%         250.000000\n",
       "max      250000.000000\n",
       "Name: Cost of petrol, dtype: float64"
      ]
     },
     "execution_count": 21,
     "metadata": {},
     "output_type": "execute_result"
    }
   ],
   "execution_count": 21
  },
  {
   "metadata": {
    "ExecuteTime": {
     "end_time": "2025-02-01T08:56:09.361010Z",
     "start_time": "2025-02-01T08:56:09.356121Z"
    }
   },
   "cell_type": "code",
   "source": "df['Cost of petrol'].fillna(df['Cost of petrol'].median(), inplace=True)",
   "id": "c5374869dad9b6ef",
   "outputs": [],
   "execution_count": 23
  },
  {
   "metadata": {
    "ExecuteTime": {
     "end_time": "2025-02-01T08:56:17.478174Z",
     "start_time": "2025-02-01T08:56:17.467562Z"
    }
   },
   "cell_type": "code",
   "source": "df['Cost of petrol'].describe()",
   "id": "a6dd6b897ee66f5b",
   "outputs": [
    {
     "data": {
      "text/plain": [
       "count       924.000000\n",
       "mean       1428.653907\n",
       "std       11180.819234\n",
       "min           0.000000\n",
       "25%          60.000000\n",
       "50%         100.000000\n",
       "75%         200.000000\n",
       "max      250000.000000\n",
       "Name: Cost of petrol, dtype: float64"
      ]
     },
     "execution_count": 24,
     "metadata": {},
     "output_type": "execute_result"
    }
   ],
   "execution_count": 24
  },
  {
   "metadata": {
    "ExecuteTime": {
     "end_time": "2025-02-01T08:56:32.113579Z",
     "start_time": "2025-02-01T08:56:32.106848Z"
    }
   },
   "cell_type": "code",
   "source": "df['Cost of petrol']",
   "id": "32f23ccafa858d3",
   "outputs": [
    {
     "data": {
      "text/plain": [
       "0"
      ]
     },
     "execution_count": 25,
     "metadata": {},
     "output_type": "execute_result"
    }
   ],
   "execution_count": 25
  },
  {
   "metadata": {
    "ExecuteTime": {
     "end_time": "2025-02-01T09:36:48.620303Z",
     "start_time": "2025-02-01T09:36:48.607208Z"
    }
   },
   "cell_type": "code",
   "source": "df['What time do you prefer to leave your work/school/university/ hospital for home?'].unique()",
   "id": "8b6493dfad231754",
   "outputs": [
    {
     "data": {
      "text/plain": [
       "array(['4PM-5PM', '5PM-6PM', '3PM-4PM', '6PM-7PM', '8PM-9PM', nan,\n",
       "       '9PM-10PM', '7PM-8PM', '10PM-11PM', '11PM-12PM'], dtype=object)"
      ]
     },
     "execution_count": 26,
     "metadata": {},
     "output_type": "execute_result"
    }
   ],
   "execution_count": 26
  },
  {
   "metadata": {},
   "cell_type": "code",
   "outputs": [],
   "execution_count": null,
   "source": "",
   "id": "5d69b0a337623f52"
  }
 ],
 "metadata": {
  "kernelspec": {
   "display_name": "Python 3 (ipykernel)",
   "language": "python",
   "name": "python3"
  },
  "language_info": {
   "codemirror_mode": {
    "name": "ipython",
    "version": 3
   },
   "file_extension": ".py",
   "mimetype": "text/x-python",
   "name": "python",
   "nbconvert_exporter": "python",
   "pygments_lexer": "ipython3",
   "version": "3.12.7"
  }
 },
 "nbformat": 4,
 "nbformat_minor": 5
}
