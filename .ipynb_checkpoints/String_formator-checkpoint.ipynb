{
 "cells": [
  {
   "cell_type": "markdown",
   "id": "26cfbe97-ecb5-4271-97ce-02201e5fece8",
   "metadata": {},
   "source": [
    "## string formatting "
   ]
  },
  {
   "cell_type": "code",
   "execution_count": 1,
   "id": "bb9b402a-9115-4b18-b119-613762688d85",
   "metadata": {},
   "outputs": [
    {
     "name": "stdout",
     "output_type": "stream",
     "text": [
      "hello world \n"
     ]
    }
   ],
   "source": [
    "print(\"hello world \")"
   ]
  },
  {
   "cell_type": "code",
   "execution_count": 15,
   "id": "1e09d2bd-4d5f-462d-a107-34c04f5e776b",
   "metadata": {},
   "outputs": [],
   "source": [
    "\n",
    "def greet(name):\n",
    "    print(\"hello how are you {}\".format(name.title()))"
   ]
  },
  {
   "cell_type": "code",
   "execution_count": 16,
   "id": "c845d1f2-98d8-4aad-a148-5174688324ba",
   "metadata": {},
   "outputs": [
    {
     "name": "stdout",
     "output_type": "stream",
     "text": [
      "hello how are you Bharat\n"
     ]
    }
   ],
   "source": [
    "greet(\"bharat\")"
   ]
  },
  {
   "cell_type": "code",
   "execution_count": 22,
   "id": "47afd2eb-ba01-4876-a859-f680a12a2f86",
   "metadata": {},
   "outputs": [],
   "source": [
    "def GM(name, age):\n",
    "    print(\"hello {Name} your age is {Age}\".format(Age=age,Name=name)) ## if dont want any ordering  we can use placeholders "
   ]
  },
  {
   "cell_type": "code",
   "execution_count": 23,
   "id": "f029e0db-b189-46af-ab69-3677f206ea78",
   "metadata": {},
   "outputs": [
    {
     "name": "stdout",
     "output_type": "stream",
     "text": [
      "hello bharat your age is 19\n"
     ]
    }
   ],
   "source": [
    "GM(\"bharat\", 19)"
   ]
  }
 ],
 "metadata": {
  "kernelspec": {
   "display_name": "Python 3 (ipykernel)",
   "language": "python",
   "name": "python3"
  },
  "language_info": {
   "codemirror_mode": {
    "name": "ipython",
    "version": 3
   },
   "file_extension": ".py",
   "mimetype": "text/x-python",
   "name": "python",
   "nbconvert_exporter": "python",
   "pygments_lexer": "ipython3",
   "version": "3.12.7"
  }
 },
 "nbformat": 4,
 "nbformat_minor": 5
}
