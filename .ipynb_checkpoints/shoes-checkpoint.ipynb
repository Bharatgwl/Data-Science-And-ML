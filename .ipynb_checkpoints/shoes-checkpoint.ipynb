{
 "cells": [
  {
   "cell_type": "code",
   "execution_count": 2,
   "id": "2661517a-83dc-4493-99cc-cb7a4581b104",
   "metadata": {},
   "outputs": [],
   "source": [
    "import pandas as pd\n",
    "import numpy as np\n",
    "import seaborn as sns\n",
    "df=pd.read_csv('shoes_fact.csv')\n"
   ]
  },
  {
   "cell_type": "code",
   "execution_count": 9,
   "id": "4ab6da05-628a-41fa-add9-4407b2a4b352",
   "metadata": {},
   "outputs": [
    {
     "name": "stdout",
     "output_type": "stream",
     "text": [
      "<class 'pandas.core.frame.DataFrame'>\n",
      "RangeIndex: 299156 entries, 0 to 299155\n",
      "Data columns (total 8 columns):\n",
      " #   Column        Non-Null Count   Dtype  \n",
      "---  ------        --------------   -----  \n",
      " 0   Unnamed: 0    299156 non-null  int64  \n",
      " 1   id            299156 non-null  object \n",
      " 2   price         299156 non-null  float64\n",
      " 3   category      299156 non-null  object \n",
      " 4   size          299156 non-null  object \n",
      " 5   availability  299156 non-null  int64  \n",
      " 6   date          299156 non-null  object \n",
      " 7   country_code  299156 non-null  object \n",
      "dtypes: float64(1), int64(2), object(5)\n",
      "memory usage: 18.3+ MB\n"
     ]
    }
   ],
   "source": [
    "df.info()"
   ]
  },
  {
   "cell_type": "code",
   "execution_count": 15,
   "id": "8cf573c5-4ddb-48e4-a0de-081f1d3ca989",
   "metadata": {},
   "outputs": [
    {
     "data": {
      "text/html": [
       "<div>\n",
       "<style scoped>\n",
       "    .dataframe tbody tr th:only-of-type {\n",
       "        vertical-align: middle;\n",
       "    }\n",
       "\n",
       "    .dataframe tbody tr th {\n",
       "        vertical-align: top;\n",
       "    }\n",
       "\n",
       "    .dataframe thead th {\n",
       "        text-align: right;\n",
       "    }\n",
       "</style>\n",
       "<table border=\"1\" class=\"dataframe\">\n",
       "  <thead>\n",
       "    <tr style=\"text-align: right;\">\n",
       "      <th></th>\n",
       "      <th>Unnamed: 0</th>\n",
       "      <th>id</th>\n",
       "      <th>price</th>\n",
       "      <th>category</th>\n",
       "      <th>size</th>\n",
       "      <th>availability</th>\n",
       "      <th>date</th>\n",
       "      <th>country_code</th>\n",
       "    </tr>\n",
       "  </thead>\n",
       "  <tbody>\n",
       "    <tr>\n",
       "      <th>0</th>\n",
       "      <td>63575</td>\n",
       "      <td>HP9426</td>\n",
       "      <td>60.0</td>\n",
       "      <td>sneakers</td>\n",
       "      <td>36</td>\n",
       "      <td>0</td>\n",
       "      <td>07/01/2025</td>\n",
       "      <td>DE</td>\n",
       "    </tr>\n",
       "    <tr>\n",
       "      <th>1</th>\n",
       "      <td>63576</td>\n",
       "      <td>HP9426</td>\n",
       "      <td>60.0</td>\n",
       "      <td>sneakers</td>\n",
       "      <td>36 2/3</td>\n",
       "      <td>0</td>\n",
       "      <td>07/01/2025</td>\n",
       "      <td>DE</td>\n",
       "    </tr>\n",
       "    <tr>\n",
       "      <th>2</th>\n",
       "      <td>63577</td>\n",
       "      <td>HP9426</td>\n",
       "      <td>60.0</td>\n",
       "      <td>sneakers</td>\n",
       "      <td>37 1/3</td>\n",
       "      <td>0</td>\n",
       "      <td>07/01/2025</td>\n",
       "      <td>DE</td>\n",
       "    </tr>\n",
       "    <tr>\n",
       "      <th>3</th>\n",
       "      <td>63578</td>\n",
       "      <td>HP9426</td>\n",
       "      <td>60.0</td>\n",
       "      <td>sneakers</td>\n",
       "      <td>38</td>\n",
       "      <td>0</td>\n",
       "      <td>07/01/2025</td>\n",
       "      <td>DE</td>\n",
       "    </tr>\n",
       "    <tr>\n",
       "      <th>4</th>\n",
       "      <td>63579</td>\n",
       "      <td>HP9426</td>\n",
       "      <td>60.0</td>\n",
       "      <td>sneakers</td>\n",
       "      <td>38 2/3</td>\n",
       "      <td>1</td>\n",
       "      <td>07/01/2025</td>\n",
       "      <td>DE</td>\n",
       "    </tr>\n",
       "    <tr>\n",
       "      <th>...</th>\n",
       "      <td>...</td>\n",
       "      <td>...</td>\n",
       "      <td>...</td>\n",
       "      <td>...</td>\n",
       "      <td>...</td>\n",
       "      <td>...</td>\n",
       "      <td>...</td>\n",
       "      <td>...</td>\n",
       "    </tr>\n",
       "    <tr>\n",
       "      <th>299151</th>\n",
       "      <td>847278</td>\n",
       "      <td>JI4476</td>\n",
       "      <td>160.0</td>\n",
       "      <td>sneakers</td>\n",
       "      <td>47 1/3</td>\n",
       "      <td>3</td>\n",
       "      <td>2025-01-16</td>\n",
       "      <td>BE</td>\n",
       "    </tr>\n",
       "    <tr>\n",
       "      <th>299152</th>\n",
       "      <td>847279</td>\n",
       "      <td>JI4476</td>\n",
       "      <td>160.0</td>\n",
       "      <td>sneakers</td>\n",
       "      <td>48</td>\n",
       "      <td>0</td>\n",
       "      <td>2025-01-16</td>\n",
       "      <td>BE</td>\n",
       "    </tr>\n",
       "    <tr>\n",
       "      <th>299153</th>\n",
       "      <td>847280</td>\n",
       "      <td>JI4476</td>\n",
       "      <td>160.0</td>\n",
       "      <td>sneakers</td>\n",
       "      <td>48 2/3</td>\n",
       "      <td>0</td>\n",
       "      <td>2025-01-16</td>\n",
       "      <td>BE</td>\n",
       "    </tr>\n",
       "    <tr>\n",
       "      <th>299154</th>\n",
       "      <td>847281</td>\n",
       "      <td>JI4476</td>\n",
       "      <td>160.0</td>\n",
       "      <td>sneakers</td>\n",
       "      <td>49 1/3</td>\n",
       "      <td>2</td>\n",
       "      <td>2025-01-16</td>\n",
       "      <td>BE</td>\n",
       "    </tr>\n",
       "    <tr>\n",
       "      <th>299155</th>\n",
       "      <td>847282</td>\n",
       "      <td>JI4476</td>\n",
       "      <td>160.0</td>\n",
       "      <td>sneakers</td>\n",
       "      <td>50 2/3</td>\n",
       "      <td>0</td>\n",
       "      <td>2025-01-16</td>\n",
       "      <td>BE</td>\n",
       "    </tr>\n",
       "  </tbody>\n",
       "</table>\n",
       "<p>299156 rows × 8 columns</p>\n",
       "</div>"
      ],
      "text/plain": [
       "        Unnamed: 0      id  price  category    size  availability        date  \\\n",
       "0            63575  HP9426   60.0  sneakers      36             0  07/01/2025   \n",
       "1            63576  HP9426   60.0  sneakers  36 2/3             0  07/01/2025   \n",
       "2            63577  HP9426   60.0  sneakers  37 1/3             0  07/01/2025   \n",
       "3            63578  HP9426   60.0  sneakers      38             0  07/01/2025   \n",
       "4            63579  HP9426   60.0  sneakers  38 2/3             1  07/01/2025   \n",
       "...            ...     ...    ...       ...     ...           ...         ...   \n",
       "299151      847278  JI4476  160.0  sneakers  47 1/3             3  2025-01-16   \n",
       "299152      847279  JI4476  160.0  sneakers      48             0  2025-01-16   \n",
       "299153      847280  JI4476  160.0  sneakers  48 2/3             0  2025-01-16   \n",
       "299154      847281  JI4476  160.0  sneakers  49 1/3             2  2025-01-16   \n",
       "299155      847282  JI4476  160.0  sneakers  50 2/3             0  2025-01-16   \n",
       "\n",
       "       country_code  \n",
       "0                DE  \n",
       "1                DE  \n",
       "2                DE  \n",
       "3                DE  \n",
       "4                DE  \n",
       "...             ...  \n",
       "299151           BE  \n",
       "299152           BE  \n",
       "299153           BE  \n",
       "299154           BE  \n",
       "299155           BE  \n",
       "\n",
       "[299156 rows x 8 columns]"
      ]
     },
     "execution_count": 15,
     "metadata": {},
     "output_type": "execute_result"
    }
   ],
   "source": [
    "df\n"
   ]
  },
  {
   "cell_type": "code",
   "execution_count": 10,
   "id": "b8be74a4-276c-4b00-af25-7000792db999",
   "metadata": {},
   "outputs": [
    {
     "data": {
      "text/plain": [
       "Unnamed: 0      0\n",
       "id              0\n",
       "price           0\n",
       "category        0\n",
       "size            0\n",
       "availability    0\n",
       "date            0\n",
       "country_code    0\n",
       "dtype: int64"
      ]
     },
     "execution_count": 10,
     "metadata": {},
     "output_type": "execute_result"
    }
   ],
   "source": [
    "df.isnull().sum()"
   ]
  },
  {
   "cell_type": "code",
   "execution_count": 13,
   "id": "7734f13d-7f05-4dba-8113-2cb47215599e",
   "metadata": {},
   "outputs": [
    {
     "data": {
      "text/plain": [
       "<Axes: >"
      ]
     },
     "execution_count": 13,
     "metadata": {},
     "output_type": "execute_result"
    },
    {
     "data": {
      "image/png": "[encoded data removed]",
      "text/plain": [
       "<Figure size 640x480 with 1 Axes>"
      ]
     },
     "metadata": {},
     "output_type": "display_data"
    }
   ],
   "source": [
    "sns.boxplot(df)"
   ]
  },
  {
   "cell_type": "code",
   "execution_count": 14,
   "id": "3e7a700f-8e13-49c1-b248-11fa3281757c",
   "metadata": {},
   "outputs": [
    {
     "data": {
      "text/plain": [
       "<Axes: >"
      ]
     },
     "execution_count": 14,
     "metadata": {},
     "output_type": "execute_result"
    },
    {
     "data": {
      "image/png": "[encoded data removed]",
      "text/plain": [
       "<Figure size 640x480 with 1 Axes>"
      ]
     },
     "metadata": {},
     "output_type": "display_data"
    }
   ],
   "source": [
    "sns.heatmap(df.isnull(),yticklabels=False,cbar=False,cmap='viridis')"
   ]
  },
  {
   "cell_type": "code",
   "execution_count": null,
   "id": "461bc144-9e95-4699-9a0e-7766be3a172b",
   "metadata": {},
   "outputs": [],
   "source": [
    "df.desc"
   ]
  }
 ],
 "metadata": {
  "kernelspec": {
   "display_name": "Python 3 (ipykernel)",
   "language": "python",
   "name": "python3"
  },
  "language_info": {
   "codemirror_mode": {
    "name": "ipython",
    "version": 3
   },
   "file_extension": ".py",
   "mimetype": "text/x-python",
   "name": "python",
   "nbconvert_exporter": "python",
   "pygments_lexer": "ipython3",
   "version": "3.12.7"
  }
 },
 "nbformat": 4,
 "nbformat_minor": 5
}
