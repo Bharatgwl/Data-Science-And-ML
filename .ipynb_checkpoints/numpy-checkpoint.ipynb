{
 "cells": [
  {
   "cell_type": "markdown",
   "id": "20ce914a-c31f-4f14-a5f5-b616b14ae2e8",
   "metadata": {},
   "source": [
    "# Numpy Practice"
   ]
  },
  {
   "cell_type": "code",
   "execution_count": 3,
   "id": "9b79782c-0ab3-4f36-8bab-cc093a627b24",
   "metadata": {},
   "outputs": [
    {
     "data": {
      "text/plain": [
       "array([1, 2, 3, 4, 5])"
      ]
     },
     "execution_count": 3,
     "metadata": {},
     "output_type": "execute_result"
    }
   ],
   "source": [
    "import numpy as np\n",
    "my_list = [1,2,3,4,5]\n",
    "arr = np.array(my_list)\n",
    "arr"
   ]
  },
  {
   "cell_type": "code",
   "execution_count": 4,
   "id": "68334285-1c52-4ace-bb6c-4cb4dc4a4fd1",
   "metadata": {},
   "outputs": [
    {
     "data": {
      "text/plain": [
       "numpy.ndarray"
      ]
     },
     "execution_count": 4,
     "metadata": {},
     "output_type": "execute_result"
    }
   ],
   "source": [
    "type(arr)"
   ]
  },
  {
   "cell_type": "code",
   "execution_count": 5,
   "id": "e2c82ba8-b734-4eaf-ab21-27c6965affa4",
   "metadata": {},
   "outputs": [
    {
     "name": "stdout",
     "output_type": "stream",
     "text": [
      "[1 2 3 4 5]\n"
     ]
    }
   ],
   "source": [
    "print(arr)"
   ]
  },
  {
   "cell_type": "code",
   "execution_count": 7,
   "id": "738fb797-4dda-4919-9969-d304a546ba11",
   "metadata": {},
   "outputs": [
    {
     "data": {
      "text/plain": [
       "(5,)"
      ]
     },
     "execution_count": 7,
     "metadata": {},
     "output_type": "execute_result"
    }
   ],
   "source": [
    "arr.shape"
   ]
  },
  {
   "cell_type": "code",
   "execution_count": 16,
   "id": "a986cb28-3812-42b5-b2a2-f00dcd81b2b7",
   "metadata": {},
   "outputs": [
    {
     "name": "stdout",
     "output_type": "stream",
     "text": [
      "[[ 1  2  3  4  5]\n",
      " [ 6  7  8  9 10]\n",
      " [11 12 13 14 15]]\n"
     ]
    },
    {
     "data": {
      "text/plain": [
       "numpy.ndarray"
      ]
     },
     "execution_count": 16,
     "metadata": {},
     "output_type": "execute_result"
    }
   ],
   "source": [
    "list_1 = [1,2,3,4,5]\n",
    "list_2 = [6,7,8,9,10]\n",
    "list_3 = [11,12,13,14,15]\n",
    "\n",
    "marray = np.array([list_1,list_2,list_3])\n",
    "print(marray)\n",
    "\n",
    "type(marray)"
   ]
  },
  {
   "cell_type": "code",
   "execution_count": 17,
   "id": "000e6371-d57d-44ab-804b-1b57ed94edab",
   "metadata": {},
   "outputs": [
    {
     "data": {
      "text/plain": [
       "(3, 5)"
      ]
     },
     "execution_count": 17,
     "metadata": {},
     "output_type": "execute_result"
    }
   ],
   "source": [
    "marray.shape"
   ]
  },
  {
   "cell_type": "code",
   "execution_count": 22,
   "id": "e583be3f-f241-41dc-81ed-788951e179f1",
   "metadata": {},
   "outputs": [
    {
     "data": {
      "text/plain": [
       "array([[ 1,  2,  3],\n",
       "       [ 4,  5,  6],\n",
       "       [ 7,  8,  9],\n",
       "       [10, 11, 12],\n",
       "       [13, 14, 15]])"
      ]
     },
     "execution_count": 22,
     "metadata": {},
     "output_type": "execute_result"
    }
   ],
   "source": [
    "marray.reshape(5,3)"
   ]
  },
  {
   "cell_type": "markdown",
   "id": "75392aa0-cc3b-4df7-b50a-d802f8a6153e",
   "metadata": {},
   "source": [
    "# indexing in numpy array"
   ]
  },
  {
   "cell_type": "code",
   "execution_count": 23,
   "id": "f69ae095-1ee4-4acd-a937-bbf2b20371b4",
   "metadata": {},
   "outputs": [
    {
     "data": {
      "text/plain": [
       "1"
      ]
     },
     "execution_count": 23,
     "metadata": {},
     "output_type": "execute_result"
    }
   ],
   "source": [
    "arr[0]"
   ]
  },
  {
   "cell_type": "code",
   "execution_count": 24,
   "id": "973a78f3-ebcd-4bfa-9040-905ffafac211",
   "metadata": {},
   "outputs": [
    {
     "data": {
      "text/plain": [
       "array([1, 2, 3, 4, 5])"
      ]
     },
     "execution_count": 24,
     "metadata": {},
     "output_type": "execute_result"
    }
   ],
   "source": [
    "marray[0]"
   ]
  },
  {
   "cell_type": "code",
   "execution_count": 26,
   "id": "6654e97c-9118-4811-ac76-a06ff12baaf7",
   "metadata": {},
   "outputs": [
    {
     "data": {
      "text/plain": [
       "2"
      ]
     },
     "execution_count": 26,
     "metadata": {},
     "output_type": "execute_result"
    }
   ],
   "source": [
    "marray[0][1]"
   ]
  },
  {
   "cell_type": "code",
   "execution_count": 44,
   "id": "711f2f92-95f7-418d-926c-2b336b107c31",
   "metadata": {},
   "outputs": [
    {
     "data": {
      "text/plain": [
       "array([[ 1,  2,  3,  4,  5],\n",
       "       [ 6,  7,  8,  9, 10]])"
      ]
     },
     "execution_count": 44,
     "metadata": {},
     "output_type": "execute_result"
    }
   ],
   "source": [
    "marray[0:2]"
   ]
  },
  {
   "cell_type": "code",
   "execution_count": 45,
   "id": "9cec412d-f888-440d-a1aa-3c1482f880e5",
   "metadata": {},
   "outputs": [
    {
     "data": {
      "text/plain": [
       "array([[1, 2],\n",
       "       [6, 7]])"
      ]
     },
     "execution_count": 45,
     "metadata": {},
     "output_type": "execute_result"
    }
   ],
   "source": [
    "marray[0:2, 0:2] # [ row[row:to rows] , col[col:to cols] ]"
   ]
  },
  {
   "cell_type": "code",
   "execution_count": 43,
   "id": "2db96be0-145a-40e5-97ec-8515dbe87edc",
   "metadata": {},
   "outputs": [
    {
     "data": {
      "text/plain": [
       "array([11, 12, 13, 14, 15])"
      ]
     },
     "execution_count": 43,
     "metadata": {},
     "output_type": "execute_result"
    }
   ],
   "source": [
    "marray[[2] [0]]"
   ]
  },
  {
   "cell_type": "code",
   "execution_count": 50,
   "id": "633bf933-262a-4201-8f16-7d849436ca96",
   "metadata": {},
   "outputs": [
    {
     "data": {
      "text/plain": [
       "array([[ 9, 10],\n",
       "       [14, 15]])"
      ]
     },
     "execution_count": 50,
     "metadata": {},
     "output_type": "execute_result"
    }
   ],
   "source": [
    "marray[1:3,3:5] "
   ]
  },
  {
   "cell_type": "code",
   "execution_count": 52,
   "id": "ef1badf0-ab2f-47e6-b8e6-1ad744753981",
   "metadata": {},
   "outputs": [
    {
     "data": {
      "text/plain": [
       "array([[7, 8, 9]])"
      ]
     },
     "execution_count": 52,
     "metadata": {},
     "output_type": "execute_result"
    }
   ],
   "source": [
    "marray[1:2,1:4]"
   ]
  },
  {
   "cell_type": "code",
   "execution_count": 61,
   "id": "b7af41dc-4459-4fda-95ae-e81f6979ba07",
   "metadata": {},
   "outputs": [
    {
     "data": {
      "text/plain": [
       "array([ 0,  2,  4,  6,  8, 10, 12, 14, 16, 18])"
      ]
     },
     "execution_count": 61,
     "metadata": {},
     "output_type": "execute_result"
    }
   ],
   "source": [
    "arr2 = np.arange(0,20,2)\n",
    "arr2"
   ]
  },
  {
   "cell_type": "code",
   "execution_count": 62,
   "id": "04a2ce53-bdfb-430d-85d9-d40412891a5d",
   "metadata": {},
   "outputs": [
    {
     "data": {
      "text/plain": [
       "array([ 0,  4,  8, 12, 16])"
      ]
     },
     "execution_count": 62,
     "metadata": {},
     "output_type": "execute_result"
    }
   ],
   "source": [
    "arr2[0:99:2]"
   ]
  },
  {
   "cell_type": "code",
   "execution_count": 66,
   "id": "1b42aca0-16af-4665-bae2-c0eec7be3b2d",
   "metadata": {},
   "outputs": [
    {
     "data": {
      "text/plain": [
       "array([  0,   2,   4,   6, 150, 150, 150, 150, 150, 150])"
      ]
     },
     "execution_count": 66,
     "metadata": {},
     "output_type": "execute_result"
    }
   ],
   "source": [
    "arr2[4:]=150\n",
    "arr2"
   ]
  },
  {
   "cell_type": "code",
   "execution_count": 71,
   "id": "d1b37c78-6fd8-4682-a9f7-94764fef43e8",
   "metadata": {},
   "outputs": [
    {
     "data": {
      "text/plain": [
       "array([ 1.        ,  1.47368421,  1.94736842,  2.42105263,  2.89473684,\n",
       "        3.36842105,  3.84210526,  4.31578947,  4.78947368,  5.26315789,\n",
       "        5.73684211,  6.21052632,  6.68421053,  7.15789474,  7.63157895,\n",
       "        8.10526316,  8.57894737,  9.05263158,  9.52631579, 10.        ])"
      ]
     },
     "execution_count": 71,
     "metadata": {},
     "output_type": "execute_result"
    }
   ],
   "source": [
    "np.linspace(1,10,20) # equally spaced points "
   ]
  },
  {
   "cell_type": "code",
   "execution_count": 142,
   "id": "4b7e9c53-ee44-4b69-86a4-bca25fdac708",
   "metadata": {},
   "outputs": [
    {
     "name": "stdout",
     "output_type": "stream",
     "text": [
      "[0 1 2 3 4 5 6 7 8 9]\n",
      "[ 0  2  4  6  8 10 12 14 16 18]\n"
     ]
    }
   ],
   "source": [
    "# copy function( ) and broadasting\n",
    "arr = np.arange(0,10)\n",
    "print(arr)\n",
    "arr1 = np.arange(0,20,2)\n",
    "print(arr1)\n",
    "\n"
   ]
  },
  {
   "cell_type": "code",
   "execution_count": 143,
   "id": "e740ffc9-f3cf-4f42-9566-96fc7fc4e5b9",
   "metadata": {},
   "outputs": [
    {
     "data": {
      "text/plain": [
       "array([ 0,  2,  4,  6,  8, 10, 12, 14, 16, 18])"
      ]
     },
     "execution_count": 143,
     "metadata": {},
     "output_type": "execute_result"
    }
   ],
   "source": [
    "arr = arr1 #shallow copy is done here same memory sharing \n",
    "arr\n"
   ]
  },
  {
   "cell_type": "code",
   "execution_count": 154,
   "id": "ac8bb917-7ea0-46b8-a721-6e9e62b3ce06",
   "metadata": {},
   "outputs": [
    {
     "name": "stdout",
     "output_type": "stream",
     "text": [
      "array [0 1 2 3 4 5 6 7 8 9]\n",
      "array1 [ 0  2  4  6  8 10 12 14 16 18]\n"
     ]
    }
   ],
   "source": [
    "arr = np.arange(0,10)\n",
    "print(f'array {arr}')\n",
    "arr1 = np.arange(0,20,2)\n",
    "print(f'array1 {arr1}')"
   ]
  },
  {
   "cell_type": "code",
   "execution_count": 156,
   "id": "dc86fcab-6ced-4169-a32d-f80a5aab4921",
   "metadata": {},
   "outputs": [],
   "source": [
    "arr=arr1.copy()"
   ]
  },
  {
   "cell_type": "code",
   "execution_count": 157,
   "id": "4b9a20e7-46eb-409a-8c88-48dd54d23e96",
   "metadata": {},
   "outputs": [
    {
     "name": "stdout",
     "output_type": "stream",
     "text": [
      "array [ 0  2  4  6  8 10 12 14 16 18]\n",
      "array1 [ 0  2  4  6  8 10 12 14 16 18]\n"
     ]
    }
   ],
   "source": [
    "print(f'array {arr}')\n",
    "print(f'array1 {arr1}')"
   ]
  },
  {
   "cell_type": "code",
   "execution_count": 159,
   "id": "d345fb5d-e241-48a0-a1cd-23083fdf1aa6",
   "metadata": {},
   "outputs": [],
   "source": [
    "arr1[5:]=600"
   ]
  },
  {
   "cell_type": "code",
   "execution_count": 160,
   "id": "b7d159eb-a301-49ee-9336-58d827503c2f",
   "metadata": {},
   "outputs": [
    {
     "name": "stdout",
     "output_type": "stream",
     "text": [
      "array [ 0  2  4  6  8 10 12 14 16 18]\n",
      "array1 [  0   2   4   6   8 600 600 600 600 600]\n"
     ]
    }
   ],
   "source": [
    "print(f'array {arr}')\n",
    "print(f'array1 {arr1}')"
   ]
  },
  {
   "cell_type": "markdown",
   "id": "5d958047-63ff-4f4d-a1c9-693f70e374d3",
   "metadata": {},
   "source": [
    "## some usefull techniques used in EDA"
   ]
  },
  {
   "cell_type": "code",
   "execution_count": 162,
   "id": "d465db77-93b1-441b-b301-2063e0d7b451",
   "metadata": {},
   "outputs": [
    {
     "data": {
      "text/plain": [
       "array([1, 2, 3, 4, 5, 6, 7, 8, 9])"
      ]
     },
     "execution_count": 162,
     "metadata": {},
     "output_type": "execute_result"
    }
   ],
   "source": [
    "arr= np.arange(1,10)\n",
    "arr\n"
   ]
  },
  {
   "cell_type": "code",
   "execution_count": 164,
   "id": "c4d46497-4a85-4d0e-8047-0dbac5b69314",
   "metadata": {},
   "outputs": [
    {
     "name": "stdout",
     "output_type": "stream",
     "text": [
      "[ 3  4  5  6  7  8  9 10 11]\n",
      "[0.5 1.  1.5 2.  2.5 3.  3.5 4.  4.5]\n",
      "[ 2  4  6  8 10 12 14 16 18]\n",
      "[-1  0  1  2  3  4  5  6  7]\n",
      "[1 0 1 0 1 0 1 0 1]\n"
     ]
    }
   ],
   "source": [
    "print(arr+2)\n",
    "print(arr/2)\n",
    "print(arr*2)\n",
    "print(arr-2)\n",
    "print(arr%2)"
   ]
  },
  {
   "cell_type": "code",
   "execution_count": 165,
   "id": "62f3ef1b-4020-450a-97b4-d4e17af6afb5",
   "metadata": {},
   "outputs": [
    {
     "data": {
      "text/plain": [
       "array([3, 4, 5, 6, 7, 8, 9])"
      ]
     },
     "execution_count": 165,
     "metadata": {},
     "output_type": "execute_result"
    }
   ],
   "source": [
    "arr[arr>2]"
   ]
  },
  {
   "cell_type": "code",
   "execution_count": 168,
   "id": "61b8b492-f637-4471-83cf-b800f91531e1",
   "metadata": {},
   "outputs": [
    {
     "data": {
      "text/plain": [
       "array([1, 2, 3, 4, 5, 6])"
      ]
     },
     "execution_count": 168,
     "metadata": {},
     "output_type": "execute_result"
    }
   ],
   "source": [
    "arr[arr<=6]"
   ]
  },
  {
   "cell_type": "code",
   "execution_count": 187,
   "id": "d8c7a537-bb41-4264-922b-839b00a78c70",
   "metadata": {},
   "outputs": [
    {
     "name": "stdout",
     "output_type": "stream",
     "text": [
      "[[1 2]\n",
      " [3 4]]\n",
      "[[10 11]\n",
      " [12 13]]\n",
      "[[10 22]\n",
      " [36 52]]\n"
     ]
    }
   ],
   "source": [
    "arr3 = np.arange(1,5).reshape(2,2)\n",
    "arr4 = np.arange(10,14).reshape(2,2)\n",
    "\n",
    "print(arr3)\n",
    "print(arr4)\n",
    "\n",
    "print(arr3*arr4)"
   ]
  },
  {
   "cell_type": "code",
   "execution_count": 189,
   "id": "984cb71d-adc3-4368-8ef3-2e2710dd8d80",
   "metadata": {},
   "outputs": [
    {
     "data": {
      "text/plain": [
       "array([1., 1., 1., 1.])"
      ]
     },
     "execution_count": 189,
     "metadata": {},
     "output_type": "execute_result"
    }
   ],
   "source": [
    "arr= np.ones(4)\n",
    "arr"
   ]
  },
  {
   "cell_type": "code",
   "execution_count": 196,
   "id": "b02be700-5e95-4939-a02f-f09481323b88",
   "metadata": {},
   "outputs": [
    {
     "data": {
      "text/plain": [
       "array([[1, 1, 1, 1, 1],\n",
       "       [1, 1, 1, 1, 1],\n",
       "       [1, 1, 1, 1, 1],\n",
       "       [1, 1, 1, 1, 1],\n",
       "       [1, 1, 1, 1, 1]])"
      ]
     },
     "execution_count": 196,
     "metadata": {},
     "output_type": "execute_result"
    }
   ],
   "source": [
    "arr = np.ones((5,5),dtype=int)\n",
    "arr"
   ]
  },
  {
   "cell_type": "code",
   "execution_count": 206,
   "id": "49920e5e-460a-43e3-b150-6f02b46d3d38",
   "metadata": {},
   "outputs": [
    {
     "data": {
      "text/plain": [
       "array([[0.90136716, 0.69540705, 0.3474127 ],\n",
       "       [0.69416365, 0.74382666, 0.92445262],\n",
       "       [0.78668333, 0.84696668, 0.90618235]])"
      ]
     },
     "execution_count": 206,
     "metadata": {},
     "output_type": "execute_result"
    }
   ],
   "source": [
    "#  random uniform distribution 0 to 1 only\n",
    "\n",
    "np.random.rand(3,3) # of 3,3 shape"
   ]
  },
  {
   "cell_type": "code",
   "execution_count": 217,
   "id": "808bed44-1526-4f7e-b436-83bf0bac999d",
   "metadata": {},
   "outputs": [
    {
     "data": {
      "text/plain": [
       "array([[0.43372128, 0.91613378, 0.82284904],\n",
       "       [0.69954493, 0.33786791, 0.94797261],\n",
       "       [0.72543651, 0.33099203, 0.95266852]])"
      ]
     },
     "execution_count": 217,
     "metadata": {},
     "output_type": "execute_result"
    }
   ],
   "source": [
    "# random uniform normal distributions points \n",
    "\n",
    "arr_ex=np.random.randn(3,3)\n",
    "arr_ex"
   ]
  },
  {
   "cell_type": "code",
   "execution_count": 218,
   "id": "ccc252f0-fdd0-4d58-97da-0c07e5f980cd",
   "metadata": {},
   "outputs": [],
   "source": [
    "import pandas as pd\n",
    "import seaborn as sns\n"
   ]
  },
  {
   "cell_type": "code",
   "execution_count": 248,
   "id": "df20a980-afea-412a-aeb9-33337138a3eb",
   "metadata": {},
   "outputs": [
    {
     "name": "stderr",
     "output_type": "stream",
     "text": [
      "C:\\Users\\bhara\\AppData\\Local\\Temp\\ipykernel_5236\\1683171358.py:3: UserWarning: \n",
      "\n",
      "`distplot` is a deprecated function and will be removed in seaborn v0.14.0.\n",
      "\n",
      "Please adapt your code to use either `displot` (a figure-level function with\n",
      "similar flexibility) or `histplot` (an axes-level function for histograms).\n",
      "\n",
      "For a guide to updating your code to use the new functions, please see\n",
      "https://gist.github.com/mwaskom/de44147ed2974457ad6372750bbe5751\n",
      "\n",
      "  sns.distplot(pd.DataFrame(arr),kde=True)\n"
     ]
    },
    {
     "data": {
      "text/plain": [
       "<Axes: ylabel='Density'>"
      ]
     },
     "execution_count": 248,
     "metadata": {},
     "output_type": "execute_result"
    },
    {
     "data": {
      "image/png": "[encoded data removed]",
      "text/plain": [
       "<Figure size 640x480 with 1 Axes>"
      ]
     },
     "metadata": {},
     "output_type": "display_data"
    }
   ],
   "source": [
    "arr = np.arange(-10,10)\n",
    "arr.reshape(5,4)\n",
    "sns.distplot(pd.DataFrame(arr),kde=True)"
   ]
  },
  {
   "cell_type": "code",
   "execution_count": 244,
   "id": "1a7cac9a-fdf7-4051-bcc8-b1ba0ec21363",
   "metadata": {},
   "outputs": [
    {
     "data": {
      "text/plain": [
       "<Axes: ylabel='Count'>"
      ]
     },
     "execution_count": 244,
     "metadata": {},
     "output_type": "execute_result"
    },
    {
     "data": {
      "image/png": "[encoded data removed]",
      "text/plain": [
       "<Figure size 640x480 with 1 Axes>"
      ]
     },
     "metadata": {},
     "output_type": "display_data"
    }
   ],
   "source": [
    "sns.histplot(pd.DataFrame(np.random.randint(0,100,16).reshape(4,4)),kde=True)"
   ]
  },
  {
   "cell_type": "code",
   "execution_count": 245,
   "id": "6e38e4a2-1901-4ccc-875a-7a9cbdafdb22",
   "metadata": {},
   "outputs": [
    {
     "data": {
      "text/plain": [
       "<Axes: >"
      ]
     },
     "execution_count": 245,
     "metadata": {},
     "output_type": "execute_result"
    },
    {
     "data": {
      "image/png": "[encoded data removed]",
      "text/plain": [
       "<Figure size 640x480 with 1 Axes>"
      ]
     },
     "metadata": {},
     "output_type": "display_data"
    }
   ],
   "source": [
    "sns.boxplot(pd.DataFrame(np.random.randint(0,100,16).reshape(4,4)))"
   ]
  },
  {
   "cell_type": "code",
   "execution_count": 252,
   "id": "77add194-c4d1-420f-8cdb-5e22f146e4d4",
   "metadata": {},
   "outputs": [
    {
     "data": {
      "text/plain": [
       "array([[0.61220815, 0.37160174],\n",
       "       [0.15581268, 0.47836349]])"
      ]
     },
     "execution_count": 252,
     "metadata": {},
     "output_type": "execute_result"
    }
   ],
   "source": [
    "np.random.random_sample((2,2))"
   ]
  }
 ],
 "metadata": {
  "kernelspec": {
   "display_name": "Python 3 (ipykernel)",
   "language": "python",
   "name": "python3"
  },
  "language_info": {
   "codemirror_mode": {
    "name": "ipython",
    "version": 3
   },
   "file_extension": ".py",
   "mimetype": "text/x-python",
   "name": "python",
   "nbconvert_exporter": "python",
   "pygments_lexer": "ipython3",
   "version": "3.12.7"
  }
 },
 "nbformat": 4,
 "nbformat_minor": 5
}
