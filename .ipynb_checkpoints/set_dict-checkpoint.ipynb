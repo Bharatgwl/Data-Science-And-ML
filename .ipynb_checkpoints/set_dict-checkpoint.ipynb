{
 "cells": [
  {
   "cell_type": "markdown",
   "id": "c81d8b0d-161e-48b3-a94e-a1ebfcde88be",
   "metadata": {},
   "source": [
    "# sets"
   ]
  },
  {
   "cell_type": "code",
   "execution_count": 2,
   "id": "fcd7a376-09b3-4032-a921-3fd715ea95fd",
   "metadata": {},
   "outputs": [
    {
     "name": "stdout",
     "output_type": "stream",
     "text": [
      "set()\n"
     ]
    }
   ],
   "source": [
    "set_var = set()\n",
    "print(set_var)"
   ]
  },
  {
   "cell_type": "code",
   "execution_count": 12,
   "id": "d9985ff5-baf5-42c1-b1c8-f1e617d277fc",
   "metadata": {},
   "outputs": [
    {
     "name": "stdout",
     "output_type": "stream",
     "text": [
      "{'hulk', 'ironman', 'avengers'}\n"
     ]
    }
   ],
   "source": [
    "set_var={\"avengers\", \"ironman\", \"hulk\"}\n",
    "print(set_var)\n",
    "print(set_var)"
   ]
  },
  {
   "cell_type": "code",
   "execution_count": 2,
   "id": "c26e5191-5da1-4986-a3a1-862ec03c75ee",
   "metadata": {},
   "outputs": [
    {
     "data": {
      "text/plain": [
       "{1, 2, 3, 4, 5}"
      ]
     },
     "execution_count": 2,
     "metadata": {},
     "output_type": "execute_result"
    }
   ],
   "source": [
    "set_var={1,2,2,3,4,5,5}\n",
    "set_var"
   ]
  },
  {
   "cell_type": "code",
   "execution_count": 3,
   "id": "35076b44-fe54-4d56-a2a9-cc43f4361965",
   "metadata": {},
   "outputs": [
    {
     "data": {
      "text/plain": [
       "{1, 2, 3, 4, 5, 'hulk'}"
      ]
     },
     "execution_count": 3,
     "metadata": {},
     "output_type": "execute_result"
    }
   ],
   "source": [
    "set_var.add(\"hulk\")\n",
    "set_var"
   ]
  },
  {
   "cell_type": "code",
   "execution_count": 6,
   "id": "4fd3e9dd-4ed6-4c87-81af-309a510ed14f",
   "metadata": {},
   "outputs": [
    {
     "name": "stdout",
     "output_type": "stream",
     "text": [
      "{'hitman'}\n",
      "{'ironman', 'hulk', 'hitman', 'avengers'}\n"
     ]
    }
   ],
   "source": [
    "set1={\"avengers\", \"ironman\", \"hulk\"}\n",
    "set2={\"avengers\", \"ironman\", \"hulk\",\"hitman\"}\n",
    "print(set2.difference(set1))\n",
    "print(set2)"
   ]
  },
  {
   "cell_type": "code",
   "execution_count": 11,
   "id": "b6f08b26-fd64-44cf-804c-fffd58d392b8",
   "metadata": {},
   "outputs": [
    {
     "data": {
      "text/plain": [
       "{'hitman'}"
      ]
     },
     "execution_count": 11,
     "metadata": {},
     "output_type": "execute_result"
    }
   ],
   "source": [
    "set1={\"avengers\", \"ironman\", \"hulk\"}\n",
    "set2={\"avengers\", \"ironman\", \"hulk\",\"hitman\"}\n",
    "set2.difference_update(set1)\n",
    "set2"
   ]
  },
  {
   "cell_type": "code",
   "execution_count": 17,
   "id": "92fa3f04-a866-4d46-aa08-632aef4aaeb1",
   "metadata": {},
   "outputs": [
    {
     "data": {
      "text/plain": [
       "{'avengers', 'hitman', 'hulk', 'ironman'}"
      ]
     },
     "execution_count": 17,
     "metadata": {},
     "output_type": "execute_result"
    }
   ],
   "source": [
    "set1={\"avengers\", \"ironman\", \"hulk\"}\n",
    "set2={\"avengers\", \"ironman\", \"hulk\",\"hitman\"}\n",
    "set2.intersection(set1)"
   ]
  },
  {
   "cell_type": "code",
   "execution_count": 16,
   "id": "1e5927c4-41db-4a84-b8b0-85bc3ef17e23",
   "metadata": {},
   "outputs": [
    {
     "data": {
      "text/plain": [
       "{'avengers', 'hulk', 'ironman'}"
      ]
     },
     "execution_count": 16,
     "metadata": {},
     "output_type": "execute_result"
    }
   ],
   "source": [
    "set1={\"avengers\", \"ironman\", \"hulk\"}\n",
    "set2={\"avengers\", \"ironman\", \"hulk\",\"hitman\"}\n",
    "set2.intersection_update(set1)\n",
    "set2"
   ]
  },
  {
   "cell_type": "markdown",
   "id": "3ca24536-4189-4edd-b992-86b237ab4230",
   "metadata": {},
   "source": [
    "# dictionaries"
   ]
  },
  {
   "cell_type": "code",
   "execution_count": 18,
   "id": "26a429ff-f868-458c-ae14-6b5739dfe850",
   "metadata": {},
   "outputs": [
    {
     "data": {
      "text/plain": [
       "dict"
      ]
     },
     "execution_count": 18,
     "metadata": {},
     "output_type": "execute_result"
    }
   ],
   "source": [
    "dict={}\n",
    "type(dict)"
   ]
  },
  {
   "cell_type": "code",
   "execution_count": 19,
   "id": "6cfe7244-cb86-4329-98d1-9c2ccac8d2e0",
   "metadata": {},
   "outputs": [
    {
     "data": {
      "text/plain": [
       "{1: 'a', 2: 'b', 3: 'c'}"
      ]
     },
     "execution_count": 19,
     "metadata": {},
     "output_type": "execute_result"
    }
   ],
   "source": [
    "dict ={1:\"a\",2:\"b\",3:\"c\"}\n",
    "dict"
   ]
  },
  {
   "cell_type": "code",
   "execution_count": 24,
   "id": "80624024-7f7f-40dd-97c7-f1ca434224cb",
   "metadata": {},
   "outputs": [
    {
     "name": "stdout",
     "output_type": "stream",
     "text": [
      "1\n",
      "2\n",
      "3\n"
     ]
    }
   ],
   "source": [
    "dict ={1:\"a\",2:\"b\",3:\"c\"}\n",
    "for i in dict:\n",
    "    print(i)"
   ]
  },
  {
   "cell_type": "code",
   "execution_count": 27,
   "id": "0613a5d4-9489-48d8-9cf8-53b48f9d98bb",
   "metadata": {},
   "outputs": [
    {
     "name": "stdout",
     "output_type": "stream",
     "text": [
      "a\n",
      "b\n",
      "c\n"
     ]
    }
   ],
   "source": [
    "dict ={1:\"a\",2:\"b\",3:\"c\"}\n",
    "for i in dict.values():\n",
    "    print (i)"
   ]
  },
  {
   "cell_type": "code",
   "execution_count": 28,
   "id": "56bdf2a8-ff2c-4881-9017-356d0682d7c7",
   "metadata": {},
   "outputs": [
    {
     "name": "stdout",
     "output_type": "stream",
     "text": [
      "(1, 'a')\n",
      "(2, 'b')\n",
      "(3, 'c')\n"
     ]
    }
   ],
   "source": [
    "dict ={1:\"a\",2:\"b\",3:\"c\"}\n",
    "for i in dict.items():\n",
    "    print (i)"
   ]
  },
  {
   "cell_type": "code",
   "execution_count": 35,
   "id": "42c0c86e-e5fc-47c8-a106-40fabed9804a",
   "metadata": {},
   "outputs": [
    {
     "data": {
      "text/plain": [
       "{1: 'b', 2: 'b', 3: 'c'}"
      ]
     },
     "execution_count": 35,
     "metadata": {},
     "output_type": "execute_result"
    }
   ],
   "source": [
    "##updating dictionaries\n",
    "dict ={1:\"a\",2:\"b\",3:\"c\"}\n",
    "dict[1]='b'\n",
    "dict\n",
    "\n"
   ]
  },
  {
   "cell_type": "code",
   "execution_count": 36,
   "id": "4f63860b-799f-41a9-a9b3-abfe571c53e4",
   "metadata": {},
   "outputs": [
    {
     "data": {
      "text/plain": [
       "{1: 'a', 2: 'a', 3: 'a'}"
      ]
     },
     "execution_count": 36,
     "metadata": {},
     "output_type": "execute_result"
    }
   ],
   "source": [
    "dict ={1:\"a\",2:\"b\",3:\"c\"}\n",
    "for i in dict:\n",
    "    dict[i] = 'a'\n",
    "dict"
   ]
  },
  {
   "cell_type": "markdown",
   "id": "8fe915bc-da9b-4ebc-a2e5-ed968e5f9cea",
   "metadata": {},
   "source": [
    "# Nested Dictionaries"
   ]
  },
  {
   "cell_type": "code",
   "execution_count": 43,
   "id": "3dea8f24-69fa-473a-b569-d46be802f740",
   "metadata": {},
   "outputs": [
    {
     "name": "stdout",
     "output_type": "stream",
     "text": [
      "{'car1': {'audi': 1960}, 'car2': {'fortuner': 1960}, 'car3': {'mercedes': 1990}}\n"
     ]
    },
    {
     "data": {
      "text/plain": [
       "dict"
      ]
     },
     "execution_count": 43,
     "metadata": {},
     "output_type": "execute_result"
    }
   ],
   "source": [
    "dict1 ={\"audi\":1960}\n",
    "dict2 ={\"bmw\":1960}\n",
    "dict2 ={\"fortuner\":1960}\n",
    "\n",
    "supdict = {'car1':dict1, 'car2':dict2, 'car3':dict3}\n",
    "print(supdict)\n",
    "type(supdict)"
   ]
  },
  {
   "cell_type": "code",
   "execution_count": 67,
   "id": "db2a8165-4e52-4f65-b553-95a0d8072aa8",
   "metadata": {},
   "outputs": [
    {
     "data": {
      "text/plain": [
       "dict_values([1960])"
      ]
     },
     "execution_count": 67,
     "metadata": {},
     "output_type": "execute_result"
    }
   ],
   "source": [
    "supdict['car1'].values()\n"
   ]
  },
  {
   "cell_type": "code",
   "execution_count": 65,
   "id": "d4b61bb9-6e17-41b8-bf46-3a81cb70438a",
   "metadata": {},
   "outputs": [
    {
     "data": {
      "text/plain": [
       "{'audi': 1960}"
      ]
     },
     "execution_count": 65,
     "metadata": {},
     "output_type": "execute_result"
    }
   ],
   "source": [
    "supdict['car1']\n"
   ]
  },
  {
   "cell_type": "code",
   "execution_count": 64,
   "id": "833a8806-6a95-41e0-9403-68b6d75b89d8",
   "metadata": {},
   "outputs": [
    {
     "data": {
      "text/plain": [
       "dict_items([('audi', 1960)])"
      ]
     },
     "execution_count": 64,
     "metadata": {},
     "output_type": "execute_result"
    }
   ],
   "source": [
    "supdict['car1'].items()\n"
   ]
  },
  {
   "cell_type": "code",
   "execution_count": 63,
   "id": "53b789f7-4d64-4864-a3e3-5d2e9e74f939",
   "metadata": {},
   "outputs": [
    {
     "data": {
      "text/plain": [
       "dict_keys(['audi'])"
      ]
     },
     "execution_count": 63,
     "metadata": {},
     "output_type": "execute_result"
    }
   ],
   "source": [
    "supdict['car1'].keys()"
   ]
  },
  {
   "cell_type": "markdown",
   "id": "4c633ca6-2c9b-4877-928b-3c561bdd7025",
   "metadata": {},
   "source": [
    "# tuples"
   ]
  },
  {
   "cell_type": "code",
   "execution_count": 1,
   "id": "8da69bef-444c-41df-ac96-26fcf80bef68",
   "metadata": {},
   "outputs": [
    {
     "data": {
      "text/plain": [
       "tuple"
      ]
     },
     "execution_count": 1,
     "metadata": {},
     "output_type": "execute_result"
    }
   ],
   "source": [
    "tup1 = tuple()\n",
    "type(tup1)"
   ]
  },
  {
   "cell_type": "code",
   "execution_count": 2,
   "id": "a49485f7-3134-4b4d-8c4f-b98a0f479045",
   "metadata": {},
   "outputs": [
    {
     "data": {
      "text/plain": [
       "('1', 1, [1, 2, 3], 'hello')"
      ]
     },
     "execution_count": 2,
     "metadata": {},
     "output_type": "execute_result"
    }
   ],
   "source": [
    "tup1 = ('1',1,[1,2,3],\"hello\")\n",
    "tup1"
   ]
  },
  {
   "cell_type": "code",
   "execution_count": 5,
   "id": "4ec35512-8e82-479b-869b-4a548ca713fe",
   "metadata": {},
   "outputs": [
    {
     "ename": "TypeError",
     "evalue": "'tuple' object does not support item assignment",
     "output_type": "error",
     "traceback": [
      "\u001b[1;31m---------------------------------------------------------------------------\u001b[0m",
      "\u001b[1;31mTypeError\u001b[0m                                 Traceback (most recent call last)",
      "Cell \u001b[1;32mIn[5], line 1\u001b[0m\n\u001b[1;32m----> 1\u001b[0m \u001b[43mtup1\u001b[49m\u001b[43m[\u001b[49m\u001b[38;5;241;43m0\u001b[39;49m\u001b[43m]\u001b[49m\u001b[38;5;241m=\u001b[39m\u001b[38;5;241m2\u001b[39m\n",
      "\u001b[1;31mTypeError\u001b[0m: 'tuple' object does not support item assignment"
     ]
    }
   ],
   "source": [
    "tup1[0]=2"
   ]
  },
  {
   "cell_type": "code",
   "execution_count": 10,
   "id": "5ac23c30-bbde-410c-a118-28610c9cf5e1",
   "metadata": {},
   "outputs": [
    {
     "data": {
      "text/plain": [
       "3"
      ]
     },
     "execution_count": 10,
     "metadata": {},
     "output_type": "execute_result"
    }
   ],
   "source": [
    "tup1.index('hello')\n",
    "tup1.count(1)"
   ]
  },
  {
   "cell_type": "code",
   "execution_count": null,
   "id": "f6c70a1d-2fa6-4cd7-99f1-eb7bfed7a1eb",
   "metadata": {},
   "outputs": [],
   "source": []
  }
 ],
 "metadata": {
  "kernelspec": {
   "display_name": "Python 3 (ipykernel)",
   "language": "python",
   "name": "python3"
  },
  "language_info": {
   "codemirror_mode": {
    "name": "ipython",
    "version": 3
   },
   "file_extension": ".py",
   "mimetype": "text/x-python",
   "name": "python",
   "nbconvert_exporter": "python",
   "pygments_lexer": "ipython3",
   "version": "3.12.7"
  }
 },
 "nbformat": 4,
 "nbformat_minor": 5
}
