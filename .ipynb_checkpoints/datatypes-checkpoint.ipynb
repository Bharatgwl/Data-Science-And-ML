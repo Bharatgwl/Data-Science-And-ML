{
 "cells": [
  {
   "cell_type": "code",
   "execution_count": 60,
   "id": "c890ca1e-95ea-4d1e-9264-9a9880f2cb3f",
   "metadata": {},
   "outputs": [],
   "source": [
    "my_str = \"I am programmer\"\n",
    "newSTR= \"Bharat\"\n",
    "mydir= {'a':'bharat'}"
   ]
  },
  {
   "cell_type": "code",
   "execution_count": 61,
   "id": "26ecea62-0d20-4052-a361-673fe9e4874f",
   "metadata": {
    "scrolled": true
   },
   "outputs": [
    {
     "name": "stdout",
     "output_type": "stream",
     "text": [
      "I am programmer\n",
      "False\n",
      "False\n",
      "bharat is a good boy\n",
      "False\n",
      "False\n",
      "False\n",
      "True\n",
      "False\n",
      "True\n",
      "False\n"
     ]
    }
   ],
   "source": [
    "print(my_str.capitalize())\n",
    "print(my_str.isalpha())\n",
    "print(my_str.isalnum())\n",
    "print(\"{a} is a good boy\".format_map(mydir))\n",
    "print(my_str.islower())\n",
    "print(my_str.isupper())\n",
    "print(my_str.isspace())\n",
    "print(my_str.endswith('r'))\n",
    "print(my_str.startswith('i'))\n",
    "print(newSTR.istitle())\n",
    "print(newSTR.isdigit())\n",
    "\n"
   ]
  },
  {
   "cell_type": "code",
   "execution_count": 62,
   "id": "e13df489-39b1-4ad8-b461-c4b81f6958fc",
   "metadata": {},
   "outputs": [
    {
     "data": {
      "text/plain": [
       "True"
      ]
     },
     "execution_count": 62,
     "metadata": {},
     "output_type": "execute_result"
    }
   ],
   "source": [
    "True and True"
   ]
  },
  {
   "cell_type": "code",
   "execution_count": 63,
   "id": "c11aed1e-e034-4374-9610-bb687172cc3b",
   "metadata": {},
   "outputs": [
    {
     "data": {
      "text/plain": [
       "False"
      ]
     },
     "execution_count": 63,
     "metadata": {},
     "output_type": "execute_result"
    }
   ],
   "source": [
    "True and False"
   ]
  },
  {
   "cell_type": "code",
   "execution_count": 64,
   "id": "f45dc39c-bd86-4cad-b051-a8595e52d5af",
   "metadata": {},
   "outputs": [
    {
     "data": {
      "text/plain": [
       "False"
      ]
     },
     "execution_count": 64,
     "metadata": {},
     "output_type": "execute_result"
    }
   ],
   "source": [
    "False and False"
   ]
  },
  {
   "cell_type": "code",
   "execution_count": 65,
   "id": "91b01a19-9c69-40da-b1fb-79a38598359f",
   "metadata": {},
   "outputs": [
    {
     "data": {
      "text/plain": [
       "True"
      ]
     },
     "execution_count": 65,
     "metadata": {},
     "output_type": "execute_result"
    }
   ],
   "source": [
    "True or True"
   ]
  },
  {
   "cell_type": "code",
   "execution_count": 66,
   "id": "b5e6e0d6-70b5-44c2-aa0a-01bac3ae8f02",
   "metadata": {},
   "outputs": [
    {
     "data": {
      "text/plain": [
       "True"
      ]
     },
     "execution_count": 66,
     "metadata": {},
     "output_type": "execute_result"
    }
   ],
   "source": [
    "True or False"
   ]
  },
  {
   "cell_type": "code",
   "execution_count": 67,
   "id": "d23a9e56-e4ae-432b-9a40-0440e9e16496",
   "metadata": {},
   "outputs": [
    {
     "data": {
      "text/plain": [
       "False"
      ]
     },
     "execution_count": 67,
     "metadata": {},
     "output_type": "execute_result"
    }
   ],
   "source": [
    "False or False"
   ]
  },
  {
   "cell_type": "markdown",
   "id": "f24683e4-ca63-4a78-b78f-6ce24e80aea5",
   "metadata": {},
   "source": [
    "# checking if the string is palindrome or not"
   ]
  },
  {
   "cell_type": "code",
   "execution_count": 71,
   "id": "de57a2f9-a45c-4ce1-bb3a-8bfc41bd9b79",
   "metadata": {},
   "outputs": [
    {
     "name": "stdout",
     "output_type": "stream",
     "text": [
      "string is palindrome\n"
     ]
    }
   ],
   "source": [
    "string = \"malayalam\"\n",
    "print( \"string is palindrome\"  if string == string[::-1]  else  \"string is not a palindrome\")"
   ]
  },
  {
   "cell_type": "code",
   "execution_count": 73,
   "id": "3de6a01b-89f6-4f9c-b198-c4591e5ddc71",
   "metadata": {},
   "outputs": [],
   "source": [
    "lst=['bharat',1,True,\"hii\",'bye']"
   ]
  },
  {
   "cell_type": "code",
   "execution_count": 74,
   "id": "302fad77-a9be-41ea-9bde-376eb871c1be",
   "metadata": {},
   "outputs": [
    {
     "name": "stdout",
     "output_type": "stream",
     "text": [
      "['bharat', 1, True, 'hii', 'bye']\n"
     ]
    }
   ],
   "source": [
    "print(lst)"
   ]
  },
  {
   "cell_type": "code",
   "execution_count": 76,
   "id": "d73ffd42-e083-45e9-8e4a-b9539e4b662a",
   "metadata": {},
   "outputs": [
    {
     "name": "stdout",
     "output_type": "stream",
     "text": [
      "[1, True, 'hii', 'bye']\n"
     ]
    }
   ],
   "source": [
    "print(lst[1:5])"
   ]
  },
  {
   "cell_type": "code",
   "execution_count": 77,
   "id": "5c000aef-89c4-4111-b1f4-d443ceff5130",
   "metadata": {},
   "outputs": [
    {
     "name": "stdout",
     "output_type": "stream",
     "text": [
      "['bye', 'hii', True, 1, 'bharat']\n"
     ]
    }
   ],
   "source": [
    "print(lst[::-1])"
   ]
  },
  {
   "cell_type": "code",
   "execution_count": 104,
   "id": "a6969b8c-00f2-4024-8e06-c271faf91b1f",
   "metadata": {},
   "outputs": [
    {
     "name": "stdout",
     "output_type": "stream",
     "text": [
      "['bharat', 'bhavya', 1, True, 'hii', 'bye']\n"
     ]
    }
   ],
   "source": [
    "lst.insert(1,\"bhavya\")\n",
    "# lst.remove(\"bhavya\")\n",
    "\n",
    "print(lst)"
   ]
  },
  {
   "cell_type": "code",
   "execution_count": 111,
   "id": "ca1d3f0b-3352-4571-891a-e32106518301",
   "metadata": {},
   "outputs": [
    {
     "name": "stdout",
     "output_type": "stream",
     "text": [
      "['bharat', 'bhavya', 1, True, 'hii', 'bye', 10, 10, 10, ['hello', 2, 1000], 10, ['hello', 2, 1000], 10, 10]\n",
      "['bharat', 'bhavya', 1, True, 'hii', 'bye', 10, 10, 10, 10, ['hello', 2, 1000], 10, 10]\n"
     ]
    }
   ],
   "source": [
    "lst.append(10)\n",
    "print(lst)\n",
    "lst.remove(['hello',2,1000])\n",
    "print(lst)"
   ]
  },
  {
   "cell_type": "code",
   "execution_count": 113,
   "id": "78ca3b95-d6a2-445d-913e-6066b328bbba",
   "metadata": {},
   "outputs": [
    {
     "name": "stdout",
     "output_type": "stream",
     "text": [
      "[1, 2, 3, 4, 5, 6, 7, 8, 9]\n"
     ]
    }
   ],
   "source": [
    "list1 = [1,2,3,4,5]\n",
    "list1.extend([6,7,8,9])\n",
    "print(list1)"
   ]
  },
  {
   "cell_type": "code",
   "execution_count": 114,
   "id": "7831043c-6403-4aa1-955e-5a38a615ea59",
   "metadata": {},
   "outputs": [
    {
     "name": "stdout",
     "output_type": "stream",
     "text": [
      "9\n"
     ]
    }
   ],
   "source": [
    "print(list1.pop())"
   ]
  },
  {
   "cell_type": "code",
   "execution_count": 116,
   "id": "70b0c84d-45ec-4492-8973-1a0e09b02ec1",
   "metadata": {},
   "outputs": [
    {
     "name": "stdout",
     "output_type": "stream",
     "text": [
      "3\n"
     ]
    }
   ],
   "source": [
    "list2=[1,1,1,2,3,3]\n",
    "print(list2.count(1))"
   ]
  }
 ],
 "metadata": {
  "kernelspec": {
   "display_name": "Python 3 (ipykernel)",
   "language": "python",
   "name": "python3"
  },
  "language_info": {
   "codemirror_mode": {
    "name": "ipython",
    "version": 3
   },
   "file_extension": ".py",
   "mimetype": "text/x-python",
   "name": "python",
   "nbconvert_exporter": "python",
   "pygments_lexer": "ipython3",
   "version": "3.12.7"
  }
 },
 "nbformat": 4,
 "nbformat_minor": 5
}
