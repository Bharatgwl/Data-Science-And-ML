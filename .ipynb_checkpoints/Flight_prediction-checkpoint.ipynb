{
 "cells": [
  {
   "cell_type": "markdown",
   "id": "70957984-3420-4fc8-8768-529806500612",
   "metadata": {},
   "source": [
    "## flight prediction (EDA+feature engineering)"
   ]
  },
  {
   "cell_type": "code",
   "execution_count": null,
   "id": "c6049c50-cc6a-4fe2-9f34-f29ac90a497a",
   "metadata": {},
   "outputs": [],
   "source": [
    "import pandas as pd\n",
    "import seaborn as sns\n"
   ]
  }
 ],
 "metadata": {
  "kernelspec": {
   "display_name": "Python 3 (ipykernel)",
   "language": "python",
   "name": "python3"
  },
  "language_info": {
   "codemirror_mode": {
    "name": "ipython",
    "version": 3
   },
   "file_extension": ".py",
   "mimetype": "text/x-python",
   "name": "python",
   "nbconvert_exporter": "python",
   "pygments_lexer": "ipython3",
   "version": "3.12.7"
  }
 },
 "nbformat": 4,
 "nbformat_minor": 5
}
