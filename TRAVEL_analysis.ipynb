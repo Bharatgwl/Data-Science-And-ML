{
 "cells": [
  {
   "cell_type": "code",
   "execution_count": null,
   "id": "e5f9fdb4a9b3ac3f",
   "metadata": {
    "ExecuteTime": {
     "end_time": "2025-02-08T07:29:15.928247Z",
     "start_time": "2025-02-08T07:29:15.924266Z"
    }
   },
   "outputs": [],
   "source": []
  },
  {
   "cell_type": "code",
   "execution_count": null,
   "id": "74923d0d30940448",
   "metadata": {},
   "outputs": [],
   "source": []
  }
 ],
 "metadata": {
  "kernelspec": {
   "display_name": "Python 3",
   "language": "python",
   "name": "python3"
  },
  "language_info": {
   "codemirror_mode": {
    "name": "ipython",
    "version": 3
   },
   "file_extension": ".py",
   "mimetype": "text/x-python",
   "name": "python",
   "nbconvert_exporter": "python",
   "pygments_lexer": "ipython3",
   "version": "3.12.5"
  }
 },
 "nbformat": 4,
 "nbformat_minor": 5
}
