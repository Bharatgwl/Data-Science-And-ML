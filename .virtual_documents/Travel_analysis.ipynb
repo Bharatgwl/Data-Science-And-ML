import pandas as pd
import numpy as np
import seaborn as sns
df =pd.read_csv('Travel.csv')
df


sns.heatmap(df.isnull(),yticklabels=False,cbar=False,cmap='viridis',xticklabels=False)





sns.boxplot(df['Could you kindly specify the tolls?'],orient='v')


len(df['Cost of petrol'].unique())


df.rename(columns={'Cost of petrol': 'Cost_of_petrol'}, inplace=True)


df.Cost_of_petrol.value_counts().head(10)


counts = df['Cost_of_petrol'].value_counts()
specific_count = counts.get('100')
print(specific_count)


specific_count = df[df['Cost_of_petrol'] == '100']['Cost_of_petrol'].count()
print(specific_count)


df.info()


df.rename(columns={'Describe how do you feel traveling in Jaipur, in one or two words. For example polluted, good, sad etc. ':'Feels_while_travel'},inplace=True)


print(df.columns)



df.columns= df.columns.str.strip() ## removing the trailing spaces from the col


## lets make the list of the most frequent categories of the variable

top_10 = [x for x in df.Cost_of_petrol.value_counts().sort_values(ascending=False).head(10).index]
top_10


# and now wwe make the 10 binary variables 

for label in top_10:
    df[label]=np.where(df[''])


[feature for feature in df.columns if df[feature].isnull().sum()>0]


df.columns


df['If Public Transport, Do you get seat availability easily?']


df['If personal vehicles do you find a parking space easily?']


sns.displot(df['If personal vehicles do you find a parking space easily?'])


sns.displot(df['If Public Transport, Do you get seat availability easily?'])









