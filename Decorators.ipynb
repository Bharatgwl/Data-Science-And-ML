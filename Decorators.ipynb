{
 "cells": [
  {
   "cell_type": "code",
   "execution_count": 2,
   "id": "ff2e0808-afa8-4772-8f5e-9fc8ed2b4a52",
   "metadata": {},
   "outputs": [],
   "source": [
    "def greet():\n",
    "    return \"hello\""
   ]
  },
  {
   "cell_type": "code",
   "execution_count": 3,
   "id": "fe011fe3-309b-4eb1-984f-5d04107b30c4",
   "metadata": {},
   "outputs": [],
   "source": [
    "function = greet()\n",
    "del greet ## even after deleting the function it will executes because of the function copy"
   ]
  },
  {
   "cell_type": "code",
   "execution_count": 4,
   "id": "d44ebfec-1e11-44c4-87c5-27af223849ac",
   "metadata": {},
   "outputs": [
    {
     "data": {
      "text/plain": [
       "'hello'"
      ]
     },
     "execution_count": 4,
     "metadata": {},
     "output_type": "execute_result"
    }
   ],
   "source": [
    "function"
   ]
  },
  {
   "cell_type": "raw",
   "id": "fc4d44fc-95b1-4184-9754-11df64b1e6cb",
   "metadata": {},
   "source": [
    "greet()"
   ]
  },
  {
   "cell_type": "code",
   "execution_count": 8,
   "id": "6c8e528f-9ba3-4545-aae7-1f65c8cc57f7",
   "metadata": {},
   "outputs": [],
   "source": [
    "### Closures \n",
    "def main(msg):\n",
    "    def sub():\n",
    "        print(\"hello how are you ??\")\n",
    "        print(msg)\n",
    "        print(\"byee\")\n",
    "    return sub()"
   ]
  },
  {
   "cell_type": "code",
   "execution_count": 9,
   "id": "0ebf9ce8-3b63-4910-b975-e12f35ebde9f",
   "metadata": {},
   "outputs": [
    {
     "name": "stdout",
     "output_type": "stream",
     "text": [
      "hello how are you ??\n",
      "bharat\n",
      "byee\n"
     ]
    }
   ],
   "source": [
    "main(\"bharat\")"
   ]
  },
  {
   "cell_type": "code",
   "execution_count": 17,
   "id": "bb893c8c-1f53-4ed6-b97b-040c8a121f0f",
   "metadata": {},
   "outputs": [],
   "source": [
    "\n",
    "def func1(X):\n",
    "     # This is the outer function that takes an argument 'x'\n",
    "    def func2(Y):\n",
    "      # This is the inner function that takes an argument 'y'\n",
    "        return X + Y  # 'x' is captured from the outer function\n",
    "    return func2\n",
    "    "
   ]
  },
  {
   "cell_type": "code",
   "execution_count": 18,
   "id": "39870199-c564-4ac6-8a37-93a7b04e531f",
   "metadata": {},
   "outputs": [
    {
     "data": {
      "text/plain": [
       "15"
      ]
     },
     "execution_count": 18,
     "metadata": {},
     "output_type": "execute_result"
    }
   ],
   "source": [
    "a=func1(10) ## creates a closure by calling outer function  \n",
    "\n",
    "# Now, we can use the closure, which \"remembers\" the value of 'x' as 10\n",
    "\n",
    "a(5)"
   ]
  },
  {
   "cell_type": "code",
   "execution_count": 22,
   "id": "9b7e1757-fc37-42a7-a19b-b345f214ec3f",
   "metadata": {},
   "outputs": [],
   "source": [
    "def func1(func):\n",
    "    def func2():\n",
    "        print(\"hello\")\n",
    "        func(\"hiii\")\n",
    "        print('bye')\n",
    "    return func2()\n",
    "\n"
   ]
  },
  {
   "cell_type": "code",
   "execution_count": 24,
   "id": "82eec6cf-0dd1-4f15-a040-ec04b171b234",
   "metadata": {},
   "outputs": [
    {
     "name": "stdout",
     "output_type": "stream",
     "text": [
      "hello\n",
      "hiii\n",
      "bye\n"
     ]
    }
   ],
   "source": [
    "func1(print) ## passing the function as the parameter "
   ]
  },
  {
   "cell_type": "code",
   "execution_count": 31,
   "id": "db7304b4-8078-4451-af95-1501deda7a48",
   "metadata": {},
   "outputs": [],
   "source": [
    "def myfunc():\n",
    "    return 2+2"
   ]
  },
  {
   "cell_type": "markdown",
   "id": "e7248ab2-ac9e-4060-ac2e-0e79a71ffc54",
   "metadata": {},
   "source": [
    "## Decorators"
   ]
  },
  {
   "cell_type": "code",
   "execution_count": 35,
   "id": "f6aa393f-61b8-42d0-8756-8301c3710b6d",
   "metadata": {},
   "outputs": [],
   "source": [
    "def func1(myfunc):\n",
    "    def func2():\n",
    "        print(\"hello how are you\")\n",
    "        print(myfunc())\n",
    "        print(\"executing last statement\")\n",
    "    return func2()"
   ]
  },
  {
   "cell_type": "code",
   "execution_count": 37,
   "id": "8d9b86f6-c78a-4c8b-a20b-2b4a0c77b293",
   "metadata": {},
   "outputs": [
    {
     "name": "stdout",
     "output_type": "stream",
     "text": [
      "hello how are you\n",
      "4\n",
      "executing last statement\n"
     ]
    }
   ],
   "source": [
    "func1(myfunc)"
   ]
  },
  {
   "cell_type": "code",
   "execution_count": 45,
   "id": "06874d80-4091-4a4e-8bc3-35b09eebefff",
   "metadata": {},
   "outputs": [
    {
     "name": "stdout",
     "output_type": "stream",
     "text": [
      "hello how are you\n",
      "4\n",
      "executing last statement\n"
     ]
    }
   ],
   "source": [
    "@func1\n",
    "def myfunc():\n",
    "    return 2+2 ## these are decorators\n",
    "\n"
   ]
  },
  {
   "cell_type": "code",
   "execution_count": null,
   "id": "9d67d695-d1ca-4cd2-8507-4cd85a10d95f",
   "metadata": {},
   "outputs": [],
   "source": []
  }
 ],
 "metadata": {
  "kernelspec": {
   "display_name": "Python 3 (ipykernel)",
   "language": "python",
   "name": "python3"
  },
  "language_info": {
   "codemirror_mode": {
    "name": "ipython",
    "version": 3
   },
   "file_extension": ".py",
   "mimetype": "text/x-python",
   "name": "python",
   "nbconvert_exporter": "python",
   "pygments_lexer": "ipython3",
   "version": "3.12.7"
  }
 },
 "nbformat": 4,
 "nbformat_minor": 5
}
