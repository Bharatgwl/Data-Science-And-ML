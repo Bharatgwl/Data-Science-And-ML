{
 "cells": [
  {
   "cell_type": "markdown",
   "id": "dcde6514-75a8-4a14-88cc-4ebfe4c1ee3d",
   "metadata": {},
   "source": [
    "# Exception handling.\n"
   ]
  },
  {
   "cell_type": "code",
   "execution_count": 1,
   "id": "d0151bb6-c12c-44e2-88b1-6ec8aac3480f",
   "metadata": {},
   "outputs": [],
   "source": [
    "a=10"
   ]
  },
  {
   "cell_type": "code",
   "execution_count": 2,
   "id": "13dbaf3d-bcf5-451d-871e-12c010464dae",
   "metadata": {},
   "outputs": [
    {
     "data": {
      "text/plain": [
       "10"
      ]
     },
     "execution_count": 2,
     "metadata": {},
     "output_type": "execute_result"
    }
   ],
   "source": [
    "a"
   ]
  },
  {
   "cell_type": "code",
   "execution_count": 3,
   "id": "327c53b3-f898-4239-9367-31cc7207e393",
   "metadata": {},
   "outputs": [
    {
     "ename": "NameError",
     "evalue": "name 'b' is not defined",
     "output_type": "error",
     "traceback": [
      "\u001b[1;31m---------------------------------------------------------------------------\u001b[0m",
      "\u001b[1;31mNameError\u001b[0m                                 Traceback (most recent call last)",
      "Cell \u001b[1;32mIn[3], line 1\u001b[0m\n\u001b[1;32m----> 1\u001b[0m a\u001b[38;5;241m=\u001b[39m\u001b[43mb\u001b[49m\n",
      "\u001b[1;31mNameError\u001b[0m: name 'b' is not defined"
     ]
    }
   ],
   "source": [
    "a=b ## this will give an error so we create a exception"
   ]
  },
  {
   "cell_type": "code",
   "execution_count": 5,
   "id": "4321a019-577e-44de-9d89-46342c5a9320",
   "metadata": {},
   "outputs": [
    {
     "name": "stdout",
     "output_type": "stream",
     "text": [
      "some problem may have occured\n"
     ]
    }
   ],
   "source": [
    "## WE will use the try and catch block\n",
    "\n",
    "try:\n",
    "    a=b\n",
    "except:\n",
    "    print(\"some problem may have occured\")"
   ]
  },
  {
   "cell_type": "code",
   "execution_count": 9,
   "id": "6d407b6d-2075-4a91-ba1a-c990e867237f",
   "metadata": {},
   "outputs": [
    {
     "name": "stdout",
     "output_type": "stream",
     "text": [
      "name 'b' is not defined\n"
     ]
    }
   ],
   "source": [
    "try:\n",
    "    a=b\n",
    "except Exception as e:  ## when we can't define custom excpetion then we can use the general exception \n",
    "    ## it is the high order exception which can catch every type of  error \n",
    "    print(e)"
   ]
  },
  {
   "cell_type": "code",
   "execution_count": 8,
   "id": "d22a320e-9586-4422-a896-80eca272c9a7",
   "metadata": {},
   "outputs": [
    {
     "name": "stdout",
     "output_type": "stream",
     "text": [
      "some varibles is not defined\n"
     ]
    }
   ],
   "source": [
    "try:\n",
    "    a=b\n",
    "except NameError:\n",
    "    print(\"some varibles is not defined\")"
   ]
  },
  {
   "cell_type": "code",
   "execution_count": 12,
   "id": "06c81a32-2675-4de8-a319-e7c796386a8b",
   "metadata": {},
   "outputs": [
    {
     "name": "stdout",
     "output_type": "stream",
     "text": [
      "try to make similar data types \n"
     ]
    }
   ],
   "source": [
    "try:\n",
    "    a=1\n",
    "    b=\"hi\"\n",
    "    c= a+b\n",
    "except NameError:\n",
    "    print(\"some varibles is not defined\")\n",
    "except TypeError:\n",
    "    print(\"try to make similar data types \")\n",
    "except Exception as e:  ## when we can't define custom excpetion then we can use the general exception \n",
    "    ## it is the high order exception which can catch every type of  error \n",
    "    print(e)"
   ]
  },
  {
   "cell_type": "code",
   "execution_count": null,
   "id": "1088659f-8922-4a13-a85e-98886ced607f",
   "metadata": {},
   "outputs": [],
   "source": []
  }
 ],
 "metadata": {
  "kernelspec": {
   "display_name": "Python 3 (ipykernel)",
   "language": "python",
   "name": "python3"
  },
  "language_info": {
   "codemirror_mode": {
    "name": "ipython",
    "version": 3
   },
   "file_extension": ".py",
   "mimetype": "text/x-python",
   "name": "python",
   "nbconvert_exporter": "python",
   "pygments_lexer": "ipython3",
   "version": "3.12.7"
  }
 },
 "nbformat": 4,
 "nbformat_minor": 5
}
