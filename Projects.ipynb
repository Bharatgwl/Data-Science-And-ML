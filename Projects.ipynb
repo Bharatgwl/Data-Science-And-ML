{
 "cells": [
  {
   "cell_type": "markdown",
   "id": "4464485e-f81c-4f6d-a7bd-343fe4ba7853",
   "metadata": {},
   "source": [
    "# Acronyms"
   ]
  },
  {
   "cell_type": "code",
   "execution_count": null,
   "id": "d6b009f4-d06e-42a5-bd6a-bb9b2bcff763",
   "metadata": {},
   "outputs": [],
   "source": [
    "inputtext = input(\"Enter a phrase: \")\n",
    "text = inputtext.split()\n",
    "a =''\n",
    "for i in text:\n",
    "    a= a+str(te)\n",
    "    "
   ]
  },
  {
   "cell_type": "markdown",
   "id": "8161cbbd-52fc-4bd2-b68d-da1c0f2672de",
   "metadata": {},
   "source": [
    "# Alarm "
   ]
  },
  {
   "cell_type": "code",
   "execution_count": null,
   "id": "a48f1498-57bb-4bd3-bd77-7801cbf9924b",
   "metadata": {},
   "outputs": [
    {
     "name": "stdout",
     "output_type": "stream",
     "text": [
      "Enter the time of alarm to be set (HH:MM:SS AM/PM):\n",
      " 22:03:00 PM\n"
     ]
    },
    {
     "name": "stdout",
     "output_type": "stream",
     "text": [
      "Setting up alarm...\n"
     ]
    }
   ],
   "source": [
    "from datetime import datetime\n",
    "from time import sleep\n",
    "from playsound import playsound\n",
    "\n",
    "# Input alarm time in the format HH:MM:SS AM/PM\n",
    "alarm_time = input(\"Enter the time of alarm to be set (HH:MM:SS AM/PM):\\n\")\n",
    "\n",
    "# Extract values using split()\n",
    "try:\n",
    "    time_parts = alarm_time.split()\n",
    "    time_values = time_parts[0].split(\":\")\n",
    "    alarm_hour = int(time_values[0])  # Convert to integer\n",
    "    alarm_minute = int(time_values[1])\n",
    "    alarm_seconds = int(time_values[2])\n",
    "    alarm_period = time_parts[1].upper()  # Convert AM/PM to uppercase\n",
    "except (IndexError, ValueError):\n",
    "    print(\"Invalid time format. Use HH:MM:SS AM/PM\")\n",
    "    exit()\n",
    "\n",
    "print(\"Setting up alarm...\")\n",
    "\n",
    "# Run an infinite loop to check the time\n",
    "while True:\n",
    "    now = datetime.now()\n",
    "    current_hour = int(now.strftime(\"%I\"))  # 12-hour format\n",
    "    current_minute = int(now.strftime(\"%M\"))\n",
    "    current_seconds = int(now.strftime(\"%S\"))\n",
    "    current_period = now.strftime(\"%p\")  # AM or PM\n",
    "\n",
    "    # Check if the current time matches the alarm time\n",
    "    if (alarm_period == current_period and\n",
    "        alarm_hour == current_hour and\n",
    "        alarm_minute == current_minute and\n",
    "        alarm_seconds == current_seconds):\n",
    "        \n",
    "        print(\"Wake Up!\")\n",
    "        playsound('audio.mp3')\n",
    "        break\n",
    "\n",
    "    sleep(1)  # Reduce CPU usage\n"
   ]
  },
  {
   "cell_type": "code",
   "execution_count": 3,
   "id": "4c550a6a-368f-4b5e-aa5d-6bf1a2fecd8f",
   "metadata": {},
   "outputs": [
    {
     "name": "stdout",
     "output_type": "stream",
     "text": [
      "09\n",
      "57\n",
      "PM\n",
      "16\n"
     ]
    }
   ],
   "source": [
    "from datetime import datetime   \n",
    "from playsound import playsound\n",
    "playsound('audio.mp3')\n",
    "now = datetime.now()\n",
    "current_hour = now.strftime(\"%I\")\n",
    "current_minute = now.strftime(\"%M\")\n",
    "current_seconds = now.strftime(\"%S\")\n",
    "current_period = now.strftime(\"%p\")\n",
    "print(current_hour)\n",
    "print(current_minute)\n",
    "print(current_period)\n",
    "print(current_seconds)"
   ]
  },
  {
   "cell_type": "markdown",
   "id": "39709721-9f79-4ad2-90ee-a65db0128eec",
   "metadata": {},
   "source": [
    "# Email Slicer "
   ]
  },
  {
   "cell_type": "code",
   "execution_count": 2,
   "id": "1c8d0996-8c65-4f35-98df-5548fbd6733c",
   "metadata": {},
   "outputs": [
    {
     "name": "stdout",
     "output_type": "stream",
     "text": [
      "enter your email:  bharatgusaiwal@gmail.com\\\n"
     ]
    },
    {
     "name": "stdout",
     "output_type": "stream",
     "text": [
      "your email is bharatgusaiwal@gmail.com\\ and your username is bharatgusaiwal and domainame is gmail.com\\\n"
     ]
    }
   ],
   "source": [
    "email = input(\"enter your email: \").strip()\n",
    "username = email[0:email.index('@')]\n",
    "domain_name= email[email.index('@')+1:]\n",
    "print(f\"your email is {email} and your username is {username} and domainame is {domain_name}\")"
   ]
  },
  {
   "cell_type": "markdown",
   "id": "645f386a-5ee4-4cb8-9b27-cfe923f44ad6",
   "metadata": {},
   "source": [
    "# Password Generator "
   ]
  },
  {
   "cell_type": "code",
   "execution_count": 4,
   "id": "931cf558-08e7-42e2-98e3-b7a0f7576fae",
   "metadata": {},
   "outputs": [
    {
     "name": "stdout",
     "output_type": "stream",
     "text": [
      "enter the length of password 10\n"
     ]
    },
    {
     "name": "stdout",
     "output_type": "stream",
     "text": [
      "^Op9Q?NVH6\n"
     ]
    }
   ],
   "source": [
    "import random\n",
    "passlen = int(input(\"enter the length of password\"))\n",
    "s=\"abcdefghijklmnopqrstuvwxyz01234567890ABCDEFGHIJKLMNOPQRSTUVWXYZ!@#$%^&*()?\"\n",
    "p = \"\".join(random.sample(s,passlen ))\n",
    "print(p)"
   ]
  },
  {
   "cell_type": "markdown",
   "id": "bfcf3129-fbcf-4ed5-a1f1-38b4fd47bc51",
   "metadata": {},
   "source": [
    "# Print colored text"
   ]
  },
  {
   "cell_type": "code",
   "execution_count": 7,
   "id": "17307cdf-78eb-40a3-86de-e218581ed090",
   "metadata": {},
   "outputs": [
    {
     "name": "stdout",
     "output_type": "stream",
     "text": [
      "Hi My name is Aman Kharwal I am your Machine Learning Instructor\n",
      "Hi My name is Aman Kharwal\n",
      "Hi My name is Aman Kharwal\n"
     ]
    }
   ],
   "source": [
    "import colorama\n",
    "from colorama import Fore, Back, Style\n",
    "colorama.init(autoreset=True)\n",
    "\n",
    "print(Fore.BLUE+Back.YELLOW+\"Hi My name is Aman Kharwal \"+ Fore.YELLOW+ Back.BLUE+\"I am your Machine Learning Instructor\")\n",
    "print(Back.CYAN+\"Hi My name is Aman Kharwal\")\n",
    "print(Fore.RED + Back.GREEN+ \"Hi My name is Aman Kharwal\")"
   ]
  },
  {
   "cell_type": "code",
   "execution_count": null,
   "id": "afed31de-2af7-4487-aa01-032585d5ce0f",
   "metadata": {},
   "outputs": [],
   "source": []
  }
 ],
 "metadata": {
  "kernelspec": {
   "display_name": ".venv",
   "language": "python",
   "name": "python3"
  },
  "language_info": {
   "codemirror_mode": {
    "name": "ipython",
    "version": 3
   },
   "file_extension": ".py",
   "mimetype": "text/x-python",
   "name": "python",
   "nbconvert_exporter": "python",
   "pygments_lexer": "ipython3",
   "version": "3.12.5"
  }
 },
 "nbformat": 4,
 "nbformat_minor": 5
}
