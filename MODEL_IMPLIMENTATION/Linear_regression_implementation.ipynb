{
 "cells": [
  {
   "cell_type": "code",
   "execution_count": 108,
   "metadata": {},
   "outputs": [],
   "source": [
    "class LR:\n",
    "    def __init__(self):\n",
    "        self.m = None\n",
    "        self.b = None\n",
    "\n",
    "    def fit(self, X, y):\n",
    "        num = 0\n",
    "        den = 0\n",
    "        for i in range(X.shape[0]):\n",
    "            num = num + (X[i] - X.mean()) * (y[i] - y.mean())\n",
    "            den = den + (X[i] - X.mean()) ** 2\n",
    "        self.m = num / den\n",
    "        self.b = y.mean() - self.m * X.mean()\n",
    "        return self\n",
    "\n",
    "    def predict(self, X):\n",
    "        return X.dot(self.m) + self.b"
   ]
  },
  {
   "cell_type": "code",
   "execution_count": 109,
   "metadata": {},
   "outputs": [
    {
     "data": {
      "application/javascript": "\n        if (window._pyforest_update_imports_cell) { window._pyforest_update_imports_cell('from sklearn.linear_model import LinearRegression\\nimport plotly as py\\nimport pandas as pd\\nimport seaborn as sns\\nimport pickle\\nfrom sklearn.preprocessing import LabelEncoder'); }\n    ",
      "text/plain": [
       "<IPython.core.display.Javascript object>"
      ]
     },
     "metadata": {},
     "output_type": "display_data"
    }
   ],
   "source": [
    "df = pd.read_csv('../DATA/WC_AT.csv')\n",
    "X = df.iloc[:, 0].values\n",
    "y = df.iloc[:, 1].values\n",
    "X = X.reshape(-1, 1)\n",
    "y = y.reshape(-1, 1)\n"
   ]
  },
  {
   "cell_type": "code",
   "execution_count": 110,
   "metadata": {},
   "outputs": [],
   "source": [
    "from sklearn.model_selection import train_test_split\n",
    "X_train, X_test, y_train, y_test = train_test_split(X, y, test_size=0.2, random_state=0)"
   ]
  },
  {
   "cell_type": "code",
   "execution_count": 111,
   "metadata": {},
   "outputs": [
    {
     "data": {
      "text/plain": [
       "<__main__.LR at 0x1f656a7ba10>"
      ]
     },
     "execution_count": 111,
     "metadata": {},
     "output_type": "execute_result"
    }
   ],
   "source": [
    "model = LR()\n",
    "model.fit(X_train, y_train)\n"
   ]
  },
  {
   "cell_type": "code",
   "execution_count": 112,
   "metadata": {},
   "outputs": [
    {
     "data": {
      "text/plain": [
       "array([160.65263299,  34.49450742, 131.35361476,  68.61924631,\n",
       "        69.30863497, 152.03527469, 160.65263299,  74.13435562,\n",
       "        48.45462788, 169.26999129, 148.58833137,  62.070054  ,\n",
       "       155.82691234,  54.14208436, 141.69444472,  80.3388536 ,\n",
       "        58.96780501, 131.35361476, 145.14138804,  56.89963901,\n",
       "       131.69830909,   5.54018352])"
      ]
     },
     "execution_count": 112,
     "metadata": {},
     "output_type": "execute_result"
    }
   ],
   "source": [
    "model.predict(X_test)"
   ]
  },
  {
   "cell_type": "code",
   "execution_count": 113,
   "metadata": {},
   "outputs": [
    {
     "data": {
      "text/plain": [
       "array([[108.5 ],\n",
       "       [ 71.9 ],\n",
       "       [100.  ],\n",
       "       [ 81.8 ],\n",
       "       [ 82.  ],\n",
       "       [106.  ],\n",
       "       [108.5 ],\n",
       "       [ 83.4 ],\n",
       "       [ 75.95],\n",
       "       [111.  ],\n",
       "       [105.  ],\n",
       "       [ 79.9 ],\n",
       "       [107.1 ],\n",
       "       [ 77.6 ],\n",
       "       [103.  ],\n",
       "       [ 85.2 ],\n",
       "       [ 79.  ],\n",
       "       [100.  ],\n",
       "       [104.  ],\n",
       "       [ 78.4 ],\n",
       "       [100.1 ],\n",
       "       [ 63.5 ]])"
      ]
     },
     "execution_count": 113,
     "metadata": {},
     "output_type": "execute_result"
    }
   ],
   "source": [
    "X_test"
   ]
  },
  {
   "cell_type": "code",
   "execution_count": 115,
   "metadata": {},
   "outputs": [],
   "source": [
    "X, y = make_regression(n_samples=100, n_features=2, n_informative=2, n_targets=1, noise=50)"
   ]
  },
  {
   "cell_type": "code",
   "execution_count": 116,
   "metadata": {},
   "outputs": [
    {
     "data": {
      "application/javascript": "\n        if (window._pyforest_update_imports_cell) { window._pyforest_update_imports_cell('from sklearn.linear_model import LinearRegression\\nimport plotly as py\\nimport pandas as pd\\nimport seaborn as sns\\nimport pickle\\nfrom sklearn.preprocessing import LabelEncoder'); }\n    ",
      "text/plain": [
       "<IPython.core.display.Javascript object>"
      ]
     },
     "metadata": {},
     "output_type": "display_data"
    },
    {
     "data": {
      "text/html": [
       "<div>\n",
       "<style scoped>\n",
       "    .dataframe tbody tr th:only-of-type {\n",
       "        vertical-align: middle;\n",
       "    }\n",
       "\n",
       "    .dataframe tbody tr th {\n",
       "        vertical-align: top;\n",
       "    }\n",
       "\n",
       "    .dataframe thead th {\n",
       "        text-align: right;\n",
       "    }\n",
       "</style>\n",
       "<table border=\"1\" class=\"dataframe\">\n",
       "  <thead>\n",
       "    <tr style=\"text-align: right;\">\n",
       "      <th></th>\n",
       "      <th>feature1</th>\n",
       "      <th>feature2</th>\n",
       "      <th>target</th>\n",
       "    </tr>\n",
       "  </thead>\n",
       "  <tbody>\n",
       "    <tr>\n",
       "      <th>0</th>\n",
       "      <td>0.307753</td>\n",
       "      <td>-0.553655</td>\n",
       "      <td>11.101315</td>\n",
       "    </tr>\n",
       "    <tr>\n",
       "      <th>1</th>\n",
       "      <td>-0.195321</td>\n",
       "      <td>0.885287</td>\n",
       "      <td>-19.400721</td>\n",
       "    </tr>\n",
       "    <tr>\n",
       "      <th>2</th>\n",
       "      <td>0.366435</td>\n",
       "      <td>0.087858</td>\n",
       "      <td>-27.787029</td>\n",
       "    </tr>\n",
       "    <tr>\n",
       "      <th>3</th>\n",
       "      <td>0.903002</td>\n",
       "      <td>0.286604</td>\n",
       "      <td>32.149545</td>\n",
       "    </tr>\n",
       "    <tr>\n",
       "      <th>4</th>\n",
       "      <td>0.861197</td>\n",
       "      <td>0.821220</td>\n",
       "      <td>-63.388809</td>\n",
       "    </tr>\n",
       "    <tr>\n",
       "      <th>...</th>\n",
       "      <td>...</td>\n",
       "      <td>...</td>\n",
       "      <td>...</td>\n",
       "    </tr>\n",
       "    <tr>\n",
       "      <th>95</th>\n",
       "      <td>-0.020096</td>\n",
       "      <td>-0.721415</td>\n",
       "      <td>-105.594949</td>\n",
       "    </tr>\n",
       "    <tr>\n",
       "      <th>96</th>\n",
       "      <td>1.621683</td>\n",
       "      <td>-0.136768</td>\n",
       "      <td>-58.854864</td>\n",
       "    </tr>\n",
       "    <tr>\n",
       "      <th>97</th>\n",
       "      <td>-1.164403</td>\n",
       "      <td>-1.330380</td>\n",
       "      <td>-83.904996</td>\n",
       "    </tr>\n",
       "    <tr>\n",
       "      <th>98</th>\n",
       "      <td>0.999218</td>\n",
       "      <td>-0.725735</td>\n",
       "      <td>-58.007256</td>\n",
       "    </tr>\n",
       "    <tr>\n",
       "      <th>99</th>\n",
       "      <td>-0.212694</td>\n",
       "      <td>-1.399758</td>\n",
       "      <td>-39.749716</td>\n",
       "    </tr>\n",
       "  </tbody>\n",
       "</table>\n",
       "<p>100 rows × 3 columns</p>\n",
       "</div>"
      ],
      "text/plain": [
       "    feature1  feature2      target\n",
       "0   0.307753 -0.553655   11.101315\n",
       "1  -0.195321  0.885287  -19.400721\n",
       "2   0.366435  0.087858  -27.787029\n",
       "3   0.903002  0.286604   32.149545\n",
       "4   0.861197  0.821220  -63.388809\n",
       "..       ...       ...         ...\n",
       "95 -0.020096 -0.721415 -105.594949\n",
       "96  1.621683 -0.136768  -58.854864\n",
       "97 -1.164403 -1.330380  -83.904996\n",
       "98  0.999218 -0.725735  -58.007256\n",
       "99 -0.212694 -1.399758  -39.749716\n",
       "\n",
       "[100 rows x 3 columns]"
      ]
     },
     "execution_count": 116,
     "metadata": {},
     "output_type": "execute_result"
    }
   ],
   "source": [
    "df = pd.DataFrame({\"feature1\": X[:,0], \"feature2\": X[:,1], \"target\": y})\n",
    "df"
   ]
  },
  {
   "cell_type": "code",
   "execution_count": 121,
   "metadata": {},
   "outputs": [
    {
     "data": {
      "application/javascript": "\n        if (window._pyforest_update_imports_cell) { window._pyforest_update_imports_cell('from sklearn.linear_model import LinearRegression\\nimport plotly as py\\nimport pandas as pd\\nimport seaborn as sns\\nimport pickle\\nfrom sklearn.preprocessing import LabelEncoder\\nimport plotly.express as px'); }\n    ",
      "text/plain": [
       "<IPython.core.display.Javascript object>"
      ]
     },
     "metadata": {},
     "output_type": "display_data"
    },
    {
     "data": {
      "application/javascript": "\n        if (window._pyforest_update_imports_cell) { window._pyforest_update_imports_cell('from sklearn.linear_model import LinearRegression\\nimport plotly as py\\nimport pandas as pd\\nimport seaborn as sns\\nimport pickle\\nfrom sklearn.preprocessing import LabelEncoder\\nimport plotly.express as px'); }\n    ",
      "text/plain": [
       "<IPython.core.display.Javascript object>"
      ]
     },
     "metadata": {},
     "output_type": "display_data"
    },
    {
     "data": {
      "application/javascript": "\n        if (window._pyforest_update_imports_cell) { window._pyforest_update_imports_cell('from sklearn.linear_model import LinearRegression\\nimport plotly as py\\nimport pandas as pd\\nimport seaborn as sns\\nimport pickle\\nfrom sklearn.preprocessing import LabelEncoder\\nimport plotly.express as px'); }\n    ",
      "text/plain": [
       "<IPython.core.display.Javascript object>"
      ]
     },
     "metadata": {},
     "output_type": "display_data"
    },
    {
     "data": {
      "application/javascript": "\n        if (window._pyforest_update_imports_cell) { window._pyforest_update_imports_cell('from sklearn.linear_model import LinearRegression\\nimport plotly as py\\nimport pandas as pd\\nimport seaborn as sns\\nimport pickle\\nfrom sklearn.preprocessing import LabelEncoder\\nimport plotly.express as px'); }\n    ",
      "text/plain": [
       "<IPython.core.display.Javascript object>"
      ]
     },
     "metadata": {},
     "output_type": "display_data"
    },
    {
     "data": {
      "application/javascript": "\n        if (window._pyforest_update_imports_cell) { window._pyforest_update_imports_cell('from sklearn.linear_model import LinearRegression\\nimport plotly as py\\nimport pandas as pd\\nimport seaborn as sns\\nimport pickle\\nfrom sklearn.preprocessing import LabelEncoder\\nimport plotly.express as px'); }\n    ",
      "text/plain": [
       "<IPython.core.display.Javascript object>"
      ]
     },
     "metadata": {},
     "output_type": "display_data"
    },
    {
     "data": {
      "application/javascript": "\n        if (window._pyforest_update_imports_cell) { window._pyforest_update_imports_cell('from sklearn.linear_model import LinearRegression\\nimport plotly as py\\nimport pandas as pd\\nimport seaborn as sns\\nimport pickle\\nfrom sklearn.preprocessing import LabelEncoder\\nimport plotly.express as px'); }\n    ",
      "text/plain": [
       "<IPython.core.display.Javascript object>"
      ]
     },
     "metadata": {},
     "output_type": "display_data"
    },
    {
     "data": {
      "application/javascript": "\n        if (window._pyforest_update_imports_cell) { window._pyforest_update_imports_cell('from sklearn.linear_model import LinearRegression\\nimport plotly as py\\nimport pandas as pd\\nimport seaborn as sns\\nimport pickle\\nfrom sklearn.preprocessing import LabelEncoder\\nimport plotly.express as px'); }\n    ",
      "text/plain": [
       "<IPython.core.display.Javascript object>"
      ]
     },
     "metadata": {},
     "output_type": "display_data"
    },
    {
     "data": {
      "application/javascript": "\n        if (window._pyforest_update_imports_cell) { window._pyforest_update_imports_cell('from sklearn.linear_model import LinearRegression\\nimport plotly as py\\nimport pandas as pd\\nimport seaborn as sns\\nimport pickle\\nfrom sklearn.preprocessing import LabelEncoder\\nimport plotly.express as px'); }\n    ",
      "text/plain": [
       "<IPython.core.display.Javascript object>"
      ]
     },
     "metadata": {},
     "output_type": "display_data"
    },
    {
     "data": {
      "application/javascript": "\n        if (window._pyforest_update_imports_cell) { window._pyforest_update_imports_cell('from sklearn.linear_model import LinearRegression\\nimport plotly as py\\nimport pandas as pd\\nimport seaborn as sns\\nimport pickle\\nfrom sklearn.preprocessing import LabelEncoder\\nimport plotly.express as px'); }\n    ",
      "text/plain": [
       "<IPython.core.display.Javascript object>"
      ]
     },
     "metadata": {},
     "output_type": "display_data"
    },
    {
     "data": {
      "application/javascript": "\n        if (window._pyforest_update_imports_cell) { window._pyforest_update_imports_cell('from sklearn.linear_model import LinearRegression\\nimport plotly as py\\nimport pandas as pd\\nimport seaborn as sns\\nimport pickle\\nfrom sklearn.preprocessing import LabelEncoder\\nimport plotly.express as px'); }\n    ",
      "text/plain": [
       "<IPython.core.display.Javascript object>"
      ]
     },
     "metadata": {},
     "output_type": "display_data"
    },
    {
     "data": {
      "application/javascript": "\n        if (window._pyforest_update_imports_cell) { window._pyforest_update_imports_cell('from sklearn.linear_model import LinearRegression\\nimport plotly as py\\nimport pandas as pd\\nimport seaborn as sns\\nimport pickle\\nfrom sklearn.preprocessing import LabelEncoder\\nimport plotly.express as px'); }\n    ",
      "text/plain": [
       "<IPython.core.display.Javascript object>"
      ]
     },
     "metadata": {},
     "output_type": "display_data"
    },
    {
     "data": {
      "application/javascript": "\n        if (window._pyforest_update_imports_cell) { window._pyforest_update_imports_cell('from sklearn.linear_model import LinearRegression\\nimport plotly as py\\nimport pandas as pd\\nimport seaborn as sns\\nimport pickle\\nfrom sklearn.preprocessing import LabelEncoder\\nimport plotly.express as px'); }\n    ",
      "text/plain": [
       "<IPython.core.display.Javascript object>"
      ]
     },
     "metadata": {},
     "output_type": "display_data"
    },
    {
     "data": {
      "application/vnd.plotly.v1+json": {
       "config": {
        "plotlyServerURL": "https://plot.ly"
       },
       "data": [
        {
         "hovertemplate": "feature1=%{x}<br>feature2=%{y}<br>target=%{z}<extra></extra>",
         "legendgroup": "",
         "marker": {
          "color": "#636efa",
          "symbol": "circle"
         },
         "mode": "markers",
         "name": "",
         "scene": "scene",
         "showlegend": false,
         "type": "scatter3d",
         "x": {
          "bdata": "+GcyMTiy0z+ZRTA0SADJvwFI8hSsc9c/NxwCr2Tl7D+WVEVd7Y7rP+APJvVTVPU/745CoZ4IvD+3rds1HdfAP+iTjr8ZI/M/yEutSsum+D/cN536Yqv8v2PH/WrwkPG/xsP/q5T1vz/VWH+pGizoP3oagRoTaN2/dMc2mz0DAsCwo4cpvR/NP+neZhpfau+/p4S8vKPd2L9nXdOGC9rjv0W3jYBJ1u6/CmEW/23cpr+aJUUaWnXpP40ruWNfZOy/BdyW5eTTAEDFcOK7TWnSPwA34lH5Wdy/LiRF9fXr1b9yeothkVDev1QaEmp5xt+/l+ee3xdW/z9Y4SUZlPfkP2Xv9L/YdeM/RCLCJ52Bqr8JXn0PmvDcP/hbs85/986/aUA6be+w6T8B0Ys4GBHAP2HIxbSvcOk/0PHTIfQQ4T+/764v+HDlP/xVIz7Unb4/MKlyU9y/878jRhBjFJbzPwLwywDV/dM/jDWyGTbt8D8HZNVnlYm6P3W2dLqQqea/wJQPw11lwb92nziDUTjcP7O+Hv+iVgbAaYAiOtmR8D+7GOx8r26+P7L0n3ct0e8/RMcsPDzZv7+xc0ZfoEz4Pwx5OUNHAPE/AlAqlRIp27/TvRW7U5n5v9COcHvbBwJAFN4TUvq+9r9UDrj3u9DwP0Y9djowIq0/IFogiQViAUDxCDqqkbDrvyF4Cq3hM+U/1OEhIkeq7L/Tul7jxEfxvxu3sXfYMse/15NYInPP478CRX7rPLXcvw+VV4SGOgJAb2KSxeVu+j/sxVd1lHb8v3x0Xh2OYNa/8257fucI8b+2Gg/4z3neP58pFJraxPQ/7IcYFUGn4j+pEONriEHsv0aN7FXx89O/tjl4brN2+T8pmz+Q14DvvxIWHcQfnNw/oBo5BFW94j9zuEFdF835PzftjkWSf7i/pIfMLol++T9aRCDZ5SbUP+fi9MXOsc4/SMEhLkpasz+braOH0unev0/4Ms5QH+Q/uL2MUVc8+b+EWk+G01Pbv2Svs80UlJS/S81LV2ry+T8tv7ehZKHyvz/S/7yY+e8/zMTGn485y78=",
          "dtype": "f8"
         },
         "y": {
          "bdata": "/EQOBIu34b81TS+cRFTsP6Rx7l7XfbY/AxRfZrpX0j+x3poJb0fqP4iZbz4iZs2/q/cXBYVY+T9lxbma3RHmP5LElT9ord6/QuRMlNZ/8r/uZxoM5ykCQMp+lS3PV8o/ME8cY/Pa9r80ST7BtSrpPyr5fEVNO7k/AMARKUyjzD/v8LVHIi7ov2w0pP7so+c/DDO+V0lA5L8xCtj++BLAv1y6ZjE2XPm/89YNK5JHvr+MwZ91HwLkv/gkpMTmMta/UVvEOvEB0b+S1Mm7TTzOP033EJYd/tE/8xbO7dJN4L9BMQNYPT7hv95Kln1YZ9Y/fH49U57r8b+LmUuCMhn7v8Ot9RKtF/G/krIgtLzV+b+o7KK4hwXtv8411Q4VUOI/69q6CVmZ7j/nXLjoSprcv+mvia1Dpsu/EWJexajB5T/vVccBArPsP0pOzDavJ9w/dl4YW1LS0T/z5sga3jDaP4moLxW1SvQ/pCABUHva6b869j25WUHXv7MAFFtP2+m/y8kzOKsx4r+oVFZtOyniP46TctdicPO/XG9CuMxPoD9C6ihyzCfkP7bTNc6g5OC/BFOHuBCc1r/P1ziMCMPwv3Dj4IU+arK/Vwkt9k0f2b85l+ItU6bQP3hzfHaaMvS/Iq2nBDcH/T87/4CtWY3wvw4Mq7kWY+Y/KuosCODS6T8ExgjyHdTJP5/ocJhl+84/09YznKmb4L/6PKeKD8/xP+9dD4Eb7/W/DnX+tw6o/r9RaIrs07LSP7p+sYFNAvO/Pu0BF6Mv6T9H3196Lv3zvw0ER45lyOA/i0B4I7DJ67+cND0WbSDyvxVYoWgQ6Lc/5BIQ7Y1Qvr+aq+OtgOfivzyt5fM7a84/aW5J9Kt34b8wqFchVAr9P6SkiFzdsvK/jIyqqvjD4r/9vG5/CQUEwBdWCzEYRP6/Wf28tMNG7L/uMifoed/rvxLm35kbv+i/y7mUWi3O7j/DXGQm9RPVPx079/V+CPW/oNSEptew+D/Uj25mkaqYv+aA6BPUFee/6CvoMZ2Bwb9w0SNVPEn1vyRNedE4Oee/BoqGRmhl9r8=",
          "dtype": "f8"
         },
         "z": {
          "bdata": "sheelt8zJkCYMNytlWYzwFg5v716yTvAoclvSSQTQEDjqwJ8xLFPwCLNWGVltWBArmxu13LSSMDyAMg2n8dJQLJsbxgVLlfACX24h+9TUcD8Txjmf79iQOi2di+qSFvAthN0JbSNNcDyUi7lGc9HQLDbbC8IljTAZcEgjyyISsDSJPfN6lNHwHRPCmOjaypA6AP8lZ7rLMCu/jSKPzZEwAZpAeEg6DfAkBnkQbtkJkCbG18KpLgxQOgC3mQToRVAQGk2n+zvTMCQGzd5o0NCQFBWBZ5V/f4/MqKq1qBVU8BmLDbew6pBQJ58Fvb4D1ZAaGMWWW3JWMC21lL4L2dawOwa//9B6VvArW+xj70HQMBM+TGDLypLQFZCvHYVV0PAAhcirRT7U0CA3xJe1SM+wCwxhlW7UyZA3Dz5gYzuOkDIkk4gEVxdQJ0arrNsuD1AmeV8s6lGNcBOjm276EZLQMl/l3htzVtAwulZPdjiQsA0tA5tzEhLwM6zGd7/eFLA/NxVyNztMcAOI6A6RD1JQH1ROcB5EWLAcmGSSV6xOkBCvnSqQXxRQPa6t37Wq0HATBl8zAMUEECmmqWWqXwnQBwYUiPMWEHAhKqG2Zu1SsBGlFf3q0Q7QOg9M2aeylFAXl8jNK0iPEBIFd73cSsVQG4x3JhjNTVA7DOZOVpsIsA9Jl8y3fNNwMGO3jMV/jdAOevbpV3+UECEmc8mX2IuwNhPXMCsE1vA+SMVdG18YsAlzrtWpjIywMWtAg9tlFbAeyEiEy0LXEDftVC9S9JBwIisFTJlU0zAojkUqyJHYMAIN7uQYhFJwMj1UKFc5FHAhl4uI3LLTcB3bnEVdcdAQJChVnbYsATAE2h7JkuRSsApzFln0DZcQM9a7ZPEFkXAdL2kAq0mMEBybewqrWliwF3JPXHXB03AKI9/vedJTsCwic5sUfgtQEQwLesJUSpA7CEKyeg5JECjrzLsSis8QEFUdcg88VXARPAl9G7XYEBtNbvJ2j8HwG2mJKQTZlrA/npFLWxtTcBcl3Zy6/lUwIROkb/tAE3AjG7StPbfQ8A=",
          "dtype": "f8"
         }
        }
       ],
       "layout": {
        "legend": {
         "tracegroupgap": 0
        },
        "margin": {
         "t": 60
        },
        "scene": {
         "domain": {
          "x": [
           0,
           1
          ],
          "y": [
           0,
           1
          ]
         },
         "xaxis": {
          "title": {
           "text": "feature1"
          }
         },
         "yaxis": {
          "title": {
           "text": "feature2"
          }
         },
         "zaxis": {
          "title": {
           "text": "target"
          }
         }
        },
        "template": {
         "data": {
          "bar": [
           {
            "error_x": {
             "color": "#2a3f5f"
            },
            "error_y": {
             "color": "#2a3f5f"
            },
            "marker": {
             "line": {
              "color": "#E5ECF6",
              "width": 0.5
             },
             "pattern": {
              "fillmode": "overlay",
              "size": 10,
              "solidity": 0.2
             }
            },
            "type": "bar"
           }
          ],
          "barpolar": [
           {
            "marker": {
             "line": {
              "color": "#E5ECF6",
              "width": 0.5
             },
             "pattern": {
              "fillmode": "overlay",
              "size": 10,
              "solidity": 0.2
             }
            },
            "type": "barpolar"
           }
          ],
          "carpet": [
           {
            "aaxis": {
             "endlinecolor": "#2a3f5f",
             "gridcolor": "white",
             "linecolor": "white",
             "minorgridcolor": "white",
             "startlinecolor": "#2a3f5f"
            },
            "baxis": {
             "endlinecolor": "#2a3f5f",
             "gridcolor": "white",
             "linecolor": "white",
             "minorgridcolor": "white",
             "startlinecolor": "#2a3f5f"
            },
            "type": "carpet"
           }
          ],
          "choropleth": [
           {
            "colorbar": {
             "outlinewidth": 0,
             "ticks": ""
            },
            "type": "choropleth"
           }
          ],
          "contour": [
           {
            "colorbar": {
             "outlinewidth": 0,
             "ticks": ""
            },
            "colorscale": [
             [
              0,
              "#0d0887"
             ],
             [
              0.1111111111111111,
              "#46039f"
             ],
             [
              0.2222222222222222,
              "#7201a8"
             ],
             [
              0.3333333333333333,
              "#9c179e"
             ],
             [
              0.4444444444444444,
              "#bd3786"
             ],
             [
              0.5555555555555556,
              "#d8576b"
             ],
             [
              0.6666666666666666,
              "#ed7953"
             ],
             [
              0.7777777777777778,
              "#fb9f3a"
             ],
             [
              0.8888888888888888,
              "#fdca26"
             ],
             [
              1,
              "#f0f921"
             ]
            ],
            "type": "contour"
           }
          ],
          "contourcarpet": [
           {
            "colorbar": {
             "outlinewidth": 0,
             "ticks": ""
            },
            "type": "contourcarpet"
           }
          ],
          "heatmap": [
           {
            "colorbar": {
             "outlinewidth": 0,
             "ticks": ""
            },
            "colorscale": [
             [
              0,
              "#0d0887"
             ],
             [
              0.1111111111111111,
              "#46039f"
             ],
             [
              0.2222222222222222,
              "#7201a8"
             ],
             [
              0.3333333333333333,
              "#9c179e"
             ],
             [
              0.4444444444444444,
              "#bd3786"
             ],
             [
              0.5555555555555556,
              "#d8576b"
             ],
             [
              0.6666666666666666,
              "#ed7953"
             ],
             [
              0.7777777777777778,
              "#fb9f3a"
             ],
             [
              0.8888888888888888,
              "#fdca26"
             ],
             [
              1,
              "#f0f921"
             ]
            ],
            "type": "heatmap"
           }
          ],
          "histogram": [
           {
            "marker": {
             "pattern": {
              "fillmode": "overlay",
              "size": 10,
              "solidity": 0.2
             }
            },
            "type": "histogram"
           }
          ],
          "histogram2d": [
           {
            "colorbar": {
             "outlinewidth": 0,
             "ticks": ""
            },
            "colorscale": [
             [
              0,
              "#0d0887"
             ],
             [
              0.1111111111111111,
              "#46039f"
             ],
             [
              0.2222222222222222,
              "#7201a8"
             ],
             [
              0.3333333333333333,
              "#9c179e"
             ],
             [
              0.4444444444444444,
              "#bd3786"
             ],
             [
              0.5555555555555556,
              "#d8576b"
             ],
             [
              0.6666666666666666,
              "#ed7953"
             ],
             [
              0.7777777777777778,
              "#fb9f3a"
             ],
             [
              0.8888888888888888,
              "#fdca26"
             ],
             [
              1,
              "#f0f921"
             ]
            ],
            "type": "histogram2d"
           }
          ],
          "histogram2dcontour": [
           {
            "colorbar": {
             "outlinewidth": 0,
             "ticks": ""
            },
            "colorscale": [
             [
              0,
              "#0d0887"
             ],
             [
              0.1111111111111111,
              "#46039f"
             ],
             [
              0.2222222222222222,
              "#7201a8"
             ],
             [
              0.3333333333333333,
              "#9c179e"
             ],
             [
              0.4444444444444444,
              "#bd3786"
             ],
             [
              0.5555555555555556,
              "#d8576b"
             ],
             [
              0.6666666666666666,
              "#ed7953"
             ],
             [
              0.7777777777777778,
              "#fb9f3a"
             ],
             [
              0.8888888888888888,
              "#fdca26"
             ],
             [
              1,
              "#f0f921"
             ]
            ],
            "type": "histogram2dcontour"
           }
          ],
          "mesh3d": [
           {
            "colorbar": {
             "outlinewidth": 0,
             "ticks": ""
            },
            "type": "mesh3d"
           }
          ],
          "parcoords": [
           {
            "line": {
             "colorbar": {
              "outlinewidth": 0,
              "ticks": ""
             }
            },
            "type": "parcoords"
           }
          ],
          "pie": [
           {
            "automargin": true,
            "type": "pie"
           }
          ],
          "scatter": [
           {
            "fillpattern": {
             "fillmode": "overlay",
             "size": 10,
             "solidity": 0.2
            },
            "type": "scatter"
           }
          ],
          "scatter3d": [
           {
            "line": {
             "colorbar": {
              "outlinewidth": 0,
              "ticks": ""
             }
            },
            "marker": {
             "colorbar": {
              "outlinewidth": 0,
              "ticks": ""
             }
            },
            "type": "scatter3d"
           }
          ],
          "scattercarpet": [
           {
            "marker": {
             "colorbar": {
              "outlinewidth": 0,
              "ticks": ""
             }
            },
            "type": "scattercarpet"
           }
          ],
          "scattergeo": [
           {
            "marker": {
             "colorbar": {
              "outlinewidth": 0,
              "ticks": ""
             }
            },
            "type": "scattergeo"
           }
          ],
          "scattergl": [
           {
            "marker": {
             "colorbar": {
              "outlinewidth": 0,
              "ticks": ""
             }
            },
            "type": "scattergl"
           }
          ],
          "scattermap": [
           {
            "marker": {
             "colorbar": {
              "outlinewidth": 0,
              "ticks": ""
             }
            },
            "type": "scattermap"
           }
          ],
          "scattermapbox": [
           {
            "marker": {
             "colorbar": {
              "outlinewidth": 0,
              "ticks": ""
             }
            },
            "type": "scattermapbox"
           }
          ],
          "scatterpolar": [
           {
            "marker": {
             "colorbar": {
              "outlinewidth": 0,
              "ticks": ""
             }
            },
            "type": "scatterpolar"
           }
          ],
          "scatterpolargl": [
           {
            "marker": {
             "colorbar": {
              "outlinewidth": 0,
              "ticks": ""
             }
            },
            "type": "scatterpolargl"
           }
          ],
          "scatterternary": [
           {
            "marker": {
             "colorbar": {
              "outlinewidth": 0,
              "ticks": ""
             }
            },
            "type": "scatterternary"
           }
          ],
          "surface": [
           {
            "colorbar": {
             "outlinewidth": 0,
             "ticks": ""
            },
            "colorscale": [
             [
              0,
              "#0d0887"
             ],
             [
              0.1111111111111111,
              "#46039f"
             ],
             [
              0.2222222222222222,
              "#7201a8"
             ],
             [
              0.3333333333333333,
              "#9c179e"
             ],
             [
              0.4444444444444444,
              "#bd3786"
             ],
             [
              0.5555555555555556,
              "#d8576b"
             ],
             [
              0.6666666666666666,
              "#ed7953"
             ],
             [
              0.7777777777777778,
              "#fb9f3a"
             ],
             [
              0.8888888888888888,
              "#fdca26"
             ],
             [
              1,
              "#f0f921"
             ]
            ],
            "type": "surface"
           }
          ],
          "table": [
           {
            "cells": {
             "fill": {
              "color": "#EBF0F8"
             },
             "line": {
              "color": "white"
             }
            },
            "header": {
             "fill": {
              "color": "#C8D4E3"
             },
             "line": {
              "color": "white"
             }
            },
            "type": "table"
           }
          ]
         },
         "layout": {
          "annotationdefaults": {
           "arrowcolor": "#2a3f5f",
           "arrowhead": 0,
           "arrowwidth": 1
          },
          "autotypenumbers": "strict",
          "coloraxis": {
           "colorbar": {
            "outlinewidth": 0,
            "ticks": ""
           }
          },
          "colorscale": {
           "diverging": [
            [
             0,
             "#8e0152"
            ],
            [
             0.1,
             "#c51b7d"
            ],
            [
             0.2,
             "#de77ae"
            ],
            [
             0.3,
             "#f1b6da"
            ],
            [
             0.4,
             "#fde0ef"
            ],
            [
             0.5,
             "#f7f7f7"
            ],
            [
             0.6,
             "#e6f5d0"
            ],
            [
             0.7,
             "#b8e186"
            ],
            [
             0.8,
             "#7fbc41"
            ],
            [
             0.9,
             "#4d9221"
            ],
            [
             1,
             "#276419"
            ]
           ],
           "sequential": [
            [
             0,
             "#0d0887"
            ],
            [
             0.1111111111111111,
             "#46039f"
            ],
            [
             0.2222222222222222,
             "#7201a8"
            ],
            [
             0.3333333333333333,
             "#9c179e"
            ],
            [
             0.4444444444444444,
             "#bd3786"
            ],
            [
             0.5555555555555556,
             "#d8576b"
            ],
            [
             0.6666666666666666,
             "#ed7953"
            ],
            [
             0.7777777777777778,
             "#fb9f3a"
            ],
            [
             0.8888888888888888,
             "#fdca26"
            ],
            [
             1,
             "#f0f921"
            ]
           ],
           "sequentialminus": [
            [
             0,
             "#0d0887"
            ],
            [
             0.1111111111111111,
             "#46039f"
            ],
            [
             0.2222222222222222,
             "#7201a8"
            ],
            [
             0.3333333333333333,
             "#9c179e"
            ],
            [
             0.4444444444444444,
             "#bd3786"
            ],
            [
             0.5555555555555556,
             "#d8576b"
            ],
            [
             0.6666666666666666,
             "#ed7953"
            ],
            [
             0.7777777777777778,
             "#fb9f3a"
            ],
            [
             0.8888888888888888,
             "#fdca26"
            ],
            [
             1,
             "#f0f921"
            ]
           ]
          },
          "colorway": [
           "#636efa",
           "#EF553B",
           "#00cc96",
           "#ab63fa",
           "#FFA15A",
           "#19d3f3",
           "#FF6692",
           "#B6E880",
           "#FF97FF",
           "#FECB52"
          ],
          "font": {
           "color": "#2a3f5f"
          },
          "geo": {
           "bgcolor": "white",
           "lakecolor": "white",
           "landcolor": "#E5ECF6",
           "showlakes": true,
           "showland": true,
           "subunitcolor": "white"
          },
          "hoverlabel": {
           "align": "left"
          },
          "hovermode": "closest",
          "mapbox": {
           "style": "light"
          },
          "paper_bgcolor": "white",
          "plot_bgcolor": "#E5ECF6",
          "polar": {
           "angularaxis": {
            "gridcolor": "white",
            "linecolor": "white",
            "ticks": ""
           },
           "bgcolor": "#E5ECF6",
           "radialaxis": {
            "gridcolor": "white",
            "linecolor": "white",
            "ticks": ""
           }
          },
          "scene": {
           "xaxis": {
            "backgroundcolor": "#E5ECF6",
            "gridcolor": "white",
            "gridwidth": 2,
            "linecolor": "white",
            "showbackground": true,
            "ticks": "",
            "zerolinecolor": "white"
           },
           "yaxis": {
            "backgroundcolor": "#E5ECF6",
            "gridcolor": "white",
            "gridwidth": 2,
            "linecolor": "white",
            "showbackground": true,
            "ticks": "",
            "zerolinecolor": "white"
           },
           "zaxis": {
            "backgroundcolor": "#E5ECF6",
            "gridcolor": "white",
            "gridwidth": 2,
            "linecolor": "white",
            "showbackground": true,
            "ticks": "",
            "zerolinecolor": "white"
           }
          },
          "shapedefaults": {
           "line": {
            "color": "#2a3f5f"
           }
          },
          "ternary": {
           "aaxis": {
            "gridcolor": "white",
            "linecolor": "white",
            "ticks": ""
           },
           "baxis": {
            "gridcolor": "white",
            "linecolor": "white",
            "ticks": ""
           },
           "bgcolor": "#E5ECF6",
           "caxis": {
            "gridcolor": "white",
            "linecolor": "white",
            "ticks": ""
           }
          },
          "title": {
           "x": 0.05
          },
          "xaxis": {
           "automargin": true,
           "gridcolor": "white",
           "linecolor": "white",
           "ticks": "",
           "title": {
            "standoff": 15
           },
           "zerolinecolor": "white",
           "zerolinewidth": 2
          },
          "yaxis": {
           "automargin": true,
           "gridcolor": "white",
           "linecolor": "white",
           "ticks": "",
           "title": {
            "standoff": 15
           },
           "zerolinecolor": "white",
           "zerolinewidth": 2
          }
         }
        }
       }
      }
     },
     "metadata": {},
     "output_type": "display_data"
    }
   ],
   "source": [
    "px.scatter_3d(df,x='feature1',y='feature2',z='target')"
   ]
  },
  {
   "cell_type": "code",
   "execution_count": 122,
   "metadata": {},
   "outputs": [],
   "source": [
    "X_train,X_test,y_train,y_test = train_test_split(X,y,test_size=0.2,random_state=0)"
   ]
  },
  {
   "cell_type": "code",
   "execution_count": null,
   "metadata": {},
   "outputs": [],
   "source": []
  }
 ],
 "metadata": {
  "kernelspec": {
   "display_name": "Python 3",
   "language": "python",
   "name": "python3"
  },
  "language_info": {
   "codemirror_mode": {
    "name": "ipython",
    "version": 3
   },
   "file_extension": ".py",
   "mimetype": "text/x-python",
   "name": "python",
   "nbconvert_exporter": "python",
   "pygments_lexer": "ipython3",
   "version": "3.12.5"
  }
 },
 "nbformat": 4,
 "nbformat_minor": 2
}
