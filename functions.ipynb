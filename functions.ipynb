{
 "cells": [
  {
   "cell_type": "markdown",
   "id": "15c7640e-3f7d-4d96-82dd-dbebe9998e6e",
   "metadata": {},
   "source": [
    "## functions "
   ]
  },
  {
   "cell_type": "code",
   "execution_count": 1,
   "id": "03bb0f28-55b5-4b84-840f-9e3a5e032a3b",
   "metadata": {},
   "outputs": [],
   "source": [
    "def func(name,age=19):\n",
    "    print(\"my name is {} and age is {}\".format(name, age))"
   ]
  },
  {
   "cell_type": "code",
   "execution_count": 2,
   "id": "a49dcc53-10af-4641-8195-e91f85a5961a",
   "metadata": {},
   "outputs": [
    {
     "name": "stdout",
     "output_type": "stream",
     "text": [
      "my name is bharat and age is 19\n"
     ]
    }
   ],
   "source": [
    "func(\"bharat\")"
   ]
  },
  {
   "cell_type": "code",
   "execution_count": 8,
   "id": "ae56bddc-8f5d-4363-9255-b9fd9bae03c6",
   "metadata": {},
   "outputs": [],
   "source": [
    "def func1(*args, **kwargs):\n",
    "    print(args)\n",
    "    print(kwargs)\n",
    "    "
   ]
  },
  {
   "cell_type": "code",
   "execution_count": 10,
   "id": "7bd6d4f3-c73b-4f3d-9d66-e7f98cf8e08f",
   "metadata": {},
   "outputs": [
    {
     "name": "stdout",
     "output_type": "stream",
     "text": [
      "('hii', 'hello', 'bharat')\n",
      "{'age': 19, 'weight': 60}\n"
     ]
    }
   ],
   "source": [
    "func1('hii',\"hello\", \"bharat\",age=19,weight=60) ## using *args and **kwargs args behaves like normal arguments \n",
    "## but **kwargs behaves like key value pairs"
   ]
  },
  {
   "cell_type": "code",
   "execution_count": 12,
   "id": "55b1af1c-7387-4bca-b2cd-f33c99236842",
   "metadata": {},
   "outputs": [
    {
     "name": "stdout",
     "output_type": "stream",
     "text": [
      "('hii', 'hello', 'bharat')\n",
      "{'age': 19, 'weight': 60}\n"
     ]
    }
   ],
   "source": [
    "lst=['hii', 'hello', 'bharat']\n",
    "dict1 = {'age': 19, 'weight': 60}\n",
    "func1(*lst,**dict1) ## if we dont use * then it will behave like normals args"
   ]
  },
  {
   "cell_type": "code",
   "execution_count": 14,
   "id": "fe8caa29-9acc-41d8-9ff0-0bfe2101f992",
   "metadata": {},
   "outputs": [],
   "source": [
    "## we can return multiple values from a function\n",
    "\n",
    "def evenoddsum(list1):\n",
    "    evensum=0\n",
    "    oddsum=0\n",
    "    for i in list1:\n",
    "        if i%2==0:\n",
    "            evensum = evensum+i\n",
    "\n",
    "        else:\n",
    "            oddsum = oddsum+i\n",
    "\n",
    "    return evensum ,oddsum"
   ]
  },
  {
   "cell_type": "code",
   "execution_count": 15,
   "id": "6e02e019-6d5a-44f0-ab1e-8cc4cf1b25b8",
   "metadata": {},
   "outputs": [
    {
     "data": {
      "text/plain": [
       "(30, 25)"
      ]
     },
     "execution_count": 15,
     "metadata": {},
     "output_type": "execute_result"
    }
   ],
   "source": [
    "\n",
    "list1=[1,2,3,4,5,6,7,8,9,10]\n",
    "evenoddsum(list1)"
   ]
  }
 ],
 "metadata": {
  "kernelspec": {
   "display_name": "Python 3 (ipykernel)",
   "language": "python",
   "name": "python3"
  },
  "language_info": {
   "codemirror_mode": {
    "name": "ipython",
    "version": 3
   },
   "file_extension": ".py",
   "mimetype": "text/x-python",
   "name": "python",
   "nbconvert_exporter": "python",
   "pygments_lexer": "ipython3",
   "version": "3.12.7"
  }
 },
 "nbformat": 4,
 "nbformat_minor": 5
}
