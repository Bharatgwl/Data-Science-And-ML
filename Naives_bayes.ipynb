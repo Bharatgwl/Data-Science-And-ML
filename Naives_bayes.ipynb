{
 "cells": [
  {
   "metadata": {},
   "cell_type": "raw",
   "source": [
    "Problem Statement\n",
    "A company wants to classify emails as Spam or Not Spam (Ham) based on words appearing in the email. You are given the following dataset:\n",
    "\n",
    "Email ID\tWord: \"Free\"\t Word: \"Win\"\t  Word: \"Money\"\tWord: \"Offer\"\tSpam (1) / Not Spam (0)\n",
    "1\t                Yes\t            Yes\t              Yes \t        No            1 (Spam)\n",
    "2\t                No\t            No\t              No            Yes           0 (Not Spam)\n",
    "3\t                Yes\t            Yes\t              No            No            1 (Spam)\n",
    "4\t                Yes\t            No\t              Yes    \t    Yes           1 (Spam)\n",
    "5\t                No\t            No\t              No          \tNo            0 (Not Spam)"
   ],
   "id": "5c406fed796026aa",
   "outputs": null,
   "execution_count": null
  },
  {
   "metadata": {
    "collapsed": true,
    "ExecuteTime": {
     "end_time": "2025-02-02T14:07:05.098983Z",
     "start_time": "2025-02-02T14:07:05.092146Z"
    }
   },
   "cell_type": "code",
   "outputs": [
    {
     "name": "stdout",
     "output_type": "stream",
     "text": [
      "Predicted Class: Spam\n",
      "Probability (Spam, Not Spam): [[0.20382166 0.79617834]]\n"
     ]
    }
   ],
   "execution_count": 8,
   "source": [
    "import numpy as np\n",
    "from sklearn.naive_bayes import MultinomialNB\n",
    "\n",
    "# Define the dataset\n",
    "X = np.array([\n",
    "    [1, 1, 1, 0],  # Email 1: Spam\n",
    "    [0, 0, 0, 1],  # Email 2: Not Spam\n",
    "    [1, 1, 0, 0],  # Email 3: Spam\n",
    "    [1, 0, 1, 1],  # Email 4: Spam\n",
    "    [0, 0, 0, 0]   # Email 5: Not Spam\n",
    "])\n",
    "\n",
    "y = np.array([1, 0, 1, 1, 0])  # Labels (1 = Spam, 0 = Not Spam)\n",
    "\n",
    "# Train Naïve Bayes Model\n",
    "model = MultinomialNB()\n",
    "model.fit(X, y)\n",
    "\n",
    "# New email: [\"Free\", \"Win\"]\n",
    "new_email = np.array([[1, 1, 1, 0]])  # \"Free\" and \"Win\" are present\n",
    "\n",
    "# Predict\n",
    "prediction = model.predict(new_email)\n",
    "probability = model.predict_proba(new_email)\n",
    "\n",
    "# Output result\n",
    "print(\"Predicted Class:\", \"Spam\" if prediction[0] == 1 else \"Not Spam\")\n",
    "print(\"Probability (Spam, Not Spam):\", probability)\n"
   ],
   "id": "initial_id"
  }
 ],
 "metadata": {
  "kernelspec": {
   "display_name": "Python 3",
   "language": "python",
   "name": "python3"
  },
  "language_info": {
   "codemirror_mode": {
    "name": "ipython",
    "version": 2
   },
   "file_extension": ".py",
   "mimetype": "text/x-python",
   "name": "python",
   "nbconvert_exporter": "python",
   "pygments_lexer": "ipython2",
   "version": "2.7.6"
  }
 },
 "nbformat": 4,
 "nbformat_minor": 5
}
